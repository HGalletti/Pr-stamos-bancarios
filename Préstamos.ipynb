{
  "cells": [
    {
      "cell_type": "markdown",
      "metadata": {
        "id": "CVSfN22vraGC"
      },
      "source": [
        "##¿Deberíamos aprobar o no el préstamo?"
      ]
    },
    {
      "cell_type": "code",
      "execution_count": null,
      "metadata": {
        "id": "pNCh-dNkv20m"
      },
      "outputs": [],
      "source": [
        "import pandas as pd\n",
        "import matplotlib.pyplot as plt\n",
        "import seaborn as sns\n",
        "import numpy as np\n",
        "pd.options.display.max_columns = 500\n"
      ]
    },
    {
      "cell_type": "markdown",
      "source": [
        "##Problema de negocio"
      ],
      "metadata": {
        "id": "McMV71aWYh7L"
      }
    },
    {
      "cell_type": "markdown",
      "source": [
        "### Contexto comercial y motivación"
      ],
      "metadata": {
        "id": "mhLtOC3yP5hW"
      }
    },
    {
      "cell_type": "markdown",
      "source": [
        "La Administración de Pequeñas Empresas de EE.UU. (SBA, United States Small Business Administration) es una agencia del gobierno federal de los Estados Unidos que brinda apoyo a empresarios y pequeñas empresas.Se fundó en 1953 sobre el principio de promover y ayudar a las pequeñas empresas en el mercado crediticio de los EE. UU. <br>\n",
        "Las pequeñas empresas han sido una fuente primaria de creación de trabajo en los Estados Unidos; por lo tanto, fomentar la formación y crecimiento de  pequeñas empresas tiene beneficios sociales creando oportunidades de empleo y reduciendo el desempleo. Una forma en que la SBA ayuda a estas pequeñas empresas es a través de un programa de garantía de préstamo que está diseñado para alentar a los bancos a otorgar préstamos a las pequeñas empresas. La SBA actúa como un proveedor de seguros para reducir el riesgo de un banco al asumir parte del riesgo garantizando una parte del préstamo. En el caso de que un préstamo entre en incumplimiento, la SBA cubre el monto garantizado.<br>\n",
        "Ha habido muchas historias de éxito de empresas emergentes que recibieron garantías de préstamos de la SBA, como FedEx y Apple Computer. Sin embargo, también ha habido historias de pequeñas empresas y/o nuevas empresas que han incumplido con sus préstamos garantizados por la SBA. La tasa de morosidad de estos préstamos ha sido motivo de controversia durante décadas. Los economistas conservadores creen que los mercados de crédito funcionan de manera eficiente sin la participación del gobierno. Los partidarios de los préstamos garantizados por la SBA argumentan que los beneficios sociales de la creación de empleo por parte de las pequeñas empresas que reciben préstamos garantizados por el gobierno superan con creces los costos incurridos por los préstamos en mora.<br>\n",
        "\n",
        "Actualmente la SBA decidió modernizarse y armó un equipo de Analytics para mejorar su sistema de aprobación de créditos. Yo soy un científico de datos de ese equipo."
      ],
      "metadata": {
        "id": "8uZ6-BjbG8H_"
      }
    },
    {
      "cell_type": "markdown",
      "source": [
        "###Problema comercial"
      ],
      "metadata": {
        "id": "fkpyi9ujP-rg"
      }
    },
    {
      "cell_type": "markdown",
      "source": [
        "Dado que los préstamos de la SBA solo garantizan una parte del saldo total del préstamo, los bancos incurrirán en algunas pérdidas si una pequeña empresa no cumple con su préstamo garantizado por la SBA. Por lo tanto, los bancos aún se enfrentan a una difícil decisión sobre si deben otorgar dicho préstamo debido al alto riesgo de incumplimiento. Una forma de informar su toma de decisiones es mediante el análisis de datos históricos relevantes, como los conjuntos de datos proporcionados aquí.<br>\n",
        "El problema empresarial es decidir si un préstamo puede ser otorgado, con una probabilidad razonable de que la empresa que lo solicita pueda cancelarlo sin inconvenientes."
      ],
      "metadata": {
        "id": "SHQZWasUebs5"
      }
    },
    {
      "cell_type": "markdown",
      "source": [
        "### Objetivo\n"
      ],
      "metadata": {
        "id": "DQyzKx26Vzeq"
      }
    },
    {
      "cell_type": "markdown",
      "source": [
        "El objetivo es armar un modelo que en base a los datos de un potencial nuevo préstamo, decida si es conveniente otorgar el préstamo o no."
      ],
      "metadata": {
        "id": "n3hFE-6qbN41"
      }
    },
    {
      "cell_type": "markdown",
      "source": [
        "##Contexto y enfoque analítico"
      ],
      "metadata": {
        "id": "8TiwciUqmR8q"
      }
    },
    {
      "cell_type": "markdown",
      "source": [
        "Se busca implementar un modelo de machine learning que con los distintos valores de los campos del dataset, prediga si la empresa tuvo dificultades en pagar el préstamo, lo que puede llamarse de forma más corta como \"incumplir los pagos\"."
      ],
      "metadata": {
        "id": "34A1MFbvYcFU"
      }
    },
    {
      "cell_type": "markdown",
      "source": [
        "###Campos del dataset"
      ],
      "metadata": {
        "id": "lesg66JBXaWA"
      }
    },
    {
      "cell_type": "markdown",
      "source": [
        "Los campos que se encuentran en el dataset son los siguientes:\n",
        "\n",
        "**- LoanNr_ChkDgt**: Identificador-primary key\n",
        "\n",
        "**- Name**: Nombre del prestatario\n",
        "\n",
        "**- City**: Ciudad del prestatario\n",
        "\n",
        "**- State**: Estado de EE.UU. del prestatario\n",
        "\n",
        "**- Zip**: Código postal del prestatario\n",
        "\n",
        "**- Bank**: Nombre del banco\n",
        "\n",
        "**- BankState**: Estado de origen del banco\n",
        "\n",
        "**- NAICS**:  Codigo de clasificación de la industria de EE.UU.\n",
        "\n",
        "**- ApprovalDate**: Fecha de emisión del compromiso emitido por SBA\n",
        "\n",
        "**- ApprovalFY**: Fecha fiscal del compromiso\n",
        "\n",
        "**- Term**: plazo del préstamo en meses\n",
        "\n",
        "**- NoEmp**: Número de empleados de la empresa\n",
        "\n",
        "**- NewExist**:1=Negocio existente, 2=Nuevo negocio\n",
        "\n",
        "**- CreateJob**: número de puestos de trabajos creados\n",
        "\n",
        "**- RetainedJob**: número de puestos de trabajo retenidos\n",
        "\n",
        "**- FranchiseCode**:Código de franquicia, (00000 o 00001)=Sin franquicia\n",
        "\n",
        "**- UrbanRural**: 1=Urbano, 2=rural, 0=indefinido\n",
        "\n",
        "**- RevLineCr**: Linea de crédito renovable Y=Si, N=No\n",
        "\n",
        "**- LowDoc**:Programa de préstamos LowDoc: Y=Si y N=No\n",
        "\n",
        "**- ChgOffDate**: Fecha en que se declara que un préstamo está en mora\n",
        "\n",
        "**- DisbursementDate**: Fecha de pago (entrega del préstamo)\n",
        "\n",
        "**- DisbursementGross**: Monto desembolsado/pagado bruto (por entrega préstamo)\n",
        "\n",
        "**- BalanceGross**:Cantidad bruta pendiente de devolución (al momento de confección del dataset)\n",
        "\n",
        "**- MIS_Status**: Estado del préstamo: Con incovenientes = CHGOFF, pagado en su totalidad = PIF\n",
        "\n",
        "**- ChgOffPrinGr**: Importe cancelado (no devuelto)\n",
        "\n",
        "**- GrAppv**: Monto bruto del préstamo aprobado por el banco\n",
        "\n",
        "**- SBA_Appv**: Monto garantizado del préstamo aprobado por la SBA"
      ],
      "metadata": {
        "id": "4LqNeTj9np_k"
      }
    },
    {
      "cell_type": "markdown",
      "source": [
        " \n",
        "Dado que el dataset está etiquetado (el campo MIS_Status indica si hubo inconvenientes o no en el préstamo), es un problema de aprendizaje supervisado, más específicamente, de clasificación. La categoría que se desea asignar a los préstamos futuros corresponde con la variable objetivo, MIS_Status."
      ],
      "metadata": {
        "id": "3CzmHxW5hbUl"
      }
    },
    {
      "cell_type": "markdown",
      "source": [
        "### Preguntas e hipótesis###\n"
      ],
      "metadata": {
        "id": "EY8DVx6jXNDo"
      }
    },
    {
      "cell_type": "markdown",
      "source": [
        "¿Cuáles son las características de las empresas que mejor predicen si la empresa va a tener inconvenientes o no al pagar el préstamo? ¿Cómo influye el banco prestatario y la línea de crédito? ¿Existe relación con el plazo del préstamo? ¿Y con el año que se hizo el préstamo? (Esta última pregunta está intimamente relacionada al estado ecónomico del país)."
      ],
      "metadata": {
        "id": "2j80tw3qZBA2"
      }
    },
    {
      "cell_type": "markdown",
      "source": [
        "Los campos que creemos que pueden ser más relevantes de la empresa que pide el préstamo son: 'State', 'NAICS', 'NoEmp', 'NewExist', 'UrbanRural'.\n",
        "\n",
        "Con respecto al banco y la línea de crédito que nos parecen más relevantes son: 'BankState', 'RevLineCr', 'DisbursementGross', 'GrAppv', 'SBA_Appv'.\n",
        "\n",
        "Para ver si hay relación con los plazos, vamos a estudiar el campo 'Term'.\n",
        "\n",
        "Sobre la relación con los años de los préstamos, creemos que los campos 'DisbursementDate', 'ApprovalDate', 'ApprovalFY' y 'ChgOffDate' son relevantes, aunque probablemente los tres primeros sean muy similares. "
      ],
      "metadata": {
        "id": "YIIfjmGJd3Zi"
      }
    },
    {
      "cell_type": "markdown",
      "source": [
        "## Preparación y limpieza de datos##\n"
      ],
      "metadata": {
        "id": "kaIDnV7LE_U4"
      }
    },
    {
      "cell_type": "code",
      "execution_count": null,
      "metadata": {
        "id": "N77AE_xN3anQ"
      },
      "outputs": [],
      "source": [
        "loan = pd.read_csv(path + \"Should This Loan be Approved or Denied.csv\", dtype={'ApprovalFY': str}) #La columna ApprovalFY se la fuerza a ser string porque en el dataset original dicha columna se la reconoce como con valores mixtos."
      ]
    },
    {
      "cell_type": "code",
      "execution_count": null,
      "metadata": {
        "colab": {
          "base_uri": "https://localhost:8080/"
        },
        "id": "2gTpL4LH5ghM",
        "outputId": "0c00c7da-d13d-4efa-d611-0474b7be1108"
      },
      "outputs": [
        {
          "output_type": "stream",
          "name": "stdout",
          "text": [
            "<class 'pandas.core.frame.DataFrame'>\n",
            "RangeIndex: 899164 entries, 0 to 899163\n",
            "Data columns (total 27 columns):\n",
            " #   Column             Non-Null Count   Dtype  \n",
            "---  ------             --------------   -----  \n",
            " 0   LoanNr_ChkDgt      899164 non-null  int64  \n",
            " 1   Name               899150 non-null  object \n",
            " 2   City               899134 non-null  object \n",
            " 3   State              899150 non-null  object \n",
            " 4   Zip                899164 non-null  int64  \n",
            " 5   Bank               897605 non-null  object \n",
            " 6   BankState          897598 non-null  object \n",
            " 7   NAICS              899164 non-null  int64  \n",
            " 8   ApprovalDate       899164 non-null  object \n",
            " 9   ApprovalFY         899164 non-null  object \n",
            " 10  Term               899164 non-null  int64  \n",
            " 11  NoEmp              899164 non-null  int64  \n",
            " 12  NewExist           899028 non-null  float64\n",
            " 13  CreateJob          899164 non-null  int64  \n",
            " 14  RetainedJob        899164 non-null  int64  \n",
            " 15  FranchiseCode      899164 non-null  int64  \n",
            " 16  UrbanRural         899164 non-null  int64  \n",
            " 17  RevLineCr          894636 non-null  object \n",
            " 18  LowDoc             896582 non-null  object \n",
            " 19  ChgOffDate         162699 non-null  object \n",
            " 20  DisbursementDate   896796 non-null  object \n",
            " 21  DisbursementGross  899164 non-null  object \n",
            " 22  BalanceGross       899164 non-null  object \n",
            " 23  MIS_Status         897167 non-null  object \n",
            " 24  ChgOffPrinGr       899164 non-null  object \n",
            " 25  GrAppv             899164 non-null  object \n",
            " 26  SBA_Appv           899164 non-null  object \n",
            "dtypes: float64(1), int64(9), object(17)\n",
            "memory usage: 185.2+ MB\n"
          ]
        }
      ],
      "source": [
        "loan.info()"
      ]
    },
    {
      "cell_type": "code",
      "execution_count": null,
      "metadata": {
        "id": "iqJSHcjN5gd5",
        "colab": {
          "base_uri": "https://localhost:8080/",
          "height": 940
        },
        "outputId": "fb8e841c-647e-47ae-a677-b601d824bb9d"
      },
      "outputs": [
        {
          "output_type": "execute_result",
          "data": {
            "text/plain": [
              "                      count  unique                         top    freq  \\\n",
              "LoanNr_ChkDgt      899164.0     NaN                         NaN     NaN   \n",
              "Name                 899150  779583                      SUBWAY    1269   \n",
              "City                 899134   32581                 LOS ANGELES   11558   \n",
              "State                899150      51                          CA  130619   \n",
              "Zip                899164.0     NaN                         NaN     NaN   \n",
              "Bank                 897605    5802  BANK OF AMERICA NATL ASSOC   86853   \n",
              "BankState            897598      56                          CA  118116   \n",
              "NAICS              899164.0     NaN                         NaN     NaN   \n",
              "ApprovalDate         899164    9859                    7-Jul-93    1131   \n",
              "ApprovalFY           899164      52                        2005   77525   \n",
              "Term               899164.0     NaN                         NaN     NaN   \n",
              "NoEmp              899164.0     NaN                         NaN     NaN   \n",
              "NewExist           899028.0     NaN                         NaN     NaN   \n",
              "CreateJob          899164.0     NaN                         NaN     NaN   \n",
              "RetainedJob        899164.0     NaN                         NaN     NaN   \n",
              "FranchiseCode      899164.0     NaN                         NaN     NaN   \n",
              "UrbanRural         899164.0     NaN                         NaN     NaN   \n",
              "RevLineCr            894636      18                           N  420288   \n",
              "LowDoc               896582       8                           N  782822   \n",
              "ChgOffDate           162699    6448                   13-Mar-10     734   \n",
              "DisbursementDate     896796    8472                   31-Jul-95   10371   \n",
              "DisbursementGross    899164  118859                 $50,000.00    43787   \n",
              "BalanceGross         899164      15                      $0.00   899150   \n",
              "MIS_Status           897167       2                       P I F  739609   \n",
              "ChgOffPrinGr         899164   83165                      $0.00   737152   \n",
              "GrAppv               899164   22128                 $50,000.00    69394   \n",
              "SBA_Appv             899164   38326                 $25,000.00    49579   \n",
              "\n",
              "                               mean               std           min  \\\n",
              "LoanNr_ChkDgt      4772612310.59431  2538175037.45304  1000014003.0   \n",
              "Name                            NaN               NaN           NaN   \n",
              "City                            NaN               NaN           NaN   \n",
              "State                           NaN               NaN           NaN   \n",
              "Zip                    53804.391241      31184.159152           0.0   \n",
              "Bank                            NaN               NaN           NaN   \n",
              "BankState                       NaN               NaN           NaN   \n",
              "NAICS                 398660.950146      263318.31276           0.0   \n",
              "ApprovalDate                    NaN               NaN           NaN   \n",
              "ApprovalFY                      NaN               NaN           NaN   \n",
              "Term                     110.773078         78.857305           0.0   \n",
              "NoEmp                     11.411353         74.108196           0.0   \n",
              "NewExist                   1.280404           0.45175           0.0   \n",
              "CreateJob                  8.430376        236.688165           0.0   \n",
              "RetainedJob               10.797257          237.1206           0.0   \n",
              "FranchiseCode           2753.725933      12758.019136           0.0   \n",
              "UrbanRural                 0.757748          0.646436           0.0   \n",
              "RevLineCr                       NaN               NaN           NaN   \n",
              "LowDoc                          NaN               NaN           NaN   \n",
              "ChgOffDate                      NaN               NaN           NaN   \n",
              "DisbursementDate                NaN               NaN           NaN   \n",
              "DisbursementGross               NaN               NaN           NaN   \n",
              "BalanceGross                    NaN               NaN           NaN   \n",
              "MIS_Status                      NaN               NaN           NaN   \n",
              "ChgOffPrinGr                    NaN               NaN           NaN   \n",
              "GrAppv                          NaN               NaN           NaN   \n",
              "SBA_Appv                        NaN               NaN           NaN   \n",
              "\n",
              "                            25%           50%            75%           max  \n",
              "LoanNr_ChkDgt      2589757508.5  4361439006.0  6904626504.75  9996003010.0  \n",
              "Name                        NaN           NaN            NaN           NaN  \n",
              "City                        NaN           NaN            NaN           NaN  \n",
              "State                       NaN           NaN            NaN           NaN  \n",
              "Zip                     27587.0       55410.0        83704.0       99999.0  \n",
              "Bank                        NaN           NaN            NaN           NaN  \n",
              "BankState                   NaN           NaN            NaN           NaN  \n",
              "NAICS                  235210.0      445310.0       561730.0      928120.0  \n",
              "ApprovalDate                NaN           NaN            NaN           NaN  \n",
              "ApprovalFY                  NaN           NaN            NaN           NaN  \n",
              "Term                       60.0          84.0          120.0         569.0  \n",
              "NoEmp                       2.0           4.0           10.0        9999.0  \n",
              "NewExist                    1.0           1.0            2.0           2.0  \n",
              "CreateJob                   0.0           0.0            1.0        8800.0  \n",
              "RetainedJob                 0.0           1.0            4.0        9500.0  \n",
              "FranchiseCode               1.0           1.0            1.0       99999.0  \n",
              "UrbanRural                  0.0           1.0            1.0           2.0  \n",
              "RevLineCr                   NaN           NaN            NaN           NaN  \n",
              "LowDoc                      NaN           NaN            NaN           NaN  \n",
              "ChgOffDate                  NaN           NaN            NaN           NaN  \n",
              "DisbursementDate            NaN           NaN            NaN           NaN  \n",
              "DisbursementGross           NaN           NaN            NaN           NaN  \n",
              "BalanceGross                NaN           NaN            NaN           NaN  \n",
              "MIS_Status                  NaN           NaN            NaN           NaN  \n",
              "ChgOffPrinGr                NaN           NaN            NaN           NaN  \n",
              "GrAppv                      NaN           NaN            NaN           NaN  \n",
              "SBA_Appv                    NaN           NaN            NaN           NaN  "
            ],
            "text/html": [
              "\n",
              "  <div id=\"df-0ed12874-9f82-402b-936f-16c59f5bbcf7\">\n",
              "    <div class=\"colab-df-container\">\n",
              "      <div>\n",
              "<style scoped>\n",
              "    .dataframe tbody tr th:only-of-type {\n",
              "        vertical-align: middle;\n",
              "    }\n",
              "\n",
              "    .dataframe tbody tr th {\n",
              "        vertical-align: top;\n",
              "    }\n",
              "\n",
              "    .dataframe thead th {\n",
              "        text-align: right;\n",
              "    }\n",
              "</style>\n",
              "<table border=\"1\" class=\"dataframe\">\n",
              "  <thead>\n",
              "    <tr style=\"text-align: right;\">\n",
              "      <th></th>\n",
              "      <th>count</th>\n",
              "      <th>unique</th>\n",
              "      <th>top</th>\n",
              "      <th>freq</th>\n",
              "      <th>mean</th>\n",
              "      <th>std</th>\n",
              "      <th>min</th>\n",
              "      <th>25%</th>\n",
              "      <th>50%</th>\n",
              "      <th>75%</th>\n",
              "      <th>max</th>\n",
              "    </tr>\n",
              "  </thead>\n",
              "  <tbody>\n",
              "    <tr>\n",
              "      <th>LoanNr_ChkDgt</th>\n",
              "      <td>899164.0</td>\n",
              "      <td>NaN</td>\n",
              "      <td>NaN</td>\n",
              "      <td>NaN</td>\n",
              "      <td>4772612310.59431</td>\n",
              "      <td>2538175037.45304</td>\n",
              "      <td>1000014003.0</td>\n",
              "      <td>2589757508.5</td>\n",
              "      <td>4361439006.0</td>\n",
              "      <td>6904626504.75</td>\n",
              "      <td>9996003010.0</td>\n",
              "    </tr>\n",
              "    <tr>\n",
              "      <th>Name</th>\n",
              "      <td>899150</td>\n",
              "      <td>779583</td>\n",
              "      <td>SUBWAY</td>\n",
              "      <td>1269</td>\n",
              "      <td>NaN</td>\n",
              "      <td>NaN</td>\n",
              "      <td>NaN</td>\n",
              "      <td>NaN</td>\n",
              "      <td>NaN</td>\n",
              "      <td>NaN</td>\n",
              "      <td>NaN</td>\n",
              "    </tr>\n",
              "    <tr>\n",
              "      <th>City</th>\n",
              "      <td>899134</td>\n",
              "      <td>32581</td>\n",
              "      <td>LOS ANGELES</td>\n",
              "      <td>11558</td>\n",
              "      <td>NaN</td>\n",
              "      <td>NaN</td>\n",
              "      <td>NaN</td>\n",
              "      <td>NaN</td>\n",
              "      <td>NaN</td>\n",
              "      <td>NaN</td>\n",
              "      <td>NaN</td>\n",
              "    </tr>\n",
              "    <tr>\n",
              "      <th>State</th>\n",
              "      <td>899150</td>\n",
              "      <td>51</td>\n",
              "      <td>CA</td>\n",
              "      <td>130619</td>\n",
              "      <td>NaN</td>\n",
              "      <td>NaN</td>\n",
              "      <td>NaN</td>\n",
              "      <td>NaN</td>\n",
              "      <td>NaN</td>\n",
              "      <td>NaN</td>\n",
              "      <td>NaN</td>\n",
              "    </tr>\n",
              "    <tr>\n",
              "      <th>Zip</th>\n",
              "      <td>899164.0</td>\n",
              "      <td>NaN</td>\n",
              "      <td>NaN</td>\n",
              "      <td>NaN</td>\n",
              "      <td>53804.391241</td>\n",
              "      <td>31184.159152</td>\n",
              "      <td>0.0</td>\n",
              "      <td>27587.0</td>\n",
              "      <td>55410.0</td>\n",
              "      <td>83704.0</td>\n",
              "      <td>99999.0</td>\n",
              "    </tr>\n",
              "    <tr>\n",
              "      <th>Bank</th>\n",
              "      <td>897605</td>\n",
              "      <td>5802</td>\n",
              "      <td>BANK OF AMERICA NATL ASSOC</td>\n",
              "      <td>86853</td>\n",
              "      <td>NaN</td>\n",
              "      <td>NaN</td>\n",
              "      <td>NaN</td>\n",
              "      <td>NaN</td>\n",
              "      <td>NaN</td>\n",
              "      <td>NaN</td>\n",
              "      <td>NaN</td>\n",
              "    </tr>\n",
              "    <tr>\n",
              "      <th>BankState</th>\n",
              "      <td>897598</td>\n",
              "      <td>56</td>\n",
              "      <td>CA</td>\n",
              "      <td>118116</td>\n",
              "      <td>NaN</td>\n",
              "      <td>NaN</td>\n",
              "      <td>NaN</td>\n",
              "      <td>NaN</td>\n",
              "      <td>NaN</td>\n",
              "      <td>NaN</td>\n",
              "      <td>NaN</td>\n",
              "    </tr>\n",
              "    <tr>\n",
              "      <th>NAICS</th>\n",
              "      <td>899164.0</td>\n",
              "      <td>NaN</td>\n",
              "      <td>NaN</td>\n",
              "      <td>NaN</td>\n",
              "      <td>398660.950146</td>\n",
              "      <td>263318.31276</td>\n",
              "      <td>0.0</td>\n",
              "      <td>235210.0</td>\n",
              "      <td>445310.0</td>\n",
              "      <td>561730.0</td>\n",
              "      <td>928120.0</td>\n",
              "    </tr>\n",
              "    <tr>\n",
              "      <th>ApprovalDate</th>\n",
              "      <td>899164</td>\n",
              "      <td>9859</td>\n",
              "      <td>7-Jul-93</td>\n",
              "      <td>1131</td>\n",
              "      <td>NaN</td>\n",
              "      <td>NaN</td>\n",
              "      <td>NaN</td>\n",
              "      <td>NaN</td>\n",
              "      <td>NaN</td>\n",
              "      <td>NaN</td>\n",
              "      <td>NaN</td>\n",
              "    </tr>\n",
              "    <tr>\n",
              "      <th>ApprovalFY</th>\n",
              "      <td>899164</td>\n",
              "      <td>52</td>\n",
              "      <td>2005</td>\n",
              "      <td>77525</td>\n",
              "      <td>NaN</td>\n",
              "      <td>NaN</td>\n",
              "      <td>NaN</td>\n",
              "      <td>NaN</td>\n",
              "      <td>NaN</td>\n",
              "      <td>NaN</td>\n",
              "      <td>NaN</td>\n",
              "    </tr>\n",
              "    <tr>\n",
              "      <th>Term</th>\n",
              "      <td>899164.0</td>\n",
              "      <td>NaN</td>\n",
              "      <td>NaN</td>\n",
              "      <td>NaN</td>\n",
              "      <td>110.773078</td>\n",
              "      <td>78.857305</td>\n",
              "      <td>0.0</td>\n",
              "      <td>60.0</td>\n",
              "      <td>84.0</td>\n",
              "      <td>120.0</td>\n",
              "      <td>569.0</td>\n",
              "    </tr>\n",
              "    <tr>\n",
              "      <th>NoEmp</th>\n",
              "      <td>899164.0</td>\n",
              "      <td>NaN</td>\n",
              "      <td>NaN</td>\n",
              "      <td>NaN</td>\n",
              "      <td>11.411353</td>\n",
              "      <td>74.108196</td>\n",
              "      <td>0.0</td>\n",
              "      <td>2.0</td>\n",
              "      <td>4.0</td>\n",
              "      <td>10.0</td>\n",
              "      <td>9999.0</td>\n",
              "    </tr>\n",
              "    <tr>\n",
              "      <th>NewExist</th>\n",
              "      <td>899028.0</td>\n",
              "      <td>NaN</td>\n",
              "      <td>NaN</td>\n",
              "      <td>NaN</td>\n",
              "      <td>1.280404</td>\n",
              "      <td>0.45175</td>\n",
              "      <td>0.0</td>\n",
              "      <td>1.0</td>\n",
              "      <td>1.0</td>\n",
              "      <td>2.0</td>\n",
              "      <td>2.0</td>\n",
              "    </tr>\n",
              "    <tr>\n",
              "      <th>CreateJob</th>\n",
              "      <td>899164.0</td>\n",
              "      <td>NaN</td>\n",
              "      <td>NaN</td>\n",
              "      <td>NaN</td>\n",
              "      <td>8.430376</td>\n",
              "      <td>236.688165</td>\n",
              "      <td>0.0</td>\n",
              "      <td>0.0</td>\n",
              "      <td>0.0</td>\n",
              "      <td>1.0</td>\n",
              "      <td>8800.0</td>\n",
              "    </tr>\n",
              "    <tr>\n",
              "      <th>RetainedJob</th>\n",
              "      <td>899164.0</td>\n",
              "      <td>NaN</td>\n",
              "      <td>NaN</td>\n",
              "      <td>NaN</td>\n",
              "      <td>10.797257</td>\n",
              "      <td>237.1206</td>\n",
              "      <td>0.0</td>\n",
              "      <td>0.0</td>\n",
              "      <td>1.0</td>\n",
              "      <td>4.0</td>\n",
              "      <td>9500.0</td>\n",
              "    </tr>\n",
              "    <tr>\n",
              "      <th>FranchiseCode</th>\n",
              "      <td>899164.0</td>\n",
              "      <td>NaN</td>\n",
              "      <td>NaN</td>\n",
              "      <td>NaN</td>\n",
              "      <td>2753.725933</td>\n",
              "      <td>12758.019136</td>\n",
              "      <td>0.0</td>\n",
              "      <td>1.0</td>\n",
              "      <td>1.0</td>\n",
              "      <td>1.0</td>\n",
              "      <td>99999.0</td>\n",
              "    </tr>\n",
              "    <tr>\n",
              "      <th>UrbanRural</th>\n",
              "      <td>899164.0</td>\n",
              "      <td>NaN</td>\n",
              "      <td>NaN</td>\n",
              "      <td>NaN</td>\n",
              "      <td>0.757748</td>\n",
              "      <td>0.646436</td>\n",
              "      <td>0.0</td>\n",
              "      <td>0.0</td>\n",
              "      <td>1.0</td>\n",
              "      <td>1.0</td>\n",
              "      <td>2.0</td>\n",
              "    </tr>\n",
              "    <tr>\n",
              "      <th>RevLineCr</th>\n",
              "      <td>894636</td>\n",
              "      <td>18</td>\n",
              "      <td>N</td>\n",
              "      <td>420288</td>\n",
              "      <td>NaN</td>\n",
              "      <td>NaN</td>\n",
              "      <td>NaN</td>\n",
              "      <td>NaN</td>\n",
              "      <td>NaN</td>\n",
              "      <td>NaN</td>\n",
              "      <td>NaN</td>\n",
              "    </tr>\n",
              "    <tr>\n",
              "      <th>LowDoc</th>\n",
              "      <td>896582</td>\n",
              "      <td>8</td>\n",
              "      <td>N</td>\n",
              "      <td>782822</td>\n",
              "      <td>NaN</td>\n",
              "      <td>NaN</td>\n",
              "      <td>NaN</td>\n",
              "      <td>NaN</td>\n",
              "      <td>NaN</td>\n",
              "      <td>NaN</td>\n",
              "      <td>NaN</td>\n",
              "    </tr>\n",
              "    <tr>\n",
              "      <th>ChgOffDate</th>\n",
              "      <td>162699</td>\n",
              "      <td>6448</td>\n",
              "      <td>13-Mar-10</td>\n",
              "      <td>734</td>\n",
              "      <td>NaN</td>\n",
              "      <td>NaN</td>\n",
              "      <td>NaN</td>\n",
              "      <td>NaN</td>\n",
              "      <td>NaN</td>\n",
              "      <td>NaN</td>\n",
              "      <td>NaN</td>\n",
              "    </tr>\n",
              "    <tr>\n",
              "      <th>DisbursementDate</th>\n",
              "      <td>896796</td>\n",
              "      <td>8472</td>\n",
              "      <td>31-Jul-95</td>\n",
              "      <td>10371</td>\n",
              "      <td>NaN</td>\n",
              "      <td>NaN</td>\n",
              "      <td>NaN</td>\n",
              "      <td>NaN</td>\n",
              "      <td>NaN</td>\n",
              "      <td>NaN</td>\n",
              "      <td>NaN</td>\n",
              "    </tr>\n",
              "    <tr>\n",
              "      <th>DisbursementGross</th>\n",
              "      <td>899164</td>\n",
              "      <td>118859</td>\n",
              "      <td>$50,000.00</td>\n",
              "      <td>43787</td>\n",
              "      <td>NaN</td>\n",
              "      <td>NaN</td>\n",
              "      <td>NaN</td>\n",
              "      <td>NaN</td>\n",
              "      <td>NaN</td>\n",
              "      <td>NaN</td>\n",
              "      <td>NaN</td>\n",
              "    </tr>\n",
              "    <tr>\n",
              "      <th>BalanceGross</th>\n",
              "      <td>899164</td>\n",
              "      <td>15</td>\n",
              "      <td>$0.00</td>\n",
              "      <td>899150</td>\n",
              "      <td>NaN</td>\n",
              "      <td>NaN</td>\n",
              "      <td>NaN</td>\n",
              "      <td>NaN</td>\n",
              "      <td>NaN</td>\n",
              "      <td>NaN</td>\n",
              "      <td>NaN</td>\n",
              "    </tr>\n",
              "    <tr>\n",
              "      <th>MIS_Status</th>\n",
              "      <td>897167</td>\n",
              "      <td>2</td>\n",
              "      <td>P I F</td>\n",
              "      <td>739609</td>\n",
              "      <td>NaN</td>\n",
              "      <td>NaN</td>\n",
              "      <td>NaN</td>\n",
              "      <td>NaN</td>\n",
              "      <td>NaN</td>\n",
              "      <td>NaN</td>\n",
              "      <td>NaN</td>\n",
              "    </tr>\n",
              "    <tr>\n",
              "      <th>ChgOffPrinGr</th>\n",
              "      <td>899164</td>\n",
              "      <td>83165</td>\n",
              "      <td>$0.00</td>\n",
              "      <td>737152</td>\n",
              "      <td>NaN</td>\n",
              "      <td>NaN</td>\n",
              "      <td>NaN</td>\n",
              "      <td>NaN</td>\n",
              "      <td>NaN</td>\n",
              "      <td>NaN</td>\n",
              "      <td>NaN</td>\n",
              "    </tr>\n",
              "    <tr>\n",
              "      <th>GrAppv</th>\n",
              "      <td>899164</td>\n",
              "      <td>22128</td>\n",
              "      <td>$50,000.00</td>\n",
              "      <td>69394</td>\n",
              "      <td>NaN</td>\n",
              "      <td>NaN</td>\n",
              "      <td>NaN</td>\n",
              "      <td>NaN</td>\n",
              "      <td>NaN</td>\n",
              "      <td>NaN</td>\n",
              "      <td>NaN</td>\n",
              "    </tr>\n",
              "    <tr>\n",
              "      <th>SBA_Appv</th>\n",
              "      <td>899164</td>\n",
              "      <td>38326</td>\n",
              "      <td>$25,000.00</td>\n",
              "      <td>49579</td>\n",
              "      <td>NaN</td>\n",
              "      <td>NaN</td>\n",
              "      <td>NaN</td>\n",
              "      <td>NaN</td>\n",
              "      <td>NaN</td>\n",
              "      <td>NaN</td>\n",
              "      <td>NaN</td>\n",
              "    </tr>\n",
              "  </tbody>\n",
              "</table>\n",
              "</div>\n",
              "      <button class=\"colab-df-convert\" onclick=\"convertToInteractive('df-0ed12874-9f82-402b-936f-16c59f5bbcf7')\"\n",
              "              title=\"Convert this dataframe to an interactive table.\"\n",
              "              style=\"display:none;\">\n",
              "        \n",
              "  <svg xmlns=\"http://www.w3.org/2000/svg\" height=\"24px\"viewBox=\"0 0 24 24\"\n",
              "       width=\"24px\">\n",
              "    <path d=\"M0 0h24v24H0V0z\" fill=\"none\"/>\n",
              "    <path d=\"M18.56 5.44l.94 2.06.94-2.06 2.06-.94-2.06-.94-.94-2.06-.94 2.06-2.06.94zm-11 1L8.5 8.5l.94-2.06 2.06-.94-2.06-.94L8.5 2.5l-.94 2.06-2.06.94zm10 10l.94 2.06.94-2.06 2.06-.94-2.06-.94-.94-2.06-.94 2.06-2.06.94z\"/><path d=\"M17.41 7.96l-1.37-1.37c-.4-.4-.92-.59-1.43-.59-.52 0-1.04.2-1.43.59L10.3 9.45l-7.72 7.72c-.78.78-.78 2.05 0 2.83L4 21.41c.39.39.9.59 1.41.59.51 0 1.02-.2 1.41-.59l7.78-7.78 2.81-2.81c.8-.78.8-2.07 0-2.86zM5.41 20L4 18.59l7.72-7.72 1.47 1.35L5.41 20z\"/>\n",
              "  </svg>\n",
              "      </button>\n",
              "      \n",
              "  <style>\n",
              "    .colab-df-container {\n",
              "      display:flex;\n",
              "      flex-wrap:wrap;\n",
              "      gap: 12px;\n",
              "    }\n",
              "\n",
              "    .colab-df-convert {\n",
              "      background-color: #E8F0FE;\n",
              "      border: none;\n",
              "      border-radius: 50%;\n",
              "      cursor: pointer;\n",
              "      display: none;\n",
              "      fill: #1967D2;\n",
              "      height: 32px;\n",
              "      padding: 0 0 0 0;\n",
              "      width: 32px;\n",
              "    }\n",
              "\n",
              "    .colab-df-convert:hover {\n",
              "      background-color: #E2EBFA;\n",
              "      box-shadow: 0px 1px 2px rgba(60, 64, 67, 0.3), 0px 1px 3px 1px rgba(60, 64, 67, 0.15);\n",
              "      fill: #174EA6;\n",
              "    }\n",
              "\n",
              "    [theme=dark] .colab-df-convert {\n",
              "      background-color: #3B4455;\n",
              "      fill: #D2E3FC;\n",
              "    }\n",
              "\n",
              "    [theme=dark] .colab-df-convert:hover {\n",
              "      background-color: #434B5C;\n",
              "      box-shadow: 0px 1px 3px 1px rgba(0, 0, 0, 0.15);\n",
              "      filter: drop-shadow(0px 1px 2px rgba(0, 0, 0, 0.3));\n",
              "      fill: #FFFFFF;\n",
              "    }\n",
              "  </style>\n",
              "\n",
              "      <script>\n",
              "        const buttonEl =\n",
              "          document.querySelector('#df-0ed12874-9f82-402b-936f-16c59f5bbcf7 button.colab-df-convert');\n",
              "        buttonEl.style.display =\n",
              "          google.colab.kernel.accessAllowed ? 'block' : 'none';\n",
              "\n",
              "        async function convertToInteractive(key) {\n",
              "          const element = document.querySelector('#df-0ed12874-9f82-402b-936f-16c59f5bbcf7');\n",
              "          const dataTable =\n",
              "            await google.colab.kernel.invokeFunction('convertToInteractive',\n",
              "                                                     [key], {});\n",
              "          if (!dataTable) return;\n",
              "\n",
              "          const docLinkHtml = 'Like what you see? Visit the ' +\n",
              "            '<a target=\"_blank\" href=https://colab.research.google.com/notebooks/data_table.ipynb>data table notebook</a>'\n",
              "            + ' to learn more about interactive tables.';\n",
              "          element.innerHTML = '';\n",
              "          dataTable['output_type'] = 'display_data';\n",
              "          await google.colab.output.renderOutput(dataTable, element);\n",
              "          const docLink = document.createElement('div');\n",
              "          docLink.innerHTML = docLinkHtml;\n",
              "          element.appendChild(docLink);\n",
              "        }\n",
              "      </script>\n",
              "    </div>\n",
              "  </div>\n",
              "  "
            ]
          },
          "metadata": {},
          "execution_count": 5
        }
      ],
      "source": [
        "loan.describe(include = 'all').T\n"
      ]
    },
    {
      "cell_type": "code",
      "execution_count": null,
      "metadata": {
        "colab": {
          "base_uri": "https://localhost:8080/",
          "height": 739
        },
        "id": "ziMa44Y7rJOe",
        "outputId": "b85442ef-a77f-4fe6-e550-d9290f82aad3"
      },
      "outputs": [
        {
          "output_type": "execute_result",
          "data": {
            "text/plain": [
              "   LoanNr_ChkDgt                            Name            City State    Zip  \\\n",
              "0     1000014003                  ABC HOBBYCRAFT      EVANSVILLE    IN  47711   \n",
              "1     1000024006     LANDMARK BAR & GRILLE (THE)       NEW PARIS    IN  46526   \n",
              "2     1000034009           WHITLOCK DDS, TODD M.     BLOOMINGTON    IN  47401   \n",
              "3     1000044001   BIG BUCKS PAWN & JEWELRY, LLC    BROKEN ARROW    OK  74012   \n",
              "4     1000054004     ANASTASIA CONFECTIONS, INC.         ORLANDO    FL  32801   \n",
              "5     1000084002  B&T SCREW MACHINE COMPANY, INC      PLAINVILLE    CT   6062   \n",
              "6     1000093009   MIDDLE ATLANTIC SPORTS CO INC           UNION    NJ   7083   \n",
              "7     1000094005                 WEAVER PRODUCTS     SUMMERFIELD    FL  34491   \n",
              "8     1000104006                TURTLE BEACH INN  PORT SAINT JOE    FL  32456   \n",
              "9     1000124001         INTEXT BUILDING SYS LLC     GLASTONBURY    CT   6073   \n",
              "\n",
              "                            Bank BankState   NAICS ApprovalDate ApprovalFY  \\\n",
              "0               FIFTH THIRD BANK        OH  451120    28-Feb-97       1997   \n",
              "1                1ST SOURCE BANK        IN  722410    28-Feb-97       1997   \n",
              "2        GRANT COUNTY STATE BANK        IN  621210    28-Feb-97       1997   \n",
              "3  1ST NATL BK & TR CO OF BROKEN        OK       0    28-Feb-97       1997   \n",
              "4        FLORIDA BUS. DEVEL CORP        FL       0    28-Feb-97       1997   \n",
              "5  TD BANK, NATIONAL ASSOCIATION        DE  332721    28-Feb-97       1997   \n",
              "6    WELLS FARGO BANK NATL ASSOC        SD       0     2-Jun-80       1980   \n",
              "7                   REGIONS BANK        AL  811118    28-Feb-97       1997   \n",
              "8                CENTENNIAL BANK        FL  721310    28-Feb-97       1997   \n",
              "9        WEBSTER BANK NATL ASSOC        CT       0    28-Feb-97       1997   \n",
              "\n",
              "   Term  NoEmp  NewExist  CreateJob  RetainedJob  FranchiseCode  UrbanRural  \\\n",
              "0    84      4       2.0          0            0              1           0   \n",
              "1    60      2       2.0          0            0              1           0   \n",
              "2   180      7       1.0          0            0              1           0   \n",
              "3    60      2       1.0          0            0              1           0   \n",
              "4   240     14       1.0          7            7              1           0   \n",
              "5   120     19       1.0          0            0              1           0   \n",
              "6    45     45       2.0          0            0              0           0   \n",
              "7    84      1       2.0          0            0              1           0   \n",
              "8   297      2       2.0          0            0              1           0   \n",
              "9    84      3       2.0          0            0              1           0   \n",
              "\n",
              "  RevLineCr LowDoc ChgOffDate DisbursementDate DisbursementGross BalanceGross  \\\n",
              "0         N      Y        NaN        28-Feb-99       $60,000.00        $0.00    \n",
              "1         N      Y        NaN        31-May-97       $40,000.00        $0.00    \n",
              "2         N      N        NaN        31-Dec-97      $287,000.00        $0.00    \n",
              "3         N      Y        NaN        30-Jun-97       $35,000.00        $0.00    \n",
              "4         N      N        NaN        14-May-97      $229,000.00        $0.00    \n",
              "5         N      N        NaN        30-Jun-97      $517,000.00        $0.00    \n",
              "6         N      N  24-Jun-91        22-Jul-80      $600,000.00        $0.00    \n",
              "7         N      Y        NaN        30-Jun-98       $45,000.00        $0.00    \n",
              "8         N      N        NaN        31-Jul-97      $305,000.00        $0.00    \n",
              "9         N      Y        NaN        30-Apr-97       $70,000.00        $0.00    \n",
              "\n",
              "  MIS_Status  ChgOffPrinGr        GrAppv      SBA_Appv  \n",
              "0      P I F        $0.00    $60,000.00    $48,000.00   \n",
              "1      P I F        $0.00    $40,000.00    $32,000.00   \n",
              "2      P I F        $0.00   $287,000.00   $215,250.00   \n",
              "3      P I F        $0.00    $35,000.00    $28,000.00   \n",
              "4      P I F        $0.00   $229,000.00   $229,000.00   \n",
              "5      P I F        $0.00   $517,000.00   $387,750.00   \n",
              "6     CHGOFF  $208,959.00   $600,000.00   $499,998.00   \n",
              "7      P I F        $0.00    $45,000.00    $36,000.00   \n",
              "8      P I F        $0.00   $305,000.00   $228,750.00   \n",
              "9      P I F        $0.00    $70,000.00    $56,000.00   "
            ],
            "text/html": [
              "\n",
              "  <div id=\"df-cd52e643-49d3-42c7-9b76-4a0b702ba3d2\">\n",
              "    <div class=\"colab-df-container\">\n",
              "      <div>\n",
              "<style scoped>\n",
              "    .dataframe tbody tr th:only-of-type {\n",
              "        vertical-align: middle;\n",
              "    }\n",
              "\n",
              "    .dataframe tbody tr th {\n",
              "        vertical-align: top;\n",
              "    }\n",
              "\n",
              "    .dataframe thead th {\n",
              "        text-align: right;\n",
              "    }\n",
              "</style>\n",
              "<table border=\"1\" class=\"dataframe\">\n",
              "  <thead>\n",
              "    <tr style=\"text-align: right;\">\n",
              "      <th></th>\n",
              "      <th>LoanNr_ChkDgt</th>\n",
              "      <th>Name</th>\n",
              "      <th>City</th>\n",
              "      <th>State</th>\n",
              "      <th>Zip</th>\n",
              "      <th>Bank</th>\n",
              "      <th>BankState</th>\n",
              "      <th>NAICS</th>\n",
              "      <th>ApprovalDate</th>\n",
              "      <th>ApprovalFY</th>\n",
              "      <th>Term</th>\n",
              "      <th>NoEmp</th>\n",
              "      <th>NewExist</th>\n",
              "      <th>CreateJob</th>\n",
              "      <th>RetainedJob</th>\n",
              "      <th>FranchiseCode</th>\n",
              "      <th>UrbanRural</th>\n",
              "      <th>RevLineCr</th>\n",
              "      <th>LowDoc</th>\n",
              "      <th>ChgOffDate</th>\n",
              "      <th>DisbursementDate</th>\n",
              "      <th>DisbursementGross</th>\n",
              "      <th>BalanceGross</th>\n",
              "      <th>MIS_Status</th>\n",
              "      <th>ChgOffPrinGr</th>\n",
              "      <th>GrAppv</th>\n",
              "      <th>SBA_Appv</th>\n",
              "    </tr>\n",
              "  </thead>\n",
              "  <tbody>\n",
              "    <tr>\n",
              "      <th>0</th>\n",
              "      <td>1000014003</td>\n",
              "      <td>ABC HOBBYCRAFT</td>\n",
              "      <td>EVANSVILLE</td>\n",
              "      <td>IN</td>\n",
              "      <td>47711</td>\n",
              "      <td>FIFTH THIRD BANK</td>\n",
              "      <td>OH</td>\n",
              "      <td>451120</td>\n",
              "      <td>28-Feb-97</td>\n",
              "      <td>1997</td>\n",
              "      <td>84</td>\n",
              "      <td>4</td>\n",
              "      <td>2.0</td>\n",
              "      <td>0</td>\n",
              "      <td>0</td>\n",
              "      <td>1</td>\n",
              "      <td>0</td>\n",
              "      <td>N</td>\n",
              "      <td>Y</td>\n",
              "      <td>NaN</td>\n",
              "      <td>28-Feb-99</td>\n",
              "      <td>$60,000.00</td>\n",
              "      <td>$0.00</td>\n",
              "      <td>P I F</td>\n",
              "      <td>$0.00</td>\n",
              "      <td>$60,000.00</td>\n",
              "      <td>$48,000.00</td>\n",
              "    </tr>\n",
              "    <tr>\n",
              "      <th>1</th>\n",
              "      <td>1000024006</td>\n",
              "      <td>LANDMARK BAR &amp; GRILLE (THE)</td>\n",
              "      <td>NEW PARIS</td>\n",
              "      <td>IN</td>\n",
              "      <td>46526</td>\n",
              "      <td>1ST SOURCE BANK</td>\n",
              "      <td>IN</td>\n",
              "      <td>722410</td>\n",
              "      <td>28-Feb-97</td>\n",
              "      <td>1997</td>\n",
              "      <td>60</td>\n",
              "      <td>2</td>\n",
              "      <td>2.0</td>\n",
              "      <td>0</td>\n",
              "      <td>0</td>\n",
              "      <td>1</td>\n",
              "      <td>0</td>\n",
              "      <td>N</td>\n",
              "      <td>Y</td>\n",
              "      <td>NaN</td>\n",
              "      <td>31-May-97</td>\n",
              "      <td>$40,000.00</td>\n",
              "      <td>$0.00</td>\n",
              "      <td>P I F</td>\n",
              "      <td>$0.00</td>\n",
              "      <td>$40,000.00</td>\n",
              "      <td>$32,000.00</td>\n",
              "    </tr>\n",
              "    <tr>\n",
              "      <th>2</th>\n",
              "      <td>1000034009</td>\n",
              "      <td>WHITLOCK DDS, TODD M.</td>\n",
              "      <td>BLOOMINGTON</td>\n",
              "      <td>IN</td>\n",
              "      <td>47401</td>\n",
              "      <td>GRANT COUNTY STATE BANK</td>\n",
              "      <td>IN</td>\n",
              "      <td>621210</td>\n",
              "      <td>28-Feb-97</td>\n",
              "      <td>1997</td>\n",
              "      <td>180</td>\n",
              "      <td>7</td>\n",
              "      <td>1.0</td>\n",
              "      <td>0</td>\n",
              "      <td>0</td>\n",
              "      <td>1</td>\n",
              "      <td>0</td>\n",
              "      <td>N</td>\n",
              "      <td>N</td>\n",
              "      <td>NaN</td>\n",
              "      <td>31-Dec-97</td>\n",
              "      <td>$287,000.00</td>\n",
              "      <td>$0.00</td>\n",
              "      <td>P I F</td>\n",
              "      <td>$0.00</td>\n",
              "      <td>$287,000.00</td>\n",
              "      <td>$215,250.00</td>\n",
              "    </tr>\n",
              "    <tr>\n",
              "      <th>3</th>\n",
              "      <td>1000044001</td>\n",
              "      <td>BIG BUCKS PAWN &amp; JEWELRY, LLC</td>\n",
              "      <td>BROKEN ARROW</td>\n",
              "      <td>OK</td>\n",
              "      <td>74012</td>\n",
              "      <td>1ST NATL BK &amp; TR CO OF BROKEN</td>\n",
              "      <td>OK</td>\n",
              "      <td>0</td>\n",
              "      <td>28-Feb-97</td>\n",
              "      <td>1997</td>\n",
              "      <td>60</td>\n",
              "      <td>2</td>\n",
              "      <td>1.0</td>\n",
              "      <td>0</td>\n",
              "      <td>0</td>\n",
              "      <td>1</td>\n",
              "      <td>0</td>\n",
              "      <td>N</td>\n",
              "      <td>Y</td>\n",
              "      <td>NaN</td>\n",
              "      <td>30-Jun-97</td>\n",
              "      <td>$35,000.00</td>\n",
              "      <td>$0.00</td>\n",
              "      <td>P I F</td>\n",
              "      <td>$0.00</td>\n",
              "      <td>$35,000.00</td>\n",
              "      <td>$28,000.00</td>\n",
              "    </tr>\n",
              "    <tr>\n",
              "      <th>4</th>\n",
              "      <td>1000054004</td>\n",
              "      <td>ANASTASIA CONFECTIONS, INC.</td>\n",
              "      <td>ORLANDO</td>\n",
              "      <td>FL</td>\n",
              "      <td>32801</td>\n",
              "      <td>FLORIDA BUS. DEVEL CORP</td>\n",
              "      <td>FL</td>\n",
              "      <td>0</td>\n",
              "      <td>28-Feb-97</td>\n",
              "      <td>1997</td>\n",
              "      <td>240</td>\n",
              "      <td>14</td>\n",
              "      <td>1.0</td>\n",
              "      <td>7</td>\n",
              "      <td>7</td>\n",
              "      <td>1</td>\n",
              "      <td>0</td>\n",
              "      <td>N</td>\n",
              "      <td>N</td>\n",
              "      <td>NaN</td>\n",
              "      <td>14-May-97</td>\n",
              "      <td>$229,000.00</td>\n",
              "      <td>$0.00</td>\n",
              "      <td>P I F</td>\n",
              "      <td>$0.00</td>\n",
              "      <td>$229,000.00</td>\n",
              "      <td>$229,000.00</td>\n",
              "    </tr>\n",
              "    <tr>\n",
              "      <th>5</th>\n",
              "      <td>1000084002</td>\n",
              "      <td>B&amp;T SCREW MACHINE COMPANY, INC</td>\n",
              "      <td>PLAINVILLE</td>\n",
              "      <td>CT</td>\n",
              "      <td>6062</td>\n",
              "      <td>TD BANK, NATIONAL ASSOCIATION</td>\n",
              "      <td>DE</td>\n",
              "      <td>332721</td>\n",
              "      <td>28-Feb-97</td>\n",
              "      <td>1997</td>\n",
              "      <td>120</td>\n",
              "      <td>19</td>\n",
              "      <td>1.0</td>\n",
              "      <td>0</td>\n",
              "      <td>0</td>\n",
              "      <td>1</td>\n",
              "      <td>0</td>\n",
              "      <td>N</td>\n",
              "      <td>N</td>\n",
              "      <td>NaN</td>\n",
              "      <td>30-Jun-97</td>\n",
              "      <td>$517,000.00</td>\n",
              "      <td>$0.00</td>\n",
              "      <td>P I F</td>\n",
              "      <td>$0.00</td>\n",
              "      <td>$517,000.00</td>\n",
              "      <td>$387,750.00</td>\n",
              "    </tr>\n",
              "    <tr>\n",
              "      <th>6</th>\n",
              "      <td>1000093009</td>\n",
              "      <td>MIDDLE ATLANTIC SPORTS CO INC</td>\n",
              "      <td>UNION</td>\n",
              "      <td>NJ</td>\n",
              "      <td>7083</td>\n",
              "      <td>WELLS FARGO BANK NATL ASSOC</td>\n",
              "      <td>SD</td>\n",
              "      <td>0</td>\n",
              "      <td>2-Jun-80</td>\n",
              "      <td>1980</td>\n",
              "      <td>45</td>\n",
              "      <td>45</td>\n",
              "      <td>2.0</td>\n",
              "      <td>0</td>\n",
              "      <td>0</td>\n",
              "      <td>0</td>\n",
              "      <td>0</td>\n",
              "      <td>N</td>\n",
              "      <td>N</td>\n",
              "      <td>24-Jun-91</td>\n",
              "      <td>22-Jul-80</td>\n",
              "      <td>$600,000.00</td>\n",
              "      <td>$0.00</td>\n",
              "      <td>CHGOFF</td>\n",
              "      <td>$208,959.00</td>\n",
              "      <td>$600,000.00</td>\n",
              "      <td>$499,998.00</td>\n",
              "    </tr>\n",
              "    <tr>\n",
              "      <th>7</th>\n",
              "      <td>1000094005</td>\n",
              "      <td>WEAVER PRODUCTS</td>\n",
              "      <td>SUMMERFIELD</td>\n",
              "      <td>FL</td>\n",
              "      <td>34491</td>\n",
              "      <td>REGIONS BANK</td>\n",
              "      <td>AL</td>\n",
              "      <td>811118</td>\n",
              "      <td>28-Feb-97</td>\n",
              "      <td>1997</td>\n",
              "      <td>84</td>\n",
              "      <td>1</td>\n",
              "      <td>2.0</td>\n",
              "      <td>0</td>\n",
              "      <td>0</td>\n",
              "      <td>1</td>\n",
              "      <td>0</td>\n",
              "      <td>N</td>\n",
              "      <td>Y</td>\n",
              "      <td>NaN</td>\n",
              "      <td>30-Jun-98</td>\n",
              "      <td>$45,000.00</td>\n",
              "      <td>$0.00</td>\n",
              "      <td>P I F</td>\n",
              "      <td>$0.00</td>\n",
              "      <td>$45,000.00</td>\n",
              "      <td>$36,000.00</td>\n",
              "    </tr>\n",
              "    <tr>\n",
              "      <th>8</th>\n",
              "      <td>1000104006</td>\n",
              "      <td>TURTLE BEACH INN</td>\n",
              "      <td>PORT SAINT JOE</td>\n",
              "      <td>FL</td>\n",
              "      <td>32456</td>\n",
              "      <td>CENTENNIAL BANK</td>\n",
              "      <td>FL</td>\n",
              "      <td>721310</td>\n",
              "      <td>28-Feb-97</td>\n",
              "      <td>1997</td>\n",
              "      <td>297</td>\n",
              "      <td>2</td>\n",
              "      <td>2.0</td>\n",
              "      <td>0</td>\n",
              "      <td>0</td>\n",
              "      <td>1</td>\n",
              "      <td>0</td>\n",
              "      <td>N</td>\n",
              "      <td>N</td>\n",
              "      <td>NaN</td>\n",
              "      <td>31-Jul-97</td>\n",
              "      <td>$305,000.00</td>\n",
              "      <td>$0.00</td>\n",
              "      <td>P I F</td>\n",
              "      <td>$0.00</td>\n",
              "      <td>$305,000.00</td>\n",
              "      <td>$228,750.00</td>\n",
              "    </tr>\n",
              "    <tr>\n",
              "      <th>9</th>\n",
              "      <td>1000124001</td>\n",
              "      <td>INTEXT BUILDING SYS LLC</td>\n",
              "      <td>GLASTONBURY</td>\n",
              "      <td>CT</td>\n",
              "      <td>6073</td>\n",
              "      <td>WEBSTER BANK NATL ASSOC</td>\n",
              "      <td>CT</td>\n",
              "      <td>0</td>\n",
              "      <td>28-Feb-97</td>\n",
              "      <td>1997</td>\n",
              "      <td>84</td>\n",
              "      <td>3</td>\n",
              "      <td>2.0</td>\n",
              "      <td>0</td>\n",
              "      <td>0</td>\n",
              "      <td>1</td>\n",
              "      <td>0</td>\n",
              "      <td>N</td>\n",
              "      <td>Y</td>\n",
              "      <td>NaN</td>\n",
              "      <td>30-Apr-97</td>\n",
              "      <td>$70,000.00</td>\n",
              "      <td>$0.00</td>\n",
              "      <td>P I F</td>\n",
              "      <td>$0.00</td>\n",
              "      <td>$70,000.00</td>\n",
              "      <td>$56,000.00</td>\n",
              "    </tr>\n",
              "  </tbody>\n",
              "</table>\n",
              "</div>\n",
              "      <button class=\"colab-df-convert\" onclick=\"convertToInteractive('df-cd52e643-49d3-42c7-9b76-4a0b702ba3d2')\"\n",
              "              title=\"Convert this dataframe to an interactive table.\"\n",
              "              style=\"display:none;\">\n",
              "        \n",
              "  <svg xmlns=\"http://www.w3.org/2000/svg\" height=\"24px\"viewBox=\"0 0 24 24\"\n",
              "       width=\"24px\">\n",
              "    <path d=\"M0 0h24v24H0V0z\" fill=\"none\"/>\n",
              "    <path d=\"M18.56 5.44l.94 2.06.94-2.06 2.06-.94-2.06-.94-.94-2.06-.94 2.06-2.06.94zm-11 1L8.5 8.5l.94-2.06 2.06-.94-2.06-.94L8.5 2.5l-.94 2.06-2.06.94zm10 10l.94 2.06.94-2.06 2.06-.94-2.06-.94-.94-2.06-.94 2.06-2.06.94z\"/><path d=\"M17.41 7.96l-1.37-1.37c-.4-.4-.92-.59-1.43-.59-.52 0-1.04.2-1.43.59L10.3 9.45l-7.72 7.72c-.78.78-.78 2.05 0 2.83L4 21.41c.39.39.9.59 1.41.59.51 0 1.02-.2 1.41-.59l7.78-7.78 2.81-2.81c.8-.78.8-2.07 0-2.86zM5.41 20L4 18.59l7.72-7.72 1.47 1.35L5.41 20z\"/>\n",
              "  </svg>\n",
              "      </button>\n",
              "      \n",
              "  <style>\n",
              "    .colab-df-container {\n",
              "      display:flex;\n",
              "      flex-wrap:wrap;\n",
              "      gap: 12px;\n",
              "    }\n",
              "\n",
              "    .colab-df-convert {\n",
              "      background-color: #E8F0FE;\n",
              "      border: none;\n",
              "      border-radius: 50%;\n",
              "      cursor: pointer;\n",
              "      display: none;\n",
              "      fill: #1967D2;\n",
              "      height: 32px;\n",
              "      padding: 0 0 0 0;\n",
              "      width: 32px;\n",
              "    }\n",
              "\n",
              "    .colab-df-convert:hover {\n",
              "      background-color: #E2EBFA;\n",
              "      box-shadow: 0px 1px 2px rgba(60, 64, 67, 0.3), 0px 1px 3px 1px rgba(60, 64, 67, 0.15);\n",
              "      fill: #174EA6;\n",
              "    }\n",
              "\n",
              "    [theme=dark] .colab-df-convert {\n",
              "      background-color: #3B4455;\n",
              "      fill: #D2E3FC;\n",
              "    }\n",
              "\n",
              "    [theme=dark] .colab-df-convert:hover {\n",
              "      background-color: #434B5C;\n",
              "      box-shadow: 0px 1px 3px 1px rgba(0, 0, 0, 0.15);\n",
              "      filter: drop-shadow(0px 1px 2px rgba(0, 0, 0, 0.3));\n",
              "      fill: #FFFFFF;\n",
              "    }\n",
              "  </style>\n",
              "\n",
              "      <script>\n",
              "        const buttonEl =\n",
              "          document.querySelector('#df-cd52e643-49d3-42c7-9b76-4a0b702ba3d2 button.colab-df-convert');\n",
              "        buttonEl.style.display =\n",
              "          google.colab.kernel.accessAllowed ? 'block' : 'none';\n",
              "\n",
              "        async function convertToInteractive(key) {\n",
              "          const element = document.querySelector('#df-cd52e643-49d3-42c7-9b76-4a0b702ba3d2');\n",
              "          const dataTable =\n",
              "            await google.colab.kernel.invokeFunction('convertToInteractive',\n",
              "                                                     [key], {});\n",
              "          if (!dataTable) return;\n",
              "\n",
              "          const docLinkHtml = 'Like what you see? Visit the ' +\n",
              "            '<a target=\"_blank\" href=https://colab.research.google.com/notebooks/data_table.ipynb>data table notebook</a>'\n",
              "            + ' to learn more about interactive tables.';\n",
              "          element.innerHTML = '';\n",
              "          dataTable['output_type'] = 'display_data';\n",
              "          await google.colab.output.renderOutput(dataTable, element);\n",
              "          const docLink = document.createElement('div');\n",
              "          docLink.innerHTML = docLinkHtml;\n",
              "          element.appendChild(docLink);\n",
              "        }\n",
              "      </script>\n",
              "    </div>\n",
              "  </div>\n",
              "  "
            ]
          },
          "metadata": {},
          "execution_count": 6
        }
      ],
      "source": [
        "loan.head(10)"
      ]
    },
    {
      "cell_type": "markdown",
      "source": [
        "###Reformateo de campos###"
      ],
      "metadata": {
        "id": "nRPVJxa1zmWE"
      }
    },
    {
      "cell_type": "markdown",
      "metadata": {
        "id": "NZYxbsFkv-eG"
      },
      "source": [
        "Hay varias columnas que tienen valores monetarios y donde los números están en formato que no se los reconoce como números. Para trabajar esos datos conviene formatearlos a datos numéricos. "
      ]
    },
    {
      "cell_type": "code",
      "source": [
        "loan[['DisbursementGross', 'BalanceGross', 'GrAppv', 'SBA_Appv']] = (loan[['DisbursementGross', 'BalanceGross', 'GrAppv', 'SBA_Appv']]).replace({\"[\\$]\": \"\", \"[,]\": \"\"}, regex=True) \n",
        "\n"
      ],
      "metadata": {
        "id": "vvgMTILc4gf4"
      },
      "execution_count": null,
      "outputs": []
    },
    {
      "cell_type": "code",
      "source": [
        "loan['DisbursementGross'] = loan['DisbursementGross'].astype('float') #Si quiero pasar a float más de una columna, devuelve error.\n",
        "loan['BalanceGross'] = loan['BalanceGross'].astype('float')\n",
        "loan['GrAppv'] = loan['GrAppv'].astype('float')\n",
        "loan['SBA_Appv'] = loan['SBA_Appv'].astype('float')"
      ],
      "metadata": {
        "id": "YvO-gLUM1s07"
      },
      "execution_count": null,
      "outputs": []
    },
    {
      "cell_type": "markdown",
      "source": [
        "-------------------------------------------------------------------------------------"
      ],
      "metadata": {
        "id": "Oj938k_lk_oH"
      }
    },
    {
      "cell_type": "markdown",
      "source": [
        "Otra cosa importante es que las columnas ApprovalDate y\n",
        "ApprovalFY son datos de fecha, pero uno puede ver que en el dataframe son strings:"
      ],
      "metadata": {
        "id": "BWuMt2spXE4b"
      }
    },
    {
      "cell_type": "code",
      "source": [
        "print(pd.api.types.infer_dtype(loan['ApprovalDate']))\n",
        "print(pd.api.types.infer_dtype(loan['ApprovalFY']))\n",
        "print(pd.api.types.infer_dtype(loan['DisbursementDate']))\n",
        "print(pd.api.types.infer_dtype(loan['ChgOffDate']))\n"
      ],
      "metadata": {
        "colab": {
          "base_uri": "https://localhost:8080/"
        },
        "id": "JtKy4FATYwo_",
        "outputId": "af67652d-dc6b-4a31-fc69-bf4c319892af"
      },
      "execution_count": null,
      "outputs": [
        {
          "output_type": "stream",
          "name": "stdout",
          "text": [
            "string\n",
            "string\n",
            "string\n",
            "string\n"
          ]
        }
      ]
    },
    {
      "cell_type": "markdown",
      "source": [
        "Debemos convertirlos, veamos que formato tienen."
      ],
      "metadata": {
        "id": "DDKjjwNSZQOK"
      }
    },
    {
      "cell_type": "code",
      "source": [
        "loan[['ApprovalDate', 'ApprovalFY', 'DisbursementDate', 'ChgOffDate']].sample(5)\n"
      ],
      "metadata": {
        "colab": {
          "base_uri": "https://localhost:8080/",
          "height": 206
        },
        "id": "DRt4uROJT3jo",
        "outputId": "9f5f2cef-e736-4aff-af68-0b0c1941adb1"
      },
      "execution_count": null,
      "outputs": [
        {
          "output_type": "execute_result",
          "data": {
            "text/plain": [
              "       ApprovalDate ApprovalFY DisbursementDate ChgOffDate\n",
              "689069    25-Apr-67       1967              NaN  15-Mar-89\n",
              "808322     2-Mar-05       2005        31-Jan-06        NaN\n",
              "237547     4-Sep-07       2007        31-Oct-07        NaN\n",
              "290418    16-Jun-99       1999        30-Jun-99        NaN\n",
              "274958    17-Jan-08       2008        29-Feb-08   4-Jun-10"
            ],
            "text/html": [
              "\n",
              "  <div id=\"df-83852331-6833-414f-982c-e0f01d1ad944\">\n",
              "    <div class=\"colab-df-container\">\n",
              "      <div>\n",
              "<style scoped>\n",
              "    .dataframe tbody tr th:only-of-type {\n",
              "        vertical-align: middle;\n",
              "    }\n",
              "\n",
              "    .dataframe tbody tr th {\n",
              "        vertical-align: top;\n",
              "    }\n",
              "\n",
              "    .dataframe thead th {\n",
              "        text-align: right;\n",
              "    }\n",
              "</style>\n",
              "<table border=\"1\" class=\"dataframe\">\n",
              "  <thead>\n",
              "    <tr style=\"text-align: right;\">\n",
              "      <th></th>\n",
              "      <th>ApprovalDate</th>\n",
              "      <th>ApprovalFY</th>\n",
              "      <th>DisbursementDate</th>\n",
              "      <th>ChgOffDate</th>\n",
              "    </tr>\n",
              "  </thead>\n",
              "  <tbody>\n",
              "    <tr>\n",
              "      <th>689069</th>\n",
              "      <td>25-Apr-67</td>\n",
              "      <td>1967</td>\n",
              "      <td>NaN</td>\n",
              "      <td>15-Mar-89</td>\n",
              "    </tr>\n",
              "    <tr>\n",
              "      <th>808322</th>\n",
              "      <td>2-Mar-05</td>\n",
              "      <td>2005</td>\n",
              "      <td>31-Jan-06</td>\n",
              "      <td>NaN</td>\n",
              "    </tr>\n",
              "    <tr>\n",
              "      <th>237547</th>\n",
              "      <td>4-Sep-07</td>\n",
              "      <td>2007</td>\n",
              "      <td>31-Oct-07</td>\n",
              "      <td>NaN</td>\n",
              "    </tr>\n",
              "    <tr>\n",
              "      <th>290418</th>\n",
              "      <td>16-Jun-99</td>\n",
              "      <td>1999</td>\n",
              "      <td>30-Jun-99</td>\n",
              "      <td>NaN</td>\n",
              "    </tr>\n",
              "    <tr>\n",
              "      <th>274958</th>\n",
              "      <td>17-Jan-08</td>\n",
              "      <td>2008</td>\n",
              "      <td>29-Feb-08</td>\n",
              "      <td>4-Jun-10</td>\n",
              "    </tr>\n",
              "  </tbody>\n",
              "</table>\n",
              "</div>\n",
              "      <button class=\"colab-df-convert\" onclick=\"convertToInteractive('df-83852331-6833-414f-982c-e0f01d1ad944')\"\n",
              "              title=\"Convert this dataframe to an interactive table.\"\n",
              "              style=\"display:none;\">\n",
              "        \n",
              "  <svg xmlns=\"http://www.w3.org/2000/svg\" height=\"24px\"viewBox=\"0 0 24 24\"\n",
              "       width=\"24px\">\n",
              "    <path d=\"M0 0h24v24H0V0z\" fill=\"none\"/>\n",
              "    <path d=\"M18.56 5.44l.94 2.06.94-2.06 2.06-.94-2.06-.94-.94-2.06-.94 2.06-2.06.94zm-11 1L8.5 8.5l.94-2.06 2.06-.94-2.06-.94L8.5 2.5l-.94 2.06-2.06.94zm10 10l.94 2.06.94-2.06 2.06-.94-2.06-.94-.94-2.06-.94 2.06-2.06.94z\"/><path d=\"M17.41 7.96l-1.37-1.37c-.4-.4-.92-.59-1.43-.59-.52 0-1.04.2-1.43.59L10.3 9.45l-7.72 7.72c-.78.78-.78 2.05 0 2.83L4 21.41c.39.39.9.59 1.41.59.51 0 1.02-.2 1.41-.59l7.78-7.78 2.81-2.81c.8-.78.8-2.07 0-2.86zM5.41 20L4 18.59l7.72-7.72 1.47 1.35L5.41 20z\"/>\n",
              "  </svg>\n",
              "      </button>\n",
              "      \n",
              "  <style>\n",
              "    .colab-df-container {\n",
              "      display:flex;\n",
              "      flex-wrap:wrap;\n",
              "      gap: 12px;\n",
              "    }\n",
              "\n",
              "    .colab-df-convert {\n",
              "      background-color: #E8F0FE;\n",
              "      border: none;\n",
              "      border-radius: 50%;\n",
              "      cursor: pointer;\n",
              "      display: none;\n",
              "      fill: #1967D2;\n",
              "      height: 32px;\n",
              "      padding: 0 0 0 0;\n",
              "      width: 32px;\n",
              "    }\n",
              "\n",
              "    .colab-df-convert:hover {\n",
              "      background-color: #E2EBFA;\n",
              "      box-shadow: 0px 1px 2px rgba(60, 64, 67, 0.3), 0px 1px 3px 1px rgba(60, 64, 67, 0.15);\n",
              "      fill: #174EA6;\n",
              "    }\n",
              "\n",
              "    [theme=dark] .colab-df-convert {\n",
              "      background-color: #3B4455;\n",
              "      fill: #D2E3FC;\n",
              "    }\n",
              "\n",
              "    [theme=dark] .colab-df-convert:hover {\n",
              "      background-color: #434B5C;\n",
              "      box-shadow: 0px 1px 3px 1px rgba(0, 0, 0, 0.15);\n",
              "      filter: drop-shadow(0px 1px 2px rgba(0, 0, 0, 0.3));\n",
              "      fill: #FFFFFF;\n",
              "    }\n",
              "  </style>\n",
              "\n",
              "      <script>\n",
              "        const buttonEl =\n",
              "          document.querySelector('#df-83852331-6833-414f-982c-e0f01d1ad944 button.colab-df-convert');\n",
              "        buttonEl.style.display =\n",
              "          google.colab.kernel.accessAllowed ? 'block' : 'none';\n",
              "\n",
              "        async function convertToInteractive(key) {\n",
              "          const element = document.querySelector('#df-83852331-6833-414f-982c-e0f01d1ad944');\n",
              "          const dataTable =\n",
              "            await google.colab.kernel.invokeFunction('convertToInteractive',\n",
              "                                                     [key], {});\n",
              "          if (!dataTable) return;\n",
              "\n",
              "          const docLinkHtml = 'Like what you see? Visit the ' +\n",
              "            '<a target=\"_blank\" href=https://colab.research.google.com/notebooks/data_table.ipynb>data table notebook</a>'\n",
              "            + ' to learn more about interactive tables.';\n",
              "          element.innerHTML = '';\n",
              "          dataTable['output_type'] = 'display_data';\n",
              "          await google.colab.output.renderOutput(dataTable, element);\n",
              "          const docLink = document.createElement('div');\n",
              "          docLink.innerHTML = docLinkHtml;\n",
              "          element.appendChild(docLink);\n",
              "        }\n",
              "      </script>\n",
              "    </div>\n",
              "  </div>\n",
              "  "
            ]
          },
          "metadata": {},
          "execution_count": 10
        }
      ]
    },
    {
      "cell_type": "markdown",
      "source": [
        "Recordemos que la columna 'ChgOffDate' solo tiene contenido en los préstamos que no tuvieron inconvenientes."
      ],
      "metadata": {
        "id": "oyxnAHK26fUW"
      }
    },
    {
      "cell_type": "code",
      "source": [
        "print(loan[loan['MIS_Status']=='CHGOFF'].ChgOffDate.sample(15));"
      ],
      "metadata": {
        "colab": {
          "base_uri": "https://localhost:8080/"
        },
        "id": "SKosOMO-6s5t",
        "outputId": "80093a3c-b67c-43ac-8b42-62803a9a1233"
      },
      "execution_count": null,
      "outputs": [
        {
          "output_type": "stream",
          "name": "stdout",
          "text": [
            "303282    26-Jul-12\n",
            "70930     27-Jul-11\n",
            "517516    10-Jun-13\n",
            "392391    20-Nov-03\n",
            "280036     7-Jul-11\n",
            "888819    10-Feb-09\n",
            "114736     1-Jul-10\n",
            "388612     6-Feb-13\n",
            "172238    24-Mar-11\n",
            "637008     8-Feb-06\n",
            "863318    14-Dec-01\n",
            "152777    19-May-10\n",
            "3242      26-Oct-12\n",
            "120972    23-Nov-10\n",
            "278050    17-Apr-14\n",
            "Name: ChgOffDate, dtype: object\n"
          ]
        }
      ]
    },
    {
      "cell_type": "markdown",
      "source": [
        "A la columna 'ApprovalFY' simplemente podemos transformarla en entero. El único problema es que NO todas las filas son un año puro:"
      ],
      "metadata": {
        "id": "FjgXFF0MruQD"
      }
    },
    {
      "cell_type": "code",
      "source": [
        "print (loan[~loan['ApprovalFY'].str.isdigit()].ApprovalFY)"
      ],
      "metadata": {
        "colab": {
          "base_uri": "https://localhost:8080/"
        },
        "id": "7sn7EF7Qt4gY",
        "outputId": "014c8cd2-425f-40ec-8f9c-cfd0805825ce"
      },
      "execution_count": null,
      "outputs": [
        {
          "output_type": "stream",
          "name": "stdout",
          "text": [
            "699732    1976A\n",
            "704030    1976A\n",
            "705375    1976A\n",
            "710381    1976A\n",
            "713245    1976A\n",
            "748029    1976A\n",
            "751519    1976A\n",
            "769515    1976A\n",
            "775002    1976A\n",
            "775430    1976A\n",
            "775978    1976A\n",
            "776367    1976A\n",
            "780120    1976A\n",
            "781090    1976A\n",
            "784351    1976A\n",
            "788539    1976A\n",
            "788661    1976A\n",
            "793733    1976A\n",
            "Name: ApprovalFY, dtype: object\n"
          ]
        }
      ]
    },
    {
      "cell_type": "markdown",
      "source": [
        "Debemos arreglar esas filas para luego transformarlas."
      ],
      "metadata": {
        "id": "mDN3gvqUwRox"
      }
    },
    {
      "cell_type": "code",
      "source": [
        "loan['ApprovalFY']=loan['ApprovalFY'].str.replace(\"1976A\",\"1976\")    \n"
      ],
      "metadata": {
        "id": "LVTQZkjswHl1"
      },
      "execution_count": null,
      "outputs": []
    },
    {
      "cell_type": "code",
      "source": [
        "loan['ApprovalFY']=loan['ApprovalFY'].astype('int')"
      ],
      "metadata": {
        "id": "WMEK-l-Dr2kx"
      },
      "execution_count": null,
      "outputs": []
    },
    {
      "cell_type": "markdown",
      "source": [
        "Por otro lado, las otras tres columnas tienen formato conflictivo porque están los últimos dos dígitos del año, lo que no permite transformarlas directamente. Haciendo un pequeño análisis se puede ver que los préstamos no son anteriores a 1962. Así que no es difícil saber lo que habría que poner en los dos prímeros dígitos del año."
      ],
      "metadata": {
        "id": "lhMxXNvHbB4B"
      }
    },
    {
      "cell_type": "markdown",
      "source": [
        "####Pequeño análisis"
      ],
      "metadata": {
        "id": "S6GsmAogoMpy"
      }
    },
    {
      "cell_type": "code",
      "source": [
        "print(loan['ApprovalFY'].min())\n",
        "print(loan['ApprovalFY'].max())"
      ],
      "metadata": {
        "colab": {
          "base_uri": "https://localhost:8080/"
        },
        "id": "gnwpGKFJaiyG",
        "outputId": "20d6f756-2d54-492f-e343-fb4fbaf67c64"
      },
      "execution_count": null,
      "outputs": [
        {
          "output_type": "stream",
          "name": "stdout",
          "text": [
            "1962\n",
            "2014\n"
          ]
        }
      ]
    },
    {
      "cell_type": "code",
      "source": [
        "(loan['ApprovalDate']).str[-2:]"
      ],
      "metadata": {
        "colab": {
          "base_uri": "https://localhost:8080/"
        },
        "id": "NEHnW_8Rdi7-",
        "outputId": "aae7d6c4-dd97-43f3-a323-2982a9f64db9"
      },
      "execution_count": null,
      "outputs": [
        {
          "output_type": "execute_result",
          "data": {
            "text/plain": [
              "0         97\n",
              "1         97\n",
              "2         97\n",
              "3         97\n",
              "4         97\n",
              "          ..\n",
              "899159    97\n",
              "899160    97\n",
              "899161    97\n",
              "899162    97\n",
              "899163    97\n",
              "Name: ApprovalDate, Length: 899164, dtype: object"
            ]
          },
          "metadata": {},
          "execution_count": 16
        }
      ]
    },
    {
      "cell_type": "markdown",
      "source": [
        "####Hacemos una función que nos reformatee esos campos a fechas propiamente dichas.####"
      ],
      "metadata": {
        "id": "g_auZtpcoVR7"
      }
    },
    {
      "cell_type": "code",
      "source": [
        "def clean_date(date_str): \n",
        "  '''Si una celda está en formato DD-MM-YY donde YY son\n",
        "  los dos últimos digitos de un año entre 1924 y 2023, la transforma a DD-MM-YYYY.'''\n",
        "  if pd.isna(date_str)!=True: #Si es nulo el string, no hacemos nada\n",
        "    date_list = date_str.split('-') \n",
        "    if (len(date_list[2])<3):\n",
        "\n",
        "      if int(date_list[2])<23:\n",
        "        date_list[2] = '20' + date_list[2]\n",
        "      else:\n",
        "        date_list[2] = '19' + date_list[2]\n",
        "  else:\n",
        "    date_list=''\n",
        "  return '-'.join(date_list)"
      ],
      "metadata": {
        "id": "LKvwYH0cb4Zf"
      },
      "execution_count": null,
      "outputs": []
    },
    {
      "cell_type": "code",
      "source": [
        "loan['ApprovalDate']=loan['ApprovalDate'].apply(clean_date)\n",
        "loan['ApprovalDate'] = pd.to_datetime(loan['ApprovalDate'], format='%d-%b-%Y')"
      ],
      "metadata": {
        "id": "T74JfM0joyrA"
      },
      "execution_count": null,
      "outputs": []
    },
    {
      "cell_type": "code",
      "source": [
        "loan['DisbursementDate']=(loan['DisbursementDate']).apply(clean_date)\n",
        "loan['DisbursementDate'] = pd.to_datetime(loan['DisbursementDate'], format='%d-%b-%Y', errors='coerce') #La opción errors='coerce' \n",
        "#se pone para poder tratar los nulos, en la anterior conversión no hizo falta porque no tenía nulos."
      ],
      "metadata": {
        "id": "sXThbW8WWTSg"
      },
      "execution_count": null,
      "outputs": []
    },
    {
      "cell_type": "code",
      "source": [
        "loan['ChgOffDate']=(loan['ChgOffDate']).apply(clean_date)\n",
        "loan['ChgOffDate'] = pd.to_datetime(loan['ChgOffDate'], format='%d-%b-%Y', errors='coerce') "
      ],
      "metadata": {
        "id": "AVK7JtN5k7a9"
      },
      "execution_count": null,
      "outputs": []
    },
    {
      "cell_type": "markdown",
      "source": [
        "Ahora esas columnas quedaron formateadas adecuadamente:"
      ],
      "metadata": {
        "id": "UfBh66szoGGf"
      }
    },
    {
      "cell_type": "code",
      "source": [
        "loan[['ApprovalDate', 'ApprovalFY', 'DisbursementDate', 'ChgOffDate']].sample(15)"
      ],
      "metadata": {
        "colab": {
          "base_uri": "https://localhost:8080/",
          "height": 520
        },
        "id": "dJ7-oZIff6oV",
        "outputId": "14add080-fba1-4e9e-a0e1-b399aa0bcfe8"
      },
      "execution_count": null,
      "outputs": [
        {
          "output_type": "execute_result",
          "data": {
            "text/plain": [
              "       ApprovalDate  ApprovalFY DisbursementDate ChgOffDate\n",
              "656132   2003-08-20        2003       2003-08-31        NaT\n",
              "711886   1994-08-04        1994       1994-10-31        NaT\n",
              "258400   2007-11-15        2008       2007-11-30        NaT\n",
              "667285   2003-10-08        2004       2003-11-30        NaT\n",
              "843026   2005-08-11        2005       2005-10-31        NaT\n",
              "877779   1996-09-03        1996       1996-10-08        NaT\n",
              "252835   2007-05-01        2007       2007-05-31        NaT\n",
              "736665   2004-08-02        2004       2004-09-30        NaT\n",
              "130352   2006-08-02        2006       2006-09-30 2011-11-28\n",
              "197228   2007-04-12        2007       2007-04-30        NaT\n",
              "537113   1992-10-30        1993       1993-01-31        NaT\n",
              "520725   1992-09-17        1992       1992-10-31        NaT\n",
              "788051   1995-05-25        1995       1995-07-31        NaT\n",
              "754735   2004-10-05        2005       2004-12-31        NaT\n",
              "681282   1994-06-02        1994       1994-10-31        NaT"
            ],
            "text/html": [
              "\n",
              "  <div id=\"df-c3230c37-d6f1-4725-94f7-0ac7c5549dc5\">\n",
              "    <div class=\"colab-df-container\">\n",
              "      <div>\n",
              "<style scoped>\n",
              "    .dataframe tbody tr th:only-of-type {\n",
              "        vertical-align: middle;\n",
              "    }\n",
              "\n",
              "    .dataframe tbody tr th {\n",
              "        vertical-align: top;\n",
              "    }\n",
              "\n",
              "    .dataframe thead th {\n",
              "        text-align: right;\n",
              "    }\n",
              "</style>\n",
              "<table border=\"1\" class=\"dataframe\">\n",
              "  <thead>\n",
              "    <tr style=\"text-align: right;\">\n",
              "      <th></th>\n",
              "      <th>ApprovalDate</th>\n",
              "      <th>ApprovalFY</th>\n",
              "      <th>DisbursementDate</th>\n",
              "      <th>ChgOffDate</th>\n",
              "    </tr>\n",
              "  </thead>\n",
              "  <tbody>\n",
              "    <tr>\n",
              "      <th>656132</th>\n",
              "      <td>2003-08-20</td>\n",
              "      <td>2003</td>\n",
              "      <td>2003-08-31</td>\n",
              "      <td>NaT</td>\n",
              "    </tr>\n",
              "    <tr>\n",
              "      <th>711886</th>\n",
              "      <td>1994-08-04</td>\n",
              "      <td>1994</td>\n",
              "      <td>1994-10-31</td>\n",
              "      <td>NaT</td>\n",
              "    </tr>\n",
              "    <tr>\n",
              "      <th>258400</th>\n",
              "      <td>2007-11-15</td>\n",
              "      <td>2008</td>\n",
              "      <td>2007-11-30</td>\n",
              "      <td>NaT</td>\n",
              "    </tr>\n",
              "    <tr>\n",
              "      <th>667285</th>\n",
              "      <td>2003-10-08</td>\n",
              "      <td>2004</td>\n",
              "      <td>2003-11-30</td>\n",
              "      <td>NaT</td>\n",
              "    </tr>\n",
              "    <tr>\n",
              "      <th>843026</th>\n",
              "      <td>2005-08-11</td>\n",
              "      <td>2005</td>\n",
              "      <td>2005-10-31</td>\n",
              "      <td>NaT</td>\n",
              "    </tr>\n",
              "    <tr>\n",
              "      <th>877779</th>\n",
              "      <td>1996-09-03</td>\n",
              "      <td>1996</td>\n",
              "      <td>1996-10-08</td>\n",
              "      <td>NaT</td>\n",
              "    </tr>\n",
              "    <tr>\n",
              "      <th>252835</th>\n",
              "      <td>2007-05-01</td>\n",
              "      <td>2007</td>\n",
              "      <td>2007-05-31</td>\n",
              "      <td>NaT</td>\n",
              "    </tr>\n",
              "    <tr>\n",
              "      <th>736665</th>\n",
              "      <td>2004-08-02</td>\n",
              "      <td>2004</td>\n",
              "      <td>2004-09-30</td>\n",
              "      <td>NaT</td>\n",
              "    </tr>\n",
              "    <tr>\n",
              "      <th>130352</th>\n",
              "      <td>2006-08-02</td>\n",
              "      <td>2006</td>\n",
              "      <td>2006-09-30</td>\n",
              "      <td>2011-11-28</td>\n",
              "    </tr>\n",
              "    <tr>\n",
              "      <th>197228</th>\n",
              "      <td>2007-04-12</td>\n",
              "      <td>2007</td>\n",
              "      <td>2007-04-30</td>\n",
              "      <td>NaT</td>\n",
              "    </tr>\n",
              "    <tr>\n",
              "      <th>537113</th>\n",
              "      <td>1992-10-30</td>\n",
              "      <td>1993</td>\n",
              "      <td>1993-01-31</td>\n",
              "      <td>NaT</td>\n",
              "    </tr>\n",
              "    <tr>\n",
              "      <th>520725</th>\n",
              "      <td>1992-09-17</td>\n",
              "      <td>1992</td>\n",
              "      <td>1992-10-31</td>\n",
              "      <td>NaT</td>\n",
              "    </tr>\n",
              "    <tr>\n",
              "      <th>788051</th>\n",
              "      <td>1995-05-25</td>\n",
              "      <td>1995</td>\n",
              "      <td>1995-07-31</td>\n",
              "      <td>NaT</td>\n",
              "    </tr>\n",
              "    <tr>\n",
              "      <th>754735</th>\n",
              "      <td>2004-10-05</td>\n",
              "      <td>2005</td>\n",
              "      <td>2004-12-31</td>\n",
              "      <td>NaT</td>\n",
              "    </tr>\n",
              "    <tr>\n",
              "      <th>681282</th>\n",
              "      <td>1994-06-02</td>\n",
              "      <td>1994</td>\n",
              "      <td>1994-10-31</td>\n",
              "      <td>NaT</td>\n",
              "    </tr>\n",
              "  </tbody>\n",
              "</table>\n",
              "</div>\n",
              "      <button class=\"colab-df-convert\" onclick=\"convertToInteractive('df-c3230c37-d6f1-4725-94f7-0ac7c5549dc5')\"\n",
              "              title=\"Convert this dataframe to an interactive table.\"\n",
              "              style=\"display:none;\">\n",
              "        \n",
              "  <svg xmlns=\"http://www.w3.org/2000/svg\" height=\"24px\"viewBox=\"0 0 24 24\"\n",
              "       width=\"24px\">\n",
              "    <path d=\"M0 0h24v24H0V0z\" fill=\"none\"/>\n",
              "    <path d=\"M18.56 5.44l.94 2.06.94-2.06 2.06-.94-2.06-.94-.94-2.06-.94 2.06-2.06.94zm-11 1L8.5 8.5l.94-2.06 2.06-.94-2.06-.94L8.5 2.5l-.94 2.06-2.06.94zm10 10l.94 2.06.94-2.06 2.06-.94-2.06-.94-.94-2.06-.94 2.06-2.06.94z\"/><path d=\"M17.41 7.96l-1.37-1.37c-.4-.4-.92-.59-1.43-.59-.52 0-1.04.2-1.43.59L10.3 9.45l-7.72 7.72c-.78.78-.78 2.05 0 2.83L4 21.41c.39.39.9.59 1.41.59.51 0 1.02-.2 1.41-.59l7.78-7.78 2.81-2.81c.8-.78.8-2.07 0-2.86zM5.41 20L4 18.59l7.72-7.72 1.47 1.35L5.41 20z\"/>\n",
              "  </svg>\n",
              "      </button>\n",
              "      \n",
              "  <style>\n",
              "    .colab-df-container {\n",
              "      display:flex;\n",
              "      flex-wrap:wrap;\n",
              "      gap: 12px;\n",
              "    }\n",
              "\n",
              "    .colab-df-convert {\n",
              "      background-color: #E8F0FE;\n",
              "      border: none;\n",
              "      border-radius: 50%;\n",
              "      cursor: pointer;\n",
              "      display: none;\n",
              "      fill: #1967D2;\n",
              "      height: 32px;\n",
              "      padding: 0 0 0 0;\n",
              "      width: 32px;\n",
              "    }\n",
              "\n",
              "    .colab-df-convert:hover {\n",
              "      background-color: #E2EBFA;\n",
              "      box-shadow: 0px 1px 2px rgba(60, 64, 67, 0.3), 0px 1px 3px 1px rgba(60, 64, 67, 0.15);\n",
              "      fill: #174EA6;\n",
              "    }\n",
              "\n",
              "    [theme=dark] .colab-df-convert {\n",
              "      background-color: #3B4455;\n",
              "      fill: #D2E3FC;\n",
              "    }\n",
              "\n",
              "    [theme=dark] .colab-df-convert:hover {\n",
              "      background-color: #434B5C;\n",
              "      box-shadow: 0px 1px 3px 1px rgba(0, 0, 0, 0.15);\n",
              "      filter: drop-shadow(0px 1px 2px rgba(0, 0, 0, 0.3));\n",
              "      fill: #FFFFFF;\n",
              "    }\n",
              "  </style>\n",
              "\n",
              "      <script>\n",
              "        const buttonEl =\n",
              "          document.querySelector('#df-c3230c37-d6f1-4725-94f7-0ac7c5549dc5 button.colab-df-convert');\n",
              "        buttonEl.style.display =\n",
              "          google.colab.kernel.accessAllowed ? 'block' : 'none';\n",
              "\n",
              "        async function convertToInteractive(key) {\n",
              "          const element = document.querySelector('#df-c3230c37-d6f1-4725-94f7-0ac7c5549dc5');\n",
              "          const dataTable =\n",
              "            await google.colab.kernel.invokeFunction('convertToInteractive',\n",
              "                                                     [key], {});\n",
              "          if (!dataTable) return;\n",
              "\n",
              "          const docLinkHtml = 'Like what you see? Visit the ' +\n",
              "            '<a target=\"_blank\" href=https://colab.research.google.com/notebooks/data_table.ipynb>data table notebook</a>'\n",
              "            + ' to learn more about interactive tables.';\n",
              "          element.innerHTML = '';\n",
              "          dataTable['output_type'] = 'display_data';\n",
              "          await google.colab.output.renderOutput(dataTable, element);\n",
              "          const docLink = document.createElement('div');\n",
              "          docLink.innerHTML = docLinkHtml;\n",
              "          element.appendChild(docLink);\n",
              "        }\n",
              "      </script>\n",
              "    </div>\n",
              "  </div>\n",
              "  "
            ]
          },
          "metadata": {},
          "execution_count": 21
        }
      ]
    },
    {
      "cell_type": "code",
      "source": [
        "print(pd.api.types.infer_dtype(loan['ApprovalDate']))\n",
        "print(pd.api.types.infer_dtype(loan['ApprovalFY']))\n",
        "print(pd.api.types.infer_dtype(loan['DisbursementDate']))\n",
        "print(pd.api.types.infer_dtype(loan['ChgOffDate']))"
      ],
      "metadata": {
        "colab": {
          "base_uri": "https://localhost:8080/"
        },
        "id": "aG8LvLHIpFlJ",
        "outputId": "f6b224d6-9b09-4702-ee70-c1b9dfc8f425"
      },
      "execution_count": null,
      "outputs": [
        {
          "output_type": "stream",
          "name": "stdout",
          "text": [
            "datetime64\n",
            "integer\n",
            "datetime64\n",
            "datetime64\n"
          ]
        }
      ]
    },
    {
      "cell_type": "markdown",
      "source": [
        "--------------------------------------------------------------------------------------------"
      ],
      "metadata": {
        "id": "kRpT8CxGlDzO"
      }
    },
    {
      "cell_type": "markdown",
      "source": [
        "###Agregado de columnas útiles"
      ],
      "metadata": {
        "id": "HyOFSwPTz0pk"
      }
    },
    {
      "cell_type": "markdown",
      "source": [
        "Los números del código de clasificación NAICS tienen un significado posicional Los dos primeros dígitos designan el sector comercial más grande, el tercer dígito designa el subsector, el cuarto dígito designa el grupo industrial, el quinto dígito designa las industrias NAICS y el sexto dígito designa las industrias nacionales.\n",
        "La tabla de códigos de los primeros dos dígitos es la siguiente:"
      ],
      "metadata": {
        "id": "kZZhUMZBIXeX"
      }
    },
    {
      "cell_type": "markdown",
      "metadata": {
        "id": "ZeeJjpUYJ49K"
      },
      "source": [
        "|Sector |\tDescription|\n",
        "|-------|----------------|\n",
        "11 | Agriculture, forestry, fishing and hunting\n",
        "21 |\tMining, quarrying, and oil and gas extraction\n",
        "22 |\tUtilities\n",
        "23 |\tConstruction\n",
        "31–33 |\tManufacturing\n",
        "42 |\tWholesale trade\n",
        "44–45 |\tRetail trade\n",
        "48–49 |\tTransportation and warehousing\n",
        "51 |\tInformation\n",
        "52 |\tFinance and insurance\n",
        "53 |\tReal estate and rental and leasing\n",
        "54 |\tProfessional, scientific, and technical services\n",
        "55 |\tManagement of companies and enterprises\n",
        "56 |\tAdministrative and support and waste management and remediation services\n",
        "61 |\tEducational services\n",
        "62 |\tHealth care and social assistance\n",
        "71 |\tArts, entertainment, and recreation\n",
        "72 |\tAccommodation and food services\n",
        "81 |\tOther services (except public administration)\n",
        "92 |  Public administration"
      ]
    },
    {
      "cell_type": "markdown",
      "source": [
        "Por lo tanto nos va a resultar conveniente aislar esos dos primeros dígitos en una nueva columna."
      ],
      "metadata": {
        "id": "QF5aUYDfJ7Pb"
      }
    },
    {
      "cell_type": "code",
      "source": [
        "loan['Sector'] = (loan['NAICS'].astype(str).str[:2])#El comando str[:2] extrae los primeros dos dígitos, \n",
        "#pero tiene que ser de un string, por eso ponemos antes .astype(str). "
      ],
      "metadata": {
        "id": "lBp9fMUBDxMU"
      },
      "execution_count": null,
      "outputs": []
    },
    {
      "cell_type": "markdown",
      "source": [
        "También por comodidad, es útil tener la variable Target como booleana."
      ],
      "metadata": {
        "id": "Y_Or5HZD1kf7"
      }
    },
    {
      "cell_type": "code",
      "source": [
        "loan['MIS_Status_numeric'] = loan['MIS_Status']=='CHGOFF'#Esta nueva columna vale True si hubo inconvenientes en el pago, y False si no.\n",
        "loan['MIS_Status_numeric'] = loan['MIS_Status_numeric'].astype(int) #Pasamos a binario."
      ],
      "metadata": {
        "id": "PDyhukV71i5I"
      },
      "execution_count": null,
      "outputs": []
    },
    {
      "cell_type": "markdown",
      "source": [
        "## Análisis exploratorio de datos (EDA)"
      ],
      "metadata": {
        "id": "FGIVbj29kIEi"
      }
    },
    {
      "cell_type": "markdown",
      "source": [
        "Ahora que todas las columnas están formateadas adecuadamente, vamos a sacar más información de las estadísticas del dataset que cuando lo hicimos anteriormente. Así que volvemos a pedir una descripción."
      ],
      "metadata": {
        "id": "emYAtcgyguA3"
      }
    },
    {
      "cell_type": "code",
      "source": [
        "loan.describe(include = 'all').T"
      ],
      "metadata": {
        "id": "pHk-5fMzg7ke",
        "colab": {
          "base_uri": "https://localhost:8080/",
          "height": 1000
        },
        "outputId": "6fd1321f-548b-4439-dc05-0ff8e8e48a70"
      },
      "execution_count": null,
      "outputs": [
        {
          "output_type": "stream",
          "name": "stderr",
          "text": [
            "<ipython-input-25-b98276b7aca1>:1: FutureWarning: Treating datetime data as categorical rather than numeric in `.describe` is deprecated and will be removed in a future version of pandas. Specify `datetime_is_numeric=True` to silence this warning and adopt the future behavior now.\n",
            "  loan.describe(include = 'all').T\n"
          ]
        },
        {
          "output_type": "execute_result",
          "data": {
            "text/plain": [
              "                       count  unique                         top    freq  \\\n",
              "LoanNr_ChkDgt       899164.0     NaN                         NaN     NaN   \n",
              "Name                  899150  779583                      SUBWAY    1269   \n",
              "City                  899134   32581                 LOS ANGELES   11558   \n",
              "State                 899150      51                          CA  130619   \n",
              "Zip                 899164.0     NaN                         NaN     NaN   \n",
              "Bank                  897605    5802  BANK OF AMERICA NATL ASSOC   86853   \n",
              "BankState             897598      56                          CA  118116   \n",
              "NAICS               899164.0     NaN                         NaN     NaN   \n",
              "ApprovalDate          899164    9859         1993-07-07 00:00:00    1131   \n",
              "ApprovalFY          899164.0     NaN                         NaN     NaN   \n",
              "Term                899164.0     NaN                         NaN     NaN   \n",
              "NoEmp               899164.0     NaN                         NaN     NaN   \n",
              "NewExist            899028.0     NaN                         NaN     NaN   \n",
              "CreateJob           899164.0     NaN                         NaN     NaN   \n",
              "RetainedJob         899164.0     NaN                         NaN     NaN   \n",
              "FranchiseCode       899164.0     NaN                         NaN     NaN   \n",
              "UrbanRural          899164.0     NaN                         NaN     NaN   \n",
              "RevLineCr             894636      18                           N  420288   \n",
              "LowDoc                896582       8                           N  782822   \n",
              "ChgOffDate            162699    6448         2010-03-13 00:00:00     734   \n",
              "DisbursementDate      896796    8472         1995-07-31 00:00:00   10371   \n",
              "DisbursementGross   899164.0     NaN                         NaN     NaN   \n",
              "BalanceGross        899164.0     NaN                         NaN     NaN   \n",
              "MIS_Status            897167       2                       P I F  739609   \n",
              "ChgOffPrinGr          899164   83165                      $0.00   737152   \n",
              "GrAppv              899164.0     NaN                         NaN     NaN   \n",
              "SBA_Appv            899164.0     NaN                         NaN     NaN   \n",
              "Sector                899164      25                           0  201948   \n",
              "MIS_Status_numeric  899164.0     NaN                         NaN     NaN   \n",
              "\n",
              "                        first       last              mean               std  \\\n",
              "LoanNr_ChkDgt             NaT        NaT  4772612310.59431  2538175037.45304   \n",
              "Name                      NaT        NaT               NaN               NaN   \n",
              "City                      NaT        NaT               NaN               NaN   \n",
              "State                     NaT        NaT               NaN               NaN   \n",
              "Zip                       NaT        NaT      53804.391241      31184.159152   \n",
              "Bank                      NaT        NaT               NaN               NaN   \n",
              "BankState                 NaT        NaT               NaN               NaN   \n",
              "NAICS                     NaT        NaT     398660.950146      263318.31276   \n",
              "ApprovalDate       1961-12-07 2014-06-25               NaN               NaN   \n",
              "ApprovalFY                NaT        NaT        2001.14356          5.913846   \n",
              "Term                      NaT        NaT        110.773078         78.857305   \n",
              "NoEmp                     NaT        NaT         11.411353         74.108196   \n",
              "NewExist                  NaT        NaT          1.280404           0.45175   \n",
              "CreateJob                 NaT        NaT          8.430376        236.688165   \n",
              "RetainedJob               NaT        NaT         10.797257          237.1206   \n",
              "FranchiseCode             NaT        NaT       2753.725933      12758.019136   \n",
              "UrbanRural                NaT        NaT          0.757748          0.646436   \n",
              "RevLineCr                 NaT        NaT               NaN               NaN   \n",
              "LowDoc                    NaT        NaT               NaN               NaN   \n",
              "ChgOffDate         1926-10-22 2014-08-29               NaN               NaN   \n",
              "DisbursementDate   1928-06-18 2020-04-14               NaN               NaN   \n",
              "DisbursementGross         NaT        NaT     201154.016731     287640.849988   \n",
              "BalanceGross              NaT        NaT          2.989349       1442.161912   \n",
              "MIS_Status                NaT        NaT               NaN               NaN   \n",
              "ChgOffPrinGr              NaT        NaT               NaN               NaN   \n",
              "GrAppv                    NaT        NaT     192686.976384     283263.391297   \n",
              "SBA_Appv                  NaT        NaT     149488.788175     228414.561519   \n",
              "Sector                    NaT        NaT               NaN               NaN   \n",
              "MIS_Status_numeric        NaT        NaT          0.175227          0.380162   \n",
              "\n",
              "                             min           25%           50%            75%  \\\n",
              "LoanNr_ChkDgt       1000014003.0  2589757508.5  4361439006.0  6904626504.75   \n",
              "Name                         NaN           NaN           NaN            NaN   \n",
              "City                         NaN           NaN           NaN            NaN   \n",
              "State                        NaN           NaN           NaN            NaN   \n",
              "Zip                          0.0       27587.0       55410.0        83704.0   \n",
              "Bank                         NaN           NaN           NaN            NaN   \n",
              "BankState                    NaN           NaN           NaN            NaN   \n",
              "NAICS                        0.0      235210.0      445310.0       561730.0   \n",
              "ApprovalDate                 NaN           NaN           NaN            NaN   \n",
              "ApprovalFY                1962.0        1997.0        2002.0         2006.0   \n",
              "Term                         0.0          60.0          84.0          120.0   \n",
              "NoEmp                        0.0           2.0           4.0           10.0   \n",
              "NewExist                     0.0           1.0           1.0            2.0   \n",
              "CreateJob                    0.0           0.0           0.0            1.0   \n",
              "RetainedJob                  0.0           0.0           1.0            4.0   \n",
              "FranchiseCode                0.0           1.0           1.0            1.0   \n",
              "UrbanRural                   0.0           0.0           1.0            1.0   \n",
              "RevLineCr                    NaN           NaN           NaN            NaN   \n",
              "LowDoc                       NaN           NaN           NaN            NaN   \n",
              "ChgOffDate                   NaN           NaN           NaN            NaN   \n",
              "DisbursementDate             NaN           NaN           NaN            NaN   \n",
              "DisbursementGross            0.0       42000.0      100000.0       238000.0   \n",
              "BalanceGross                 0.0           0.0           0.0            0.0   \n",
              "MIS_Status                   NaN           NaN           NaN            NaN   \n",
              "ChgOffPrinGr                 NaN           NaN           NaN            NaN   \n",
              "GrAppv                     200.0       35000.0       90000.0       225000.0   \n",
              "SBA_Appv                   100.0       21250.0       61250.0       175000.0   \n",
              "Sector                       NaN           NaN           NaN            NaN   \n",
              "MIS_Status_numeric           0.0           0.0           0.0            0.0   \n",
              "\n",
              "                             max  \n",
              "LoanNr_ChkDgt       9996003010.0  \n",
              "Name                         NaN  \n",
              "City                         NaN  \n",
              "State                        NaN  \n",
              "Zip                      99999.0  \n",
              "Bank                         NaN  \n",
              "BankState                    NaN  \n",
              "NAICS                   928120.0  \n",
              "ApprovalDate                 NaN  \n",
              "ApprovalFY                2014.0  \n",
              "Term                       569.0  \n",
              "NoEmp                     9999.0  \n",
              "NewExist                     2.0  \n",
              "CreateJob                 8800.0  \n",
              "RetainedJob               9500.0  \n",
              "FranchiseCode            99999.0  \n",
              "UrbanRural                   2.0  \n",
              "RevLineCr                    NaN  \n",
              "LowDoc                       NaN  \n",
              "ChgOffDate                   NaN  \n",
              "DisbursementDate             NaN  \n",
              "DisbursementGross     11446325.0  \n",
              "BalanceGross            996262.0  \n",
              "MIS_Status                   NaN  \n",
              "ChgOffPrinGr                 NaN  \n",
              "GrAppv                 5472000.0  \n",
              "SBA_Appv               5472000.0  \n",
              "Sector                       NaN  \n",
              "MIS_Status_numeric           1.0  "
            ],
            "text/html": [
              "\n",
              "  <div id=\"df-791bc6be-43c0-4539-ad30-12d0719cbf66\">\n",
              "    <div class=\"colab-df-container\">\n",
              "      <div>\n",
              "<style scoped>\n",
              "    .dataframe tbody tr th:only-of-type {\n",
              "        vertical-align: middle;\n",
              "    }\n",
              "\n",
              "    .dataframe tbody tr th {\n",
              "        vertical-align: top;\n",
              "    }\n",
              "\n",
              "    .dataframe thead th {\n",
              "        text-align: right;\n",
              "    }\n",
              "</style>\n",
              "<table border=\"1\" class=\"dataframe\">\n",
              "  <thead>\n",
              "    <tr style=\"text-align: right;\">\n",
              "      <th></th>\n",
              "      <th>count</th>\n",
              "      <th>unique</th>\n",
              "      <th>top</th>\n",
              "      <th>freq</th>\n",
              "      <th>first</th>\n",
              "      <th>last</th>\n",
              "      <th>mean</th>\n",
              "      <th>std</th>\n",
              "      <th>min</th>\n",
              "      <th>25%</th>\n",
              "      <th>50%</th>\n",
              "      <th>75%</th>\n",
              "      <th>max</th>\n",
              "    </tr>\n",
              "  </thead>\n",
              "  <tbody>\n",
              "    <tr>\n",
              "      <th>LoanNr_ChkDgt</th>\n",
              "      <td>899164.0</td>\n",
              "      <td>NaN</td>\n",
              "      <td>NaN</td>\n",
              "      <td>NaN</td>\n",
              "      <td>NaT</td>\n",
              "      <td>NaT</td>\n",
              "      <td>4772612310.59431</td>\n",
              "      <td>2538175037.45304</td>\n",
              "      <td>1000014003.0</td>\n",
              "      <td>2589757508.5</td>\n",
              "      <td>4361439006.0</td>\n",
              "      <td>6904626504.75</td>\n",
              "      <td>9996003010.0</td>\n",
              "    </tr>\n",
              "    <tr>\n",
              "      <th>Name</th>\n",
              "      <td>899150</td>\n",
              "      <td>779583</td>\n",
              "      <td>SUBWAY</td>\n",
              "      <td>1269</td>\n",
              "      <td>NaT</td>\n",
              "      <td>NaT</td>\n",
              "      <td>NaN</td>\n",
              "      <td>NaN</td>\n",
              "      <td>NaN</td>\n",
              "      <td>NaN</td>\n",
              "      <td>NaN</td>\n",
              "      <td>NaN</td>\n",
              "      <td>NaN</td>\n",
              "    </tr>\n",
              "    <tr>\n",
              "      <th>City</th>\n",
              "      <td>899134</td>\n",
              "      <td>32581</td>\n",
              "      <td>LOS ANGELES</td>\n",
              "      <td>11558</td>\n",
              "      <td>NaT</td>\n",
              "      <td>NaT</td>\n",
              "      <td>NaN</td>\n",
              "      <td>NaN</td>\n",
              "      <td>NaN</td>\n",
              "      <td>NaN</td>\n",
              "      <td>NaN</td>\n",
              "      <td>NaN</td>\n",
              "      <td>NaN</td>\n",
              "    </tr>\n",
              "    <tr>\n",
              "      <th>State</th>\n",
              "      <td>899150</td>\n",
              "      <td>51</td>\n",
              "      <td>CA</td>\n",
              "      <td>130619</td>\n",
              "      <td>NaT</td>\n",
              "      <td>NaT</td>\n",
              "      <td>NaN</td>\n",
              "      <td>NaN</td>\n",
              "      <td>NaN</td>\n",
              "      <td>NaN</td>\n",
              "      <td>NaN</td>\n",
              "      <td>NaN</td>\n",
              "      <td>NaN</td>\n",
              "    </tr>\n",
              "    <tr>\n",
              "      <th>Zip</th>\n",
              "      <td>899164.0</td>\n",
              "      <td>NaN</td>\n",
              "      <td>NaN</td>\n",
              "      <td>NaN</td>\n",
              "      <td>NaT</td>\n",
              "      <td>NaT</td>\n",
              "      <td>53804.391241</td>\n",
              "      <td>31184.159152</td>\n",
              "      <td>0.0</td>\n",
              "      <td>27587.0</td>\n",
              "      <td>55410.0</td>\n",
              "      <td>83704.0</td>\n",
              "      <td>99999.0</td>\n",
              "    </tr>\n",
              "    <tr>\n",
              "      <th>Bank</th>\n",
              "      <td>897605</td>\n",
              "      <td>5802</td>\n",
              "      <td>BANK OF AMERICA NATL ASSOC</td>\n",
              "      <td>86853</td>\n",
              "      <td>NaT</td>\n",
              "      <td>NaT</td>\n",
              "      <td>NaN</td>\n",
              "      <td>NaN</td>\n",
              "      <td>NaN</td>\n",
              "      <td>NaN</td>\n",
              "      <td>NaN</td>\n",
              "      <td>NaN</td>\n",
              "      <td>NaN</td>\n",
              "    </tr>\n",
              "    <tr>\n",
              "      <th>BankState</th>\n",
              "      <td>897598</td>\n",
              "      <td>56</td>\n",
              "      <td>CA</td>\n",
              "      <td>118116</td>\n",
              "      <td>NaT</td>\n",
              "      <td>NaT</td>\n",
              "      <td>NaN</td>\n",
              "      <td>NaN</td>\n",
              "      <td>NaN</td>\n",
              "      <td>NaN</td>\n",
              "      <td>NaN</td>\n",
              "      <td>NaN</td>\n",
              "      <td>NaN</td>\n",
              "    </tr>\n",
              "    <tr>\n",
              "      <th>NAICS</th>\n",
              "      <td>899164.0</td>\n",
              "      <td>NaN</td>\n",
              "      <td>NaN</td>\n",
              "      <td>NaN</td>\n",
              "      <td>NaT</td>\n",
              "      <td>NaT</td>\n",
              "      <td>398660.950146</td>\n",
              "      <td>263318.31276</td>\n",
              "      <td>0.0</td>\n",
              "      <td>235210.0</td>\n",
              "      <td>445310.0</td>\n",
              "      <td>561730.0</td>\n",
              "      <td>928120.0</td>\n",
              "    </tr>\n",
              "    <tr>\n",
              "      <th>ApprovalDate</th>\n",
              "      <td>899164</td>\n",
              "      <td>9859</td>\n",
              "      <td>1993-07-07 00:00:00</td>\n",
              "      <td>1131</td>\n",
              "      <td>1961-12-07</td>\n",
              "      <td>2014-06-25</td>\n",
              "      <td>NaN</td>\n",
              "      <td>NaN</td>\n",
              "      <td>NaN</td>\n",
              "      <td>NaN</td>\n",
              "      <td>NaN</td>\n",
              "      <td>NaN</td>\n",
              "      <td>NaN</td>\n",
              "    </tr>\n",
              "    <tr>\n",
              "      <th>ApprovalFY</th>\n",
              "      <td>899164.0</td>\n",
              "      <td>NaN</td>\n",
              "      <td>NaN</td>\n",
              "      <td>NaN</td>\n",
              "      <td>NaT</td>\n",
              "      <td>NaT</td>\n",
              "      <td>2001.14356</td>\n",
              "      <td>5.913846</td>\n",
              "      <td>1962.0</td>\n",
              "      <td>1997.0</td>\n",
              "      <td>2002.0</td>\n",
              "      <td>2006.0</td>\n",
              "      <td>2014.0</td>\n",
              "    </tr>\n",
              "    <tr>\n",
              "      <th>Term</th>\n",
              "      <td>899164.0</td>\n",
              "      <td>NaN</td>\n",
              "      <td>NaN</td>\n",
              "      <td>NaN</td>\n",
              "      <td>NaT</td>\n",
              "      <td>NaT</td>\n",
              "      <td>110.773078</td>\n",
              "      <td>78.857305</td>\n",
              "      <td>0.0</td>\n",
              "      <td>60.0</td>\n",
              "      <td>84.0</td>\n",
              "      <td>120.0</td>\n",
              "      <td>569.0</td>\n",
              "    </tr>\n",
              "    <tr>\n",
              "      <th>NoEmp</th>\n",
              "      <td>899164.0</td>\n",
              "      <td>NaN</td>\n",
              "      <td>NaN</td>\n",
              "      <td>NaN</td>\n",
              "      <td>NaT</td>\n",
              "      <td>NaT</td>\n",
              "      <td>11.411353</td>\n",
              "      <td>74.108196</td>\n",
              "      <td>0.0</td>\n",
              "      <td>2.0</td>\n",
              "      <td>4.0</td>\n",
              "      <td>10.0</td>\n",
              "      <td>9999.0</td>\n",
              "    </tr>\n",
              "    <tr>\n",
              "      <th>NewExist</th>\n",
              "      <td>899028.0</td>\n",
              "      <td>NaN</td>\n",
              "      <td>NaN</td>\n",
              "      <td>NaN</td>\n",
              "      <td>NaT</td>\n",
              "      <td>NaT</td>\n",
              "      <td>1.280404</td>\n",
              "      <td>0.45175</td>\n",
              "      <td>0.0</td>\n",
              "      <td>1.0</td>\n",
              "      <td>1.0</td>\n",
              "      <td>2.0</td>\n",
              "      <td>2.0</td>\n",
              "    </tr>\n",
              "    <tr>\n",
              "      <th>CreateJob</th>\n",
              "      <td>899164.0</td>\n",
              "      <td>NaN</td>\n",
              "      <td>NaN</td>\n",
              "      <td>NaN</td>\n",
              "      <td>NaT</td>\n",
              "      <td>NaT</td>\n",
              "      <td>8.430376</td>\n",
              "      <td>236.688165</td>\n",
              "      <td>0.0</td>\n",
              "      <td>0.0</td>\n",
              "      <td>0.0</td>\n",
              "      <td>1.0</td>\n",
              "      <td>8800.0</td>\n",
              "    </tr>\n",
              "    <tr>\n",
              "      <th>RetainedJob</th>\n",
              "      <td>899164.0</td>\n",
              "      <td>NaN</td>\n",
              "      <td>NaN</td>\n",
              "      <td>NaN</td>\n",
              "      <td>NaT</td>\n",
              "      <td>NaT</td>\n",
              "      <td>10.797257</td>\n",
              "      <td>237.1206</td>\n",
              "      <td>0.0</td>\n",
              "      <td>0.0</td>\n",
              "      <td>1.0</td>\n",
              "      <td>4.0</td>\n",
              "      <td>9500.0</td>\n",
              "    </tr>\n",
              "    <tr>\n",
              "      <th>FranchiseCode</th>\n",
              "      <td>899164.0</td>\n",
              "      <td>NaN</td>\n",
              "      <td>NaN</td>\n",
              "      <td>NaN</td>\n",
              "      <td>NaT</td>\n",
              "      <td>NaT</td>\n",
              "      <td>2753.725933</td>\n",
              "      <td>12758.019136</td>\n",
              "      <td>0.0</td>\n",
              "      <td>1.0</td>\n",
              "      <td>1.0</td>\n",
              "      <td>1.0</td>\n",
              "      <td>99999.0</td>\n",
              "    </tr>\n",
              "    <tr>\n",
              "      <th>UrbanRural</th>\n",
              "      <td>899164.0</td>\n",
              "      <td>NaN</td>\n",
              "      <td>NaN</td>\n",
              "      <td>NaN</td>\n",
              "      <td>NaT</td>\n",
              "      <td>NaT</td>\n",
              "      <td>0.757748</td>\n",
              "      <td>0.646436</td>\n",
              "      <td>0.0</td>\n",
              "      <td>0.0</td>\n",
              "      <td>1.0</td>\n",
              "      <td>1.0</td>\n",
              "      <td>2.0</td>\n",
              "    </tr>\n",
              "    <tr>\n",
              "      <th>RevLineCr</th>\n",
              "      <td>894636</td>\n",
              "      <td>18</td>\n",
              "      <td>N</td>\n",
              "      <td>420288</td>\n",
              "      <td>NaT</td>\n",
              "      <td>NaT</td>\n",
              "      <td>NaN</td>\n",
              "      <td>NaN</td>\n",
              "      <td>NaN</td>\n",
              "      <td>NaN</td>\n",
              "      <td>NaN</td>\n",
              "      <td>NaN</td>\n",
              "      <td>NaN</td>\n",
              "    </tr>\n",
              "    <tr>\n",
              "      <th>LowDoc</th>\n",
              "      <td>896582</td>\n",
              "      <td>8</td>\n",
              "      <td>N</td>\n",
              "      <td>782822</td>\n",
              "      <td>NaT</td>\n",
              "      <td>NaT</td>\n",
              "      <td>NaN</td>\n",
              "      <td>NaN</td>\n",
              "      <td>NaN</td>\n",
              "      <td>NaN</td>\n",
              "      <td>NaN</td>\n",
              "      <td>NaN</td>\n",
              "      <td>NaN</td>\n",
              "    </tr>\n",
              "    <tr>\n",
              "      <th>ChgOffDate</th>\n",
              "      <td>162699</td>\n",
              "      <td>6448</td>\n",
              "      <td>2010-03-13 00:00:00</td>\n",
              "      <td>734</td>\n",
              "      <td>1926-10-22</td>\n",
              "      <td>2014-08-29</td>\n",
              "      <td>NaN</td>\n",
              "      <td>NaN</td>\n",
              "      <td>NaN</td>\n",
              "      <td>NaN</td>\n",
              "      <td>NaN</td>\n",
              "      <td>NaN</td>\n",
              "      <td>NaN</td>\n",
              "    </tr>\n",
              "    <tr>\n",
              "      <th>DisbursementDate</th>\n",
              "      <td>896796</td>\n",
              "      <td>8472</td>\n",
              "      <td>1995-07-31 00:00:00</td>\n",
              "      <td>10371</td>\n",
              "      <td>1928-06-18</td>\n",
              "      <td>2020-04-14</td>\n",
              "      <td>NaN</td>\n",
              "      <td>NaN</td>\n",
              "      <td>NaN</td>\n",
              "      <td>NaN</td>\n",
              "      <td>NaN</td>\n",
              "      <td>NaN</td>\n",
              "      <td>NaN</td>\n",
              "    </tr>\n",
              "    <tr>\n",
              "      <th>DisbursementGross</th>\n",
              "      <td>899164.0</td>\n",
              "      <td>NaN</td>\n",
              "      <td>NaN</td>\n",
              "      <td>NaN</td>\n",
              "      <td>NaT</td>\n",
              "      <td>NaT</td>\n",
              "      <td>201154.016731</td>\n",
              "      <td>287640.849988</td>\n",
              "      <td>0.0</td>\n",
              "      <td>42000.0</td>\n",
              "      <td>100000.0</td>\n",
              "      <td>238000.0</td>\n",
              "      <td>11446325.0</td>\n",
              "    </tr>\n",
              "    <tr>\n",
              "      <th>BalanceGross</th>\n",
              "      <td>899164.0</td>\n",
              "      <td>NaN</td>\n",
              "      <td>NaN</td>\n",
              "      <td>NaN</td>\n",
              "      <td>NaT</td>\n",
              "      <td>NaT</td>\n",
              "      <td>2.989349</td>\n",
              "      <td>1442.161912</td>\n",
              "      <td>0.0</td>\n",
              "      <td>0.0</td>\n",
              "      <td>0.0</td>\n",
              "      <td>0.0</td>\n",
              "      <td>996262.0</td>\n",
              "    </tr>\n",
              "    <tr>\n",
              "      <th>MIS_Status</th>\n",
              "      <td>897167</td>\n",
              "      <td>2</td>\n",
              "      <td>P I F</td>\n",
              "      <td>739609</td>\n",
              "      <td>NaT</td>\n",
              "      <td>NaT</td>\n",
              "      <td>NaN</td>\n",
              "      <td>NaN</td>\n",
              "      <td>NaN</td>\n",
              "      <td>NaN</td>\n",
              "      <td>NaN</td>\n",
              "      <td>NaN</td>\n",
              "      <td>NaN</td>\n",
              "    </tr>\n",
              "    <tr>\n",
              "      <th>ChgOffPrinGr</th>\n",
              "      <td>899164</td>\n",
              "      <td>83165</td>\n",
              "      <td>$0.00</td>\n",
              "      <td>737152</td>\n",
              "      <td>NaT</td>\n",
              "      <td>NaT</td>\n",
              "      <td>NaN</td>\n",
              "      <td>NaN</td>\n",
              "      <td>NaN</td>\n",
              "      <td>NaN</td>\n",
              "      <td>NaN</td>\n",
              "      <td>NaN</td>\n",
              "      <td>NaN</td>\n",
              "    </tr>\n",
              "    <tr>\n",
              "      <th>GrAppv</th>\n",
              "      <td>899164.0</td>\n",
              "      <td>NaN</td>\n",
              "      <td>NaN</td>\n",
              "      <td>NaN</td>\n",
              "      <td>NaT</td>\n",
              "      <td>NaT</td>\n",
              "      <td>192686.976384</td>\n",
              "      <td>283263.391297</td>\n",
              "      <td>200.0</td>\n",
              "      <td>35000.0</td>\n",
              "      <td>90000.0</td>\n",
              "      <td>225000.0</td>\n",
              "      <td>5472000.0</td>\n",
              "    </tr>\n",
              "    <tr>\n",
              "      <th>SBA_Appv</th>\n",
              "      <td>899164.0</td>\n",
              "      <td>NaN</td>\n",
              "      <td>NaN</td>\n",
              "      <td>NaN</td>\n",
              "      <td>NaT</td>\n",
              "      <td>NaT</td>\n",
              "      <td>149488.788175</td>\n",
              "      <td>228414.561519</td>\n",
              "      <td>100.0</td>\n",
              "      <td>21250.0</td>\n",
              "      <td>61250.0</td>\n",
              "      <td>175000.0</td>\n",
              "      <td>5472000.0</td>\n",
              "    </tr>\n",
              "    <tr>\n",
              "      <th>Sector</th>\n",
              "      <td>899164</td>\n",
              "      <td>25</td>\n",
              "      <td>0</td>\n",
              "      <td>201948</td>\n",
              "      <td>NaT</td>\n",
              "      <td>NaT</td>\n",
              "      <td>NaN</td>\n",
              "      <td>NaN</td>\n",
              "      <td>NaN</td>\n",
              "      <td>NaN</td>\n",
              "      <td>NaN</td>\n",
              "      <td>NaN</td>\n",
              "      <td>NaN</td>\n",
              "    </tr>\n",
              "    <tr>\n",
              "      <th>MIS_Status_numeric</th>\n",
              "      <td>899164.0</td>\n",
              "      <td>NaN</td>\n",
              "      <td>NaN</td>\n",
              "      <td>NaN</td>\n",
              "      <td>NaT</td>\n",
              "      <td>NaT</td>\n",
              "      <td>0.175227</td>\n",
              "      <td>0.380162</td>\n",
              "      <td>0.0</td>\n",
              "      <td>0.0</td>\n",
              "      <td>0.0</td>\n",
              "      <td>0.0</td>\n",
              "      <td>1.0</td>\n",
              "    </tr>\n",
              "  </tbody>\n",
              "</table>\n",
              "</div>\n",
              "      <button class=\"colab-df-convert\" onclick=\"convertToInteractive('df-791bc6be-43c0-4539-ad30-12d0719cbf66')\"\n",
              "              title=\"Convert this dataframe to an interactive table.\"\n",
              "              style=\"display:none;\">\n",
              "        \n",
              "  <svg xmlns=\"http://www.w3.org/2000/svg\" height=\"24px\"viewBox=\"0 0 24 24\"\n",
              "       width=\"24px\">\n",
              "    <path d=\"M0 0h24v24H0V0z\" fill=\"none\"/>\n",
              "    <path d=\"M18.56 5.44l.94 2.06.94-2.06 2.06-.94-2.06-.94-.94-2.06-.94 2.06-2.06.94zm-11 1L8.5 8.5l.94-2.06 2.06-.94-2.06-.94L8.5 2.5l-.94 2.06-2.06.94zm10 10l.94 2.06.94-2.06 2.06-.94-2.06-.94-.94-2.06-.94 2.06-2.06.94z\"/><path d=\"M17.41 7.96l-1.37-1.37c-.4-.4-.92-.59-1.43-.59-.52 0-1.04.2-1.43.59L10.3 9.45l-7.72 7.72c-.78.78-.78 2.05 0 2.83L4 21.41c.39.39.9.59 1.41.59.51 0 1.02-.2 1.41-.59l7.78-7.78 2.81-2.81c.8-.78.8-2.07 0-2.86zM5.41 20L4 18.59l7.72-7.72 1.47 1.35L5.41 20z\"/>\n",
              "  </svg>\n",
              "      </button>\n",
              "      \n",
              "  <style>\n",
              "    .colab-df-container {\n",
              "      display:flex;\n",
              "      flex-wrap:wrap;\n",
              "      gap: 12px;\n",
              "    }\n",
              "\n",
              "    .colab-df-convert {\n",
              "      background-color: #E8F0FE;\n",
              "      border: none;\n",
              "      border-radius: 50%;\n",
              "      cursor: pointer;\n",
              "      display: none;\n",
              "      fill: #1967D2;\n",
              "      height: 32px;\n",
              "      padding: 0 0 0 0;\n",
              "      width: 32px;\n",
              "    }\n",
              "\n",
              "    .colab-df-convert:hover {\n",
              "      background-color: #E2EBFA;\n",
              "      box-shadow: 0px 1px 2px rgba(60, 64, 67, 0.3), 0px 1px 3px 1px rgba(60, 64, 67, 0.15);\n",
              "      fill: #174EA6;\n",
              "    }\n",
              "\n",
              "    [theme=dark] .colab-df-convert {\n",
              "      background-color: #3B4455;\n",
              "      fill: #D2E3FC;\n",
              "    }\n",
              "\n",
              "    [theme=dark] .colab-df-convert:hover {\n",
              "      background-color: #434B5C;\n",
              "      box-shadow: 0px 1px 3px 1px rgba(0, 0, 0, 0.15);\n",
              "      filter: drop-shadow(0px 1px 2px rgba(0, 0, 0, 0.3));\n",
              "      fill: #FFFFFF;\n",
              "    }\n",
              "  </style>\n",
              "\n",
              "      <script>\n",
              "        const buttonEl =\n",
              "          document.querySelector('#df-791bc6be-43c0-4539-ad30-12d0719cbf66 button.colab-df-convert');\n",
              "        buttonEl.style.display =\n",
              "          google.colab.kernel.accessAllowed ? 'block' : 'none';\n",
              "\n",
              "        async function convertToInteractive(key) {\n",
              "          const element = document.querySelector('#df-791bc6be-43c0-4539-ad30-12d0719cbf66');\n",
              "          const dataTable =\n",
              "            await google.colab.kernel.invokeFunction('convertToInteractive',\n",
              "                                                     [key], {});\n",
              "          if (!dataTable) return;\n",
              "\n",
              "          const docLinkHtml = 'Like what you see? Visit the ' +\n",
              "            '<a target=\"_blank\" href=https://colab.research.google.com/notebooks/data_table.ipynb>data table notebook</a>'\n",
              "            + ' to learn more about interactive tables.';\n",
              "          element.innerHTML = '';\n",
              "          dataTable['output_type'] = 'display_data';\n",
              "          await google.colab.output.renderOutput(dataTable, element);\n",
              "          const docLink = document.createElement('div');\n",
              "          docLink.innerHTML = docLinkHtml;\n",
              "          element.appendChild(docLink);\n",
              "        }\n",
              "      </script>\n",
              "    </div>\n",
              "  </div>\n",
              "  "
            ]
          },
          "metadata": {},
          "execution_count": 25
        }
      ]
    },
    {
      "cell_type": "markdown",
      "source": [
        "Una cosa que notamos es que el campo 'RevLineCr' tiene 18 valores distintos, cuando en realidad debería tener solo dos, 'Y' y 'N'."
      ],
      "metadata": {
        "id": "4qi73NbOYY4V"
      }
    },
    {
      "cell_type": "code",
      "source": [
        "loan['RevLineCr'].unique()"
      ],
      "metadata": {
        "colab": {
          "base_uri": "https://localhost:8080/"
        },
        "id": "c0Udkf3IY14k",
        "outputId": "10485f97-255b-4d7f-89d6-acb393917def"
      },
      "execution_count": null,
      "outputs": [
        {
          "output_type": "execute_result",
          "data": {
            "text/plain": [
              "array(['N', '0', 'Y', 'T', nan, '`', ',', '1', 'C', '3', '2', 'R', '7',\n",
              "       'A', '5', '.', '4', '-', 'Q'], dtype=object)"
            ]
          },
          "metadata": {},
          "execution_count": 26
        }
      ]
    },
    {
      "cell_type": "code",
      "source": [
        "loan['RevLineCr'].value_counts()"
      ],
      "metadata": {
        "colab": {
          "base_uri": "https://localhost:8080/"
        },
        "id": "d6Zr03nWZdUt",
        "outputId": "f630bc8d-ed67-4bac-e3f8-d422010cd3f2"
      },
      "execution_count": null,
      "outputs": [
        {
          "output_type": "execute_result",
          "data": {
            "text/plain": [
              "N    420288\n",
              "0    257602\n",
              "Y    201397\n",
              "T     15284\n",
              "1        23\n",
              "R        14\n",
              "`        11\n",
              "2         6\n",
              "C         2\n",
              "3         1\n",
              ",         1\n",
              "7         1\n",
              "A         1\n",
              "5         1\n",
              ".         1\n",
              "4         1\n",
              "-         1\n",
              "Q         1\n",
              "Name: RevLineCr, dtype: int64"
            ]
          },
          "metadata": {},
          "execution_count": 27
        }
      ]
    },
    {
      "cell_type": "markdown",
      "source": [
        "La mayoría de categorias no sabemos como interpretarlas, los 0 representan una gran parte de los datos. "
      ],
      "metadata": {
        "id": "T8-8t8YfY3mr"
      }
    },
    {
      "cell_type": "markdown",
      "source": [
        "También vemos que el valor mínimo de 'ChgOffPrinGr' es un error, ya vimos que no hay préstamos anteriores al año 1962. "
      ],
      "metadata": {
        "id": "7mLO8T2pGHQ7"
      }
    },
    {
      "cell_type": "code",
      "source": [
        "print(loan['ChgOffDate'].min())"
      ],
      "metadata": {
        "colab": {
          "base_uri": "https://localhost:8080/"
        },
        "id": "O_T598avCk99",
        "outputId": "cece7a07-7821-4403-d674-baca0405ad38"
      },
      "execution_count": null,
      "outputs": [
        {
          "output_type": "stream",
          "name": "stdout",
          "text": [
            "1926-10-22 00:00:00\n"
          ]
        }
      ]
    },
    {
      "cell_type": "code",
      "source": [
        "print(loan['ChgOffDate'].sort_values())"
      ],
      "metadata": {
        "colab": {
          "base_uri": "https://localhost:8080/"
        },
        "id": "9i-ssOQUD1vk",
        "outputId": "7066763f-2d3e-4d17-d915-76325622812a"
      },
      "execution_count": null,
      "outputs": [
        {
          "output_type": "stream",
          "name": "stdout",
          "text": [
            "598791   1926-10-22\n",
            "39407    1988-10-03\n",
            "45932    1988-10-03\n",
            "136492   1988-10-03\n",
            "30659    1988-10-03\n",
            "            ...    \n",
            "899158          NaT\n",
            "899159          NaT\n",
            "899160          NaT\n",
            "899161          NaT\n",
            "899163          NaT\n",
            "Name: ChgOffDate, Length: 899164, dtype: datetime64[ns]\n"
          ]
        }
      ]
    },
    {
      "cell_type": "code",
      "source": [
        "loan.iloc[598791]"
      ],
      "metadata": {
        "colab": {
          "base_uri": "https://localhost:8080/"
        },
        "id": "2X9ZkqHvDhWf",
        "outputId": "a2971ccd-4c9d-4374-b62d-8194350e5f4c"
      },
      "execution_count": null,
      "outputs": [
        {
          "output_type": "execute_result",
          "data": {
            "text/plain": [
              "LoanNr_ChkDgt                          5937143008\n",
              "Name                         AMG INDUSTRIES, INC.\n",
              "City                                  GLENS FALLS\n",
              "State                                          NY\n",
              "Zip                                         12804\n",
              "Bank                  GLENS FALLS NATL BK & TR CO\n",
              "BankState                                      NY\n",
              "NAICS                                           0\n",
              "ApprovalDate                  1993-09-14 00:00:00\n",
              "ApprovalFY                                   1993\n",
              "Term                                           66\n",
              "NoEmp                                          85\n",
              "NewExist                                      1.0\n",
              "CreateJob                                       0\n",
              "RetainedJob                                     0\n",
              "FranchiseCode                                   1\n",
              "UrbanRural                                      0\n",
              "RevLineCr                                       N\n",
              "LowDoc                                          N\n",
              "ChgOffDate                    1926-10-22 00:00:00\n",
              "DisbursementDate              1994-01-31 00:00:00\n",
              "DisbursementGross                        300000.0\n",
              "BalanceGross                                  0.0\n",
              "MIS_Status                                 CHGOFF\n",
              "ChgOffPrinGr                         $236,876.00 \n",
              "GrAppv                                   300000.0\n",
              "SBA_Appv                                 214500.0\n",
              "Sector                                          0\n",
              "MIS_Status_numeric                              1\n",
              "Name: 598791, dtype: object"
            ]
          },
          "metadata": {},
          "execution_count": 30
        }
      ]
    },
    {
      "cell_type": "markdown",
      "source": [
        "El préstamo se aprobó en 1993, pero hubo inconvenientes de pago en 1926. Claramente es un error, borramos esta fila."
      ],
      "metadata": {
        "id": "PiXFOFuvHU87"
      }
    },
    {
      "cell_type": "code",
      "source": [
        "loan.drop(598791, axis=0, inplace=True)"
      ],
      "metadata": {
        "id": "seuA59kvIBfv"
      },
      "execution_count": null,
      "outputs": []
    },
    {
      "cell_type": "markdown",
      "source": [
        "Lo mismo pasa con el valor mínimo de 'DisbursementDate'."
      ],
      "metadata": {
        "id": "YykL8AKMdKEz"
      }
    },
    {
      "cell_type": "code",
      "source": [
        "print(loan['DisbursementDate'].sort_values())"
      ],
      "metadata": {
        "colab": {
          "base_uri": "https://localhost:8080/"
        },
        "outputId": "771a7800-551d-4ef0-bd68-930e39121f7b",
        "id": "r-Rfh0UndKE5"
      },
      "execution_count": null,
      "outputs": [
        {
          "output_type": "stream",
          "name": "stdout",
          "text": [
            "642915   1928-06-18\n",
            "54648    1948-09-17\n",
            "49244    1966-08-16\n",
            "697801   1968-03-19\n",
            "732056   1968-11-22\n",
            "            ...    \n",
            "896387          NaT\n",
            "897215          NaT\n",
            "897268          NaT\n",
            "897488          NaT\n",
            "897494          NaT\n",
            "Name: DisbursementDate, Length: 899163, dtype: datetime64[ns]\n"
          ]
        }
      ]
    },
    {
      "cell_type": "code",
      "source": [
        "loan.drop(642915, axis=0, inplace=True)\n",
        "loan.drop(54648, axis=0, inplace=True)"
      ],
      "metadata": {
        "id": "7b05DoM0dKE7"
      },
      "execution_count": null,
      "outputs": []
    },
    {
      "cell_type": "markdown",
      "source": [
        "###Variables relacionadas la empresa###\n"
      ],
      "metadata": {
        "id": "FJEnj_E_0Ny8"
      }
    },
    {
      "cell_type": "markdown",
      "source": [
        "Empecemos analizando las variables relacionadas con la empresa que mejor predicen el incumplimiento de pagos."
      ],
      "metadata": {
        "id": "4BKCDijlLLRX"
      }
    },
    {
      "cell_type": "markdown",
      "source": [
        "Analicemos el estado de origen de la empresa."
      ],
      "metadata": {
        "id": "mf9wHT6hCUnA"
      }
    },
    {
      "cell_type": "code",
      "source": [
        "sns.catplot( data=loan, x=\"State\", y=\"MIS_Status_numeric\", kind=\"bar\", aspect=3); #En el eje y grafica un promedio de MIS_Status_numeric. \n",
        "plt.ylabel('Ratio de incumplimiento por estado de la empresa');\n",
        "plt.title(\"Incumplimiento de pagos por estado de la empresa\");"
      ],
      "metadata": {
        "id": "6dJjN-rYC_-v",
        "colab": {
          "base_uri": "https://localhost:8080/",
          "height": 385
        },
        "outputId": "b3a08c4d-6efd-4eb5-dc55-73bc2156fc8b"
      },
      "execution_count": null,
      "outputs": [
        {
          "output_type": "display_data",
          "data": {
            "text/plain": [
              "<Figure size 1080x360 with 1 Axes>"
            ],
            "image/png": "[encoded data removed]"
          },
          "metadata": {
            "needs_background": "light"
          }
        }
      ]
    },
    {
      "cell_type": "markdown",
      "source": [
        "Vemos que hay estados donde el riesgo de incumplimiento es significativemente mayor que en otros. Esto puede deberse a leyes laborales, la riqueza del estado y factores culturales. "
      ],
      "metadata": {
        "id": "V7Wp-QYlChf3"
      }
    },
    {
      "cell_type": "markdown",
      "source": [
        "Analicemos ahora por sectores comerciales."
      ],
      "metadata": {
        "id": "YDKsG2cMdZwK"
      }
    },
    {
      "cell_type": "code",
      "source": [
        "sns.catplot( data=loan, x=\"Sector\", y=\"MIS_Status_numeric\", kind=\"bar\", aspect=3); #En el eje y grafica un promedio de MIS_Status_numeric. \n",
        "plt.ylabel('Ratio de incumplimiento por sector');\n",
        "plt.title(\"Incumplimiento de pagos por sector\");\n"
      ],
      "metadata": {
        "id": "n_I6Hk5JBBii",
        "colab": {
          "base_uri": "https://localhost:8080/",
          "height": 385
        },
        "outputId": "a14b6b54-ef78-47a9-c218-dded384ad114"
      },
      "execution_count": null,
      "outputs": [
        {
          "output_type": "display_data",
          "data": {
            "text/plain": [
              "<Figure size 1080x360 with 1 Axes>"
            ],
            "image/png": "[encoded data removed]"
          },
          "metadata": {
            "needs_background": "light"
          }
        }
      ]
    },
    {
      "cell_type": "markdown",
      "source": [
        "(Las líneas sobre las barras indican un intervalo de confianza de la media del 95% suponiendo que el sampleo es aleatorio)."
      ],
      "metadata": {
        "id": "Ls1WPZx8KuCl"
      }
    },
    {
      "cell_type": "markdown",
      "source": [
        "Para entender esto mejor, recordemos la tabla con los códigos de sectores."
      ],
      "metadata": {
        "id": "uS4al2IK0E4Q"
      }
    },
    {
      "cell_type": "markdown",
      "metadata": {
        "id": "whQD7b9FUCc0"
      },
      "source": [
        "|Sector |\tDescription|\n",
        "|-------|----------------|\n",
        "11 | Agriculture, forestry, fishing and hunting\n",
        "21 |\tMining, quarrying, and oil and gas extraction\n",
        "22 |\tUtilities\n",
        "23 |\tConstruction\n",
        "31–33 |\tManufacturing\n",
        "42 |\tWholesale trade\n",
        "44–45 |\tRetail trade\n",
        "48–49 |\tTransportation and warehousing\n",
        "51 |\tInformation\n",
        "52 |\tFinance and insurance\n",
        "53 |\tReal estate and rental and leasing\n",
        "54 |\tProfessional, scientific, and technical services\n",
        "55 |\tManagement of companies and enterprises\n",
        "56 |\tAdministrative and support and waste management and remediation services\n",
        "61 |\tEducational services\n",
        "62 |\tHealth care and social assistance\n",
        "71 |\tArts, entertainment, and recreation\n",
        "72 |\tAccommodation and food services\n",
        "81 |\tOther services (except public administration)\n",
        "92 |  Public administration"
      ]
    },
    {
      "cell_type": "markdown",
      "source": [
        "Vemos que hay sectores como el 52 y 53 (\"Finance and insurance\"\n",
        "y\t\"Real estate and rental and leasing\", respectivamente) donde el porcentaje de incumplimiento  es cercano al 30%, mientras que otros sectores como el 11 y el 21 (\"Agriculture, forestry, fishing and hunting\" y \"Mining, quarrying, and oil and gas extraction\", respectivamente) donde el porcentaje es menor al 10%. "
      ],
      "metadata": {
        "id": "HKASG-NKIvCO"
      }
    },
    {
      "cell_type": "markdown",
      "source": [
        "Veamos ahora que sucede con relación al número de empleados. "
      ],
      "metadata": {
        "id": "utgGqMQO2NZl"
      }
    },
    {
      "cell_type": "code",
      "source": [
        "fig, ax = plt.subplots(figsize=(12, 5))\n",
        "sns.boxplot(x='MIS_Status', y = 'NoEmp', data = loan,  showfliers = False)  \n",
        "plt.title(\"MIS_Status vs Número de empleados\");\n",
        "ax.set(xlabel='MIS_Status', ylabel='Número de empleados');"
      ],
      "metadata": {
        "id": "Y1M4K-Zo3d-M",
        "colab": {
          "base_uri": "https://localhost:8080/",
          "height": 351
        },
        "outputId": "38fcb0e1-b981-4d44-d19f-d63cb35f1302"
      },
      "execution_count": null,
      "outputs": [
        {
          "output_type": "display_data",
          "data": {
            "text/plain": [
              "<Figure size 864x360 with 1 Axes>"
            ],
            "image/png": "[encoded data removed]"
          },
          "metadata": {
            "needs_background": "light"
          }
        }
      ]
    },
    {
      "cell_type": "markdown",
      "source": [
        "Recordemos que los que tuvieron problemas son los catalogados como 'CHGOFF', y los que no tuvieron problemas son los catalogados como 'P I F' (paid in full).<br>"
      ],
      "metadata": {
        "id": "_MxCWxJ7mixz"
      }
    },
    {
      "cell_type": "markdown",
      "source": [
        "Vemos que, sacando outliers, las empresas que no presentaron problemas al pagar tienen más empleados. Esto nos dice que cuanto mayor es el número de empleados, más probable es el pago sin problema. \n",
        "\n",
        "Estimamos, en principio, que esto es porque las empresas con mayor número de empleados están mejor establecidas. Lo que nos lleva a preguntarnos que relación hay entre incumplir y que la empresa sea nueva. El campo NewExist vale 1 si la empresa existía antes del préstamo y 2 si es nueva.\n",
        " "
      ],
      "metadata": {
        "id": "HPCua7eN39ew"
      }
    },
    {
      "cell_type": "markdown",
      "source": [
        "Analicemos los porcentajes de los valores de MIS_Status según si es nueva o no."
      ],
      "metadata": {
        "id": "ksdYgyVi9EKX"
      }
    },
    {
      "cell_type": "code",
      "source": [
        "loan[loan['NewExist']==2]['MIS_Status'].value_counts(normalize=True)"
      ],
      "metadata": {
        "id": "bBn-tuqtxABr",
        "colab": {
          "base_uri": "https://localhost:8080/"
        },
        "outputId": "3542f720-7763-4965-ea6f-1cac8db3daf6"
      },
      "execution_count": null,
      "outputs": [
        {
          "output_type": "execute_result",
          "data": {
            "text/plain": [
              "P I F     0.812452\n",
              "CHGOFF    0.187548\n",
              "Name: MIS_Status, dtype: float64"
            ]
          },
          "metadata": {},
          "execution_count": 37
        }
      ]
    },
    {
      "cell_type": "code",
      "source": [
        "loan[loan['NewExist']==1]['MIS_Status'].value_counts(normalize=True)"
      ],
      "metadata": {
        "id": "owl5Dqu2yZ6n",
        "colab": {
          "base_uri": "https://localhost:8080/"
        },
        "outputId": "20c6d997-e52c-45f3-a4de-918af1e0fe13"
      },
      "execution_count": null,
      "outputs": [
        {
          "output_type": "execute_result",
          "data": {
            "text/plain": [
              "P I F     0.828871\n",
              "CHGOFF    0.171129\n",
              "Name: MIS_Status, dtype: float64"
            ]
          },
          "metadata": {},
          "execution_count": 38
        }
      ]
    },
    {
      "cell_type": "markdown",
      "source": [
        "Gráficamente:"
      ],
      "metadata": {
        "id": "Jsl_rFwN9QmS"
      }
    },
    {
      "cell_type": "code",
      "source": [
        "sns.displot(data=loan, x=\"MIS_Status\", col=\"NewExist\", hue=\"NewExist\", stat='percent', common_norm=False);\n"
      ],
      "metadata": {
        "id": "svo4rdQfzUct",
        "colab": {
          "base_uri": "https://localhost:8080/",
          "height": 369
        },
        "outputId": "a4966f4c-1f36-44b9-cb74-8e4d4050dc9b"
      },
      "execution_count": null,
      "outputs": [
        {
          "output_type": "display_data",
          "data": {
            "text/plain": [
              "<Figure size 1133.88x360 with 3 Axes>"
            ],
            "image/png": "[encoded data removed]"
          },
          "metadata": {
            "needs_background": "light"
          }
        }
      ]
    },
    {
      "cell_type": "markdown",
      "source": [
        "Vemos que hay muy poca diferencia en los porcentajes de incumplimiento entre las empresas nuevas y las ya existentes. Lo que descarta la conjetura anterior. <br> \n",
        "\n",
        "Por otro lado, vemos que también el parámetro NewExist tiene valores 0, lo que asociamos a que dicho parámetro está no completado. ¿Cuántos valores 0 hay en dicha columna?"
      ],
      "metadata": {
        "id": "p-m8clnrluru"
      }
    },
    {
      "cell_type": "code",
      "source": [
        "loan[loan['NewExist']==0].shape[0] #shape[0] devuelve el número de filas, es decir, la cantidad de registros donde NewExist es igual a 0."
      ],
      "metadata": {
        "id": "YWDuOHkS1BOX",
        "colab": {
          "base_uri": "https://localhost:8080/"
        },
        "outputId": "a5ff9447-f3cf-49aa-ea24-5ebd967be4da"
      },
      "execution_count": null,
      "outputs": [
        {
          "output_type": "execute_result",
          "data": {
            "text/plain": [
              "1034"
            ]
          },
          "metadata": {},
          "execution_count": 40
        }
      ]
    },
    {
      "cell_type": "markdown",
      "source": [
        "Este es un número pequeño con respecto al total. <br>\n",
        "Vemos llamativo que sí haya diferencia entre estas empresas que están descatalogadas y las que se catalogan como nuevas y como ya existentes. No tenemos explicación de esto por el momento."
      ],
      "metadata": {
        "id": "3eQi10-KkF65"
      }
    },
    {
      "cell_type": "markdown",
      "source": [
        "Con respecto a ser empresa urbana o rural,"
      ],
      "metadata": {
        "id": "E4R2Gh0ezd0V"
      }
    },
    {
      "cell_type": "code",
      "source": [
        "sns.displot(data=loan, x=\"MIS_Status\", col=\"UrbanRural\", hue=\"UrbanRural\", stat='percent', common_norm=False);"
      ],
      "metadata": {
        "id": "gwSByw8NzdS9",
        "colab": {
          "base_uri": "https://localhost:8080/",
          "height": 369
        },
        "outputId": "e47b14f8-3a19-4f23-d9d2-74580d155e48"
      },
      "execution_count": null,
      "outputs": [
        {
          "output_type": "display_data",
          "data": {
            "text/plain": [
              "<Figure size 1144.12x360 with 3 Axes>"
            ],
            "image/png": "[encoded data removed]"
          },
          "metadata": {
            "needs_background": "light"
          }
        }
      ]
    },
    {
      "cell_type": "markdown",
      "source": [
        "No vemos una diferencia significativa en que sea urbana o no."
      ],
      "metadata": {
        "id": "xAYK66F2z6cj"
      }
    },
    {
      "cell_type": "markdown",
      "source": [
        "### Variables relacionadas al banco o a la línea de crédito###"
      ],
      "metadata": {
        "id": "qaTmeJ1s0caf"
      }
    },
    {
      "cell_type": "markdown",
      "source": [
        "Analicemos la relación con el estado del banco."
      ],
      "metadata": {
        "id": "ggUF1zqxVB0T"
      }
    },
    {
      "cell_type": "code",
      "source": [
        "sns.catplot( data=loan, x=\"BankState\", y=\"MIS_Status_numeric\", kind=\"bar\", aspect=3); #En el eje y grafica un promedio de MIS_Status_numeric. \n",
        "#Al ser booleano, transforma True en 1 y el promedio corresponde al porcentaje de incumplimiento en cada sector.\n",
        "plt.ylabel('Ratio de incumplimiento por estado de la empresa');\n",
        "plt.title(\"Incumplimiento de pagos por estado de la empresa\");"
      ],
      "metadata": {
        "colab": {
          "base_uri": "https://localhost:8080/",
          "height": 385
        },
        "id": "pyecHDltVCJU",
        "outputId": "8a3318d1-c61c-4601-9d1f-2ad0f2a325e4"
      },
      "execution_count": null,
      "outputs": [
        {
          "output_type": "display_data",
          "data": {
            "text/plain": [
              "<Figure size 1080x360 with 1 Axes>"
            ],
            "image/png": "[encoded data removed]"
          },
          "metadata": {
            "needs_background": "light"
          }
        }
      ]
    },
    {
      "cell_type": "markdown",
      "source": [
        "Es interesante ver que hay diferencias con respecto al estado de la empresa. Por ejemplo, si el banco es de VA (Virginia) los inconvenientes están cerca del 40%. Un valor realmente alto, que no ocurría en el caso del estado de la empresa."
      ],
      "metadata": {
        "id": "adwvU6TjV6sk"
      }
    },
    {
      "cell_type": "markdown",
      "source": [
        "Con respecto a si la línea de crédito es renovable o no:"
      ],
      "metadata": {
        "id": "b6YySsqwW6Aw"
      }
    },
    {
      "cell_type": "code",
      "source": [
        "sns.displot(data=loan, x=\"MIS_Status\", col=\"RevLineCr\", hue=\"RevLineCr\", stat='percent', common_norm=False);"
      ],
      "metadata": {
        "colab": {
          "base_uri": "https://localhost:8080/",
          "height": 90
        },
        "id": "SMM1aMCKaIEO",
        "outputId": "0d4ab7ab-9753-4397-98a9-eb5630152764"
      },
      "execution_count": null,
      "outputs": [
        {
          "output_type": "display_data",
          "data": {
            "text/plain": [
              "<Figure size 6538.25x360 with 18 Axes>"
            ],
            "image/png": "[encoded data removed]"
          },
          "metadata": {
            "needs_background": "light"
          }
        }
      ]
    },
    {
      "cell_type": "markdown",
      "source": [
        "Hay una pequeña diferencia entre 'Y' y 'N', que son los valores que entendemos. Pero habiendo tantos valores que no identificamos, esta columna probablemente sea inusable."
      ],
      "metadata": {
        "id": "83IFKFaHadoX"
      }
    },
    {
      "cell_type": "markdown",
      "source": [
        "Veamos si las distribuciones de las variables 'DisbursementGross', 'GrAppv' y 'SBA_Appv' son distintas para los préstamos que tuvieron inconvenientes con respecto a los que no."
      ],
      "metadata": {
        "id": "XlL-AiNMzD_f"
      }
    },
    {
      "cell_type": "code",
      "source": [
        "fig, ax = plt.subplots(nrows=3, ncols=1, figsize=(20, 15), sharex=False, sharey=True)\n",
        "sns.histplot(x= 'DisbursementGross', hue = 'MIS_Status',  data = loan, ax=ax[0],bins=1000,stat='percent', common_norm=False) #Common_norm = False es para que haga los porcentajes por separado.             ) \n",
        "ax[0].set(xlabel='Desembolso bruto del préstamo ($)', ylabel='Percent')\n",
        "ax[0].set_title(\"MIS_Status vs Préstamo bruto, aprobado por banco y garantizado por SBA\")\n",
        "ax[0].set_xlim(0, 1.5e6) #Debido a la existencia de datos extremos, el gráfico se ve chico. Cambiamos el rango así lo vemos más en detalle.\n",
        "ax[0].set(xticks=np.arange(0, 1.5e6, 1e5));\n",
        "\n",
        "sns.histplot(x= 'GrAppv', hue = 'MIS_Status',  data = loan, ax=ax[1],bins=500,stat='percent', common_norm=False) #Common_norm = False es para que haga los porcentajes por separado.             ) \n",
        "ax[1].set(xlabel='Monto bruto aprobado por banco ($)', ylabel='Percent')\n",
        "ax[1].set_xlim(0, 1.5e6) #Debido a la existencia de datos extremos, el gráfico se ve chico. Cambiamos el rango así lo vemos más en detalle.\n",
        "ax[1].set(xticks=np.arange(0, 1.5e6, 1e5));\n",
        "\n",
        "sns.histplot(x= 'SBA_Appv', hue = 'MIS_Status',  data = loan, ax=ax[2],bins=500,stat='percent', common_norm=False) #Common_norm = False es para que haga los porcentajes por separado.             ) \n",
        "ax[2].set(xlabel='Monto garantizado por SBA ($)', ylabel='Percent')\n",
        "ax[2].set_xlim(0, 1.5e6) #Debido a la existencia de datos extremos, el gráfico se ve chico. Cambiamos el rango así lo vemos más en detalle.\n",
        "ax[2].set(xticks=np.arange(0, 1.5e6, 1e5));\n"
      ],
      "metadata": {
        "id": "iPizSAL0LhK1",
        "colab": {
          "base_uri": "https://localhost:8080/",
          "height": 893
        },
        "outputId": "0e65210d-3772-4328-81f8-f61d64af3d4e"
      },
      "execution_count": null,
      "outputs": [
        {
          "output_type": "display_data",
          "data": {
            "text/plain": [
              "<Figure size 1440x1080 with 3 Axes>"
            ],
            "image/png": "[encoded data removed]"
          },
          "metadata": {
            "needs_background": "light"
          }
        }
      ]
    },
    {
      "cell_type": "markdown",
      "source": [
        "El porcentaje se refiere con respecto a cada total. Por ejemplo, en el primer rango (primera barra) del primero gráfico, se produjo el 25 % de todos los incumplimientos y un poco menos del 15% de todos los pagados en término.<br>\n",
        "Los gráficos nos muestran que la mayoría de los préstamos con inconvenientes se encuentran en el rango de entre 0 y 100000 USD, sea sobre el monto total o sobre los montos aprobados."
      ],
      "metadata": {
        "id": "09OWxRKqEK7J"
      }
    },
    {
      "cell_type": "markdown",
      "source": [
        "Para estudiar un poco estas relaciones, miremos los boxplots de los desembolsos brutos con respecto a los préstamos pagados en término y los que tuvieron problemas."
      ],
      "metadata": {
        "id": "laNhTXbo-ZCq"
      }
    },
    {
      "cell_type": "code",
      "source": [
        "fig, ax = plt.subplots(figsize=(12, 5))\n",
        "sns.boxplot(x='MIS_Status', y = 'DisbursementGross', data = loan, showfliers = False)  ## La existencia de outliers hace que no se vea muy bien el gráfico. Por eso los eliminamos, con showfliers = False\n",
        "plt.title(\"MIS_Status vs Desembolso bruto del préstamo\");\n",
        "ax.set(xlabel='MIS_Status', ylabel='Desembolso bruto del préstamo ($)');"
      ],
      "metadata": {
        "id": "e2SNyxOViy9-",
        "colab": {
          "base_uri": "https://localhost:8080/",
          "height": 351
        },
        "outputId": "eb5eaf45-8311-4268-f5f9-9e7618ea06da"
      },
      "execution_count": null,
      "outputs": [
        {
          "output_type": "display_data",
          "data": {
            "text/plain": [
              "<Figure size 864x360 with 1 Axes>"
            ],
            "image/png": "[encoded data removed]"
          },
          "metadata": {
            "needs_background": "light"
          }
        }
      ]
    },
    {
      "cell_type": "markdown",
      "source": [
        "Este gráfico nos muestra más claramente que los préstamos que no tuvieron problemas tendieron a ser más grandes. Una hipótesis que podría explicar esto es que los mayores préstamos están asociados a compañías establecidas y en expansión, en una compañía así un préstamo es más probable de ser pagado sin problemas."
      ],
      "metadata": {
        "id": "-OO8Mul4kfRm"
      }
    },
    {
      "cell_type": "markdown",
      "source": [
        "Combinemos el monto bruto desembolsado con el número de empleados para estudiar los problemas al pagar el préstamo. Ya habíamos visto que el número de empleados es un factor que tiene relación con el pago a término del préstamo.\n",
        "Vamos a hacer el gŕafico con un máximo 30 empleados para que sea entendible."
      ],
      "metadata": {
        "id": "DcLh9ldlm8_e"
      }
    },
    {
      "cell_type": "code",
      "source": [
        "fig, ax = plt.subplots(figsize=(18, 5))\n",
        "sns.boxplot(x='NoEmp', hue='MIS_Status', y = 'DisbursementGross', data = loan)  ## BalanceGross=monto desembolsado----- DisbursementGross\n",
        "plt.title(\"MIS_Status vs Desembolso bruto del préstamo\");\n",
        "ax.set(xlabel='Número de empleados', ylabel='Desembolso bruto del préstamo ($)')\n",
        "ax.set_xlim(0,30)\n",
        "ax.set_ylim(0,1e6)\n",
        "ax.legend(loc='upper right', bbox_to_anchor=(1, 1.0))"
      ],
      "metadata": {
        "id": "_I8FNoyQkiQl",
        "colab": {
          "base_uri": "https://localhost:8080/",
          "height": 367
        },
        "outputId": "c5d62954-b048-4e8d-8f0c-8f4d0c0166cb"
      },
      "execution_count": null,
      "outputs": [
        {
          "output_type": "execute_result",
          "data": {
            "text/plain": [
              "<matplotlib.legend.Legend at 0x7fa89bb99970>"
            ]
          },
          "metadata": {},
          "execution_count": 46
        },
        {
          "output_type": "display_data",
          "data": {
            "text/plain": [
              "<Figure size 1296x360 with 1 Axes>"
            ],
            "image/png": "[encoded data removed]"
          },
          "metadata": {
            "needs_background": "light"
          }
        }
      ]
    },
    {
      "cell_type": "markdown",
      "source": [
        "Vemos que a número de empleados fijo (al menos si son máximo 30), los préstamos más grandes tienden a tener menos inconvenientes. Concluimos entonces que la razón de que los préstamos más grandes tienen menos probabilidad de incumplimiento no es explicada (únicamente) por el número de empleados, es otro factor independiente. "
      ],
      "metadata": {
        "id": "9jguUx1bn166"
      }
    },
    {
      "cell_type": "markdown",
      "source": [
        "###Variables relacionadas con plazo y años"
      ],
      "metadata": {
        "id": "xM7QIWPXqFmp"
      }
    },
    {
      "cell_type": "markdown",
      "source": [
        "Analicemos el tiempo de la devolución del préstamo."
      ],
      "metadata": {
        "id": "86dg0KAaGgPQ"
      }
    },
    {
      "cell_type": "code",
      "source": [
        "sns.displot(data=loan[loan['MIS_Status']=='P I F'], x=\"Term\", col = 'MIS_Status' ,stat='percent', aspect= 3);\n",
        "plt.legend(labels=['P I F (sin inconvenientes)']);\n",
        "sns.displot(data=loan[loan['MIS_Status']=='CHGOFF'], x=\"Term\", col = 'MIS_Status', color='orange' ,stat='percent', aspect= 3)\n",
        "plt.legend(labels=['CHGOFF (con inconvenientes)']);"
      ],
      "metadata": {
        "id": "jZHyVF_qAdKm",
        "colab": {
          "base_uri": "https://localhost:8080/",
          "height": 721
        },
        "outputId": "647c9bce-20f7-4ad6-eea9-dbf699fbd450"
      },
      "execution_count": null,
      "outputs": [
        {
          "output_type": "display_data",
          "data": {
            "text/plain": [
              "<Figure size 1080x360 with 1 Axes>"
            ],
            "image/png": "[encoded data removed]"
          },
          "metadata": {
            "needs_background": "light"
          }
        },
        {
          "output_type": "display_data",
          "data": {
            "text/plain": [
              "<Figure size 1080x360 with 1 Axes>"
            ],
            "image/png": "[encoded data removed]"
          },
          "metadata": {
            "needs_background": "light"
          }
        }
      ]
    },
    {
      "cell_type": "markdown",
      "source": [
        "Vemos que la distribuciones tiene distintas características. Los préstamos sin inconvenientes suelen tener duraciones más precisas y focalizadas, mientras que en los que tuvieron inconvenientes la distribución es más dispersa. Esto nos sugiere que los préstamos que tuvieron problemas de pago, los tuvieron desde el principio."
      ],
      "metadata": {
        "id": "J8wJjn80VsG1"
      }
    },
    {
      "cell_type": "markdown",
      "source": [
        "Con respecto a los años, en esta entrega, por cuestiones de tiempo, no vamos a mirar todas las variables con respecto a MIS_Status. "
      ],
      "metadata": {
        "id": "ydx-og-0YyKC"
      }
    },
    {
      "cell_type": "markdown",
      "source": [
        "Miremos las fechas declaradas de incoveniente con los pagos. "
      ],
      "metadata": {
        "id": "K0ImmCNVjS9E"
      }
    },
    {
      "cell_type": "code",
      "source": [
        "fig, ax = plt.subplots(figsize=(18, 5));\n",
        "sns.histplot(data=loan, x='ChgOffDate', ax=ax);"
      ],
      "metadata": {
        "colab": {
          "base_uri": "https://localhost:8080/",
          "height": 334
        },
        "id": "30_W0el7ApBO",
        "outputId": "eb2bddbb-0731-43d1-f00d-9312e6695125"
      },
      "execution_count": null,
      "outputs": [
        {
          "output_type": "display_data",
          "data": {
            "text/plain": [
              "<Figure size 1296x360 with 1 Axes>"
            ],
            "image/png": "[encoded data removed]"
          },
          "metadata": {
            "needs_background": "light"
          }
        }
      ]
    },
    {
      "cell_type": "markdown",
      "source": [
        "Esto muestra que en el rango 2008-2012 hubo más inconvenientes que en cualquier otro rango de años. Recordemos que la crisis de hipótecas se produjo dentro de ese rango. <br>\n",
        "De todas formas, este dato no es completo porque no lo estamos viendo porcentual con respecto a un total."
      ],
      "metadata": {
        "id": "EdlRQy_OiKou"
      }
    },
    {
      "cell_type": "markdown",
      "source": [
        "Para graficar el resto de variables debemos hacer algunas transformaciones."
      ],
      "metadata": {
        "id": "ecYpKEUVThES"
      }
    },
    {
      "cell_type": "code",
      "source": [
        "DisbursementYear=loan['DisbursementDate'].dt.year\n",
        "DisbursementYear = DisbursementYear.astype('Int64') #Transformo a Int64, porque no dejar transformar a int cuando hay nulos.\n",
        "\n",
        "ApprovalYear=loan['ApprovalDate'].dt.year\n",
        "ApprovalYear= ApprovalYear.astype('Int64') #Transformo a Int64, porque no dejar transformar a int cuando hay nulos."
      ],
      "metadata": {
        "id": "ieE52UDKgHaw"
      },
      "execution_count": null,
      "outputs": []
    },
    {
      "cell_type": "markdown",
      "source": [
        "Veamos la relación entre DisbursementYear, ApprovalYear y ApprovalFY."
      ],
      "metadata": {
        "id": "6c_YUcQigVEL"
      }
    },
    {
      "cell_type": "code",
      "source": [
        "fig, ax = plt.subplots(figsize=(15, 9))\n",
        "ax=sns.scatterplot(x=DisbursementYear, y=ApprovalYear);\n",
        "ax.set(xlabel='Monto bruto aprobado (millones de dólares)', ylabel='Monto garantizado por el SBA (millones de dólares)',title = 'Monto bruto aprobado vs. Monto garantizado por el SBA') ;"
      ],
      "metadata": {
        "colab": {
          "base_uri": "https://localhost:8080/",
          "height": 568
        },
        "id": "l2CjpEypbZhx",
        "outputId": "35fa6725-5eda-43b6-9c22-f6015c37a72a"
      },
      "execution_count": null,
      "outputs": [
        {
          "output_type": "display_data",
          "data": {
            "text/plain": [
              "<Figure size 1080x648 with 1 Axes>"
            ],
            "image/png": "[encoded data removed]"
          },
          "metadata": {
            "needs_background": "light"
          }
        }
      ]
    },
    {
      "cell_type": "code",
      "source": [
        "fig, ax = plt.subplots(figsize=(15, 9))\n",
        "ax=sns.scatterplot(x=DisbursementYear, y=loan['ApprovalFY']);\n",
        "ax.set(xlabel='Monto bruto aprobado (millones de dólares)', ylabel='Monto garantizado por el SBA (millones de dólares)',title = 'Monto bruto aprobado vs. Monto garantizado por el SBA') ;"
      ],
      "metadata": {
        "colab": {
          "base_uri": "https://localhost:8080/",
          "height": 568
        },
        "outputId": "38864ba4-6383-45da-9128-49c497872315",
        "id": "5v__sdkcdGgB"
      },
      "execution_count": null,
      "outputs": [
        {
          "output_type": "display_data",
          "data": {
            "text/plain": [
              "<Figure size 1080x648 with 1 Axes>"
            ],
            "image/png": "[encoded data removed]"
          },
          "metadata": {
            "needs_background": "light"
          }
        }
      ]
    },
    {
      "cell_type": "markdown",
      "source": [
        "Vemos que, como esperabamos, son datos muy parecidos. Hay corrimientos que dependeran del mes del año y de alguna condición particular, pero no creemos que aporten alguna información útil. Así que vamos a elegir uno solo de estos tres, el año de entrega del préstamo (DisbursementYear), por ser el plazo más tardío de los tres y por lo tanto más cercano al momento en que pudieron surgir inconvenientes de pago."
      ],
      "metadata": {
        "id": "ypjPBVo7g-hp"
      }
    },
    {
      "cell_type": "markdown",
      "source": [
        "Miremos la cantidad de préstamos con y sin inconvenientes, por año de entrega."
      ],
      "metadata": {
        "id": "pTXRrAgHqeYu"
      }
    },
    {
      "cell_type": "code",
      "source": [
        "DisbYear_vs_MIS =pd.DataFrame(data=DisbursementYear)\n",
        "DisbYear_vs_MIS.rename(columns={\"DisbursementDate\": \"DisbursementYear\"}, inplace = True)\n",
        "DisbYear_vs_MIS['MIS_Status_numeric']= loan['MIS_Status_numeric']"
      ],
      "metadata": {
        "id": "gD-5GBx-LFWc"
      },
      "execution_count": null,
      "outputs": []
    },
    {
      "cell_type": "code",
      "source": [
        "fig, ax = plt.subplots(figsize=(18, 5), sharex=True, sharey=True);\n",
        "sns.histplot(data=DisbYear_vs_MIS, x='DisbursementYear', hue= 'MIS_Status_numeric', ax=ax , shrink=3, legend=True);\n",
        "ax.set(title='Préstamos por año de entrega del préstamo');\n",
        "ax.set_xlabel('Año');"
      ],
      "metadata": {
        "colab": {
          "base_uri": "https://localhost:8080/",
          "height": 350
        },
        "id": "Z67PM2Ft9FsV",
        "outputId": "0b46c63e-0a15-4cc9-c58f-e311b25b9a12"
      },
      "execution_count": null,
      "outputs": [
        {
          "output_type": "display_data",
          "data": {
            "text/plain": [
              "<Figure size 1296x360 with 1 Axes>"
            ],
            "image/png": "[encoded data removed]"
          },
          "metadata": {
            "needs_background": "light"
          }
        }
      ]
    },
    {
      "cell_type": "markdown",
      "source": [
        "Vemos dos cosas que nos parecen relevantes: 1) La proporción de préstamos con inconvenientes es muy alta alrededor de 2007. 2)La cantidad de préstamos con fecha menor a 1989 es mucho menor.\n",
        "\n",
        "Veamos un gráfico de la proporción de 1)."
      ],
      "metadata": {
        "id": "6gXRfHWQjj-s"
      }
    },
    {
      "cell_type": "code",
      "source": [
        "DisbYear_vs_MIS_Proporcion = DisbYear_vs_MIS.groupby(['DisbursementYear']).mean()\n",
        "DisbYear_vs_MIS_Proporcion.rename(columns={\"MIS_Status_numeric\": \"CHGOFF_Proportion\"}, inplace = True)\n",
        "DisbYear_vs_MIS_Proporcion.sample(5)"
      ],
      "metadata": {
        "colab": {
          "base_uri": "https://localhost:8080/",
          "height": 237
        },
        "id": "I_Rlw_HvAVa_",
        "outputId": "8404662a-4942-46eb-c4c9-561749a28d41"
      },
      "execution_count": null,
      "outputs": [
        {
          "output_type": "execute_result",
          "data": {
            "text/plain": [
              "                  CHGOFF_Proportion\n",
              "DisbursementYear                   \n",
              "1970                       0.928571\n",
              "2000                       0.112207\n",
              "2002                       0.122015\n",
              "1985                       0.385344\n",
              "2003                       0.155407"
            ],
            "text/html": [
              "\n",
              "  <div id=\"df-da4c403a-fff4-418f-8d0a-3bc45c4ecdf8\">\n",
              "    <div class=\"colab-df-container\">\n",
              "      <div>\n",
              "<style scoped>\n",
              "    .dataframe tbody tr th:only-of-type {\n",
              "        vertical-align: middle;\n",
              "    }\n",
              "\n",
              "    .dataframe tbody tr th {\n",
              "        vertical-align: top;\n",
              "    }\n",
              "\n",
              "    .dataframe thead th {\n",
              "        text-align: right;\n",
              "    }\n",
              "</style>\n",
              "<table border=\"1\" class=\"dataframe\">\n",
              "  <thead>\n",
              "    <tr style=\"text-align: right;\">\n",
              "      <th></th>\n",
              "      <th>CHGOFF_Proportion</th>\n",
              "    </tr>\n",
              "    <tr>\n",
              "      <th>DisbursementYear</th>\n",
              "      <th></th>\n",
              "    </tr>\n",
              "  </thead>\n",
              "  <tbody>\n",
              "    <tr>\n",
              "      <th>1970</th>\n",
              "      <td>0.928571</td>\n",
              "    </tr>\n",
              "    <tr>\n",
              "      <th>2000</th>\n",
              "      <td>0.112207</td>\n",
              "    </tr>\n",
              "    <tr>\n",
              "      <th>2002</th>\n",
              "      <td>0.122015</td>\n",
              "    </tr>\n",
              "    <tr>\n",
              "      <th>1985</th>\n",
              "      <td>0.385344</td>\n",
              "    </tr>\n",
              "    <tr>\n",
              "      <th>2003</th>\n",
              "      <td>0.155407</td>\n",
              "    </tr>\n",
              "  </tbody>\n",
              "</table>\n",
              "</div>\n",
              "      <button class=\"colab-df-convert\" onclick=\"convertToInteractive('df-da4c403a-fff4-418f-8d0a-3bc45c4ecdf8')\"\n",
              "              title=\"Convert this dataframe to an interactive table.\"\n",
              "              style=\"display:none;\">\n",
              "        \n",
              "  <svg xmlns=\"http://www.w3.org/2000/svg\" height=\"24px\"viewBox=\"0 0 24 24\"\n",
              "       width=\"24px\">\n",
              "    <path d=\"M0 0h24v24H0V0z\" fill=\"none\"/>\n",
              "    <path d=\"M18.56 5.44l.94 2.06.94-2.06 2.06-.94-2.06-.94-.94-2.06-.94 2.06-2.06.94zm-11 1L8.5 8.5l.94-2.06 2.06-.94-2.06-.94L8.5 2.5l-.94 2.06-2.06.94zm10 10l.94 2.06.94-2.06 2.06-.94-2.06-.94-.94-2.06-.94 2.06-2.06.94z\"/><path d=\"M17.41 7.96l-1.37-1.37c-.4-.4-.92-.59-1.43-.59-.52 0-1.04.2-1.43.59L10.3 9.45l-7.72 7.72c-.78.78-.78 2.05 0 2.83L4 21.41c.39.39.9.59 1.41.59.51 0 1.02-.2 1.41-.59l7.78-7.78 2.81-2.81c.8-.78.8-2.07 0-2.86zM5.41 20L4 18.59l7.72-7.72 1.47 1.35L5.41 20z\"/>\n",
              "  </svg>\n",
              "      </button>\n",
              "      \n",
              "  <style>\n",
              "    .colab-df-container {\n",
              "      display:flex;\n",
              "      flex-wrap:wrap;\n",
              "      gap: 12px;\n",
              "    }\n",
              "\n",
              "    .colab-df-convert {\n",
              "      background-color: #E8F0FE;\n",
              "      border: none;\n",
              "      border-radius: 50%;\n",
              "      cursor: pointer;\n",
              "      display: none;\n",
              "      fill: #1967D2;\n",
              "      height: 32px;\n",
              "      padding: 0 0 0 0;\n",
              "      width: 32px;\n",
              "    }\n",
              "\n",
              "    .colab-df-convert:hover {\n",
              "      background-color: #E2EBFA;\n",
              "      box-shadow: 0px 1px 2px rgba(60, 64, 67, 0.3), 0px 1px 3px 1px rgba(60, 64, 67, 0.15);\n",
              "      fill: #174EA6;\n",
              "    }\n",
              "\n",
              "    [theme=dark] .colab-df-convert {\n",
              "      background-color: #3B4455;\n",
              "      fill: #D2E3FC;\n",
              "    }\n",
              "\n",
              "    [theme=dark] .colab-df-convert:hover {\n",
              "      background-color: #434B5C;\n",
              "      box-shadow: 0px 1px 3px 1px rgba(0, 0, 0, 0.15);\n",
              "      filter: drop-shadow(0px 1px 2px rgba(0, 0, 0, 0.3));\n",
              "      fill: #FFFFFF;\n",
              "    }\n",
              "  </style>\n",
              "\n",
              "      <script>\n",
              "        const buttonEl =\n",
              "          document.querySelector('#df-da4c403a-fff4-418f-8d0a-3bc45c4ecdf8 button.colab-df-convert');\n",
              "        buttonEl.style.display =\n",
              "          google.colab.kernel.accessAllowed ? 'block' : 'none';\n",
              "\n",
              "        async function convertToInteractive(key) {\n",
              "          const element = document.querySelector('#df-da4c403a-fff4-418f-8d0a-3bc45c4ecdf8');\n",
              "          const dataTable =\n",
              "            await google.colab.kernel.invokeFunction('convertToInteractive',\n",
              "                                                     [key], {});\n",
              "          if (!dataTable) return;\n",
              "\n",
              "          const docLinkHtml = 'Like what you see? Visit the ' +\n",
              "            '<a target=\"_blank\" href=https://colab.research.google.com/notebooks/data_table.ipynb>data table notebook</a>'\n",
              "            + ' to learn more about interactive tables.';\n",
              "          element.innerHTML = '';\n",
              "          dataTable['output_type'] = 'display_data';\n",
              "          await google.colab.output.renderOutput(dataTable, element);\n",
              "          const docLink = document.createElement('div');\n",
              "          docLink.innerHTML = docLinkHtml;\n",
              "          element.appendChild(docLink);\n",
              "        }\n",
              "      </script>\n",
              "    </div>\n",
              "  </div>\n",
              "  "
            ]
          },
          "metadata": {},
          "execution_count": 54
        }
      ]
    },
    {
      "cell_type": "markdown",
      "source": [
        "Para ser claros, la proporción a la que nos referimos para un cierto año $x$ es <br>\n",
        "\n",
        "$$\\frac{\\text{Cantidad de préstamos con inconvenientes de los entregados en el año }x}{\\text{Cantidad de préstamos entregados en el año }x}.$$"
      ],
      "metadata": {
        "id": "w8oagcyGDNca"
      }
    },
    {
      "cell_type": "code",
      "source": [
        "fig, ax = plt.subplots(nrows=1, ncols=1, figsize=(12, 5), sharex=True, sharey=True)  \n",
        "ax.plot(DisbYear_vs_MIS_Proporcion.index, DisbYear_vs_MIS_Proporcion['CHGOFF_Proportion']);\n",
        "ax.set_title('Proporción incovenientes vs Año de entrega del préstamo') \n",
        "ax.set_xlabel('Año')  \n",
        "ax.set_ylabel('Proporción de préstamos con inconvenientes con respecto a total');\n"
      ],
      "metadata": {
        "colab": {
          "base_uri": "https://localhost:8080/",
          "height": 361
        },
        "id": "QX0XS6hSDDje",
        "outputId": "290586ec-2312-4108-c8eb-dca31dd64819"
      },
      "execution_count": null,
      "outputs": [
        {
          "output_type": "display_data",
          "data": {
            "text/plain": [
              "<Figure size 864x360 with 1 Axes>"
            ],
            "image/png": "[encoded data removed]"
          },
          "metadata": {
            "needs_background": "light"
          }
        }
      ]
    },
    {
      "cell_type": "markdown",
      "source": [
        "Confirmamos que alrededor de la crisis inmobiliaria de 2007-2008 tenemos un pico de inconvenientes. Así que el contexto económico es un factor relevante. Por otro lado, antes de 1990 vemos que la proporción es muy alta, llegando a 1 en años cercanos a 1970. Conjeturamos que esto puede deberse a una recolección de datos menor y selectiva. Estudiemos mejor eso.\n"
      ],
      "metadata": {
        "id": "Le1GpeXCkWOK"
      }
    },
    {
      "cell_type": "code",
      "source": [
        "DisbYear_vs_MIS.groupby(['DisbursementYear']).count()"
      ],
      "metadata": {
        "colab": {
          "base_uri": "https://localhost:8080/",
          "height": 1000
        },
        "id": "XGehwEXvltw4",
        "outputId": "aa296fd6-e46a-47cf-8fb4-c658626af472"
      },
      "execution_count": null,
      "outputs": [
        {
          "output_type": "execute_result",
          "data": {
            "text/plain": [
              "                  MIS_Status_numeric\n",
              "DisbursementYear                    \n",
              "1966                               1\n",
              "1968                               2\n",
              "1969                               3\n",
              "1970                              14\n",
              "1971                              15\n",
              "1972                              35\n",
              "1973                              45\n",
              "1974                              35\n",
              "1975                              46\n",
              "1976                              67\n",
              "1977                             130\n",
              "1978                             249\n",
              "1979                             336\n",
              "1980                             505\n",
              "1981                             454\n",
              "1982                             653\n",
              "1983                            1205\n",
              "1984                            1953\n",
              "1985                            2006\n",
              "1986                            2054\n",
              "1987                            2176\n",
              "1988                            2066\n",
              "1989                           11786\n",
              "1990                           14461\n",
              "1991                           15702\n",
              "1992                           19589\n",
              "1993                           22281\n",
              "1994                           30774\n",
              "1995                           44241\n",
              "1996                           37648\n",
              "1997                           40737\n",
              "1998                           35275\n",
              "1999                           39804\n",
              "2000                           39757\n",
              "2001                           37309\n",
              "2002                           45519\n",
              "2003                           59058\n",
              "2004                           70208\n",
              "2005                           74771\n",
              "2006                           79309\n",
              "2007                           68945\n",
              "2008                           37290\n",
              "2009                           21756\n",
              "2010                           16757\n",
              "2011                           11399\n",
              "2012                            5766\n",
              "2013                            2366\n",
              "2014                             234\n",
              "2020                               1"
            ],
            "text/html": [
              "\n",
              "  <div id=\"df-34bb88e7-449f-48c9-a081-21c439797eb0\">\n",
              "    <div class=\"colab-df-container\">\n",
              "      <div>\n",
              "<style scoped>\n",
              "    .dataframe tbody tr th:only-of-type {\n",
              "        vertical-align: middle;\n",
              "    }\n",
              "\n",
              "    .dataframe tbody tr th {\n",
              "        vertical-align: top;\n",
              "    }\n",
              "\n",
              "    .dataframe thead th {\n",
              "        text-align: right;\n",
              "    }\n",
              "</style>\n",
              "<table border=\"1\" class=\"dataframe\">\n",
              "  <thead>\n",
              "    <tr style=\"text-align: right;\">\n",
              "      <th></th>\n",
              "      <th>MIS_Status_numeric</th>\n",
              "    </tr>\n",
              "    <tr>\n",
              "      <th>DisbursementYear</th>\n",
              "      <th></th>\n",
              "    </tr>\n",
              "  </thead>\n",
              "  <tbody>\n",
              "    <tr>\n",
              "      <th>1966</th>\n",
              "      <td>1</td>\n",
              "    </tr>\n",
              "    <tr>\n",
              "      <th>1968</th>\n",
              "      <td>2</td>\n",
              "    </tr>\n",
              "    <tr>\n",
              "      <th>1969</th>\n",
              "      <td>3</td>\n",
              "    </tr>\n",
              "    <tr>\n",
              "      <th>1970</th>\n",
              "      <td>14</td>\n",
              "    </tr>\n",
              "    <tr>\n",
              "      <th>1971</th>\n",
              "      <td>15</td>\n",
              "    </tr>\n",
              "    <tr>\n",
              "      <th>1972</th>\n",
              "      <td>35</td>\n",
              "    </tr>\n",
              "    <tr>\n",
              "      <th>1973</th>\n",
              "      <td>45</td>\n",
              "    </tr>\n",
              "    <tr>\n",
              "      <th>1974</th>\n",
              "      <td>35</td>\n",
              "    </tr>\n",
              "    <tr>\n",
              "      <th>1975</th>\n",
              "      <td>46</td>\n",
              "    </tr>\n",
              "    <tr>\n",
              "      <th>1976</th>\n",
              "      <td>67</td>\n",
              "    </tr>\n",
              "    <tr>\n",
              "      <th>1977</th>\n",
              "      <td>130</td>\n",
              "    </tr>\n",
              "    <tr>\n",
              "      <th>1978</th>\n",
              "      <td>249</td>\n",
              "    </tr>\n",
              "    <tr>\n",
              "      <th>1979</th>\n",
              "      <td>336</td>\n",
              "    </tr>\n",
              "    <tr>\n",
              "      <th>1980</th>\n",
              "      <td>505</td>\n",
              "    </tr>\n",
              "    <tr>\n",
              "      <th>1981</th>\n",
              "      <td>454</td>\n",
              "    </tr>\n",
              "    <tr>\n",
              "      <th>1982</th>\n",
              "      <td>653</td>\n",
              "    </tr>\n",
              "    <tr>\n",
              "      <th>1983</th>\n",
              "      <td>1205</td>\n",
              "    </tr>\n",
              "    <tr>\n",
              "      <th>1984</th>\n",
              "      <td>1953</td>\n",
              "    </tr>\n",
              "    <tr>\n",
              "      <th>1985</th>\n",
              "      <td>2006</td>\n",
              "    </tr>\n",
              "    <tr>\n",
              "      <th>1986</th>\n",
              "      <td>2054</td>\n",
              "    </tr>\n",
              "    <tr>\n",
              "      <th>1987</th>\n",
              "      <td>2176</td>\n",
              "    </tr>\n",
              "    <tr>\n",
              "      <th>1988</th>\n",
              "      <td>2066</td>\n",
              "    </tr>\n",
              "    <tr>\n",
              "      <th>1989</th>\n",
              "      <td>11786</td>\n",
              "    </tr>\n",
              "    <tr>\n",
              "      <th>1990</th>\n",
              "      <td>14461</td>\n",
              "    </tr>\n",
              "    <tr>\n",
              "      <th>1991</th>\n",
              "      <td>15702</td>\n",
              "    </tr>\n",
              "    <tr>\n",
              "      <th>1992</th>\n",
              "      <td>19589</td>\n",
              "    </tr>\n",
              "    <tr>\n",
              "      <th>1993</th>\n",
              "      <td>22281</td>\n",
              "    </tr>\n",
              "    <tr>\n",
              "      <th>1994</th>\n",
              "      <td>30774</td>\n",
              "    </tr>\n",
              "    <tr>\n",
              "      <th>1995</th>\n",
              "      <td>44241</td>\n",
              "    </tr>\n",
              "    <tr>\n",
              "      <th>1996</th>\n",
              "      <td>37648</td>\n",
              "    </tr>\n",
              "    <tr>\n",
              "      <th>1997</th>\n",
              "      <td>40737</td>\n",
              "    </tr>\n",
              "    <tr>\n",
              "      <th>1998</th>\n",
              "      <td>35275</td>\n",
              "    </tr>\n",
              "    <tr>\n",
              "      <th>1999</th>\n",
              "      <td>39804</td>\n",
              "    </tr>\n",
              "    <tr>\n",
              "      <th>2000</th>\n",
              "      <td>39757</td>\n",
              "    </tr>\n",
              "    <tr>\n",
              "      <th>2001</th>\n",
              "      <td>37309</td>\n",
              "    </tr>\n",
              "    <tr>\n",
              "      <th>2002</th>\n",
              "      <td>45519</td>\n",
              "    </tr>\n",
              "    <tr>\n",
              "      <th>2003</th>\n",
              "      <td>59058</td>\n",
              "    </tr>\n",
              "    <tr>\n",
              "      <th>2004</th>\n",
              "      <td>70208</td>\n",
              "    </tr>\n",
              "    <tr>\n",
              "      <th>2005</th>\n",
              "      <td>74771</td>\n",
              "    </tr>\n",
              "    <tr>\n",
              "      <th>2006</th>\n",
              "      <td>79309</td>\n",
              "    </tr>\n",
              "    <tr>\n",
              "      <th>2007</th>\n",
              "      <td>68945</td>\n",
              "    </tr>\n",
              "    <tr>\n",
              "      <th>2008</th>\n",
              "      <td>37290</td>\n",
              "    </tr>\n",
              "    <tr>\n",
              "      <th>2009</th>\n",
              "      <td>21756</td>\n",
              "    </tr>\n",
              "    <tr>\n",
              "      <th>2010</th>\n",
              "      <td>16757</td>\n",
              "    </tr>\n",
              "    <tr>\n",
              "      <th>2011</th>\n",
              "      <td>11399</td>\n",
              "    </tr>\n",
              "    <tr>\n",
              "      <th>2012</th>\n",
              "      <td>5766</td>\n",
              "    </tr>\n",
              "    <tr>\n",
              "      <th>2013</th>\n",
              "      <td>2366</td>\n",
              "    </tr>\n",
              "    <tr>\n",
              "      <th>2014</th>\n",
              "      <td>234</td>\n",
              "    </tr>\n",
              "    <tr>\n",
              "      <th>2020</th>\n",
              "      <td>1</td>\n",
              "    </tr>\n",
              "  </tbody>\n",
              "</table>\n",
              "</div>\n",
              "      <button class=\"colab-df-convert\" onclick=\"convertToInteractive('df-34bb88e7-449f-48c9-a081-21c439797eb0')\"\n",
              "              title=\"Convert this dataframe to an interactive table.\"\n",
              "              style=\"display:none;\">\n",
              "        \n",
              "  <svg xmlns=\"http://www.w3.org/2000/svg\" height=\"24px\"viewBox=\"0 0 24 24\"\n",
              "       width=\"24px\">\n",
              "    <path d=\"M0 0h24v24H0V0z\" fill=\"none\"/>\n",
              "    <path d=\"M18.56 5.44l.94 2.06.94-2.06 2.06-.94-2.06-.94-.94-2.06-.94 2.06-2.06.94zm-11 1L8.5 8.5l.94-2.06 2.06-.94-2.06-.94L8.5 2.5l-.94 2.06-2.06.94zm10 10l.94 2.06.94-2.06 2.06-.94-2.06-.94-.94-2.06-.94 2.06-2.06.94z\"/><path d=\"M17.41 7.96l-1.37-1.37c-.4-.4-.92-.59-1.43-.59-.52 0-1.04.2-1.43.59L10.3 9.45l-7.72 7.72c-.78.78-.78 2.05 0 2.83L4 21.41c.39.39.9.59 1.41.59.51 0 1.02-.2 1.41-.59l7.78-7.78 2.81-2.81c.8-.78.8-2.07 0-2.86zM5.41 20L4 18.59l7.72-7.72 1.47 1.35L5.41 20z\"/>\n",
              "  </svg>\n",
              "      </button>\n",
              "      \n",
              "  <style>\n",
              "    .colab-df-container {\n",
              "      display:flex;\n",
              "      flex-wrap:wrap;\n",
              "      gap: 12px;\n",
              "    }\n",
              "\n",
              "    .colab-df-convert {\n",
              "      background-color: #E8F0FE;\n",
              "      border: none;\n",
              "      border-radius: 50%;\n",
              "      cursor: pointer;\n",
              "      display: none;\n",
              "      fill: #1967D2;\n",
              "      height: 32px;\n",
              "      padding: 0 0 0 0;\n",
              "      width: 32px;\n",
              "    }\n",
              "\n",
              "    .colab-df-convert:hover {\n",
              "      background-color: #E2EBFA;\n",
              "      box-shadow: 0px 1px 2px rgba(60, 64, 67, 0.3), 0px 1px 3px 1px rgba(60, 64, 67, 0.15);\n",
              "      fill: #174EA6;\n",
              "    }\n",
              "\n",
              "    [theme=dark] .colab-df-convert {\n",
              "      background-color: #3B4455;\n",
              "      fill: #D2E3FC;\n",
              "    }\n",
              "\n",
              "    [theme=dark] .colab-df-convert:hover {\n",
              "      background-color: #434B5C;\n",
              "      box-shadow: 0px 1px 3px 1px rgba(0, 0, 0, 0.15);\n",
              "      filter: drop-shadow(0px 1px 2px rgba(0, 0, 0, 0.3));\n",
              "      fill: #FFFFFF;\n",
              "    }\n",
              "  </style>\n",
              "\n",
              "      <script>\n",
              "        const buttonEl =\n",
              "          document.querySelector('#df-34bb88e7-449f-48c9-a081-21c439797eb0 button.colab-df-convert');\n",
              "        buttonEl.style.display =\n",
              "          google.colab.kernel.accessAllowed ? 'block' : 'none';\n",
              "\n",
              "        async function convertToInteractive(key) {\n",
              "          const element = document.querySelector('#df-34bb88e7-449f-48c9-a081-21c439797eb0');\n",
              "          const dataTable =\n",
              "            await google.colab.kernel.invokeFunction('convertToInteractive',\n",
              "                                                     [key], {});\n",
              "          if (!dataTable) return;\n",
              "\n",
              "          const docLinkHtml = 'Like what you see? Visit the ' +\n",
              "            '<a target=\"_blank\" href=https://colab.research.google.com/notebooks/data_table.ipynb>data table notebook</a>'\n",
              "            + ' to learn more about interactive tables.';\n",
              "          element.innerHTML = '';\n",
              "          dataTable['output_type'] = 'display_data';\n",
              "          await google.colab.output.renderOutput(dataTable, element);\n",
              "          const docLink = document.createElement('div');\n",
              "          docLink.innerHTML = docLinkHtml;\n",
              "          element.appendChild(docLink);\n",
              "        }\n",
              "      </script>\n",
              "    </div>\n",
              "  </div>\n",
              "  "
            ]
          },
          "metadata": {},
          "execution_count": 56
        }
      ]
    },
    {
      "cell_type": "markdown",
      "source": [
        "Encontramos que antes de 1989 la cantidad de préstamos por año no era mucho más que 2000, y en años anteriores a 1970 solo hubo 6 préstamos, por lo que entendemos que muy pocos se registraban. Probablemente, con mucho mayor énfasis en los que tenían problemas. En otras palabras, son una selección sesgada."
      ],
      "metadata": {
        "id": "Y6lZi4C8nXAY"
      }
    }
  ],
  "metadata": {
    "colab": {
      "provenance": [],
      "collapsed_sections": [
        "EY8DVx6jXNDo",
        "nRPVJxa1zmWE",
        "S6GsmAogoMpy",
        "g_auZtpcoVR7",
        "HyOFSwPTz0pk",
        "FGIVbj29kIEi",
        "FJEnj_E_0Ny8",
        "qaTmeJ1s0caf"
      ]
    },
    "kernelspec": {
      "display_name": "Python 3",
      "name": "python3"
    },
    "language_info": {
      "name": "python"
    }
  },
  "nbformat": 4,
  "nbformat_minor": 0
}
