{
  "cells": [
    {
      "cell_type": "markdown",
      "metadata": {
        "id": "CVSfN22vraGC"
      },
      "source": [
        "#SBA Guaranteed Loans"
      ]
    },
    {
      "cell_type": "markdown",
      "source": [
        "##Business Problem"
      ],
      "metadata": {
        "id": "McMV71aWYh7L"
      }
    },
    {
      "cell_type": "markdown",
      "source": [
        "### Commercial context and motivation"
      ],
      "metadata": {
        "id": "mhLtOC3yP5hW"
      }
    },
    {
      "cell_type": "markdown",
      "source": [
        "The U.S. SBA (United States Small Business Administration) was founded in 1953 on the principle of promoting and assisting small enterprises in the U.S. credit market. \n",
        "\n",
        "Small businesses have been a primary source of job creation in the United States; therefore, fostering small business formation and growth has social benefits by creating job opportunities and reducing unemployment. One way SBA assists these small business enterprises is through a loan guarantee program which is designed to encourage banks to grant loans to small businesses. SBA acts much like an insurance provider to reduce the risk for a bank by taking on some of the risk through guaranteeing a portion of the loan. In the case that a\n",
        "loan goes into default, SBA then covers the amount they guaranteed.\n",
        "\n",
        "There have been many success stories of start-ups receiving SBA loan guarantees such as FedEx and Apple Computer. However, there have also been stories of small\n",
        "businesses and/or start-ups that have defaulted on their SBA-guaranteed loans. The rate of default on these loans has been a source of controversy for decades. Conservative economists believe that credit markets perform efficiently\n",
        "without government participation. Supporters of SBA- guaranteed loans argue that the social benefits of job creation by those small businesses receiving government- guaranteed loans far outweigh the costs incurred from\n",
        "defaulted loans.\n",
        "\n",
        "Since SBA loans only guarantee a portion of the entire loan\n",
        "balance, banks will incur some losses if a small business defaults\n",
        "on its SBA-guaranteed loan. Therefore, banks are still faced\n",
        "with a difficult choice as to whether they should grant such a\n",
        "loan because of the high risk of default. One way to inform\n",
        "their decision making is through analyzing relevant historical\n",
        "data such as the datasets provided here.\n",
        "\n"
      ],
      "metadata": {
        "id": "ZE1T8t46CoKM"
      }
    },
    {
      "cell_type": "markdown",
      "source": [
        "Nowadays, the SBA decided to modernize and set up a Data Analytics team to improve its credit approval system. We are data scientists who are part of that team.\n"
      ],
      "metadata": {
        "id": "tjoiTrXm5Soy"
      }
    },
    {
      "cell_type": "markdown",
      "source": [
        "### Target"
      ],
      "metadata": {
        "id": "DQyzKx26Vzeq"
      }
    },
    {
      "cell_type": "markdown",
      "source": [
        "The business problem is to decide if a loan can be granted, with a reasonable probability that the requesting company can cancel it without inconvenience."
      ],
      "metadata": {
        "id": "-xA-UzqN5e4F"
      }
    },
    {
      "cell_type": "markdown",
      "source": [
        "###Business Target"
      ],
      "metadata": {
        "id": "fkpyi9ujP-rg"
      }
    },
    {
      "cell_type": "markdown",
      "source": [
        "What are the characteristics of the companies that best predict whether or not the company will have problems repaying the loan? What happens if a company takes several loans, is it more likely that one will have problems? How does the borrowing bank and the line of credit influence? Is there a relationship with the term of the loan? And with the year the loan was made? (Let's keep in mind that this last question is related to the economic and political context.)."
      ],
      "metadata": {
        "id": "2j80tw3qZBA2"
      }
    },
    {
      "cell_type": "markdown",
      "source": [
        "##Context and analytical approach"
      ],
      "metadata": {
        "id": "8TiwciUqmR8q"
      }
    },
    {
      "cell_type": "markdown",
      "source": [
        "The aim is to implement a machine learning model that, with the different values of the dataset fields, predicts if the company had difficulties in paying the loan, which can be called in a shorter way as \"defaulted loan\"."
      ],
      "metadata": {
        "id": "34A1MFbvYcFU"
      }
    },
    {
      "cell_type": "markdown",
      "source": [
        "###Dataset Fields"
      ],
      "metadata": {
        "id": "lesg66JBXaWA"
      }
    },
    {
      "cell_type": "markdown",
      "source": [
        "The fields found in the dataset are the following:\n",
        "\n",
        "**- LoanNr_ChkDgt**: Identifier – Primary key\n",
        "\n",
        "**- Name**: Borrower name\n",
        "\n",
        "**- City**: Borrower city\n",
        "\n",
        "**- State**: Borrower state (U.S.)\n",
        "\n",
        "**- Zip**: Borrower zip code\n",
        "\n",
        "**- Bank**: Bank name\n",
        "\n",
        "**- BankState**: State of the bank branch\n",
        "\n",
        "**- NAICS**:  North American industry classification system code\n",
        "\n",
        "**- ApprovalDate**: Date SBA commitment issued\n",
        "\n",
        "**- ApprovalFY**: Fiscal year of commitment\n",
        "\n",
        "**- Term**: Loan term in months\n",
        "\n",
        "**- NoEmp**: Number of business employees\n",
        "\n",
        "**- NewExist**: 1=Existing business, 2=New business\n",
        "\n",
        "**- CreateJob**: Number of jobs created\n",
        "\n",
        "**- RetainedJob**: Number of jobs retained\n",
        "\n",
        "**- FranchiseCode**: Franchise code, (00000 or 00001)=No franchise\n",
        "\n",
        "**- UrbanRural**: 1=Urban, 2=rural, 0=undefined\n",
        "\n",
        "**- RevLineCr**: Revolving line of credit: Y=Yes, N=No\n",
        "\n",
        "**- LowDoc**: LowDoc Loan Program: Y D Yes, N D No\n",
        "\n",
        "**- ChgOffDate**: The date when a loan is declared to be in default\n",
        "\n",
        "**- DisbursementDate**: Payment date (delivery of the loan)\n",
        "\n",
        "**- DisbursementGross**: Gross amount disbursed/paid (per loan delivery)\n",
        "\n",
        "**- BalanceGross**: Gross amount pending return (at the time of preparation of the dataset)\n",
        "\n",
        "**- MIS_Status**: Loan status: Loan status charged off=CHGOFF, Paid\n",
        "in full=PIF\n",
        "\n",
        "**- ChgOffPrinGr**: Charged-off amount (Amount canceled (not refunded))\n",
        "\n",
        "**- GrAppv**: Gross amount of loan approved by bank\n",
        "\n",
        "**- SBA_Appv**: SBA’s guaranteed amount of approved\n",
        "loan"
      ],
      "metadata": {
        "id": "4LqNeTj9np_k"
      }
    },
    {
      "cell_type": "markdown",
      "source": [
        "Since the dataset is labeled (the MIS_Status field indicates whether or not there were any issues with the loan), it is a supervised learning problem, more specifically, classification. The category we want to assign to future loans corresponds to the target variable, MIS_Status."
      ],
      "metadata": {
        "id": "3CzmHxW5hbUl"
      }
    },
    {
      "cell_type": "markdown",
      "source": [
        "### Hypothesis\n"
      ],
      "metadata": {
        "id": "EY8DVx6jXNDo"
      }
    },
    {
      "cell_type": "markdown",
      "source": [
        "The fields that we believe may be most relevant to the company requesting the loan are: 'State', 'NAICS', 'NoEmp', 'NewExist', 'UrbanRural'.\n",
        "\n",
        "Regarding the bank and the line of credit that seem most relevant to us are: 'BankState', 'RevLineCr', 'DisbursementGross', 'GrAppv', 'SBA_Appv'.\n",
        "\n",
        "To see if there is a relationship with terms, we are going to study the 'Term' field.\n",
        "\n",
        "Regarding the relationship with the years of the loans, we believe that the fields 'DisbursementDate', 'ApprovalDate', 'ApprovalFY' and 'ChgOffDate' are relevant, although the first three are probably very similar."
      ],
      "metadata": {
        "id": "YIIfjmGJd3Zi"
      }
    },
    {
      "cell_type": "markdown",
      "source": [
        "## Exploratory Data Analysis (EDA)"
      ],
      "metadata": {
        "id": "z0aMj-GOEFvC"
      }
    },
    {
      "cell_type": "markdown",
      "source": [
        "### First a contact with the dataset"
      ],
      "metadata": {
        "id": "VzTMEXyKBrte"
      }
    },
    {
      "cell_type": "code",
      "execution_count": null,
      "metadata": {
        "id": "pNCh-dNkv20m"
      },
      "outputs": [],
      "source": [
        "import pandas as pd\n",
        "import matplotlib.pyplot as plt\n",
        "import seaborn as sns\n",
        "import numpy as np\n",
        "from scipy.stats import ttest_ind\n",
        "pd.options.display.max_columns = 500\n"
      ]
    },
    {
      "cell_type": "code",
      "execution_count": null,
      "metadata": {
        "colab": {
          "base_uri": "https://localhost:8080/"
        },
        "id": "0N_Jh4A5aBQB",
        "outputId": "640f3ff3-a9a4-4680-883a-0e88486831e8"
      },
      "outputs": [
        {
          "output_type": "stream",
          "name": "stdout",
          "text": [
            "Mounted at /content/drive\n"
          ]
        }
      ],
      "source": [
        "from google.colab import drive # We mount a Google Drive folder where the dataset is.\n",
        "drive.mount('/content/drive', force_remount=True)\n",
        "\n",
        "path = \"/content/drive\" + \"/MyDrive\" + \"/Cursos/Coderhouse/Data Science/\"\n"
      ]
    },
    {
      "cell_type": "markdown",
      "source": [
        "We load the dataset."
      ],
      "metadata": {
        "id": "ZMKuRHkrAsNv"
      }
    },
    {
      "cell_type": "code",
      "source": [
        "loans = pd.read_csv(path + \"Should This Loan be Approved or Denied.csv\")"
      ],
      "metadata": {
        "colab": {
          "base_uri": "https://localhost:8080/"
        },
        "id": "bdG1t_7-ADr3",
        "outputId": "6b8c76e3-4fa2-4020-adc4-c0572d8fcb43"
      },
      "execution_count": null,
      "outputs": [
        {
          "output_type": "stream",
          "name": "stderr",
          "text": [
            "/usr/local/lib/python3.8/dist-packages/IPython/core/interactiveshell.py:3326: DtypeWarning: Columns (9) have mixed types.Specify dtype option on import or set low_memory=False.\n",
            "  exec(code_obj, self.user_global_ns, self.user_ns)\n"
          ]
        }
      ]
    },
    {
      "cell_type": "markdown",
      "source": [
        "We see that column 9 has several different types, let's take a better look at it."
      ],
      "metadata": {
        "id": "1v08FJJ5kTHd"
      }
    },
    {
      "cell_type": "code",
      "source": [
        "loans.info()"
      ],
      "metadata": {
        "colab": {
          "base_uri": "https://localhost:8080/"
        },
        "id": "VdHsFfKIAUcn",
        "outputId": "3b0d2aae-16b3-42a8-f418-a750d4e4f7e1"
      },
      "execution_count": null,
      "outputs": [
        {
          "output_type": "stream",
          "name": "stdout",
          "text": [
            "<class 'pandas.core.frame.DataFrame'>\n",
            "RangeIndex: 899164 entries, 0 to 899163\n",
            "Data columns (total 27 columns):\n",
            " #   Column             Non-Null Count   Dtype  \n",
            "---  ------             --------------   -----  \n",
            " 0   LoanNr_ChkDgt      899164 non-null  int64  \n",
            " 1   Name               899150 non-null  object \n",
            " 2   City               899134 non-null  object \n",
            " 3   State              899150 non-null  object \n",
            " 4   Zip                899164 non-null  int64  \n",
            " 5   Bank               897605 non-null  object \n",
            " 6   BankState          897598 non-null  object \n",
            " 7   NAICS              899164 non-null  int64  \n",
            " 8   ApprovalDate       899164 non-null  object \n",
            " 9   ApprovalFY         899164 non-null  object \n",
            " 10  Term               899164 non-null  int64  \n",
            " 11  NoEmp              899164 non-null  int64  \n",
            " 12  NewExist           899028 non-null  float64\n",
            " 13  CreateJob          899164 non-null  int64  \n",
            " 14  RetainedJob        899164 non-null  int64  \n",
            " 15  FranchiseCode      899164 non-null  int64  \n",
            " 16  UrbanRural         899164 non-null  int64  \n",
            " 17  RevLineCr          894636 non-null  object \n",
            " 18  LowDoc             896582 non-null  object \n",
            " 19  ChgOffDate         162699 non-null  object \n",
            " 20  DisbursementDate   896796 non-null  object \n",
            " 21  DisbursementGross  899164 non-null  object \n",
            " 22  BalanceGross       899164 non-null  object \n",
            " 23  MIS_Status         897167 non-null  object \n",
            " 24  ChgOffPrinGr       899164 non-null  object \n",
            " 25  GrAppv             899164 non-null  object \n",
            " 26  SBA_Appv           899164 non-null  object \n",
            "dtypes: float64(1), int64(9), object(17)\n",
            "memory usage: 185.2+ MB\n"
          ]
        }
      ]
    },
    {
      "cell_type": "markdown",
      "source": [
        "The info statement doesn't detect the problem, but we can look better:"
      ],
      "metadata": {
        "id": "fER5X4SZMEOB"
      }
    },
    {
      "cell_type": "code",
      "source": [
        "for column in loans.columns:\n",
        "  print(column, ' ---> ', pd.api.types.infer_dtype(loans[column]))"
      ],
      "metadata": {
        "id": "9JLnrZrpkmkA",
        "colab": {
          "base_uri": "https://localhost:8080/"
        },
        "outputId": "4d087e8b-bfb4-4223-c0f3-be26c6ae88ca"
      },
      "execution_count": null,
      "outputs": [
        {
          "output_type": "stream",
          "name": "stdout",
          "text": [
            "LoanNr_ChkDgt  --->  integer\n",
            "Name  --->  string\n",
            "City  --->  string\n",
            "State  --->  string\n",
            "Zip  --->  integer\n",
            "Bank  --->  string\n",
            "BankState  --->  string\n",
            "NAICS  --->  integer\n",
            "ApprovalDate  --->  string\n",
            "ApprovalFY  --->  mixed-integer\n",
            "Term  --->  integer\n",
            "NoEmp  --->  integer\n",
            "NewExist  --->  floating\n",
            "CreateJob  --->  integer\n",
            "RetainedJob  --->  integer\n",
            "FranchiseCode  --->  integer\n",
            "UrbanRural  --->  integer\n",
            "RevLineCr  --->  string\n",
            "LowDoc  --->  string\n",
            "ChgOffDate  --->  string\n",
            "DisbursementDate  --->  string\n",
            "DisbursementGross  --->  string\n",
            "BalanceGross  --->  string\n",
            "MIS_Status  --->  string\n",
            "ChgOffPrinGr  --->  string\n",
            "GrAppv  --->  string\n",
            "SBA_Appv  --->  string\n"
          ]
        }
      ]
    },
    {
      "cell_type": "markdown",
      "source": [
        "So we corroborate that there is a problem. It would have to be a date or an integer."
      ],
      "metadata": {
        "id": "zppAJwIcMr54"
      }
    },
    {
      "cell_type": "markdown",
      "source": [
        "-------------------------------------------------------------------------------------"
      ],
      "metadata": {
        "id": "1Q6OOcBNz4_A"
      }
    },
    {
      "cell_type": "markdown",
      "source": [
        "Looking back at the output of the info command, we see that there are several columns with null values, although they are few in percentage terms. The only exception is the ChgOffDate column, which has quite a few and is logical, because this column is the date on which the customer began to default on the debt and therefore only has values if the customer had problems paying.\n",
        "The columns with null values are: Name, City, State, Bank, BankState, NewExist, RevLineCr, LowDoc, ChgOffDate, DisbursementDate, MIS_Status.\n",
        "\n",
        "Let's explore the data a bit more:"
      ],
      "metadata": {
        "id": "DdREjbUKkiR-"
      }
    },
    {
      "cell_type": "code",
      "execution_count": null,
      "metadata": {
        "id": "iqJSHcjN5gd5",
        "colab": {
          "base_uri": "https://localhost:8080/",
          "height": 1000
        },
        "outputId": "4ae5b5a2-8dd0-4ca1-8d31-140010147ae3"
      },
      "outputs": [
        {
          "output_type": "execute_result",
          "data": {
            "text/plain": [
              "                      count  unique                         top     freq  \\\n",
              "LoanNr_ChkDgt      899164.0     NaN                         NaN      NaN   \n",
              "Name                 899150  779583                      SUBWAY     1269   \n",
              "City                 899134   32581                 LOS ANGELES    11558   \n",
              "State                899150      51                          CA   130619   \n",
              "Zip                899164.0     NaN                         NaN      NaN   \n",
              "Bank                 897605    5802  BANK OF AMERICA NATL ASSOC    86853   \n",
              "BankState            897598      56                          CA   118116   \n",
              "NAICS              899164.0     NaN                         NaN      NaN   \n",
              "ApprovalDate         899164    9859                    7-Jul-93     1131   \n",
              "ApprovalFY         899164.0    70.0                      2006.0  76040.0   \n",
              "Term               899164.0     NaN                         NaN      NaN   \n",
              "NoEmp              899164.0     NaN                         NaN      NaN   \n",
              "NewExist           899028.0     NaN                         NaN      NaN   \n",
              "CreateJob          899164.0     NaN                         NaN      NaN   \n",
              "RetainedJob        899164.0     NaN                         NaN      NaN   \n",
              "FranchiseCode      899164.0     NaN                         NaN      NaN   \n",
              "UrbanRural         899164.0     NaN                         NaN      NaN   \n",
              "RevLineCr            894636      18                           N   420288   \n",
              "LowDoc               896582       8                           N   782822   \n",
              "ChgOffDate           162699    6448                   13-Mar-10      734   \n",
              "DisbursementDate     896796    8472                   31-Jul-95    10371   \n",
              "DisbursementGross    899164  118859                 $50,000.00     43787   \n",
              "BalanceGross         899164      15                      $0.00    899150   \n",
              "MIS_Status           897167       2                       P I F   739609   \n",
              "ChgOffPrinGr         899164   83165                      $0.00    737152   \n",
              "GrAppv               899164   22128                 $50,000.00     69394   \n",
              "SBA_Appv             899164   38326                 $25,000.00     49579   \n",
              "\n",
              "                               mean               std           min  \\\n",
              "LoanNr_ChkDgt      4772612310.59431  2538175037.45304  1000014003.0   \n",
              "Name                            NaN               NaN           NaN   \n",
              "City                            NaN               NaN           NaN   \n",
              "State                           NaN               NaN           NaN   \n",
              "Zip                    53804.391241      31184.159152           0.0   \n",
              "Bank                            NaN               NaN           NaN   \n",
              "BankState                       NaN               NaN           NaN   \n",
              "NAICS                 398660.950146      263318.31276           0.0   \n",
              "ApprovalDate                    NaN               NaN           NaN   \n",
              "ApprovalFY                      NaN               NaN           NaN   \n",
              "Term                     110.773078         78.857305           0.0   \n",
              "NoEmp                     11.411353         74.108196           0.0   \n",
              "NewExist                   1.280404           0.45175           0.0   \n",
              "CreateJob                  8.430376        236.688165           0.0   \n",
              "RetainedJob               10.797257          237.1206           0.0   \n",
              "FranchiseCode           2753.725933      12758.019136           0.0   \n",
              "UrbanRural                 0.757748          0.646436           0.0   \n",
              "RevLineCr                       NaN               NaN           NaN   \n",
              "LowDoc                          NaN               NaN           NaN   \n",
              "ChgOffDate                      NaN               NaN           NaN   \n",
              "DisbursementDate                NaN               NaN           NaN   \n",
              "DisbursementGross               NaN               NaN           NaN   \n",
              "BalanceGross                    NaN               NaN           NaN   \n",
              "MIS_Status                      NaN               NaN           NaN   \n",
              "ChgOffPrinGr                    NaN               NaN           NaN   \n",
              "GrAppv                          NaN               NaN           NaN   \n",
              "SBA_Appv                        NaN               NaN           NaN   \n",
              "\n",
              "                            25%           50%            75%           max  \n",
              "LoanNr_ChkDgt      2589757508.5  4361439006.0  6904626504.75  9996003010.0  \n",
              "Name                        NaN           NaN            NaN           NaN  \n",
              "City                        NaN           NaN            NaN           NaN  \n",
              "State                       NaN           NaN            NaN           NaN  \n",
              "Zip                     27587.0       55410.0        83704.0       99999.0  \n",
              "Bank                        NaN           NaN            NaN           NaN  \n",
              "BankState                   NaN           NaN            NaN           NaN  \n",
              "NAICS                  235210.0      445310.0       561730.0      928120.0  \n",
              "ApprovalDate                NaN           NaN            NaN           NaN  \n",
              "ApprovalFY                  NaN           NaN            NaN           NaN  \n",
              "Term                       60.0          84.0          120.0         569.0  \n",
              "NoEmp                       2.0           4.0           10.0        9999.0  \n",
              "NewExist                    1.0           1.0            2.0           2.0  \n",
              "CreateJob                   0.0           0.0            1.0        8800.0  \n",
              "RetainedJob                 0.0           1.0            4.0        9500.0  \n",
              "FranchiseCode               1.0           1.0            1.0       99999.0  \n",
              "UrbanRural                  0.0           1.0            1.0           2.0  \n",
              "RevLineCr                   NaN           NaN            NaN           NaN  \n",
              "LowDoc                      NaN           NaN            NaN           NaN  \n",
              "ChgOffDate                  NaN           NaN            NaN           NaN  \n",
              "DisbursementDate            NaN           NaN            NaN           NaN  \n",
              "DisbursementGross           NaN           NaN            NaN           NaN  \n",
              "BalanceGross                NaN           NaN            NaN           NaN  \n",
              "MIS_Status                  NaN           NaN            NaN           NaN  \n",
              "ChgOffPrinGr                NaN           NaN            NaN           NaN  \n",
              "GrAppv                      NaN           NaN            NaN           NaN  \n",
              "SBA_Appv                    NaN           NaN            NaN           NaN  "
            ],
            "text/html": [
              "\n",
              "  <div id=\"df-4df6c825-7cb5-4264-a393-69bba74d3949\">\n",
              "    <div class=\"colab-df-container\">\n",
              "      <div>\n",
              "<style scoped>\n",
              "    .dataframe tbody tr th:only-of-type {\n",
              "        vertical-align: middle;\n",
              "    }\n",
              "\n",
              "    .dataframe tbody tr th {\n",
              "        vertical-align: top;\n",
              "    }\n",
              "\n",
              "    .dataframe thead th {\n",
              "        text-align: right;\n",
              "    }\n",
              "</style>\n",
              "<table border=\"1\" class=\"dataframe\">\n",
              "  <thead>\n",
              "    <tr style=\"text-align: right;\">\n",
              "      <th></th>\n",
              "      <th>count</th>\n",
              "      <th>unique</th>\n",
              "      <th>top</th>\n",
              "      <th>freq</th>\n",
              "      <th>mean</th>\n",
              "      <th>std</th>\n",
              "      <th>min</th>\n",
              "      <th>25%</th>\n",
              "      <th>50%</th>\n",
              "      <th>75%</th>\n",
              "      <th>max</th>\n",
              "    </tr>\n",
              "  </thead>\n",
              "  <tbody>\n",
              "    <tr>\n",
              "      <th>LoanNr_ChkDgt</th>\n",
              "      <td>899164.0</td>\n",
              "      <td>NaN</td>\n",
              "      <td>NaN</td>\n",
              "      <td>NaN</td>\n",
              "      <td>4772612310.59431</td>\n",
              "      <td>2538175037.45304</td>\n",
              "      <td>1000014003.0</td>\n",
              "      <td>2589757508.5</td>\n",
              "      <td>4361439006.0</td>\n",
              "      <td>6904626504.75</td>\n",
              "      <td>9996003010.0</td>\n",
              "    </tr>\n",
              "    <tr>\n",
              "      <th>Name</th>\n",
              "      <td>899150</td>\n",
              "      <td>779583</td>\n",
              "      <td>SUBWAY</td>\n",
              "      <td>1269</td>\n",
              "      <td>NaN</td>\n",
              "      <td>NaN</td>\n",
              "      <td>NaN</td>\n",
              "      <td>NaN</td>\n",
              "      <td>NaN</td>\n",
              "      <td>NaN</td>\n",
              "      <td>NaN</td>\n",
              "    </tr>\n",
              "    <tr>\n",
              "      <th>City</th>\n",
              "      <td>899134</td>\n",
              "      <td>32581</td>\n",
              "      <td>LOS ANGELES</td>\n",
              "      <td>11558</td>\n",
              "      <td>NaN</td>\n",
              "      <td>NaN</td>\n",
              "      <td>NaN</td>\n",
              "      <td>NaN</td>\n",
              "      <td>NaN</td>\n",
              "      <td>NaN</td>\n",
              "      <td>NaN</td>\n",
              "    </tr>\n",
              "    <tr>\n",
              "      <th>State</th>\n",
              "      <td>899150</td>\n",
              "      <td>51</td>\n",
              "      <td>CA</td>\n",
              "      <td>130619</td>\n",
              "      <td>NaN</td>\n",
              "      <td>NaN</td>\n",
              "      <td>NaN</td>\n",
              "      <td>NaN</td>\n",
              "      <td>NaN</td>\n",
              "      <td>NaN</td>\n",
              "      <td>NaN</td>\n",
              "    </tr>\n",
              "    <tr>\n",
              "      <th>Zip</th>\n",
              "      <td>899164.0</td>\n",
              "      <td>NaN</td>\n",
              "      <td>NaN</td>\n",
              "      <td>NaN</td>\n",
              "      <td>53804.391241</td>\n",
              "      <td>31184.159152</td>\n",
              "      <td>0.0</td>\n",
              "      <td>27587.0</td>\n",
              "      <td>55410.0</td>\n",
              "      <td>83704.0</td>\n",
              "      <td>99999.0</td>\n",
              "    </tr>\n",
              "    <tr>\n",
              "      <th>Bank</th>\n",
              "      <td>897605</td>\n",
              "      <td>5802</td>\n",
              "      <td>BANK OF AMERICA NATL ASSOC</td>\n",
              "      <td>86853</td>\n",
              "      <td>NaN</td>\n",
              "      <td>NaN</td>\n",
              "      <td>NaN</td>\n",
              "      <td>NaN</td>\n",
              "      <td>NaN</td>\n",
              "      <td>NaN</td>\n",
              "      <td>NaN</td>\n",
              "    </tr>\n",
              "    <tr>\n",
              "      <th>BankState</th>\n",
              "      <td>897598</td>\n",
              "      <td>56</td>\n",
              "      <td>CA</td>\n",
              "      <td>118116</td>\n",
              "      <td>NaN</td>\n",
              "      <td>NaN</td>\n",
              "      <td>NaN</td>\n",
              "      <td>NaN</td>\n",
              "      <td>NaN</td>\n",
              "      <td>NaN</td>\n",
              "      <td>NaN</td>\n",
              "    </tr>\n",
              "    <tr>\n",
              "      <th>NAICS</th>\n",
              "      <td>899164.0</td>\n",
              "      <td>NaN</td>\n",
              "      <td>NaN</td>\n",
              "      <td>NaN</td>\n",
              "      <td>398660.950146</td>\n",
              "      <td>263318.31276</td>\n",
              "      <td>0.0</td>\n",
              "      <td>235210.0</td>\n",
              "      <td>445310.0</td>\n",
              "      <td>561730.0</td>\n",
              "      <td>928120.0</td>\n",
              "    </tr>\n",
              "    <tr>\n",
              "      <th>ApprovalDate</th>\n",
              "      <td>899164</td>\n",
              "      <td>9859</td>\n",
              "      <td>7-Jul-93</td>\n",
              "      <td>1131</td>\n",
              "      <td>NaN</td>\n",
              "      <td>NaN</td>\n",
              "      <td>NaN</td>\n",
              "      <td>NaN</td>\n",
              "      <td>NaN</td>\n",
              "      <td>NaN</td>\n",
              "      <td>NaN</td>\n",
              "    </tr>\n",
              "    <tr>\n",
              "      <th>ApprovalFY</th>\n",
              "      <td>899164.0</td>\n",
              "      <td>70.0</td>\n",
              "      <td>2006.0</td>\n",
              "      <td>76040.0</td>\n",
              "      <td>NaN</td>\n",
              "      <td>NaN</td>\n",
              "      <td>NaN</td>\n",
              "      <td>NaN</td>\n",
              "      <td>NaN</td>\n",
              "      <td>NaN</td>\n",
              "      <td>NaN</td>\n",
              "    </tr>\n",
              "    <tr>\n",
              "      <th>Term</th>\n",
              "      <td>899164.0</td>\n",
              "      <td>NaN</td>\n",
              "      <td>NaN</td>\n",
              "      <td>NaN</td>\n",
              "      <td>110.773078</td>\n",
              "      <td>78.857305</td>\n",
              "      <td>0.0</td>\n",
              "      <td>60.0</td>\n",
              "      <td>84.0</td>\n",
              "      <td>120.0</td>\n",
              "      <td>569.0</td>\n",
              "    </tr>\n",
              "    <tr>\n",
              "      <th>NoEmp</th>\n",
              "      <td>899164.0</td>\n",
              "      <td>NaN</td>\n",
              "      <td>NaN</td>\n",
              "      <td>NaN</td>\n",
              "      <td>11.411353</td>\n",
              "      <td>74.108196</td>\n",
              "      <td>0.0</td>\n",
              "      <td>2.0</td>\n",
              "      <td>4.0</td>\n",
              "      <td>10.0</td>\n",
              "      <td>9999.0</td>\n",
              "    </tr>\n",
              "    <tr>\n",
              "      <th>NewExist</th>\n",
              "      <td>899028.0</td>\n",
              "      <td>NaN</td>\n",
              "      <td>NaN</td>\n",
              "      <td>NaN</td>\n",
              "      <td>1.280404</td>\n",
              "      <td>0.45175</td>\n",
              "      <td>0.0</td>\n",
              "      <td>1.0</td>\n",
              "      <td>1.0</td>\n",
              "      <td>2.0</td>\n",
              "      <td>2.0</td>\n",
              "    </tr>\n",
              "    <tr>\n",
              "      <th>CreateJob</th>\n",
              "      <td>899164.0</td>\n",
              "      <td>NaN</td>\n",
              "      <td>NaN</td>\n",
              "      <td>NaN</td>\n",
              "      <td>8.430376</td>\n",
              "      <td>236.688165</td>\n",
              "      <td>0.0</td>\n",
              "      <td>0.0</td>\n",
              "      <td>0.0</td>\n",
              "      <td>1.0</td>\n",
              "      <td>8800.0</td>\n",
              "    </tr>\n",
              "    <tr>\n",
              "      <th>RetainedJob</th>\n",
              "      <td>899164.0</td>\n",
              "      <td>NaN</td>\n",
              "      <td>NaN</td>\n",
              "      <td>NaN</td>\n",
              "      <td>10.797257</td>\n",
              "      <td>237.1206</td>\n",
              "      <td>0.0</td>\n",
              "      <td>0.0</td>\n",
              "      <td>1.0</td>\n",
              "      <td>4.0</td>\n",
              "      <td>9500.0</td>\n",
              "    </tr>\n",
              "    <tr>\n",
              "      <th>FranchiseCode</th>\n",
              "      <td>899164.0</td>\n",
              "      <td>NaN</td>\n",
              "      <td>NaN</td>\n",
              "      <td>NaN</td>\n",
              "      <td>2753.725933</td>\n",
              "      <td>12758.019136</td>\n",
              "      <td>0.0</td>\n",
              "      <td>1.0</td>\n",
              "      <td>1.0</td>\n",
              "      <td>1.0</td>\n",
              "      <td>99999.0</td>\n",
              "    </tr>\n",
              "    <tr>\n",
              "      <th>UrbanRural</th>\n",
              "      <td>899164.0</td>\n",
              "      <td>NaN</td>\n",
              "      <td>NaN</td>\n",
              "      <td>NaN</td>\n",
              "      <td>0.757748</td>\n",
              "      <td>0.646436</td>\n",
              "      <td>0.0</td>\n",
              "      <td>0.0</td>\n",
              "      <td>1.0</td>\n",
              "      <td>1.0</td>\n",
              "      <td>2.0</td>\n",
              "    </tr>\n",
              "    <tr>\n",
              "      <th>RevLineCr</th>\n",
              "      <td>894636</td>\n",
              "      <td>18</td>\n",
              "      <td>N</td>\n",
              "      <td>420288</td>\n",
              "      <td>NaN</td>\n",
              "      <td>NaN</td>\n",
              "      <td>NaN</td>\n",
              "      <td>NaN</td>\n",
              "      <td>NaN</td>\n",
              "      <td>NaN</td>\n",
              "      <td>NaN</td>\n",
              "    </tr>\n",
              "    <tr>\n",
              "      <th>LowDoc</th>\n",
              "      <td>896582</td>\n",
              "      <td>8</td>\n",
              "      <td>N</td>\n",
              "      <td>782822</td>\n",
              "      <td>NaN</td>\n",
              "      <td>NaN</td>\n",
              "      <td>NaN</td>\n",
              "      <td>NaN</td>\n",
              "      <td>NaN</td>\n",
              "      <td>NaN</td>\n",
              "      <td>NaN</td>\n",
              "    </tr>\n",
              "    <tr>\n",
              "      <th>ChgOffDate</th>\n",
              "      <td>162699</td>\n",
              "      <td>6448</td>\n",
              "      <td>13-Mar-10</td>\n",
              "      <td>734</td>\n",
              "      <td>NaN</td>\n",
              "      <td>NaN</td>\n",
              "      <td>NaN</td>\n",
              "      <td>NaN</td>\n",
              "      <td>NaN</td>\n",
              "      <td>NaN</td>\n",
              "      <td>NaN</td>\n",
              "    </tr>\n",
              "    <tr>\n",
              "      <th>DisbursementDate</th>\n",
              "      <td>896796</td>\n",
              "      <td>8472</td>\n",
              "      <td>31-Jul-95</td>\n",
              "      <td>10371</td>\n",
              "      <td>NaN</td>\n",
              "      <td>NaN</td>\n",
              "      <td>NaN</td>\n",
              "      <td>NaN</td>\n",
              "      <td>NaN</td>\n",
              "      <td>NaN</td>\n",
              "      <td>NaN</td>\n",
              "    </tr>\n",
              "    <tr>\n",
              "      <th>DisbursementGross</th>\n",
              "      <td>899164</td>\n",
              "      <td>118859</td>\n",
              "      <td>$50,000.00</td>\n",
              "      <td>43787</td>\n",
              "      <td>NaN</td>\n",
              "      <td>NaN</td>\n",
              "      <td>NaN</td>\n",
              "      <td>NaN</td>\n",
              "      <td>NaN</td>\n",
              "      <td>NaN</td>\n",
              "      <td>NaN</td>\n",
              "    </tr>\n",
              "    <tr>\n",
              "      <th>BalanceGross</th>\n",
              "      <td>899164</td>\n",
              "      <td>15</td>\n",
              "      <td>$0.00</td>\n",
              "      <td>899150</td>\n",
              "      <td>NaN</td>\n",
              "      <td>NaN</td>\n",
              "      <td>NaN</td>\n",
              "      <td>NaN</td>\n",
              "      <td>NaN</td>\n",
              "      <td>NaN</td>\n",
              "      <td>NaN</td>\n",
              "    </tr>\n",
              "    <tr>\n",
              "      <th>MIS_Status</th>\n",
              "      <td>897167</td>\n",
              "      <td>2</td>\n",
              "      <td>P I F</td>\n",
              "      <td>739609</td>\n",
              "      <td>NaN</td>\n",
              "      <td>NaN</td>\n",
              "      <td>NaN</td>\n",
              "      <td>NaN</td>\n",
              "      <td>NaN</td>\n",
              "      <td>NaN</td>\n",
              "      <td>NaN</td>\n",
              "    </tr>\n",
              "    <tr>\n",
              "      <th>ChgOffPrinGr</th>\n",
              "      <td>899164</td>\n",
              "      <td>83165</td>\n",
              "      <td>$0.00</td>\n",
              "      <td>737152</td>\n",
              "      <td>NaN</td>\n",
              "      <td>NaN</td>\n",
              "      <td>NaN</td>\n",
              "      <td>NaN</td>\n",
              "      <td>NaN</td>\n",
              "      <td>NaN</td>\n",
              "      <td>NaN</td>\n",
              "    </tr>\n",
              "    <tr>\n",
              "      <th>GrAppv</th>\n",
              "      <td>899164</td>\n",
              "      <td>22128</td>\n",
              "      <td>$50,000.00</td>\n",
              "      <td>69394</td>\n",
              "      <td>NaN</td>\n",
              "      <td>NaN</td>\n",
              "      <td>NaN</td>\n",
              "      <td>NaN</td>\n",
              "      <td>NaN</td>\n",
              "      <td>NaN</td>\n",
              "      <td>NaN</td>\n",
              "    </tr>\n",
              "    <tr>\n",
              "      <th>SBA_Appv</th>\n",
              "      <td>899164</td>\n",
              "      <td>38326</td>\n",
              "      <td>$25,000.00</td>\n",
              "      <td>49579</td>\n",
              "      <td>NaN</td>\n",
              "      <td>NaN</td>\n",
              "      <td>NaN</td>\n",
              "      <td>NaN</td>\n",
              "      <td>NaN</td>\n",
              "      <td>NaN</td>\n",
              "      <td>NaN</td>\n",
              "    </tr>\n",
              "  </tbody>\n",
              "</table>\n",
              "</div>\n",
              "      <button class=\"colab-df-convert\" onclick=\"convertToInteractive('df-4df6c825-7cb5-4264-a393-69bba74d3949')\"\n",
              "              title=\"Convert this dataframe to an interactive table.\"\n",
              "              style=\"display:none;\">\n",
              "        \n",
              "  <svg xmlns=\"http://www.w3.org/2000/svg\" height=\"24px\"viewBox=\"0 0 24 24\"\n",
              "       width=\"24px\">\n",
              "    <path d=\"M0 0h24v24H0V0z\" fill=\"none\"/>\n",
              "    <path d=\"M18.56 5.44l.94 2.06.94-2.06 2.06-.94-2.06-.94-.94-2.06-.94 2.06-2.06.94zm-11 1L8.5 8.5l.94-2.06 2.06-.94-2.06-.94L8.5 2.5l-.94 2.06-2.06.94zm10 10l.94 2.06.94-2.06 2.06-.94-2.06-.94-.94-2.06-.94 2.06-2.06.94z\"/><path d=\"M17.41 7.96l-1.37-1.37c-.4-.4-.92-.59-1.43-.59-.52 0-1.04.2-1.43.59L10.3 9.45l-7.72 7.72c-.78.78-.78 2.05 0 2.83L4 21.41c.39.39.9.59 1.41.59.51 0 1.02-.2 1.41-.59l7.78-7.78 2.81-2.81c.8-.78.8-2.07 0-2.86zM5.41 20L4 18.59l7.72-7.72 1.47 1.35L5.41 20z\"/>\n",
              "  </svg>\n",
              "      </button>\n",
              "      \n",
              "  <style>\n",
              "    .colab-df-container {\n",
              "      display:flex;\n",
              "      flex-wrap:wrap;\n",
              "      gap: 12px;\n",
              "    }\n",
              "\n",
              "    .colab-df-convert {\n",
              "      background-color: #E8F0FE;\n",
              "      border: none;\n",
              "      border-radius: 50%;\n",
              "      cursor: pointer;\n",
              "      display: none;\n",
              "      fill: #1967D2;\n",
              "      height: 32px;\n",
              "      padding: 0 0 0 0;\n",
              "      width: 32px;\n",
              "    }\n",
              "\n",
              "    .colab-df-convert:hover {\n",
              "      background-color: #E2EBFA;\n",
              "      box-shadow: 0px 1px 2px rgba(60, 64, 67, 0.3), 0px 1px 3px 1px rgba(60, 64, 67, 0.15);\n",
              "      fill: #174EA6;\n",
              "    }\n",
              "\n",
              "    [theme=dark] .colab-df-convert {\n",
              "      background-color: #3B4455;\n",
              "      fill: #D2E3FC;\n",
              "    }\n",
              "\n",
              "    [theme=dark] .colab-df-convert:hover {\n",
              "      background-color: #434B5C;\n",
              "      box-shadow: 0px 1px 3px 1px rgba(0, 0, 0, 0.15);\n",
              "      filter: drop-shadow(0px 1px 2px rgba(0, 0, 0, 0.3));\n",
              "      fill: #FFFFFF;\n",
              "    }\n",
              "  </style>\n",
              "\n",
              "      <script>\n",
              "        const buttonEl =\n",
              "          document.querySelector('#df-4df6c825-7cb5-4264-a393-69bba74d3949 button.colab-df-convert');\n",
              "        buttonEl.style.display =\n",
              "          google.colab.kernel.accessAllowed ? 'block' : 'none';\n",
              "\n",
              "        async function convertToInteractive(key) {\n",
              "          const element = document.querySelector('#df-4df6c825-7cb5-4264-a393-69bba74d3949');\n",
              "          const dataTable =\n",
              "            await google.colab.kernel.invokeFunction('convertToInteractive',\n",
              "                                                     [key], {});\n",
              "          if (!dataTable) return;\n",
              "\n",
              "          const docLinkHtml = 'Like what you see? Visit the ' +\n",
              "            '<a target=\"_blank\" href=https://colab.research.google.com/notebooks/data_table.ipynb>data table notebook</a>'\n",
              "            + ' to learn more about interactive tables.';\n",
              "          element.innerHTML = '';\n",
              "          dataTable['output_type'] = 'display_data';\n",
              "          await google.colab.output.renderOutput(dataTable, element);\n",
              "          const docLink = document.createElement('div');\n",
              "          docLink.innerHTML = docLinkHtml;\n",
              "          element.appendChild(docLink);\n",
              "        }\n",
              "      </script>\n",
              "    </div>\n",
              "  </div>\n",
              "  "
            ]
          },
          "metadata": {},
          "execution_count": 6
        }
      ],
      "source": [
        "loans.describe(include = 'all').T\n"
      ]
    },
    {
      "cell_type": "code",
      "execution_count": null,
      "metadata": {
        "colab": {
          "base_uri": "https://localhost:8080/",
          "height": 739
        },
        "id": "ziMa44Y7rJOe",
        "outputId": "2f52817f-123e-478c-f493-606f1fa418ea"
      },
      "outputs": [
        {
          "output_type": "execute_result",
          "data": {
            "text/plain": [
              "   LoanNr_ChkDgt                            Name            City State    Zip  \\\n",
              "0     1000014003                  ABC HOBBYCRAFT      EVANSVILLE    IN  47711   \n",
              "1     1000024006     LANDMARK BAR & GRILLE (THE)       NEW PARIS    IN  46526   \n",
              "2     1000034009           WHITLOCK DDS, TODD M.     BLOOMINGTON    IN  47401   \n",
              "3     1000044001   BIG BUCKS PAWN & JEWELRY, LLC    BROKEN ARROW    OK  74012   \n",
              "4     1000054004     ANASTASIA CONFECTIONS, INC.         ORLANDO    FL  32801   \n",
              "5     1000084002  B&T SCREW MACHINE COMPANY, INC      PLAINVILLE    CT   6062   \n",
              "6     1000093009   MIDDLE ATLANTIC SPORTS CO INC           UNION    NJ   7083   \n",
              "7     1000094005                 WEAVER PRODUCTS     SUMMERFIELD    FL  34491   \n",
              "8     1000104006                TURTLE BEACH INN  PORT SAINT JOE    FL  32456   \n",
              "9     1000124001         INTEXT BUILDING SYS LLC     GLASTONBURY    CT   6073   \n",
              "\n",
              "                            Bank BankState   NAICS ApprovalDate ApprovalFY  \\\n",
              "0               FIFTH THIRD BANK        OH  451120    28-Feb-97       1997   \n",
              "1                1ST SOURCE BANK        IN  722410    28-Feb-97       1997   \n",
              "2        GRANT COUNTY STATE BANK        IN  621210    28-Feb-97       1997   \n",
              "3  1ST NATL BK & TR CO OF BROKEN        OK       0    28-Feb-97       1997   \n",
              "4        FLORIDA BUS. DEVEL CORP        FL       0    28-Feb-97       1997   \n",
              "5  TD BANK, NATIONAL ASSOCIATION        DE  332721    28-Feb-97       1997   \n",
              "6    WELLS FARGO BANK NATL ASSOC        SD       0     2-Jun-80       1980   \n",
              "7                   REGIONS BANK        AL  811118    28-Feb-97       1997   \n",
              "8                CENTENNIAL BANK        FL  721310    28-Feb-97       1997   \n",
              "9        WEBSTER BANK NATL ASSOC        CT       0    28-Feb-97       1997   \n",
              "\n",
              "   Term  NoEmp  NewExist  CreateJob  RetainedJob  FranchiseCode  UrbanRural  \\\n",
              "0    84      4       2.0          0            0              1           0   \n",
              "1    60      2       2.0          0            0              1           0   \n",
              "2   180      7       1.0          0            0              1           0   \n",
              "3    60      2       1.0          0            0              1           0   \n",
              "4   240     14       1.0          7            7              1           0   \n",
              "5   120     19       1.0          0            0              1           0   \n",
              "6    45     45       2.0          0            0              0           0   \n",
              "7    84      1       2.0          0            0              1           0   \n",
              "8   297      2       2.0          0            0              1           0   \n",
              "9    84      3       2.0          0            0              1           0   \n",
              "\n",
              "  RevLineCr LowDoc ChgOffDate DisbursementDate DisbursementGross BalanceGross  \\\n",
              "0         N      Y        NaN        28-Feb-99       $60,000.00        $0.00    \n",
              "1         N      Y        NaN        31-May-97       $40,000.00        $0.00    \n",
              "2         N      N        NaN        31-Dec-97      $287,000.00        $0.00    \n",
              "3         N      Y        NaN        30-Jun-97       $35,000.00        $0.00    \n",
              "4         N      N        NaN        14-May-97      $229,000.00        $0.00    \n",
              "5         N      N        NaN        30-Jun-97      $517,000.00        $0.00    \n",
              "6         N      N  24-Jun-91        22-Jul-80      $600,000.00        $0.00    \n",
              "7         N      Y        NaN        30-Jun-98       $45,000.00        $0.00    \n",
              "8         N      N        NaN        31-Jul-97      $305,000.00        $0.00    \n",
              "9         N      Y        NaN        30-Apr-97       $70,000.00        $0.00    \n",
              "\n",
              "  MIS_Status  ChgOffPrinGr        GrAppv      SBA_Appv  \n",
              "0      P I F        $0.00    $60,000.00    $48,000.00   \n",
              "1      P I F        $0.00    $40,000.00    $32,000.00   \n",
              "2      P I F        $0.00   $287,000.00   $215,250.00   \n",
              "3      P I F        $0.00    $35,000.00    $28,000.00   \n",
              "4      P I F        $0.00   $229,000.00   $229,000.00   \n",
              "5      P I F        $0.00   $517,000.00   $387,750.00   \n",
              "6     CHGOFF  $208,959.00   $600,000.00   $499,998.00   \n",
              "7      P I F        $0.00    $45,000.00    $36,000.00   \n",
              "8      P I F        $0.00   $305,000.00   $228,750.00   \n",
              "9      P I F        $0.00    $70,000.00    $56,000.00   "
            ],
            "text/html": [
              "\n",
              "  <div id=\"df-fdbefa3c-2200-43d3-a0b5-7d9cfbef186e\">\n",
              "    <div class=\"colab-df-container\">\n",
              "      <div>\n",
              "<style scoped>\n",
              "    .dataframe tbody tr th:only-of-type {\n",
              "        vertical-align: middle;\n",
              "    }\n",
              "\n",
              "    .dataframe tbody tr th {\n",
              "        vertical-align: top;\n",
              "    }\n",
              "\n",
              "    .dataframe thead th {\n",
              "        text-align: right;\n",
              "    }\n",
              "</style>\n",
              "<table border=\"1\" class=\"dataframe\">\n",
              "  <thead>\n",
              "    <tr style=\"text-align: right;\">\n",
              "      <th></th>\n",
              "      <th>LoanNr_ChkDgt</th>\n",
              "      <th>Name</th>\n",
              "      <th>City</th>\n",
              "      <th>State</th>\n",
              "      <th>Zip</th>\n",
              "      <th>Bank</th>\n",
              "      <th>BankState</th>\n",
              "      <th>NAICS</th>\n",
              "      <th>ApprovalDate</th>\n",
              "      <th>ApprovalFY</th>\n",
              "      <th>Term</th>\n",
              "      <th>NoEmp</th>\n",
              "      <th>NewExist</th>\n",
              "      <th>CreateJob</th>\n",
              "      <th>RetainedJob</th>\n",
              "      <th>FranchiseCode</th>\n",
              "      <th>UrbanRural</th>\n",
              "      <th>RevLineCr</th>\n",
              "      <th>LowDoc</th>\n",
              "      <th>ChgOffDate</th>\n",
              "      <th>DisbursementDate</th>\n",
              "      <th>DisbursementGross</th>\n",
              "      <th>BalanceGross</th>\n",
              "      <th>MIS_Status</th>\n",
              "      <th>ChgOffPrinGr</th>\n",
              "      <th>GrAppv</th>\n",
              "      <th>SBA_Appv</th>\n",
              "    </tr>\n",
              "  </thead>\n",
              "  <tbody>\n",
              "    <tr>\n",
              "      <th>0</th>\n",
              "      <td>1000014003</td>\n",
              "      <td>ABC HOBBYCRAFT</td>\n",
              "      <td>EVANSVILLE</td>\n",
              "      <td>IN</td>\n",
              "      <td>47711</td>\n",
              "      <td>FIFTH THIRD BANK</td>\n",
              "      <td>OH</td>\n",
              "      <td>451120</td>\n",
              "      <td>28-Feb-97</td>\n",
              "      <td>1997</td>\n",
              "      <td>84</td>\n",
              "      <td>4</td>\n",
              "      <td>2.0</td>\n",
              "      <td>0</td>\n",
              "      <td>0</td>\n",
              "      <td>1</td>\n",
              "      <td>0</td>\n",
              "      <td>N</td>\n",
              "      <td>Y</td>\n",
              "      <td>NaN</td>\n",
              "      <td>28-Feb-99</td>\n",
              "      <td>$60,000.00</td>\n",
              "      <td>$0.00</td>\n",
              "      <td>P I F</td>\n",
              "      <td>$0.00</td>\n",
              "      <td>$60,000.00</td>\n",
              "      <td>$48,000.00</td>\n",
              "    </tr>\n",
              "    <tr>\n",
              "      <th>1</th>\n",
              "      <td>1000024006</td>\n",
              "      <td>LANDMARK BAR &amp; GRILLE (THE)</td>\n",
              "      <td>NEW PARIS</td>\n",
              "      <td>IN</td>\n",
              "      <td>46526</td>\n",
              "      <td>1ST SOURCE BANK</td>\n",
              "      <td>IN</td>\n",
              "      <td>722410</td>\n",
              "      <td>28-Feb-97</td>\n",
              "      <td>1997</td>\n",
              "      <td>60</td>\n",
              "      <td>2</td>\n",
              "      <td>2.0</td>\n",
              "      <td>0</td>\n",
              "      <td>0</td>\n",
              "      <td>1</td>\n",
              "      <td>0</td>\n",
              "      <td>N</td>\n",
              "      <td>Y</td>\n",
              "      <td>NaN</td>\n",
              "      <td>31-May-97</td>\n",
              "      <td>$40,000.00</td>\n",
              "      <td>$0.00</td>\n",
              "      <td>P I F</td>\n",
              "      <td>$0.00</td>\n",
              "      <td>$40,000.00</td>\n",
              "      <td>$32,000.00</td>\n",
              "    </tr>\n",
              "    <tr>\n",
              "      <th>2</th>\n",
              "      <td>1000034009</td>\n",
              "      <td>WHITLOCK DDS, TODD M.</td>\n",
              "      <td>BLOOMINGTON</td>\n",
              "      <td>IN</td>\n",
              "      <td>47401</td>\n",
              "      <td>GRANT COUNTY STATE BANK</td>\n",
              "      <td>IN</td>\n",
              "      <td>621210</td>\n",
              "      <td>28-Feb-97</td>\n",
              "      <td>1997</td>\n",
              "      <td>180</td>\n",
              "      <td>7</td>\n",
              "      <td>1.0</td>\n",
              "      <td>0</td>\n",
              "      <td>0</td>\n",
              "      <td>1</td>\n",
              "      <td>0</td>\n",
              "      <td>N</td>\n",
              "      <td>N</td>\n",
              "      <td>NaN</td>\n",
              "      <td>31-Dec-97</td>\n",
              "      <td>$287,000.00</td>\n",
              "      <td>$0.00</td>\n",
              "      <td>P I F</td>\n",
              "      <td>$0.00</td>\n",
              "      <td>$287,000.00</td>\n",
              "      <td>$215,250.00</td>\n",
              "    </tr>\n",
              "    <tr>\n",
              "      <th>3</th>\n",
              "      <td>1000044001</td>\n",
              "      <td>BIG BUCKS PAWN &amp; JEWELRY, LLC</td>\n",
              "      <td>BROKEN ARROW</td>\n",
              "      <td>OK</td>\n",
              "      <td>74012</td>\n",
              "      <td>1ST NATL BK &amp; TR CO OF BROKEN</td>\n",
              "      <td>OK</td>\n",
              "      <td>0</td>\n",
              "      <td>28-Feb-97</td>\n",
              "      <td>1997</td>\n",
              "      <td>60</td>\n",
              "      <td>2</td>\n",
              "      <td>1.0</td>\n",
              "      <td>0</td>\n",
              "      <td>0</td>\n",
              "      <td>1</td>\n",
              "      <td>0</td>\n",
              "      <td>N</td>\n",
              "      <td>Y</td>\n",
              "      <td>NaN</td>\n",
              "      <td>30-Jun-97</td>\n",
              "      <td>$35,000.00</td>\n",
              "      <td>$0.00</td>\n",
              "      <td>P I F</td>\n",
              "      <td>$0.00</td>\n",
              "      <td>$35,000.00</td>\n",
              "      <td>$28,000.00</td>\n",
              "    </tr>\n",
              "    <tr>\n",
              "      <th>4</th>\n",
              "      <td>1000054004</td>\n",
              "      <td>ANASTASIA CONFECTIONS, INC.</td>\n",
              "      <td>ORLANDO</td>\n",
              "      <td>FL</td>\n",
              "      <td>32801</td>\n",
              "      <td>FLORIDA BUS. DEVEL CORP</td>\n",
              "      <td>FL</td>\n",
              "      <td>0</td>\n",
              "      <td>28-Feb-97</td>\n",
              "      <td>1997</td>\n",
              "      <td>240</td>\n",
              "      <td>14</td>\n",
              "      <td>1.0</td>\n",
              "      <td>7</td>\n",
              "      <td>7</td>\n",
              "      <td>1</td>\n",
              "      <td>0</td>\n",
              "      <td>N</td>\n",
              "      <td>N</td>\n",
              "      <td>NaN</td>\n",
              "      <td>14-May-97</td>\n",
              "      <td>$229,000.00</td>\n",
              "      <td>$0.00</td>\n",
              "      <td>P I F</td>\n",
              "      <td>$0.00</td>\n",
              "      <td>$229,000.00</td>\n",
              "      <td>$229,000.00</td>\n",
              "    </tr>\n",
              "    <tr>\n",
              "      <th>5</th>\n",
              "      <td>1000084002</td>\n",
              "      <td>B&amp;T SCREW MACHINE COMPANY, INC</td>\n",
              "      <td>PLAINVILLE</td>\n",
              "      <td>CT</td>\n",
              "      <td>6062</td>\n",
              "      <td>TD BANK, NATIONAL ASSOCIATION</td>\n",
              "      <td>DE</td>\n",
              "      <td>332721</td>\n",
              "      <td>28-Feb-97</td>\n",
              "      <td>1997</td>\n",
              "      <td>120</td>\n",
              "      <td>19</td>\n",
              "      <td>1.0</td>\n",
              "      <td>0</td>\n",
              "      <td>0</td>\n",
              "      <td>1</td>\n",
              "      <td>0</td>\n",
              "      <td>N</td>\n",
              "      <td>N</td>\n",
              "      <td>NaN</td>\n",
              "      <td>30-Jun-97</td>\n",
              "      <td>$517,000.00</td>\n",
              "      <td>$0.00</td>\n",
              "      <td>P I F</td>\n",
              "      <td>$0.00</td>\n",
              "      <td>$517,000.00</td>\n",
              "      <td>$387,750.00</td>\n",
              "    </tr>\n",
              "    <tr>\n",
              "      <th>6</th>\n",
              "      <td>1000093009</td>\n",
              "      <td>MIDDLE ATLANTIC SPORTS CO INC</td>\n",
              "      <td>UNION</td>\n",
              "      <td>NJ</td>\n",
              "      <td>7083</td>\n",
              "      <td>WELLS FARGO BANK NATL ASSOC</td>\n",
              "      <td>SD</td>\n",
              "      <td>0</td>\n",
              "      <td>2-Jun-80</td>\n",
              "      <td>1980</td>\n",
              "      <td>45</td>\n",
              "      <td>45</td>\n",
              "      <td>2.0</td>\n",
              "      <td>0</td>\n",
              "      <td>0</td>\n",
              "      <td>0</td>\n",
              "      <td>0</td>\n",
              "      <td>N</td>\n",
              "      <td>N</td>\n",
              "      <td>24-Jun-91</td>\n",
              "      <td>22-Jul-80</td>\n",
              "      <td>$600,000.00</td>\n",
              "      <td>$0.00</td>\n",
              "      <td>CHGOFF</td>\n",
              "      <td>$208,959.00</td>\n",
              "      <td>$600,000.00</td>\n",
              "      <td>$499,998.00</td>\n",
              "    </tr>\n",
              "    <tr>\n",
              "      <th>7</th>\n",
              "      <td>1000094005</td>\n",
              "      <td>WEAVER PRODUCTS</td>\n",
              "      <td>SUMMERFIELD</td>\n",
              "      <td>FL</td>\n",
              "      <td>34491</td>\n",
              "      <td>REGIONS BANK</td>\n",
              "      <td>AL</td>\n",
              "      <td>811118</td>\n",
              "      <td>28-Feb-97</td>\n",
              "      <td>1997</td>\n",
              "      <td>84</td>\n",
              "      <td>1</td>\n",
              "      <td>2.0</td>\n",
              "      <td>0</td>\n",
              "      <td>0</td>\n",
              "      <td>1</td>\n",
              "      <td>0</td>\n",
              "      <td>N</td>\n",
              "      <td>Y</td>\n",
              "      <td>NaN</td>\n",
              "      <td>30-Jun-98</td>\n",
              "      <td>$45,000.00</td>\n",
              "      <td>$0.00</td>\n",
              "      <td>P I F</td>\n",
              "      <td>$0.00</td>\n",
              "      <td>$45,000.00</td>\n",
              "      <td>$36,000.00</td>\n",
              "    </tr>\n",
              "    <tr>\n",
              "      <th>8</th>\n",
              "      <td>1000104006</td>\n",
              "      <td>TURTLE BEACH INN</td>\n",
              "      <td>PORT SAINT JOE</td>\n",
              "      <td>FL</td>\n",
              "      <td>32456</td>\n",
              "      <td>CENTENNIAL BANK</td>\n",
              "      <td>FL</td>\n",
              "      <td>721310</td>\n",
              "      <td>28-Feb-97</td>\n",
              "      <td>1997</td>\n",
              "      <td>297</td>\n",
              "      <td>2</td>\n",
              "      <td>2.0</td>\n",
              "      <td>0</td>\n",
              "      <td>0</td>\n",
              "      <td>1</td>\n",
              "      <td>0</td>\n",
              "      <td>N</td>\n",
              "      <td>N</td>\n",
              "      <td>NaN</td>\n",
              "      <td>31-Jul-97</td>\n",
              "      <td>$305,000.00</td>\n",
              "      <td>$0.00</td>\n",
              "      <td>P I F</td>\n",
              "      <td>$0.00</td>\n",
              "      <td>$305,000.00</td>\n",
              "      <td>$228,750.00</td>\n",
              "    </tr>\n",
              "    <tr>\n",
              "      <th>9</th>\n",
              "      <td>1000124001</td>\n",
              "      <td>INTEXT BUILDING SYS LLC</td>\n",
              "      <td>GLASTONBURY</td>\n",
              "      <td>CT</td>\n",
              "      <td>6073</td>\n",
              "      <td>WEBSTER BANK NATL ASSOC</td>\n",
              "      <td>CT</td>\n",
              "      <td>0</td>\n",
              "      <td>28-Feb-97</td>\n",
              "      <td>1997</td>\n",
              "      <td>84</td>\n",
              "      <td>3</td>\n",
              "      <td>2.0</td>\n",
              "      <td>0</td>\n",
              "      <td>0</td>\n",
              "      <td>1</td>\n",
              "      <td>0</td>\n",
              "      <td>N</td>\n",
              "      <td>Y</td>\n",
              "      <td>NaN</td>\n",
              "      <td>30-Apr-97</td>\n",
              "      <td>$70,000.00</td>\n",
              "      <td>$0.00</td>\n",
              "      <td>P I F</td>\n",
              "      <td>$0.00</td>\n",
              "      <td>$70,000.00</td>\n",
              "      <td>$56,000.00</td>\n",
              "    </tr>\n",
              "  </tbody>\n",
              "</table>\n",
              "</div>\n",
              "      <button class=\"colab-df-convert\" onclick=\"convertToInteractive('df-fdbefa3c-2200-43d3-a0b5-7d9cfbef186e')\"\n",
              "              title=\"Convert this dataframe to an interactive table.\"\n",
              "              style=\"display:none;\">\n",
              "        \n",
              "  <svg xmlns=\"http://www.w3.org/2000/svg\" height=\"24px\"viewBox=\"0 0 24 24\"\n",
              "       width=\"24px\">\n",
              "    <path d=\"M0 0h24v24H0V0z\" fill=\"none\"/>\n",
              "    <path d=\"M18.56 5.44l.94 2.06.94-2.06 2.06-.94-2.06-.94-.94-2.06-.94 2.06-2.06.94zm-11 1L8.5 8.5l.94-2.06 2.06-.94-2.06-.94L8.5 2.5l-.94 2.06-2.06.94zm10 10l.94 2.06.94-2.06 2.06-.94-2.06-.94-.94-2.06-.94 2.06-2.06.94z\"/><path d=\"M17.41 7.96l-1.37-1.37c-.4-.4-.92-.59-1.43-.59-.52 0-1.04.2-1.43.59L10.3 9.45l-7.72 7.72c-.78.78-.78 2.05 0 2.83L4 21.41c.39.39.9.59 1.41.59.51 0 1.02-.2 1.41-.59l7.78-7.78 2.81-2.81c.8-.78.8-2.07 0-2.86zM5.41 20L4 18.59l7.72-7.72 1.47 1.35L5.41 20z\"/>\n",
              "  </svg>\n",
              "      </button>\n",
              "      \n",
              "  <style>\n",
              "    .colab-df-container {\n",
              "      display:flex;\n",
              "      flex-wrap:wrap;\n",
              "      gap: 12px;\n",
              "    }\n",
              "\n",
              "    .colab-df-convert {\n",
              "      background-color: #E8F0FE;\n",
              "      border: none;\n",
              "      border-radius: 50%;\n",
              "      cursor: pointer;\n",
              "      display: none;\n",
              "      fill: #1967D2;\n",
              "      height: 32px;\n",
              "      padding: 0 0 0 0;\n",
              "      width: 32px;\n",
              "    }\n",
              "\n",
              "    .colab-df-convert:hover {\n",
              "      background-color: #E2EBFA;\n",
              "      box-shadow: 0px 1px 2px rgba(60, 64, 67, 0.3), 0px 1px 3px 1px rgba(60, 64, 67, 0.15);\n",
              "      fill: #174EA6;\n",
              "    }\n",
              "\n",
              "    [theme=dark] .colab-df-convert {\n",
              "      background-color: #3B4455;\n",
              "      fill: #D2E3FC;\n",
              "    }\n",
              "\n",
              "    [theme=dark] .colab-df-convert:hover {\n",
              "      background-color: #434B5C;\n",
              "      box-shadow: 0px 1px 3px 1px rgba(0, 0, 0, 0.15);\n",
              "      filter: drop-shadow(0px 1px 2px rgba(0, 0, 0, 0.3));\n",
              "      fill: #FFFFFF;\n",
              "    }\n",
              "  </style>\n",
              "\n",
              "      <script>\n",
              "        const buttonEl =\n",
              "          document.querySelector('#df-fdbefa3c-2200-43d3-a0b5-7d9cfbef186e button.colab-df-convert');\n",
              "        buttonEl.style.display =\n",
              "          google.colab.kernel.accessAllowed ? 'block' : 'none';\n",
              "\n",
              "        async function convertToInteractive(key) {\n",
              "          const element = document.querySelector('#df-fdbefa3c-2200-43d3-a0b5-7d9cfbef186e');\n",
              "          const dataTable =\n",
              "            await google.colab.kernel.invokeFunction('convertToInteractive',\n",
              "                                                     [key], {});\n",
              "          if (!dataTable) return;\n",
              "\n",
              "          const docLinkHtml = 'Like what you see? Visit the ' +\n",
              "            '<a target=\"_blank\" href=https://colab.research.google.com/notebooks/data_table.ipynb>data table notebook</a>'\n",
              "            + ' to learn more about interactive tables.';\n",
              "          element.innerHTML = '';\n",
              "          dataTable['output_type'] = 'display_data';\n",
              "          await google.colab.output.renderOutput(dataTable, element);\n",
              "          const docLink = document.createElement('div');\n",
              "          docLink.innerHTML = docLinkHtml;\n",
              "          element.appendChild(docLink);\n",
              "        }\n",
              "      </script>\n",
              "    </div>\n",
              "  </div>\n",
              "  "
            ]
          },
          "metadata": {},
          "execution_count": 7
        }
      ],
      "source": [
        "loans.head(10)"
      ]
    },
    {
      "cell_type": "markdown",
      "source": [
        "We notice that the NAICS column has zeros. Zeros are not valid industry classification codes, so this is the same as having nulls. Let's see how many zeros there are in that column."
      ],
      "metadata": {
        "id": "NxXGB02Bgz2C"
      }
    },
    {
      "cell_type": "code",
      "source": [
        "(loans['NAICS']==0).sum()"
      ],
      "metadata": {
        "colab": {
          "base_uri": "https://localhost:8080/"
        },
        "id": "jx7fiMeGlBPK",
        "outputId": "fc9736f1-43d8-4fce-8322-4383010a784f"
      },
      "execution_count": null,
      "outputs": [
        {
          "output_type": "execute_result",
          "data": {
            "text/plain": [
              "201948"
            ]
          },
          "metadata": {},
          "execution_count": 8
        }
      ]
    },
    {
      "cell_type": "markdown",
      "source": [
        "That's a little over 22% of the rows, so that field has a hefty value of nulls."
      ],
      "metadata": {
        "id": "Ps14MSozlzbO"
      }
    },
    {
      "cell_type": "markdown",
      "source": [
        "-------------------------------------------------------------------------------------"
      ],
      "metadata": {
        "id": "72sG66sjzNJc"
      }
    },
    {
      "cell_type": "markdown",
      "metadata": {
        "id": "NZYxbsFkv-eG"
      },
      "source": [
        "There are several columns that have monetary values and to work with them we have to pass them to numerical format. These columns are: DisbursementGross, BalanceGross, GrAppv y SBA_Appv."
      ]
    },
    {
      "cell_type": "markdown",
      "source": [
        "-------------------------------------------------------------------------------------"
      ],
      "metadata": {
        "id": "Oj938k_lk_oH"
      }
    },
    {
      "cell_type": "markdown",
      "source": [
        "Another thing to note is that the ApprovalDate, DisbursementDate and ChgOffDate columns are date data, but one can see that in the dataframe they are strings:"
      ],
      "metadata": {
        "id": "BWuMt2spXE4b"
      }
    },
    {
      "cell_type": "code",
      "source": [
        "print(pd.api.types.infer_dtype(loans['ApprovalDate']))\n",
        "print(pd.api.types.infer_dtype(loans['DisbursementDate']))\n",
        "print(pd.api.types.infer_dtype(loans['ChgOffDate']))\n"
      ],
      "metadata": {
        "colab": {
          "base_uri": "https://localhost:8080/"
        },
        "id": "JtKy4FATYwo_",
        "outputId": "7470b1d5-ed98-4475-8fdb-f40525229027"
      },
      "execution_count": null,
      "outputs": [
        {
          "output_type": "stream",
          "name": "stdout",
          "text": [
            "string\n",
            "string\n",
            "string\n"
          ]
        }
      ]
    },
    {
      "cell_type": "code",
      "source": [
        "loans[['ApprovalDate', 'DisbursementDate', 'ChgOffDate']].sample(5)"
      ],
      "metadata": {
        "colab": {
          "base_uri": "https://localhost:8080/",
          "height": 206
        },
        "id": "dJ7-oZIff6oV",
        "outputId": "0583f5e6-5422-46e9-947a-97e099e46449"
      },
      "execution_count": null,
      "outputs": [
        {
          "output_type": "execute_result",
          "data": {
            "text/plain": [
              "       ApprovalDate DisbursementDate ChgOffDate\n",
              "790293     7-Jun-95        31-Oct-95        NaN\n",
              "641775    12-Jun-03        30-Nov-03        NaN\n",
              "699577    15-Mar-04        30-Apr-04        NaN\n",
              "232177    16-Aug-07        31-Oct-07  14-Aug-14\n",
              "708955    21-Apr-04        30-Apr-04        NaN"
            ],
            "text/html": [
              "\n",
              "  <div id=\"df-4699e55d-eb8a-454b-b94b-d7b3902b08ae\">\n",
              "    <div class=\"colab-df-container\">\n",
              "      <div>\n",
              "<style scoped>\n",
              "    .dataframe tbody tr th:only-of-type {\n",
              "        vertical-align: middle;\n",
              "    }\n",
              "\n",
              "    .dataframe tbody tr th {\n",
              "        vertical-align: top;\n",
              "    }\n",
              "\n",
              "    .dataframe thead th {\n",
              "        text-align: right;\n",
              "    }\n",
              "</style>\n",
              "<table border=\"1\" class=\"dataframe\">\n",
              "  <thead>\n",
              "    <tr style=\"text-align: right;\">\n",
              "      <th></th>\n",
              "      <th>ApprovalDate</th>\n",
              "      <th>DisbursementDate</th>\n",
              "      <th>ChgOffDate</th>\n",
              "    </tr>\n",
              "  </thead>\n",
              "  <tbody>\n",
              "    <tr>\n",
              "      <th>790293</th>\n",
              "      <td>7-Jun-95</td>\n",
              "      <td>31-Oct-95</td>\n",
              "      <td>NaN</td>\n",
              "    </tr>\n",
              "    <tr>\n",
              "      <th>641775</th>\n",
              "      <td>12-Jun-03</td>\n",
              "      <td>30-Nov-03</td>\n",
              "      <td>NaN</td>\n",
              "    </tr>\n",
              "    <tr>\n",
              "      <th>699577</th>\n",
              "      <td>15-Mar-04</td>\n",
              "      <td>30-Apr-04</td>\n",
              "      <td>NaN</td>\n",
              "    </tr>\n",
              "    <tr>\n",
              "      <th>232177</th>\n",
              "      <td>16-Aug-07</td>\n",
              "      <td>31-Oct-07</td>\n",
              "      <td>14-Aug-14</td>\n",
              "    </tr>\n",
              "    <tr>\n",
              "      <th>708955</th>\n",
              "      <td>21-Apr-04</td>\n",
              "      <td>30-Apr-04</td>\n",
              "      <td>NaN</td>\n",
              "    </tr>\n",
              "  </tbody>\n",
              "</table>\n",
              "</div>\n",
              "      <button class=\"colab-df-convert\" onclick=\"convertToInteractive('df-4699e55d-eb8a-454b-b94b-d7b3902b08ae')\"\n",
              "              title=\"Convert this dataframe to an interactive table.\"\n",
              "              style=\"display:none;\">\n",
              "        \n",
              "  <svg xmlns=\"http://www.w3.org/2000/svg\" height=\"24px\"viewBox=\"0 0 24 24\"\n",
              "       width=\"24px\">\n",
              "    <path d=\"M0 0h24v24H0V0z\" fill=\"none\"/>\n",
              "    <path d=\"M18.56 5.44l.94 2.06.94-2.06 2.06-.94-2.06-.94-.94-2.06-.94 2.06-2.06.94zm-11 1L8.5 8.5l.94-2.06 2.06-.94-2.06-.94L8.5 2.5l-.94 2.06-2.06.94zm10 10l.94 2.06.94-2.06 2.06-.94-2.06-.94-.94-2.06-.94 2.06-2.06.94z\"/><path d=\"M17.41 7.96l-1.37-1.37c-.4-.4-.92-.59-1.43-.59-.52 0-1.04.2-1.43.59L10.3 9.45l-7.72 7.72c-.78.78-.78 2.05 0 2.83L4 21.41c.39.39.9.59 1.41.59.51 0 1.02-.2 1.41-.59l7.78-7.78 2.81-2.81c.8-.78.8-2.07 0-2.86zM5.41 20L4 18.59l7.72-7.72 1.47 1.35L5.41 20z\"/>\n",
              "  </svg>\n",
              "      </button>\n",
              "      \n",
              "  <style>\n",
              "    .colab-df-container {\n",
              "      display:flex;\n",
              "      flex-wrap:wrap;\n",
              "      gap: 12px;\n",
              "    }\n",
              "\n",
              "    .colab-df-convert {\n",
              "      background-color: #E8F0FE;\n",
              "      border: none;\n",
              "      border-radius: 50%;\n",
              "      cursor: pointer;\n",
              "      display: none;\n",
              "      fill: #1967D2;\n",
              "      height: 32px;\n",
              "      padding: 0 0 0 0;\n",
              "      width: 32px;\n",
              "    }\n",
              "\n",
              "    .colab-df-convert:hover {\n",
              "      background-color: #E2EBFA;\n",
              "      box-shadow: 0px 1px 2px rgba(60, 64, 67, 0.3), 0px 1px 3px 1px rgba(60, 64, 67, 0.15);\n",
              "      fill: #174EA6;\n",
              "    }\n",
              "\n",
              "    [theme=dark] .colab-df-convert {\n",
              "      background-color: #3B4455;\n",
              "      fill: #D2E3FC;\n",
              "    }\n",
              "\n",
              "    [theme=dark] .colab-df-convert:hover {\n",
              "      background-color: #434B5C;\n",
              "      box-shadow: 0px 1px 3px 1px rgba(0, 0, 0, 0.15);\n",
              "      filter: drop-shadow(0px 1px 2px rgba(0, 0, 0, 0.3));\n",
              "      fill: #FFFFFF;\n",
              "    }\n",
              "  </style>\n",
              "\n",
              "      <script>\n",
              "        const buttonEl =\n",
              "          document.querySelector('#df-4699e55d-eb8a-454b-b94b-d7b3902b08ae button.colab-df-convert');\n",
              "        buttonEl.style.display =\n",
              "          google.colab.kernel.accessAllowed ? 'block' : 'none';\n",
              "\n",
              "        async function convertToInteractive(key) {\n",
              "          const element = document.querySelector('#df-4699e55d-eb8a-454b-b94b-d7b3902b08ae');\n",
              "          const dataTable =\n",
              "            await google.colab.kernel.invokeFunction('convertToInteractive',\n",
              "                                                     [key], {});\n",
              "          if (!dataTable) return;\n",
              "\n",
              "          const docLinkHtml = 'Like what you see? Visit the ' +\n",
              "            '<a target=\"_blank\" href=https://colab.research.google.com/notebooks/data_table.ipynb>data table notebook</a>'\n",
              "            + ' to learn more about interactive tables.';\n",
              "          element.innerHTML = '';\n",
              "          dataTable['output_type'] = 'display_data';\n",
              "          await google.colab.output.renderOutput(dataTable, element);\n",
              "          const docLink = document.createElement('div');\n",
              "          docLink.innerHTML = docLinkHtml;\n",
              "          element.appendChild(docLink);\n",
              "        }\n",
              "      </script>\n",
              "    </div>\n",
              "  </div>\n",
              "  "
            ]
          },
          "metadata": {},
          "execution_count": 10
        }
      ]
    },
    {
      "cell_type": "markdown",
      "source": [
        "If we are going to use them later, we would have to convert them. "
      ],
      "metadata": {
        "id": "DDKjjwNSZQOK"
      }
    },
    {
      "cell_type": "markdown",
      "source": [
        "--------------------------------------------------------------------------------------------"
      ],
      "metadata": {
        "id": "kRpT8CxGlDzO"
      }
    },
    {
      "cell_type": "markdown",
      "source": [
        "NAICS classification code numbers have positional significance. The first two digits designate the largest business sector, the third digit designates the subsector, the fourth digit designates the industry group, the fifth digit designates NAICS industries, and the sixth digit designates national industries. The code table for the first two digits is as follows:"
      ],
      "metadata": {
        "id": "kZZhUMZBIXeX"
      }
    },
    {
      "cell_type": "markdown",
      "metadata": {
        "id": "ZeeJjpUYJ49K"
      },
      "source": [
        "|Sector |\tDescription|\n",
        "|-------|----------------|\n",
        "11 | Agriculture, forestry, fishing and hunting\n",
        "21 |\tMining, quarrying, and oil and gas extraction\n",
        "22 |\tUtilities\n",
        "23 |\tConstruction\n",
        "31–33 |\tManufacturing\n",
        "42 |\tWholesale trade\n",
        "44–45 |\tRetail trade\n",
        "48–49 |\tTransportation and warehousing\n",
        "51 |\tInformation\n",
        "52 |\tFinance and insurance\n",
        "53 |\tReal estate and rental and leasing\n",
        "54 |\tProfessional, scientific, and technical services\n",
        "55 |\tManagement of companies and enterprises\n",
        "56 |\tAdministrative and support and waste management and remediation services\n",
        "61 |\tEducational services\n",
        "62 |\tHealth care and social assistance\n",
        "71 |\tArts, entertainment, and recreation\n",
        "72 |\tAccommodation and food services\n",
        "81 |\tOther services (except public administration)\n",
        "92 |  Public administration"
      ]
    },
    {
      "cell_type": "markdown",
      "source": [
        "Therefore we will find it convenient to isolate those first two digits in a new column. Regarding the third, it should be analyzed."
      ],
      "metadata": {
        "id": "QF5aUYDfJ7Pb"
      }
    },
    {
      "cell_type": "markdown",
      "source": [
        "--------------------------------------------------------------------------------------------"
      ],
      "metadata": {
        "id": "Ddd504NfGxi1"
      }
    },
    {
      "cell_type": "markdown",
      "source": [
        "One thing we noticed is that the 'RevLineCr' field has 18 distinct values, when in reality it should have only two, 'Y' and 'N'."
      ],
      "metadata": {
        "id": "4qi73NbOYY4V"
      }
    },
    {
      "cell_type": "code",
      "source": [
        "loans['RevLineCr'].unique()"
      ],
      "metadata": {
        "colab": {
          "base_uri": "https://localhost:8080/"
        },
        "id": "c0Udkf3IY14k",
        "outputId": "031eb693-0ae1-44ad-9845-35134411f11a"
      },
      "execution_count": null,
      "outputs": [
        {
          "output_type": "execute_result",
          "data": {
            "text/plain": [
              "array(['N', '0', 'Y', 'T', nan, '`', ',', '1', 'C', '3', '2', 'R', '7',\n",
              "       'A', '5', '.', '4', '-', 'Q'], dtype=object)"
            ]
          },
          "metadata": {},
          "execution_count": 11
        }
      ]
    },
    {
      "cell_type": "code",
      "source": [
        "loans['RevLineCr'].value_counts()"
      ],
      "metadata": {
        "colab": {
          "base_uri": "https://localhost:8080/"
        },
        "id": "d6Zr03nWZdUt",
        "outputId": "18e418ee-a766-42d3-91df-772c47057110"
      },
      "execution_count": null,
      "outputs": [
        {
          "output_type": "execute_result",
          "data": {
            "text/plain": [
              "N    420288\n",
              "0    257602\n",
              "Y    201397\n",
              "T     15284\n",
              "1        23\n",
              "R        14\n",
              "`        11\n",
              "2         6\n",
              "C         2\n",
              "3         1\n",
              ",         1\n",
              "7         1\n",
              "A         1\n",
              "5         1\n",
              ".         1\n",
              "4         1\n",
              "-         1\n",
              "Q         1\n",
              "Name: RevLineCr, dtype: int64"
            ]
          },
          "metadata": {},
          "execution_count": 12
        }
      ]
    },
    {
      "cell_type": "markdown",
      "source": [
        "We don't know how to interpret most of the categories, the 0's represent a large part of the data."
      ],
      "metadata": {
        "id": "T8-8t8YfY3mr"
      }
    },
    {
      "cell_type": "markdown",
      "source": [
        "--------------------------------------------------------------------------------------------"
      ],
      "metadata": {
        "id": "o58LWNY1HyWb"
      }
    },
    {
      "cell_type": "markdown",
      "source": [
        "Another thing we see is that it would be useful to have the Target variable as a boolean. But for now we won't because we don't want to touch anything in the original dataframe."
      ],
      "metadata": {
        "id": "Y_Or5HZD1kf7"
      }
    },
    {
      "cell_type": "markdown",
      "source": [
        "--------------------------------------------------------------------------------------------"
      ],
      "metadata": {
        "id": "WNC6NwWoH18_"
      }
    },
    {
      "cell_type": "markdown",
      "source": [
        "Let's see if there are duplicate rows."
      ],
      "metadata": {
        "id": "pmWZdZqEYSit"
      }
    },
    {
      "cell_type": "code",
      "source": [
        "loans.duplicated().sum()"
      ],
      "metadata": {
        "colab": {
          "base_uri": "https://localhost:8080/"
        },
        "id": "6iL2Nt2ncBFm",
        "outputId": "6d017d95-f0d0-4097-fcba-65f0d81bf4e2"
      },
      "execution_count": null,
      "outputs": [
        {
          "output_type": "execute_result",
          "data": {
            "text/plain": [
              "0"
            ]
          },
          "metadata": {},
          "execution_count": 13
        }
      ]
    },
    {
      "cell_type": "markdown",
      "source": [
        "We see that there are no duplicate rows. However, this topic does not end here because it turns out that what causes there to be no duplicate rows is the identifier column, 'LoanNr_ChkDgt', but if that column is removed, there are identical entries. "
      ],
      "metadata": {
        "id": "IUzyXj1KcGll"
      }
    },
    {
      "cell_type": "code",
      "source": [
        "loans.duplicated(subset= ['LoanNr_ChkDgt']).sum()"
      ],
      "metadata": {
        "colab": {
          "base_uri": "https://localhost:8080/"
        },
        "id": "Fxa1zoUHcgdn",
        "outputId": "7a3fdc99-0df2-4e41-e75b-27f61293e14d"
      },
      "execution_count": null,
      "outputs": [
        {
          "output_type": "execute_result",
          "data": {
            "text/plain": [
              "0"
            ]
          },
          "metadata": {},
          "execution_count": 14
        }
      ]
    },
    {
      "cell_type": "code",
      "source": [
        "loans[loans.columns.difference(['LoanNr_ChkDgt'])].duplicated().sum()"
      ],
      "metadata": {
        "colab": {
          "base_uri": "https://localhost:8080/"
        },
        "id": "YbWz2lwIg_ny",
        "outputId": "57257a3f-27ea-4a7c-9cad-cdd6e16aa7d4"
      },
      "execution_count": null,
      "outputs": [
        {
          "output_type": "execute_result",
          "data": {
            "text/plain": [
              "128"
            ]
          },
          "metadata": {},
          "execution_count": 15
        }
      ]
    },
    {
      "cell_type": "code",
      "source": [
        "loans[loans[loans.columns.difference(['LoanNr_ChkDgt'])].duplicated(keep=False)].head(8)"
      ],
      "metadata": {
        "colab": {
          "base_uri": "https://localhost:8080/",
          "height": 642
        },
        "id": "I5JG26SsdNbX",
        "outputId": "a352f35b-d785-402d-ad32-b72c9ac53486"
      },
      "execution_count": null,
      "outputs": [
        {
          "output_type": "execute_result",
          "data": {
            "text/plain": [
              "       LoanNr_ChkDgt                           Name             City State  \\\n",
              "240       1001905008              REYNOLDS H20 PLUS     WEST READING    PA   \n",
              "243       1001915000              REYNOLDS H20 PLUS     WEST READING    PA   \n",
              "35622     1271744001  ARCHITECTURAL ORNAMENTS, INC.      KANSAS CITY    MO   \n",
              "35632     1271864002  ARCHITECTURAL ORNAMENTS, INC.      KANSAS CITY    MO   \n",
              "43040     1334174005                          NETEC          CHELSEA    MA   \n",
              "43054     1334264008                          NETEC          CHELSEA    MA   \n",
              "61200     1462815008          Meathead Movers, Inc.  San Luis Obispo    CA   \n",
              "61201     1462835003          Meathead Movers, Inc.  San Luis Obispo    CA   \n",
              "\n",
              "         Zip                            Bank BankState   NAICS ApprovalDate  \\\n",
              "240    19611     WELLS FARGO BANK NATL ASSOC        PA       0     4-Dec-97   \n",
              "243    19611     WELLS FARGO BANK NATL ASSOC        PA       0     4-Dec-97   \n",
              "35622  64126  UMB BANK, NATIONAL ASSOCIATION        MO  327331    22-May-97   \n",
              "35632  64126  UMB BANK, NATIONAL ASSOCIATION        MO  327331    22-May-97   \n",
              "43040   2150         STATE STREET BK & TR CO        MA       0    10-Jun-97   \n",
              "43054   2150         STATE STREET BK & TR CO        MA       0    10-Jun-97   \n",
              "61200  93401             COAST NATIONAL BANK        CA  484210    20-Sep-05   \n",
              "61201  93401             COAST NATIONAL BANK        CA  484210    20-Sep-05   \n",
              "\n",
              "      ApprovalFY  Term  NoEmp  NewExist  CreateJob  RetainedJob  \\\n",
              "240         1998    60     46       1.0          0            0   \n",
              "243         1998    60     46       1.0          0            0   \n",
              "35622       1997    12     16       1.0          0            0   \n",
              "35632       1997    12     16       1.0          0            0   \n",
              "43040       1997     5     26       1.0          0            0   \n",
              "43054       1997     5     26       1.0          0            0   \n",
              "61200       2005    12     82       2.0         82            0   \n",
              "61201       2005    12     82       2.0         82            0   \n",
              "\n",
              "       FranchiseCode  UrbanRural RevLineCr LowDoc ChgOffDate DisbursementDate  \\\n",
              "240            21400           0         0      N        NaN        28-Feb-98   \n",
              "243            21400           0         0      N        NaN        28-Feb-98   \n",
              "35622              1           0         N      N        NaN        31-Jan-98   \n",
              "35632              1           0         N      N        NaN        31-Jan-98   \n",
              "43040              1           0         N      N        NaN        31-Oct-97   \n",
              "43054              1           0         N      N        NaN        31-Oct-97   \n",
              "61200              0           2         N      N        NaN        28-Feb-06   \n",
              "61201              0           2         N      N        NaN        28-Feb-06   \n",
              "\n",
              "      DisbursementGross BalanceGross MIS_Status ChgOffPrinGr        GrAppv  \\\n",
              "240        $100,000.00        $0.00       P I F       $0.00   $100,000.00    \n",
              "243        $100,000.00        $0.00       P I F       $0.00   $100,000.00    \n",
              "35622       $50,000.00        $0.00       P I F       $0.00    $50,000.00    \n",
              "35632       $50,000.00        $0.00       P I F       $0.00    $50,000.00    \n",
              "43040       $46,771.00        $0.00       P I F       $0.00    $46,771.00    \n",
              "43054       $46,771.00        $0.00       P I F       $0.00    $46,771.00    \n",
              "61200        $4,000.00        $0.00       P I F       $0.00     $4,000.00    \n",
              "61201        $4,000.00        $0.00       P I F       $0.00     $4,000.00    \n",
              "\n",
              "          SBA_Appv  \n",
              "240    $50,000.00   \n",
              "243    $50,000.00   \n",
              "35622  $40,000.00   \n",
              "35632  $40,000.00   \n",
              "43040  $35,078.00   \n",
              "43054  $35,078.00   \n",
              "61200   $2,000.00   \n",
              "61201   $2,000.00   "
            ],
            "text/html": [
              "\n",
              "  <div id=\"df-570e6eb7-5aaf-48bb-925a-fc19270444c8\">\n",
              "    <div class=\"colab-df-container\">\n",
              "      <div>\n",
              "<style scoped>\n",
              "    .dataframe tbody tr th:only-of-type {\n",
              "        vertical-align: middle;\n",
              "    }\n",
              "\n",
              "    .dataframe tbody tr th {\n",
              "        vertical-align: top;\n",
              "    }\n",
              "\n",
              "    .dataframe thead th {\n",
              "        text-align: right;\n",
              "    }\n",
              "</style>\n",
              "<table border=\"1\" class=\"dataframe\">\n",
              "  <thead>\n",
              "    <tr style=\"text-align: right;\">\n",
              "      <th></th>\n",
              "      <th>LoanNr_ChkDgt</th>\n",
              "      <th>Name</th>\n",
              "      <th>City</th>\n",
              "      <th>State</th>\n",
              "      <th>Zip</th>\n",
              "      <th>Bank</th>\n",
              "      <th>BankState</th>\n",
              "      <th>NAICS</th>\n",
              "      <th>ApprovalDate</th>\n",
              "      <th>ApprovalFY</th>\n",
              "      <th>Term</th>\n",
              "      <th>NoEmp</th>\n",
              "      <th>NewExist</th>\n",
              "      <th>CreateJob</th>\n",
              "      <th>RetainedJob</th>\n",
              "      <th>FranchiseCode</th>\n",
              "      <th>UrbanRural</th>\n",
              "      <th>RevLineCr</th>\n",
              "      <th>LowDoc</th>\n",
              "      <th>ChgOffDate</th>\n",
              "      <th>DisbursementDate</th>\n",
              "      <th>DisbursementGross</th>\n",
              "      <th>BalanceGross</th>\n",
              "      <th>MIS_Status</th>\n",
              "      <th>ChgOffPrinGr</th>\n",
              "      <th>GrAppv</th>\n",
              "      <th>SBA_Appv</th>\n",
              "    </tr>\n",
              "  </thead>\n",
              "  <tbody>\n",
              "    <tr>\n",
              "      <th>240</th>\n",
              "      <td>1001905008</td>\n",
              "      <td>REYNOLDS H20 PLUS</td>\n",
              "      <td>WEST READING</td>\n",
              "      <td>PA</td>\n",
              "      <td>19611</td>\n",
              "      <td>WELLS FARGO BANK NATL ASSOC</td>\n",
              "      <td>PA</td>\n",
              "      <td>0</td>\n",
              "      <td>4-Dec-97</td>\n",
              "      <td>1998</td>\n",
              "      <td>60</td>\n",
              "      <td>46</td>\n",
              "      <td>1.0</td>\n",
              "      <td>0</td>\n",
              "      <td>0</td>\n",
              "      <td>21400</td>\n",
              "      <td>0</td>\n",
              "      <td>0</td>\n",
              "      <td>N</td>\n",
              "      <td>NaN</td>\n",
              "      <td>28-Feb-98</td>\n",
              "      <td>$100,000.00</td>\n",
              "      <td>$0.00</td>\n",
              "      <td>P I F</td>\n",
              "      <td>$0.00</td>\n",
              "      <td>$100,000.00</td>\n",
              "      <td>$50,000.00</td>\n",
              "    </tr>\n",
              "    <tr>\n",
              "      <th>243</th>\n",
              "      <td>1001915000</td>\n",
              "      <td>REYNOLDS H20 PLUS</td>\n",
              "      <td>WEST READING</td>\n",
              "      <td>PA</td>\n",
              "      <td>19611</td>\n",
              "      <td>WELLS FARGO BANK NATL ASSOC</td>\n",
              "      <td>PA</td>\n",
              "      <td>0</td>\n",
              "      <td>4-Dec-97</td>\n",
              "      <td>1998</td>\n",
              "      <td>60</td>\n",
              "      <td>46</td>\n",
              "      <td>1.0</td>\n",
              "      <td>0</td>\n",
              "      <td>0</td>\n",
              "      <td>21400</td>\n",
              "      <td>0</td>\n",
              "      <td>0</td>\n",
              "      <td>N</td>\n",
              "      <td>NaN</td>\n",
              "      <td>28-Feb-98</td>\n",
              "      <td>$100,000.00</td>\n",
              "      <td>$0.00</td>\n",
              "      <td>P I F</td>\n",
              "      <td>$0.00</td>\n",
              "      <td>$100,000.00</td>\n",
              "      <td>$50,000.00</td>\n",
              "    </tr>\n",
              "    <tr>\n",
              "      <th>35622</th>\n",
              "      <td>1271744001</td>\n",
              "      <td>ARCHITECTURAL ORNAMENTS, INC.</td>\n",
              "      <td>KANSAS CITY</td>\n",
              "      <td>MO</td>\n",
              "      <td>64126</td>\n",
              "      <td>UMB BANK, NATIONAL ASSOCIATION</td>\n",
              "      <td>MO</td>\n",
              "      <td>327331</td>\n",
              "      <td>22-May-97</td>\n",
              "      <td>1997</td>\n",
              "      <td>12</td>\n",
              "      <td>16</td>\n",
              "      <td>1.0</td>\n",
              "      <td>0</td>\n",
              "      <td>0</td>\n",
              "      <td>1</td>\n",
              "      <td>0</td>\n",
              "      <td>N</td>\n",
              "      <td>N</td>\n",
              "      <td>NaN</td>\n",
              "      <td>31-Jan-98</td>\n",
              "      <td>$50,000.00</td>\n",
              "      <td>$0.00</td>\n",
              "      <td>P I F</td>\n",
              "      <td>$0.00</td>\n",
              "      <td>$50,000.00</td>\n",
              "      <td>$40,000.00</td>\n",
              "    </tr>\n",
              "    <tr>\n",
              "      <th>35632</th>\n",
              "      <td>1271864002</td>\n",
              "      <td>ARCHITECTURAL ORNAMENTS, INC.</td>\n",
              "      <td>KANSAS CITY</td>\n",
              "      <td>MO</td>\n",
              "      <td>64126</td>\n",
              "      <td>UMB BANK, NATIONAL ASSOCIATION</td>\n",
              "      <td>MO</td>\n",
              "      <td>327331</td>\n",
              "      <td>22-May-97</td>\n",
              "      <td>1997</td>\n",
              "      <td>12</td>\n",
              "      <td>16</td>\n",
              "      <td>1.0</td>\n",
              "      <td>0</td>\n",
              "      <td>0</td>\n",
              "      <td>1</td>\n",
              "      <td>0</td>\n",
              "      <td>N</td>\n",
              "      <td>N</td>\n",
              "      <td>NaN</td>\n",
              "      <td>31-Jan-98</td>\n",
              "      <td>$50,000.00</td>\n",
              "      <td>$0.00</td>\n",
              "      <td>P I F</td>\n",
              "      <td>$0.00</td>\n",
              "      <td>$50,000.00</td>\n",
              "      <td>$40,000.00</td>\n",
              "    </tr>\n",
              "    <tr>\n",
              "      <th>43040</th>\n",
              "      <td>1334174005</td>\n",
              "      <td>NETEC</td>\n",
              "      <td>CHELSEA</td>\n",
              "      <td>MA</td>\n",
              "      <td>2150</td>\n",
              "      <td>STATE STREET BK &amp; TR CO</td>\n",
              "      <td>MA</td>\n",
              "      <td>0</td>\n",
              "      <td>10-Jun-97</td>\n",
              "      <td>1997</td>\n",
              "      <td>5</td>\n",
              "      <td>26</td>\n",
              "      <td>1.0</td>\n",
              "      <td>0</td>\n",
              "      <td>0</td>\n",
              "      <td>1</td>\n",
              "      <td>0</td>\n",
              "      <td>N</td>\n",
              "      <td>N</td>\n",
              "      <td>NaN</td>\n",
              "      <td>31-Oct-97</td>\n",
              "      <td>$46,771.00</td>\n",
              "      <td>$0.00</td>\n",
              "      <td>P I F</td>\n",
              "      <td>$0.00</td>\n",
              "      <td>$46,771.00</td>\n",
              "      <td>$35,078.00</td>\n",
              "    </tr>\n",
              "    <tr>\n",
              "      <th>43054</th>\n",
              "      <td>1334264008</td>\n",
              "      <td>NETEC</td>\n",
              "      <td>CHELSEA</td>\n",
              "      <td>MA</td>\n",
              "      <td>2150</td>\n",
              "      <td>STATE STREET BK &amp; TR CO</td>\n",
              "      <td>MA</td>\n",
              "      <td>0</td>\n",
              "      <td>10-Jun-97</td>\n",
              "      <td>1997</td>\n",
              "      <td>5</td>\n",
              "      <td>26</td>\n",
              "      <td>1.0</td>\n",
              "      <td>0</td>\n",
              "      <td>0</td>\n",
              "      <td>1</td>\n",
              "      <td>0</td>\n",
              "      <td>N</td>\n",
              "      <td>N</td>\n",
              "      <td>NaN</td>\n",
              "      <td>31-Oct-97</td>\n",
              "      <td>$46,771.00</td>\n",
              "      <td>$0.00</td>\n",
              "      <td>P I F</td>\n",
              "      <td>$0.00</td>\n",
              "      <td>$46,771.00</td>\n",
              "      <td>$35,078.00</td>\n",
              "    </tr>\n",
              "    <tr>\n",
              "      <th>61200</th>\n",
              "      <td>1462815008</td>\n",
              "      <td>Meathead Movers, Inc.</td>\n",
              "      <td>San Luis Obispo</td>\n",
              "      <td>CA</td>\n",
              "      <td>93401</td>\n",
              "      <td>COAST NATIONAL BANK</td>\n",
              "      <td>CA</td>\n",
              "      <td>484210</td>\n",
              "      <td>20-Sep-05</td>\n",
              "      <td>2005</td>\n",
              "      <td>12</td>\n",
              "      <td>82</td>\n",
              "      <td>2.0</td>\n",
              "      <td>82</td>\n",
              "      <td>0</td>\n",
              "      <td>0</td>\n",
              "      <td>2</td>\n",
              "      <td>N</td>\n",
              "      <td>N</td>\n",
              "      <td>NaN</td>\n",
              "      <td>28-Feb-06</td>\n",
              "      <td>$4,000.00</td>\n",
              "      <td>$0.00</td>\n",
              "      <td>P I F</td>\n",
              "      <td>$0.00</td>\n",
              "      <td>$4,000.00</td>\n",
              "      <td>$2,000.00</td>\n",
              "    </tr>\n",
              "    <tr>\n",
              "      <th>61201</th>\n",
              "      <td>1462835003</td>\n",
              "      <td>Meathead Movers, Inc.</td>\n",
              "      <td>San Luis Obispo</td>\n",
              "      <td>CA</td>\n",
              "      <td>93401</td>\n",
              "      <td>COAST NATIONAL BANK</td>\n",
              "      <td>CA</td>\n",
              "      <td>484210</td>\n",
              "      <td>20-Sep-05</td>\n",
              "      <td>2005</td>\n",
              "      <td>12</td>\n",
              "      <td>82</td>\n",
              "      <td>2.0</td>\n",
              "      <td>82</td>\n",
              "      <td>0</td>\n",
              "      <td>0</td>\n",
              "      <td>2</td>\n",
              "      <td>N</td>\n",
              "      <td>N</td>\n",
              "      <td>NaN</td>\n",
              "      <td>28-Feb-06</td>\n",
              "      <td>$4,000.00</td>\n",
              "      <td>$0.00</td>\n",
              "      <td>P I F</td>\n",
              "      <td>$0.00</td>\n",
              "      <td>$4,000.00</td>\n",
              "      <td>$2,000.00</td>\n",
              "    </tr>\n",
              "  </tbody>\n",
              "</table>\n",
              "</div>\n",
              "      <button class=\"colab-df-convert\" onclick=\"convertToInteractive('df-570e6eb7-5aaf-48bb-925a-fc19270444c8')\"\n",
              "              title=\"Convert this dataframe to an interactive table.\"\n",
              "              style=\"display:none;\">\n",
              "        \n",
              "  <svg xmlns=\"http://www.w3.org/2000/svg\" height=\"24px\"viewBox=\"0 0 24 24\"\n",
              "       width=\"24px\">\n",
              "    <path d=\"M0 0h24v24H0V0z\" fill=\"none\"/>\n",
              "    <path d=\"M18.56 5.44l.94 2.06.94-2.06 2.06-.94-2.06-.94-.94-2.06-.94 2.06-2.06.94zm-11 1L8.5 8.5l.94-2.06 2.06-.94-2.06-.94L8.5 2.5l-.94 2.06-2.06.94zm10 10l.94 2.06.94-2.06 2.06-.94-2.06-.94-.94-2.06-.94 2.06-2.06.94z\"/><path d=\"M17.41 7.96l-1.37-1.37c-.4-.4-.92-.59-1.43-.59-.52 0-1.04.2-1.43.59L10.3 9.45l-7.72 7.72c-.78.78-.78 2.05 0 2.83L4 21.41c.39.39.9.59 1.41.59.51 0 1.02-.2 1.41-.59l7.78-7.78 2.81-2.81c.8-.78.8-2.07 0-2.86zM5.41 20L4 18.59l7.72-7.72 1.47 1.35L5.41 20z\"/>\n",
              "  </svg>\n",
              "      </button>\n",
              "      \n",
              "  <style>\n",
              "    .colab-df-container {\n",
              "      display:flex;\n",
              "      flex-wrap:wrap;\n",
              "      gap: 12px;\n",
              "    }\n",
              "\n",
              "    .colab-df-convert {\n",
              "      background-color: #E8F0FE;\n",
              "      border: none;\n",
              "      border-radius: 50%;\n",
              "      cursor: pointer;\n",
              "      display: none;\n",
              "      fill: #1967D2;\n",
              "      height: 32px;\n",
              "      padding: 0 0 0 0;\n",
              "      width: 32px;\n",
              "    }\n",
              "\n",
              "    .colab-df-convert:hover {\n",
              "      background-color: #E2EBFA;\n",
              "      box-shadow: 0px 1px 2px rgba(60, 64, 67, 0.3), 0px 1px 3px 1px rgba(60, 64, 67, 0.15);\n",
              "      fill: #174EA6;\n",
              "    }\n",
              "\n",
              "    [theme=dark] .colab-df-convert {\n",
              "      background-color: #3B4455;\n",
              "      fill: #D2E3FC;\n",
              "    }\n",
              "\n",
              "    [theme=dark] .colab-df-convert:hover {\n",
              "      background-color: #434B5C;\n",
              "      box-shadow: 0px 1px 3px 1px rgba(0, 0, 0, 0.15);\n",
              "      filter: drop-shadow(0px 1px 2px rgba(0, 0, 0, 0.3));\n",
              "      fill: #FFFFFF;\n",
              "    }\n",
              "  </style>\n",
              "\n",
              "      <script>\n",
              "        const buttonEl =\n",
              "          document.querySelector('#df-570e6eb7-5aaf-48bb-925a-fc19270444c8 button.colab-df-convert');\n",
              "        buttonEl.style.display =\n",
              "          google.colab.kernel.accessAllowed ? 'block' : 'none';\n",
              "\n",
              "        async function convertToInteractive(key) {\n",
              "          const element = document.querySelector('#df-570e6eb7-5aaf-48bb-925a-fc19270444c8');\n",
              "          const dataTable =\n",
              "            await google.colab.kernel.invokeFunction('convertToInteractive',\n",
              "                                                     [key], {});\n",
              "          if (!dataTable) return;\n",
              "\n",
              "          const docLinkHtml = 'Like what you see? Visit the ' +\n",
              "            '<a target=\"_blank\" href=https://colab.research.google.com/notebooks/data_table.ipynb>data table notebook</a>'\n",
              "            + ' to learn more about interactive tables.';\n",
              "          element.innerHTML = '';\n",
              "          dataTable['output_type'] = 'display_data';\n",
              "          await google.colab.output.renderOutput(dataTable, element);\n",
              "          const docLink = document.createElement('div');\n",
              "          docLink.innerHTML = docLinkHtml;\n",
              "          element.appendChild(docLink);\n",
              "        }\n",
              "      </script>\n",
              "    </div>\n",
              "  </div>\n",
              "  "
            ]
          },
          "metadata": {},
          "execution_count": 16
        }
      ]
    },
    {
      "cell_type": "markdown",
      "source": [
        "These identical entries are errors in having indexed them as different loans and after this first analysis they will be deleted."
      ],
      "metadata": {
        "id": "Ga_GAqCWdxtB"
      }
    },
    {
      "cell_type": "markdown",
      "source": [
        "--------------------------------------------------------------------------------------------"
      ],
      "metadata": {
        "id": "sevumE_ZYZIv"
      }
    },
    {
      "cell_type": "markdown",
      "source": [
        "Let's make some graphics related to the questions posed in the business problem."
      ],
      "metadata": {
        "id": "Gnu2lLP0ME2I"
      }
    },
    {
      "cell_type": "markdown",
      "source": [
        "#### Variables related to the company"
      ],
      "metadata": {
        "id": "GjlWwIC94mdM"
      }
    },
    {
      "cell_type": "markdown",
      "source": [
        "Is there any relationship between the number of employees and problems in paying the loan?"
      ],
      "metadata": {
        "id": "utgGqMQO2NZl"
      }
    },
    {
      "cell_type": "code",
      "source": [
        "fig, ax = plt.subplots(figsize=(12, 5))\n",
        "sns.boxplot(x='MIS_Status', y = 'NoEmp', data = loans)  \n",
        "plt.title(\"MIS_Status vs Number of employees\");\n",
        "ax.set(xlabel='MIS_Status', ylabel='Number of employees');"
      ],
      "metadata": {
        "colab": {
          "base_uri": "https://localhost:8080/",
          "height": 54
        },
        "outputId": "a23bd149-29c4-467c-f5aa-3b7ec1e7416b",
        "id": "nOnpbEOVM35Y"
      },
      "execution_count": null,
      "outputs": [
        {
          "output_type": "display_data",
          "data": {
            "text/plain": [
              "<Figure size 864x360 with 1 Axes>"
            ],
            "image/png": "[encoded data removed]"
          },
          "metadata": {
            "needs_background": "light"
          }
        }
      ]
    },
    {
      "cell_type": "markdown",
      "source": [
        "There are many outliers and the graphic is not very understandable. Let's remove the outliers from the graph."
      ],
      "metadata": {
        "id": "jtAbwxqHM8ju"
      }
    },
    {
      "cell_type": "code",
      "source": [
        "fig, ax = plt.subplots(figsize=(12, 5))\n",
        "sns.boxplot(x='MIS_Status', y = 'NoEmp', data = loans,  showfliers = False)  \n",
        "plt.title(\"MIS_Status vs Number of employees\");\n",
        "ax.set(xlabel='MIS_Status', ylabel='Number of employees');"
      ],
      "metadata": {
        "id": "Y1M4K-Zo3d-M",
        "colab": {
          "base_uri": "https://localhost:8080/",
          "height": 54
        },
        "outputId": "a584b8bd-2752-47fb-f22d-269ddad8e3e3"
      },
      "execution_count": null,
      "outputs": [
        {
          "output_type": "display_data",
          "data": {
            "text/plain": [
              "<Figure size 864x360 with 1 Axes>"
            ],
            "image/png": "[encoded data removed]"
          },
          "metadata": {
            "needs_background": "light"
          }
        }
      ]
    },
    {
      "cell_type": "markdown",
      "source": [
        "Recall that those who had problems are those classified as 'CHGOFF', and those who did not have problems are those classified as 'P I F' (paid in full)."
      ],
      "metadata": {
        "id": "_MxCWxJ7mixz"
      }
    },
    {
      "cell_type": "markdown",
      "source": [
        "We see that, taking outliers, the companies that did not present problems when paying have more employees. This tells us that the greater the number of employees, the more likely payment is without a problem.\n",
        "\n",
        "We estimate, in principle, that this is because the companies with the largest number of employees are better established. Which leads us to wonder what relationship there is between failing to comply and the company being new. The NewExist field is 1 if the company existed before the loan and 2 if it is new.\n",
        " "
      ],
      "metadata": {
        "id": "HPCua7eN39ew"
      }
    },
    {
      "cell_type": "markdown",
      "source": [
        "Let's discuss the percentages of MIS_Status values based on whether it is new or not."
      ],
      "metadata": {
        "id": "ksdYgyVi9EKX"
      }
    },
    {
      "cell_type": "code",
      "source": [
        "loans[loans['NewExist']==2]['MIS_Status'].value_counts(normalize=True)"
      ],
      "metadata": {
        "id": "bBn-tuqtxABr",
        "colab": {
          "base_uri": "https://localhost:8080/"
        },
        "outputId": "2cc18c8d-fec8-4a48-f3e6-a3139deffd87"
      },
      "execution_count": null,
      "outputs": [
        {
          "output_type": "execute_result",
          "data": {
            "text/plain": [
              "P I F     0.812452\n",
              "CHGOFF    0.187548\n",
              "Name: MIS_Status, dtype: float64"
            ]
          },
          "metadata": {},
          "execution_count": 19
        }
      ]
    },
    {
      "cell_type": "code",
      "source": [
        "loans[loans['NewExist']==1]['MIS_Status'].value_counts(normalize=True)"
      ],
      "metadata": {
        "id": "owl5Dqu2yZ6n",
        "colab": {
          "base_uri": "https://localhost:8080/"
        },
        "outputId": "cc48a1d4-04a0-4db9-f071-ab231c55b5fd"
      },
      "execution_count": null,
      "outputs": [
        {
          "output_type": "execute_result",
          "data": {
            "text/plain": [
              "P I F     0.828868\n",
              "CHGOFF    0.171132\n",
              "Name: MIS_Status, dtype: float64"
            ]
          },
          "metadata": {},
          "execution_count": 20
        }
      ]
    },
    {
      "cell_type": "markdown",
      "source": [
        "Graphically:"
      ],
      "metadata": {
        "id": "Jsl_rFwN9QmS"
      }
    },
    {
      "cell_type": "code",
      "source": [
        "sns.displot(data=loans, x=\"MIS_Status\", col=\"NewExist\", hue=\"NewExist\", stat='percent', common_norm=False);\n"
      ],
      "metadata": {
        "id": "svo4rdQfzUct",
        "colab": {
          "base_uri": "https://localhost:8080/",
          "height": 54
        },
        "outputId": "19c6cc51-dda1-45b9-c1a0-89123e21b8e0"
      },
      "execution_count": null,
      "outputs": [
        {
          "output_type": "display_data",
          "data": {
            "text/plain": [
              "<Figure size 1133.88x360 with 3 Axes>"
            ],
            "image/png": "[encoded data removed]"
          },
          "metadata": {
            "needs_background": "light"
          }
        }
      ]
    },
    {
      "cell_type": "markdown",
      "source": [
        "We see that there is very little difference in default rates between new and existing businesses. Which rules out the above conjecture.\n",
        "\n",
        "On the other hand, we see that the NewExist parameter also has 0 values, which we associate with the fact that said parameter is not completed. How many 0 values are in that column?"
      ],
      "metadata": {
        "id": "p-m8clnrluru"
      }
    },
    {
      "cell_type": "code",
      "source": [
        "loans[loans['NewExist']==0].shape[0] #shape[0] returns the number of rows, that is, the number of records where NewExist is equal to 0."
      ],
      "metadata": {
        "id": "YWDuOHkS1BOX",
        "colab": {
          "base_uri": "https://localhost:8080/"
        },
        "outputId": "6ea5cb24-03c3-42a9-8786-8dab1f48fdd2"
      },
      "execution_count": null,
      "outputs": [
        {
          "output_type": "execute_result",
          "data": {
            "text/plain": [
              "1034"
            ]
          },
          "metadata": {},
          "execution_count": 22
        }
      ]
    },
    {
      "cell_type": "markdown",
      "source": [
        "This is a small number compared to the total. We see striking that there is a significant difference between the companies that are not classified and those that are classified. This difference cannot be attributed to random error:"
      ],
      "metadata": {
        "id": "3eQi10-KkF65"
      }
    },
    {
      "cell_type": "code",
      "source": [
        "# We do an hypothesis test\n",
        "\n",
        "#We create a column 'MIS_Status_numeric' for analysis. Since we don't want to \n",
        "#touch the original dataset in this first analysis, we do it on a copy.\n",
        "loans_copy = loans.copy()\n",
        "loans_copy['MIS_Status_numeric'] = loans_copy['MIS_Status']=='CHGOFF'#This new column is \n",
        "#True if there were problems with the payment, and False if not.\n",
        "loans['MIS_Status_numeric'] = loans_copy['MIS_Status_numeric'].astype(int) #We pass \n",
        "#this field into binary.\n",
        "\n",
        "sample_0 = loans_copy[loans_copy['NewExist']==0]['MIS_Status_numeric']\n",
        "sample_1 = loans_copy[loans_copy['NewExist']!=1]['MIS_Status_numeric']\n",
        "# sample_0_mean = np.mean(sample_0)\n",
        "# sample_1_mean = np.mean(sample_1)\n",
        "# sample_0_std = np.std(sample_0)\n",
        "# sample_1_std = np.std(sample_1)\n",
        "# print(\"sample_0 mean value:\",sample_0_mean)\n",
        "# print(\"sample_1 mean value:\",sample_1_mean)\n",
        "# print(\"sample_0 std value:\", sample_0_std)\n",
        "# print(\"sample_1 std value:\", sample_1_std)\n",
        "\n",
        "ttest,pval = ttest_ind(sample_0,sample_1)\n",
        "print(\"p-value:\",pval)\n",
        "if pval <0.05:\n",
        "  print(\"We reject null hypothesis.\")\n",
        "else:\n",
        "  print(\"We accept null hypothesis.\")\n",
        "print(\"(The null hypothesis is that the two populations have the same real means).\")"
      ],
      "metadata": {
        "colab": {
          "base_uri": "https://localhost:8080/"
        },
        "id": "JFMXA1-PlNOS",
        "outputId": "d308c5c0-ae27-4f73-9cf3-b0574108067b"
      },
      "execution_count": null,
      "outputs": [
        {
          "output_type": "stream",
          "name": "stdout",
          "text": [
            "p-value: 3.7004214503707636e-25\n",
            "We reject null hypothesis.\n",
            "(The null hypothesis is that the two populations have the same real means).\n"
          ]
        }
      ]
    },
    {
      "cell_type": "markdown",
      "source": [
        "The hypothesis test tells us that the difference is real. We do not have an explanation for this difference at this time."
      ],
      "metadata": {
        "id": "J6vAXNP8rLOo"
      }
    },
    {
      "cell_type": "markdown",
      "source": [
        "With respect to being an urban or rural company,"
      ],
      "metadata": {
        "id": "E4R2Gh0ezd0V"
      }
    },
    {
      "cell_type": "code",
      "source": [
        "sns.displot(data=loans, x=\"MIS_Status\", col=\"UrbanRural\", hue=\"UrbanRural\", stat='percent', common_norm=False);"
      ],
      "metadata": {
        "id": "gwSByw8NzdS9",
        "colab": {
          "base_uri": "https://localhost:8080/",
          "height": 54
        },
        "outputId": "2e2674bf-3e73-482a-abae-c54d4745cb5c"
      },
      "execution_count": null,
      "outputs": [
        {
          "output_type": "display_data",
          "data": {
            "text/plain": [
              "<Figure size 1144.12x360 with 3 Axes>"
            ],
            "image/png": "[encoded data removed]"
          },
          "metadata": {
            "needs_background": "light"
          }
        }
      ]
    },
    {
      "cell_type": "markdown",
      "source": [
        "We do not see a significant difference in whether it is urban or not. We do see a difference if it is indefinite. This difference is also not due to chance:"
      ],
      "metadata": {
        "id": "xAYK66F2z6cj"
      }
    },
    {
      "cell_type": "code",
      "source": [
        "sample_0 = loans_copy[loans['UrbanRural']==0]['MIS_Status_numeric']\n",
        "sample_1 = loans_copy[loans['UrbanRural']!=1]['MIS_Status_numeric']\n",
        "# sample_0_mean = np.mean(sample_0)\n",
        "# sample_1_mean = np.mean(sample_1)\n",
        "# sample_0_std = np.std(sample_0)\n",
        "# sample_1_std = np.std(sample_1)\n",
        "# print(\"sample_0 mean value:\",sample_0_mean)\n",
        "# print(\"sample_1 mean value:\",sample_1_mean)\n",
        "# print(\"sample_0 std value:\", sample_0_std)\n",
        "# print(\"sample_1 std value:\", sample_1_std)\n",
        "\n",
        "ttest,pval = ttest_ind(sample_0,sample_1)\n",
        "print(\"p-value:\",pval)\n",
        "if pval <0.05:\n",
        "  print(\"We reject null hypothesis.\")\n",
        "else:\n",
        "  print(\"We accept null hypothesis.\")\n",
        "print(\"(The null hypothesis is that the two populations have the same real means).\")"
      ],
      "metadata": {
        "colab": {
          "base_uri": "https://localhost:8080/"
        },
        "outputId": "09eb4e88-d832-4515-cb3b-8f2c6c8d7e87",
        "id": "oUt3VDumsNS3"
      },
      "execution_count": null,
      "outputs": [
        {
          "output_type": "stream",
          "name": "stdout",
          "text": [
            "p-value: 0.0\n",
            "We reject null hypothesis.\n",
            "(The null hypothesis is that the two populations have the same real means).\n"
          ]
        }
      ]
    },
    {
      "cell_type": "markdown",
      "source": [
        "###First insights and conclusions"
      ],
      "metadata": {
        "id": "CeDU-Q9pp87C"
      }
    },
    {
      "cell_type": "markdown",
      "source": [
        "*   The LoanNr_ChkDgt column is an id so it must be removed.\n",
        "*   Column 9, that is, ApprovalFY, has multiple types. It should be a date format (if it is date) or integer (if it is year).\n",
        "*   Columns Name, City, State, Bank, BankState, NewExist, RevLineCr, LowDoc, ChgOffDate, DisbursementDate, MIS_Status have null values.\n",
        "\n",
        "    The Name, Bank, and ChgOffDate columns we don't think are important and will probably remove them. The first 2 because they have too many different values and we don't think they can be included in a model. The third clearly has no predictive value because it indicates the date the default started (if any).\n",
        "\n",
        "     On the other hand, MIS_Status is critical, and all rows with null MIS_Status should be removed as it is the target variable.\n",
        "\n",
        "*   The NAICS column has zeros. The zeros in this case represent null values. They are more than 22% of the cases.\n",
        "*   The DisbursementGross, BalanceGross, GrAppv, and SBA_Appv columns are currency values and should be passed to numbers (int or float).\n",
        "*   The ApprovalDate, DisbursementDate, and\n",
        "ChgOffDate is date data, but they are as strings. In any case, since they are date variables, they are influenced by contextual and unpredictable issues, they will not help us to make a predictive model. Before assembling the model we are going to remove them.\n",
        "*   There are rows with identical data, rows with duplicate data will be removed.\n",
        "*   The first two digits of the NAICS column indicate the company's industry sector and are to be taken as a new column. We don't think the original NAICS column is more useful and we are going to remove it.\n",
        "*   The RevLineCr column takes 18 different values when it should take 2. It would have to be eliminated or join all the values that are not the two expected as one because it is not understood if they are errors or mean something.\n",
        "*   The target variable, MIS_Status, would be better having it boolean, it would have to be transformed.\n",
        "*   There is a clear relationship between the number of employees and the risk of non-payment. The greater the number of employees, the less risk. This relationship is not due to the company being new or not.\n",
        "*   Loans where the NewExist variable has a value of 0, which is equivalent to not being catalogued, have less risk of default than those with this variable well classified.\n",
        "*   Whether the company is rural or not does not have much impact on payments. It does have some incidence if it is categorized as indefinite.\n",
        "*   It is necessary to do all the mentioned transformations to be able to graph and try to answer most of the questions.\n"
      ],
      "metadata": {
        "id": "qCr1Eh9oprUp"
      }
    },
    {
      "cell_type": "markdown",
      "source": [
        "### Pending transformations of the first contact"
      ],
      "metadata": {
        "id": "aLyn8szmB0Tf"
      }
    },
    {
      "cell_type": "markdown",
      "source": [
        "Let's apply the transformations that we saw necessary in the first part of the EDA."
      ],
      "metadata": {
        "id": "kLyIYrDZFgjY"
      }
    },
    {
      "cell_type": "markdown",
      "source": [
        "Looking at the first values of the 'ApprovalFY' column we see that it should be an integer since it is the number of the fiscal year of loan approval. But there is a problem, you can check that NOT all the rows are a pure year. So let's first load that column as a string and then clean up the errors."
      ],
      "metadata": {
        "id": "1N8v648FHxsc"
      }
    },
    {
      "cell_type": "code",
      "source": [
        "loans = pd.read_csv(path + \"Should This Loan be Approved or Denied.csv\", dtype={'ApprovalFY': str})"
      ],
      "metadata": {
        "id": "MXrkx9k9I_4F"
      },
      "execution_count": null,
      "outputs": []
    },
    {
      "cell_type": "code",
      "source": [
        "print (loans[~loans['ApprovalFY'].str.isdigit()].ApprovalFY) #These are all the rows where the field is not a pure number."
      ],
      "metadata": {
        "colab": {
          "base_uri": "https://localhost:8080/"
        },
        "id": "jJKcHzZTIAl8",
        "outputId": "2bdf6d50-1557-4223-9a7a-590db6f75f5e"
      },
      "execution_count": null,
      "outputs": [
        {
          "output_type": "stream",
          "name": "stdout",
          "text": [
            "699732    1976A\n",
            "704030    1976A\n",
            "705375    1976A\n",
            "710381    1976A\n",
            "713245    1976A\n",
            "748029    1976A\n",
            "751519    1976A\n",
            "769515    1976A\n",
            "775002    1976A\n",
            "775430    1976A\n",
            "775978    1976A\n",
            "776367    1976A\n",
            "780120    1976A\n",
            "781090    1976A\n",
            "784351    1976A\n",
            "788539    1976A\n",
            "788661    1976A\n",
            "793733    1976A\n",
            "Name: ApprovalFY, dtype: object\n"
          ]
        }
      ]
    },
    {
      "cell_type": "code",
      "source": [
        "loans['ApprovalFY']=loans['ApprovalFY'].str.replace(\"1976A\",\"1976\")    \n",
        "loans['ApprovalFY']=loans['ApprovalFY'].astype('int')"
      ],
      "metadata": {
        "id": "FPkSvUuvJ7qr"
      },
      "execution_count": null,
      "outputs": []
    },
    {
      "cell_type": "markdown",
      "source": [
        "Now that problem has disappeared, the ApprovalFY field has only one type:"
      ],
      "metadata": {
        "id": "YmItGl1OLQZd"
      }
    },
    {
      "cell_type": "code",
      "source": [
        "for column in loans.columns:\n",
        "  print(column, ' ---> ', pd.api.types.infer_dtype(loans[column]))"
      ],
      "metadata": {
        "colab": {
          "base_uri": "https://localhost:8080/"
        },
        "id": "9fWmrjxqJIWo",
        "outputId": "63d68795-0734-48c6-da89-3e8980d1a9d0"
      },
      "execution_count": null,
      "outputs": [
        {
          "output_type": "stream",
          "name": "stdout",
          "text": [
            "LoanNr_ChkDgt  --->  integer\n",
            "Name  --->  string\n",
            "City  --->  string\n",
            "State  --->  string\n",
            "Zip  --->  integer\n",
            "Bank  --->  string\n",
            "BankState  --->  string\n",
            "NAICS  --->  integer\n",
            "ApprovalDate  --->  string\n",
            "ApprovalFY  --->  integer\n",
            "Term  --->  integer\n",
            "NoEmp  --->  integer\n",
            "NewExist  --->  floating\n",
            "CreateJob  --->  integer\n",
            "RetainedJob  --->  integer\n",
            "FranchiseCode  --->  integer\n",
            "UrbanRural  --->  integer\n",
            "RevLineCr  --->  string\n",
            "LowDoc  --->  string\n",
            "ChgOffDate  --->  string\n",
            "DisbursementDate  --->  string\n",
            "DisbursementGross  --->  string\n",
            "BalanceGross  --->  string\n",
            "MIS_Status  --->  string\n",
            "ChgOffPrinGr  --->  string\n",
            "GrAppv  --->  string\n",
            "SBA_Appv  --->  string\n"
          ]
        }
      ]
    },
    {
      "cell_type": "markdown",
      "source": [
        "----------------------------------------------------------"
      ],
      "metadata": {
        "id": "D46YEXkXLdXo"
      }
    },
    {
      "cell_type": "markdown",
      "source": [
        "Let's throw out the id column:"
      ],
      "metadata": {
        "id": "Y2ITCK7B3opr"
      }
    },
    {
      "cell_type": "code",
      "source": [
        "loans.drop(['LoanNr_ChkDgt'], axis=1, inplace=True);"
      ],
      "metadata": {
        "id": "AoXU0QZd3n71"
      },
      "execution_count": null,
      "outputs": []
    },
    {
      "cell_type": "markdown",
      "source": [
        "----------------------------------------------------------"
      ],
      "metadata": {
        "id": "kdlqWVGqLlSz"
      }
    },
    {
      "cell_type": "markdown",
      "source": [
        "Now we convert the currency fields 'DisbursementGross', 'BalanceGross', 'GrAppv', 'SBA_Appv' into float format."
      ],
      "metadata": {
        "id": "mdzNgezbQOiJ"
      }
    },
    {
      "cell_type": "code",
      "source": [
        "loans[['DisbursementGross', 'BalanceGross', 'GrAppv', 'SBA_Appv']] = (loans[['DisbursementGross', 'BalanceGross', 'GrAppv', 'SBA_Appv']]).replace({\"[\\$]\": \"\", \"[,]\": \"\"}, regex=True) \n",
        "loans[['DisbursementGross', 'BalanceGross', 'GrAppv', 'SBA_Appv']]=loans[['DisbursementGross', 'BalanceGross', 'GrAppv', 'SBA_Appv']].astype('float')"
      ],
      "metadata": {
        "id": "-dAHqeYzGMRP"
      },
      "execution_count": null,
      "outputs": []
    },
    {
      "cell_type": "markdown",
      "source": [
        "Now, the fields 'DisbursementGross', 'BalanceGross', 'GrAppv', 'SBA_Appv' are in correct format:\n"
      ],
      "metadata": {
        "id": "lwp_4ZgjOgE0"
      }
    },
    {
      "cell_type": "code",
      "source": [
        "loans[['DisbursementGross', 'BalanceGross', 'GrAppv', 'SBA_Appv']].head()"
      ],
      "metadata": {
        "colab": {
          "base_uri": "https://localhost:8080/",
          "height": 206
        },
        "id": "Quug16SzOtJC",
        "outputId": "d9950f0e-f4fe-439b-a11e-9c8532bff237"
      },
      "execution_count": null,
      "outputs": [
        {
          "output_type": "execute_result",
          "data": {
            "text/plain": [
              "   DisbursementGross  BalanceGross    GrAppv  SBA_Appv\n",
              "0            60000.0           0.0   60000.0   48000.0\n",
              "1            40000.0           0.0   40000.0   32000.0\n",
              "2           287000.0           0.0  287000.0  215250.0\n",
              "3            35000.0           0.0   35000.0   28000.0\n",
              "4           229000.0           0.0  229000.0  229000.0"
            ],
            "text/html": [
              "\n",
              "  <div id=\"df-207e96ae-72c9-4281-822f-a409ffdfd426\">\n",
              "    <div class=\"colab-df-container\">\n",
              "      <div>\n",
              "<style scoped>\n",
              "    .dataframe tbody tr th:only-of-type {\n",
              "        vertical-align: middle;\n",
              "    }\n",
              "\n",
              "    .dataframe tbody tr th {\n",
              "        vertical-align: top;\n",
              "    }\n",
              "\n",
              "    .dataframe thead th {\n",
              "        text-align: right;\n",
              "    }\n",
              "</style>\n",
              "<table border=\"1\" class=\"dataframe\">\n",
              "  <thead>\n",
              "    <tr style=\"text-align: right;\">\n",
              "      <th></th>\n",
              "      <th>DisbursementGross</th>\n",
              "      <th>BalanceGross</th>\n",
              "      <th>GrAppv</th>\n",
              "      <th>SBA_Appv</th>\n",
              "    </tr>\n",
              "  </thead>\n",
              "  <tbody>\n",
              "    <tr>\n",
              "      <th>0</th>\n",
              "      <td>60000.0</td>\n",
              "      <td>0.0</td>\n",
              "      <td>60000.0</td>\n",
              "      <td>48000.0</td>\n",
              "    </tr>\n",
              "    <tr>\n",
              "      <th>1</th>\n",
              "      <td>40000.0</td>\n",
              "      <td>0.0</td>\n",
              "      <td>40000.0</td>\n",
              "      <td>32000.0</td>\n",
              "    </tr>\n",
              "    <tr>\n",
              "      <th>2</th>\n",
              "      <td>287000.0</td>\n",
              "      <td>0.0</td>\n",
              "      <td>287000.0</td>\n",
              "      <td>215250.0</td>\n",
              "    </tr>\n",
              "    <tr>\n",
              "      <th>3</th>\n",
              "      <td>35000.0</td>\n",
              "      <td>0.0</td>\n",
              "      <td>35000.0</td>\n",
              "      <td>28000.0</td>\n",
              "    </tr>\n",
              "    <tr>\n",
              "      <th>4</th>\n",
              "      <td>229000.0</td>\n",
              "      <td>0.0</td>\n",
              "      <td>229000.0</td>\n",
              "      <td>229000.0</td>\n",
              "    </tr>\n",
              "  </tbody>\n",
              "</table>\n",
              "</div>\n",
              "      <button class=\"colab-df-convert\" onclick=\"convertToInteractive('df-207e96ae-72c9-4281-822f-a409ffdfd426')\"\n",
              "              title=\"Convert this dataframe to an interactive table.\"\n",
              "              style=\"display:none;\">\n",
              "        \n",
              "  <svg xmlns=\"http://www.w3.org/2000/svg\" height=\"24px\"viewBox=\"0 0 24 24\"\n",
              "       width=\"24px\">\n",
              "    <path d=\"M0 0h24v24H0V0z\" fill=\"none\"/>\n",
              "    <path d=\"M18.56 5.44l.94 2.06.94-2.06 2.06-.94-2.06-.94-.94-2.06-.94 2.06-2.06.94zm-11 1L8.5 8.5l.94-2.06 2.06-.94-2.06-.94L8.5 2.5l-.94 2.06-2.06.94zm10 10l.94 2.06.94-2.06 2.06-.94-2.06-.94-.94-2.06-.94 2.06-2.06.94z\"/><path d=\"M17.41 7.96l-1.37-1.37c-.4-.4-.92-.59-1.43-.59-.52 0-1.04.2-1.43.59L10.3 9.45l-7.72 7.72c-.78.78-.78 2.05 0 2.83L4 21.41c.39.39.9.59 1.41.59.51 0 1.02-.2 1.41-.59l7.78-7.78 2.81-2.81c.8-.78.8-2.07 0-2.86zM5.41 20L4 18.59l7.72-7.72 1.47 1.35L5.41 20z\"/>\n",
              "  </svg>\n",
              "      </button>\n",
              "      \n",
              "  <style>\n",
              "    .colab-df-container {\n",
              "      display:flex;\n",
              "      flex-wrap:wrap;\n",
              "      gap: 12px;\n",
              "    }\n",
              "\n",
              "    .colab-df-convert {\n",
              "      background-color: #E8F0FE;\n",
              "      border: none;\n",
              "      border-radius: 50%;\n",
              "      cursor: pointer;\n",
              "      display: none;\n",
              "      fill: #1967D2;\n",
              "      height: 32px;\n",
              "      padding: 0 0 0 0;\n",
              "      width: 32px;\n",
              "    }\n",
              "\n",
              "    .colab-df-convert:hover {\n",
              "      background-color: #E2EBFA;\n",
              "      box-shadow: 0px 1px 2px rgba(60, 64, 67, 0.3), 0px 1px 3px 1px rgba(60, 64, 67, 0.15);\n",
              "      fill: #174EA6;\n",
              "    }\n",
              "\n",
              "    [theme=dark] .colab-df-convert {\n",
              "      background-color: #3B4455;\n",
              "      fill: #D2E3FC;\n",
              "    }\n",
              "\n",
              "    [theme=dark] .colab-df-convert:hover {\n",
              "      background-color: #434B5C;\n",
              "      box-shadow: 0px 1px 3px 1px rgba(0, 0, 0, 0.15);\n",
              "      filter: drop-shadow(0px 1px 2px rgba(0, 0, 0, 0.3));\n",
              "      fill: #FFFFFF;\n",
              "    }\n",
              "  </style>\n",
              "\n",
              "      <script>\n",
              "        const buttonEl =\n",
              "          document.querySelector('#df-207e96ae-72c9-4281-822f-a409ffdfd426 button.colab-df-convert');\n",
              "        buttonEl.style.display =\n",
              "          google.colab.kernel.accessAllowed ? 'block' : 'none';\n",
              "\n",
              "        async function convertToInteractive(key) {\n",
              "          const element = document.querySelector('#df-207e96ae-72c9-4281-822f-a409ffdfd426');\n",
              "          const dataTable =\n",
              "            await google.colab.kernel.invokeFunction('convertToInteractive',\n",
              "                                                     [key], {});\n",
              "          if (!dataTable) return;\n",
              "\n",
              "          const docLinkHtml = 'Like what you see? Visit the ' +\n",
              "            '<a target=\"_blank\" href=https://colab.research.google.com/notebooks/data_table.ipynb>data table notebook</a>'\n",
              "            + ' to learn more about interactive tables.';\n",
              "          element.innerHTML = '';\n",
              "          dataTable['output_type'] = 'display_data';\n",
              "          await google.colab.output.renderOutput(dataTable, element);\n",
              "          const docLink = document.createElement('div');\n",
              "          docLink.innerHTML = docLinkHtml;\n",
              "          element.appendChild(docLink);\n",
              "        }\n",
              "      </script>\n",
              "    </div>\n",
              "  </div>\n",
              "  "
            ]
          },
          "metadata": {},
          "execution_count": 32
        }
      ]
    },
    {
      "cell_type": "markdown",
      "source": [
        "----------------------------------------------------------"
      ],
      "metadata": {
        "id": "C3WdLZbULnnR"
      }
    },
    {
      "cell_type": "markdown",
      "source": [
        "Let's delete duplicate entries."
      ],
      "metadata": {
        "id": "0o_Cv5RTUuYL"
      }
    },
    {
      "cell_type": "code",
      "source": [
        "loans.duplicated().sum()"
      ],
      "metadata": {
        "colab": {
          "base_uri": "https://localhost:8080/"
        },
        "id": "KoQm9yIIeZ4N",
        "outputId": "5c045057-4823-4d41-d308-8c452e112a34"
      },
      "execution_count": null,
      "outputs": [
        {
          "output_type": "execute_result",
          "data": {
            "text/plain": [
              "128"
            ]
          },
          "metadata": {},
          "execution_count": 33
        }
      ]
    },
    {
      "cell_type": "code",
      "source": [
        "loans.drop_duplicates(inplace=True)"
      ],
      "metadata": {
        "id": "HVvr3_0HfJgq"
      },
      "execution_count": null,
      "outputs": []
    },
    {
      "cell_type": "code",
      "source": [
        "loans.duplicated().sum()"
      ],
      "metadata": {
        "colab": {
          "base_uri": "https://localhost:8080/"
        },
        "id": "uUne0ULSflqJ",
        "outputId": "7e403a79-f127-4c27-a11a-5ba841f49e6e"
      },
      "execution_count": null,
      "outputs": [
        {
          "output_type": "execute_result",
          "data": {
            "text/plain": [
              "0"
            ]
          },
          "metadata": {},
          "execution_count": 35
        }
      ]
    },
    {
      "cell_type": "markdown",
      "source": [
        "----------------------------------------------------------"
      ],
      "metadata": {
        "id": "kbtSb1elUtqw"
      }
    },
    {
      "cell_type": "markdown",
      "source": [
        "Let's create some fields."
      ],
      "metadata": {
        "id": "9JW1WfX_Rqd0"
      }
    },
    {
      "cell_type": "code",
      "source": [
        "loans['Sector'] = (loans['NAICS'].astype(str).str[:2])#The str[:2] command extracts the first two digits,\n",
        "#but it has to be a string, so we put .astype(str) before it."
      ],
      "metadata": {
        "id": "hh0-SzJ8RkVT"
      },
      "execution_count": null,
      "outputs": []
    },
    {
      "cell_type": "code",
      "source": [
        "loans['Subsector'] = (loans['NAICS'].astype(str).str[2:3])#In the variables engineering section we are \n",
        "#going to analyze if it is useful to stay with the sector and sub-sector, or if it is better to stay only with \n",
        "#the sector."
      ],
      "metadata": {
        "id": "PHYWxru6SCal"
      },
      "execution_count": null,
      "outputs": []
    },
    {
      "cell_type": "markdown",
      "source": [
        "You can see that the zeros in the 'NAICS' column translate to 0s for 'Sector' and empty strings for 'Subsector' (empty string is not the same as null). Also if there is a zero in 'Sector' it is because there was a zero in 'NAICS', and if there is a '' in 'Sector' it is because there was a zero in 'NAICS'."
      ],
      "metadata": {
        "id": "cGdlwWKn7Qsi"
      }
    },
    {
      "cell_type": "code",
      "source": [
        "# aux=loans[loans['NAICS']==0][['NAICS', 'Sector', 'Subsector']] #We create a\n",
        "# #auxiliay datataframe with the rows where NAICS column is equal to zero.\n",
        "# print(aux.info())\n",
        "# #Them, there are 201948 zeros in NAICS.\n",
        "# print(aux.head(5))\n",
        "# print(aux['NAICS'].equals(aux['Sector'].astype(int)) #We can't compare them directly\n",
        "# #because 'NAICS' is a int and 'Sector' is a string.)\n",
        "# #So, every zero in NAICS is a zero of Sector.\n",
        "# print(loans[loans['Sector']=='0'])['Sector'].count())\n",
        "# #There are 201948 zeroes in Sector, the same value that is in NAICS column. So, \n",
        "# #there are not more zeroes in Sector than in NAICS.\n",
        "# print(aux['Subsector'].isnull().sum()) \n",
        "# #So, there are not nulls in Subsector.\n",
        "# print((aux['Subsector']=='').sum()) #There are 201948 '' in Subsector. So the \n",
        "# #zeroes in NAICS became '' in Subsector.\n",
        "# print((loans[loans['Subsector']==''])['Subsector'].count())\n",
        "# #There are 201948 ''values in Subsector. So, #here are not more '' in Sector \n",
        "# #than zeores in NAICS."
      ],
      "metadata": {
        "id": "qAgtrSUC7bek"
      },
      "execution_count": null,
      "outputs": []
    },
    {
      "cell_type": "markdown",
      "source": [
        "We are not going to use the NAICS column for anything else so we can throw it away. (The only problem would have been not being able to identify the 'NAICS' zeroes, but we just mentioned that the 'NAICS' zeroes translate exactly to zeros in 'Sector' and '' in 'Subsector')."
      ],
      "metadata": {
        "id": "f02vpmVB6adZ"
      }
    },
    {
      "cell_type": "code",
      "source": [
        "loans.drop(['NAICS'], axis=1,inplace=True)"
      ],
      "metadata": {
        "id": "eTrj2dRZ6h1V"
      },
      "execution_count": null,
      "outputs": []
    },
    {
      "cell_type": "markdown",
      "source": [
        "----------------------------------------------------------"
      ],
      "metadata": {
        "id": "gdUZvNTCLrTp"
      }
    },
    {
      "cell_type": "markdown",
      "source": [
        "Let's convert the 'MIS_Status' column in a boolean column. In order not to have a problem with some commands, we are going to set them with the values 0 and 1.We are going to call this new column 'Default', so that the value 1 means that the loan had problems in its payment."
      ],
      "metadata": {
        "id": "Km2Da4dPLszb"
      }
    },
    {
      "cell_type": "code",
      "source": [
        "loans['Default'] = loans['MIS_Status']=='CHGOFF'#This new column is True if there were problems with the payment, and False if not.\n",
        "loans['Default'] = loans['Default'].astype(int) #We go to binary."
      ],
      "metadata": {
        "id": "-UiW36JUSq45"
      },
      "execution_count": null,
      "outputs": []
    },
    {
      "cell_type": "markdown",
      "source": [
        "Because of the way we created this new column, the null values of 'MIS_Status' are zeros of 'Default', but in reality they should be nulls of 'Default' as well. Also remember that rows with null values in 'Default' must be deleted, so we can directly delete those rows and then the values of 'Default' will be correct."
      ],
      "metadata": {
        "id": "xC3lP6hKy-WX"
      }
    },
    {
      "cell_type": "code",
      "source": [
        "loans.dropna(axis=0, subset=['MIS_Status'], inplace=True)"
      ],
      "metadata": {
        "id": "1IpVBcNuy_QM"
      },
      "execution_count": null,
      "outputs": []
    },
    {
      "cell_type": "markdown",
      "source": [
        "Now, we can delete 'MIS_Status' column ."
      ],
      "metadata": {
        "id": "89sUiChyO9n6"
      }
    },
    {
      "cell_type": "code",
      "source": [
        "loans.drop(['MIS_Status'], axis=1,inplace=True);"
      ],
      "metadata": {
        "id": "VuorKPMmPEQI"
      },
      "execution_count": null,
      "outputs": []
    },
    {
      "cell_type": "markdown",
      "source": [
        "----------------------------------------------------------"
      ],
      "metadata": {
        "id": "Mq9w2jL_N4Ml"
      }
    },
    {
      "cell_type": "markdown",
      "source": [
        "Although the ApprovalDate, DisbursementDate, and ChgOffDate will be eliminated later because it does not have a predictive value. It will be interesting to graph them to see what incidence the dates on which the events occur have. So let's transform them to date format. Let's see first what format they have."
      ],
      "metadata": {
        "id": "W-qPp7DMTv3R"
      }
    },
    {
      "cell_type": "code",
      "source": [
        "print(pd.api.types.infer_dtype(loans['ApprovalDate']))\n",
        "print(pd.api.types.infer_dtype(loans['DisbursementDate']))\n",
        "print(pd.api.types.infer_dtype(loans['ChgOffDate']))"
      ],
      "metadata": {
        "colab": {
          "base_uri": "https://localhost:8080/"
        },
        "id": "DKe0z0nwUdyj",
        "outputId": "bdf53aea-57e3-4712-b4ae-007096117afc"
      },
      "execution_count": null,
      "outputs": [
        {
          "output_type": "stream",
          "name": "stdout",
          "text": [
            "string\n",
            "string\n",
            "string\n"
          ]
        }
      ]
    },
    {
      "cell_type": "code",
      "source": [
        "loans[['ApprovalDate', 'DisbursementDate', 'ChgOffDate']].sample(5)"
      ],
      "metadata": {
        "colab": {
          "base_uri": "https://localhost:8080/",
          "height": 206
        },
        "id": "A6eR5uQNV2KN",
        "outputId": "bb383d11-013e-4eef-e184-0a702076ac26"
      },
      "execution_count": null,
      "outputs": [
        {
          "output_type": "execute_result",
          "data": {
            "text/plain": [
              "       ApprovalDate DisbursementDate ChgOffDate\n",
              "626106    11-Feb-94        30-Apr-94        NaN\n",
              "799058    27-Jul-95        14-May-97        NaN\n",
              "835507    30-Jun-05        31-Aug-06        NaN\n",
              "658246    29-Aug-03        30-Nov-03        NaN\n",
              "570546    19-Aug-02        31-Dec-02  14-Jun-06"
            ],
            "text/html": [
              "\n",
              "  <div id=\"df-4b557ff0-6018-4741-aa77-464396a8553c\">\n",
              "    <div class=\"colab-df-container\">\n",
              "      <div>\n",
              "<style scoped>\n",
              "    .dataframe tbody tr th:only-of-type {\n",
              "        vertical-align: middle;\n",
              "    }\n",
              "\n",
              "    .dataframe tbody tr th {\n",
              "        vertical-align: top;\n",
              "    }\n",
              "\n",
              "    .dataframe thead th {\n",
              "        text-align: right;\n",
              "    }\n",
              "</style>\n",
              "<table border=\"1\" class=\"dataframe\">\n",
              "  <thead>\n",
              "    <tr style=\"text-align: right;\">\n",
              "      <th></th>\n",
              "      <th>ApprovalDate</th>\n",
              "      <th>DisbursementDate</th>\n",
              "      <th>ChgOffDate</th>\n",
              "    </tr>\n",
              "  </thead>\n",
              "  <tbody>\n",
              "    <tr>\n",
              "      <th>626106</th>\n",
              "      <td>11-Feb-94</td>\n",
              "      <td>30-Apr-94</td>\n",
              "      <td>NaN</td>\n",
              "    </tr>\n",
              "    <tr>\n",
              "      <th>799058</th>\n",
              "      <td>27-Jul-95</td>\n",
              "      <td>14-May-97</td>\n",
              "      <td>NaN</td>\n",
              "    </tr>\n",
              "    <tr>\n",
              "      <th>835507</th>\n",
              "      <td>30-Jun-05</td>\n",
              "      <td>31-Aug-06</td>\n",
              "      <td>NaN</td>\n",
              "    </tr>\n",
              "    <tr>\n",
              "      <th>658246</th>\n",
              "      <td>29-Aug-03</td>\n",
              "      <td>30-Nov-03</td>\n",
              "      <td>NaN</td>\n",
              "    </tr>\n",
              "    <tr>\n",
              "      <th>570546</th>\n",
              "      <td>19-Aug-02</td>\n",
              "      <td>31-Dec-02</td>\n",
              "      <td>14-Jun-06</td>\n",
              "    </tr>\n",
              "  </tbody>\n",
              "</table>\n",
              "</div>\n",
              "      <button class=\"colab-df-convert\" onclick=\"convertToInteractive('df-4b557ff0-6018-4741-aa77-464396a8553c')\"\n",
              "              title=\"Convert this dataframe to an interactive table.\"\n",
              "              style=\"display:none;\">\n",
              "        \n",
              "  <svg xmlns=\"http://www.w3.org/2000/svg\" height=\"24px\"viewBox=\"0 0 24 24\"\n",
              "       width=\"24px\">\n",
              "    <path d=\"M0 0h24v24H0V0z\" fill=\"none\"/>\n",
              "    <path d=\"M18.56 5.44l.94 2.06.94-2.06 2.06-.94-2.06-.94-.94-2.06-.94 2.06-2.06.94zm-11 1L8.5 8.5l.94-2.06 2.06-.94-2.06-.94L8.5 2.5l-.94 2.06-2.06.94zm10 10l.94 2.06.94-2.06 2.06-.94-2.06-.94-.94-2.06-.94 2.06-2.06.94z\"/><path d=\"M17.41 7.96l-1.37-1.37c-.4-.4-.92-.59-1.43-.59-.52 0-1.04.2-1.43.59L10.3 9.45l-7.72 7.72c-.78.78-.78 2.05 0 2.83L4 21.41c.39.39.9.59 1.41.59.51 0 1.02-.2 1.41-.59l7.78-7.78 2.81-2.81c.8-.78.8-2.07 0-2.86zM5.41 20L4 18.59l7.72-7.72 1.47 1.35L5.41 20z\"/>\n",
              "  </svg>\n",
              "      </button>\n",
              "      \n",
              "  <style>\n",
              "    .colab-df-container {\n",
              "      display:flex;\n",
              "      flex-wrap:wrap;\n",
              "      gap: 12px;\n",
              "    }\n",
              "\n",
              "    .colab-df-convert {\n",
              "      background-color: #E8F0FE;\n",
              "      border: none;\n",
              "      border-radius: 50%;\n",
              "      cursor: pointer;\n",
              "      display: none;\n",
              "      fill: #1967D2;\n",
              "      height: 32px;\n",
              "      padding: 0 0 0 0;\n",
              "      width: 32px;\n",
              "    }\n",
              "\n",
              "    .colab-df-convert:hover {\n",
              "      background-color: #E2EBFA;\n",
              "      box-shadow: 0px 1px 2px rgba(60, 64, 67, 0.3), 0px 1px 3px 1px rgba(60, 64, 67, 0.15);\n",
              "      fill: #174EA6;\n",
              "    }\n",
              "\n",
              "    [theme=dark] .colab-df-convert {\n",
              "      background-color: #3B4455;\n",
              "      fill: #D2E3FC;\n",
              "    }\n",
              "\n",
              "    [theme=dark] .colab-df-convert:hover {\n",
              "      background-color: #434B5C;\n",
              "      box-shadow: 0px 1px 3px 1px rgba(0, 0, 0, 0.15);\n",
              "      filter: drop-shadow(0px 1px 2px rgba(0, 0, 0, 0.3));\n",
              "      fill: #FFFFFF;\n",
              "    }\n",
              "  </style>\n",
              "\n",
              "      <script>\n",
              "        const buttonEl =\n",
              "          document.querySelector('#df-4b557ff0-6018-4741-aa77-464396a8553c button.colab-df-convert');\n",
              "        buttonEl.style.display =\n",
              "          google.colab.kernel.accessAllowed ? 'block' : 'none';\n",
              "\n",
              "        async function convertToInteractive(key) {\n",
              "          const element = document.querySelector('#df-4b557ff0-6018-4741-aa77-464396a8553c');\n",
              "          const dataTable =\n",
              "            await google.colab.kernel.invokeFunction('convertToInteractive',\n",
              "                                                     [key], {});\n",
              "          if (!dataTable) return;\n",
              "\n",
              "          const docLinkHtml = 'Like what you see? Visit the ' +\n",
              "            '<a target=\"_blank\" href=https://colab.research.google.com/notebooks/data_table.ipynb>data table notebook</a>'\n",
              "            + ' to learn more about interactive tables.';\n",
              "          element.innerHTML = '';\n",
              "          dataTable['output_type'] = 'display_data';\n",
              "          await google.colab.output.renderOutput(dataTable, element);\n",
              "          const docLink = document.createElement('div');\n",
              "          docLink.innerHTML = docLinkHtml;\n",
              "          element.appendChild(docLink);\n",
              "        }\n",
              "      </script>\n",
              "    </div>\n",
              "  </div>\n",
              "  "
            ]
          },
          "metadata": {},
          "execution_count": 44
        }
      ]
    },
    {
      "cell_type": "markdown",
      "source": [
        "Let's remember that the 'ChgOffDate' column only has content on the loans that had no problems."
      ],
      "metadata": {
        "id": "Rl6on7xqV-0D"
      }
    },
    {
      "cell_type": "code",
      "source": [
        "print(loans[loans['Default']==True].ChgOffDate.sample(15));"
      ],
      "metadata": {
        "colab": {
          "base_uri": "https://localhost:8080/"
        },
        "id": "-0uqYxK0WHVT",
        "outputId": "2d26f6ff-8943-4a59-bb22-0025724ae2c8"
      },
      "execution_count": null,
      "outputs": [
        {
          "output_type": "stream",
          "name": "stdout",
          "text": [
            "658912    18-Dec-06\n",
            "769859    13-Mar-09\n",
            "338992    15-May-91\n",
            "182617    15-Dec-10\n",
            "94317     18-Feb-10\n",
            "59994      3-Apr-07\n",
            "623100    28-Feb-06\n",
            "43152     29-Jan-01\n",
            "37851      3-Aug-10\n",
            "689882    31-Dec-07\n",
            "331211     3-Aug-06\n",
            "35624     26-Feb-07\n",
            "198376     1-Jun-11\n",
            "204206    28-Jan-11\n",
            "177297    27-Jul-10\n",
            "Name: ChgOffDate, dtype: object\n"
          ]
        }
      ]
    },
    {
      "cell_type": "markdown",
      "source": [
        "The three columns have a conflicting format because they contain the last two digits of the year, which does not allow them to be transformed directly. Doing a little analysis you can see that the loans are not older than 1966: "
      ],
      "metadata": {
        "id": "62nQkDw6WT0Q"
      }
    },
    {
      "cell_type": "code",
      "source": [
        "print(loans['ApprovalFY'].min())\n",
        "print(loans['ApprovalFY'].max())"
      ],
      "metadata": {
        "colab": {
          "base_uri": "https://localhost:8080/"
        },
        "id": "OqyldeJyWIw_",
        "outputId": "fe514049-704f-4872-dc90-549a6b370a3c"
      },
      "execution_count": null,
      "outputs": [
        {
          "output_type": "stream",
          "name": "stdout",
          "text": [
            "1966\n",
            "2014\n"
          ]
        }
      ]
    },
    {
      "cell_type": "markdown",
      "source": [
        "So it is not difficult to know what should be put in the first two digits of the year."
      ],
      "metadata": {
        "id": "PWjVCkCcSq0F"
      }
    },
    {
      "cell_type": "markdown",
      "source": [
        "We make a function that reformats those fields to proper dates.\n"
      ],
      "metadata": {
        "id": "TUFJWuGKXAzp"
      }
    },
    {
      "cell_type": "code",
      "source": [
        "def clean_date(date_str): \n",
        "  '''If a cell is in the format DD-MM-YY where YY are the last two digits of a \n",
        "  year between 1924 and 2023, transforms it to DD-MM-YYYY.'''\n",
        "  if pd.isna(date_str)!=True: #If the string is null, we do nothing.\n",
        "    date_list = date_str.split('-') \n",
        "    if (len(date_list[2])<3):\n",
        "\n",
        "      if int(date_list[2])<23:\n",
        "        date_list[2] = '20' + date_list[2]\n",
        "      else:\n",
        "        date_list[2] = '19' + date_list[2]\n",
        "  else:\n",
        "    date_list=''\n",
        "  return '-'.join(date_list)"
      ],
      "metadata": {
        "id": "GrPJSLnSWz1S"
      },
      "execution_count": null,
      "outputs": []
    },
    {
      "cell_type": "markdown",
      "source": [
        "Let's apply this function to the dates fields."
      ],
      "metadata": {
        "id": "nyaegi7pXfVp"
      }
    },
    {
      "cell_type": "code",
      "source": [
        "loans['ApprovalDate']=loans['ApprovalDate'].apply(clean_date)\n",
        "loans['ApprovalDate'] = pd.to_datetime(loans['ApprovalDate'], format='%d-%b-%Y')"
      ],
      "metadata": {
        "id": "VN-XmeoMXoMs"
      },
      "execution_count": null,
      "outputs": []
    },
    {
      "cell_type": "code",
      "source": [
        "loans['DisbursementDate']=(loans['DisbursementDate']).apply(clean_date)\n",
        "loans['DisbursementDate'] = pd.to_datetime(loans['DisbursementDate'], format='%d-%b-%Y', errors='coerce') #The option \n",
        "#errors='coerces' is set to be able to treat nulls, in the previous conversion it was not necessary because it \n",
        "#did not have nulls."
      ],
      "metadata": {
        "id": "B17_wYZDXqhy"
      },
      "execution_count": null,
      "outputs": []
    },
    {
      "cell_type": "code",
      "source": [
        "loans['ChgOffDate']=(loans['ChgOffDate']).apply(clean_date)\n",
        "loans['ChgOffDate'] = pd.to_datetime(loans['ChgOffDate'], format='%d-%b-%Y', errors='coerce') "
      ],
      "metadata": {
        "id": "FDXk33-pX24A"
      },
      "execution_count": null,
      "outputs": []
    },
    {
      "cell_type": "markdown",
      "source": [
        "Now those columns were properly formatted:"
      ],
      "metadata": {
        "id": "la99ZPZsX-1S"
      }
    },
    {
      "cell_type": "code",
      "source": [
        "loans[['ApprovalDate', 'DisbursementDate', 'ChgOffDate']].sample(15)"
      ],
      "metadata": {
        "colab": {
          "base_uri": "https://localhost:8080/",
          "height": 519
        },
        "id": "w4R8Tc-IX_Vl",
        "outputId": "be70fc19-e300-4a00-c399-dfe11752d95a"
      },
      "execution_count": null,
      "outputs": [
        {
          "output_type": "execute_result",
          "data": {
            "text/plain": [
              "       ApprovalDate DisbursementDate ChgOffDate\n",
              "722162   1994-08-26       1995-01-31        NaT\n",
              "62413    2005-09-26       2007-02-28        NaT\n",
              "495432   1992-04-06       1992-07-31        NaT\n",
              "23372    2005-01-31       2005-03-31 2008-09-08\n",
              "873890   2005-12-14       2006-05-17        NaT\n",
              "234021   2007-08-23       2007-09-30 2010-08-12\n",
              "470830   2011-02-15       2011-02-15        NaT\n",
              "850928   2005-09-26       2005-11-30        NaT\n",
              "882093   1996-09-27       1998-05-13        NaT\n",
              "491127   2011-06-18       2013-02-01        NaT\n",
              "22084    1997-04-24       1997-09-17        NaT\n",
              "409827   2000-09-20       2000-10-31        NaT\n",
              "473147   2001-06-07       2001-06-30        NaT\n",
              "458807   1991-04-24       1991-07-31        NaT\n",
              "329211   1999-10-21       2001-07-11        NaT"
            ],
            "text/html": [
              "\n",
              "  <div id=\"df-76f7069e-20f6-4fed-81b7-03d4ca30e6e4\">\n",
              "    <div class=\"colab-df-container\">\n",
              "      <div>\n",
              "<style scoped>\n",
              "    .dataframe tbody tr th:only-of-type {\n",
              "        vertical-align: middle;\n",
              "    }\n",
              "\n",
              "    .dataframe tbody tr th {\n",
              "        vertical-align: top;\n",
              "    }\n",
              "\n",
              "    .dataframe thead th {\n",
              "        text-align: right;\n",
              "    }\n",
              "</style>\n",
              "<table border=\"1\" class=\"dataframe\">\n",
              "  <thead>\n",
              "    <tr style=\"text-align: right;\">\n",
              "      <th></th>\n",
              "      <th>ApprovalDate</th>\n",
              "      <th>DisbursementDate</th>\n",
              "      <th>ChgOffDate</th>\n",
              "    </tr>\n",
              "  </thead>\n",
              "  <tbody>\n",
              "    <tr>\n",
              "      <th>722162</th>\n",
              "      <td>1994-08-26</td>\n",
              "      <td>1995-01-31</td>\n",
              "      <td>NaT</td>\n",
              "    </tr>\n",
              "    <tr>\n",
              "      <th>62413</th>\n",
              "      <td>2005-09-26</td>\n",
              "      <td>2007-02-28</td>\n",
              "      <td>NaT</td>\n",
              "    </tr>\n",
              "    <tr>\n",
              "      <th>495432</th>\n",
              "      <td>1992-04-06</td>\n",
              "      <td>1992-07-31</td>\n",
              "      <td>NaT</td>\n",
              "    </tr>\n",
              "    <tr>\n",
              "      <th>23372</th>\n",
              "      <td>2005-01-31</td>\n",
              "      <td>2005-03-31</td>\n",
              "      <td>2008-09-08</td>\n",
              "    </tr>\n",
              "    <tr>\n",
              "      <th>873890</th>\n",
              "      <td>2005-12-14</td>\n",
              "      <td>2006-05-17</td>\n",
              "      <td>NaT</td>\n",
              "    </tr>\n",
              "    <tr>\n",
              "      <th>234021</th>\n",
              "      <td>2007-08-23</td>\n",
              "      <td>2007-09-30</td>\n",
              "      <td>2010-08-12</td>\n",
              "    </tr>\n",
              "    <tr>\n",
              "      <th>470830</th>\n",
              "      <td>2011-02-15</td>\n",
              "      <td>2011-02-15</td>\n",
              "      <td>NaT</td>\n",
              "    </tr>\n",
              "    <tr>\n",
              "      <th>850928</th>\n",
              "      <td>2005-09-26</td>\n",
              "      <td>2005-11-30</td>\n",
              "      <td>NaT</td>\n",
              "    </tr>\n",
              "    <tr>\n",
              "      <th>882093</th>\n",
              "      <td>1996-09-27</td>\n",
              "      <td>1998-05-13</td>\n",
              "      <td>NaT</td>\n",
              "    </tr>\n",
              "    <tr>\n",
              "      <th>491127</th>\n",
              "      <td>2011-06-18</td>\n",
              "      <td>2013-02-01</td>\n",
              "      <td>NaT</td>\n",
              "    </tr>\n",
              "    <tr>\n",
              "      <th>22084</th>\n",
              "      <td>1997-04-24</td>\n",
              "      <td>1997-09-17</td>\n",
              "      <td>NaT</td>\n",
              "    </tr>\n",
              "    <tr>\n",
              "      <th>409827</th>\n",
              "      <td>2000-09-20</td>\n",
              "      <td>2000-10-31</td>\n",
              "      <td>NaT</td>\n",
              "    </tr>\n",
              "    <tr>\n",
              "      <th>473147</th>\n",
              "      <td>2001-06-07</td>\n",
              "      <td>2001-06-30</td>\n",
              "      <td>NaT</td>\n",
              "    </tr>\n",
              "    <tr>\n",
              "      <th>458807</th>\n",
              "      <td>1991-04-24</td>\n",
              "      <td>1991-07-31</td>\n",
              "      <td>NaT</td>\n",
              "    </tr>\n",
              "    <tr>\n",
              "      <th>329211</th>\n",
              "      <td>1999-10-21</td>\n",
              "      <td>2001-07-11</td>\n",
              "      <td>NaT</td>\n",
              "    </tr>\n",
              "  </tbody>\n",
              "</table>\n",
              "</div>\n",
              "      <button class=\"colab-df-convert\" onclick=\"convertToInteractive('df-76f7069e-20f6-4fed-81b7-03d4ca30e6e4')\"\n",
              "              title=\"Convert this dataframe to an interactive table.\"\n",
              "              style=\"display:none;\">\n",
              "        \n",
              "  <svg xmlns=\"http://www.w3.org/2000/svg\" height=\"24px\"viewBox=\"0 0 24 24\"\n",
              "       width=\"24px\">\n",
              "    <path d=\"M0 0h24v24H0V0z\" fill=\"none\"/>\n",
              "    <path d=\"M18.56 5.44l.94 2.06.94-2.06 2.06-.94-2.06-.94-.94-2.06-.94 2.06-2.06.94zm-11 1L8.5 8.5l.94-2.06 2.06-.94-2.06-.94L8.5 2.5l-.94 2.06-2.06.94zm10 10l.94 2.06.94-2.06 2.06-.94-2.06-.94-.94-2.06-.94 2.06-2.06.94z\"/><path d=\"M17.41 7.96l-1.37-1.37c-.4-.4-.92-.59-1.43-.59-.52 0-1.04.2-1.43.59L10.3 9.45l-7.72 7.72c-.78.78-.78 2.05 0 2.83L4 21.41c.39.39.9.59 1.41.59.51 0 1.02-.2 1.41-.59l7.78-7.78 2.81-2.81c.8-.78.8-2.07 0-2.86zM5.41 20L4 18.59l7.72-7.72 1.47 1.35L5.41 20z\"/>\n",
              "  </svg>\n",
              "      </button>\n",
              "      \n",
              "  <style>\n",
              "    .colab-df-container {\n",
              "      display:flex;\n",
              "      flex-wrap:wrap;\n",
              "      gap: 12px;\n",
              "    }\n",
              "\n",
              "    .colab-df-convert {\n",
              "      background-color: #E8F0FE;\n",
              "      border: none;\n",
              "      border-radius: 50%;\n",
              "      cursor: pointer;\n",
              "      display: none;\n",
              "      fill: #1967D2;\n",
              "      height: 32px;\n",
              "      padding: 0 0 0 0;\n",
              "      width: 32px;\n",
              "    }\n",
              "\n",
              "    .colab-df-convert:hover {\n",
              "      background-color: #E2EBFA;\n",
              "      box-shadow: 0px 1px 2px rgba(60, 64, 67, 0.3), 0px 1px 3px 1px rgba(60, 64, 67, 0.15);\n",
              "      fill: #174EA6;\n",
              "    }\n",
              "\n",
              "    [theme=dark] .colab-df-convert {\n",
              "      background-color: #3B4455;\n",
              "      fill: #D2E3FC;\n",
              "    }\n",
              "\n",
              "    [theme=dark] .colab-df-convert:hover {\n",
              "      background-color: #434B5C;\n",
              "      box-shadow: 0px 1px 3px 1px rgba(0, 0, 0, 0.15);\n",
              "      filter: drop-shadow(0px 1px 2px rgba(0, 0, 0, 0.3));\n",
              "      fill: #FFFFFF;\n",
              "    }\n",
              "  </style>\n",
              "\n",
              "      <script>\n",
              "        const buttonEl =\n",
              "          document.querySelector('#df-76f7069e-20f6-4fed-81b7-03d4ca30e6e4 button.colab-df-convert');\n",
              "        buttonEl.style.display =\n",
              "          google.colab.kernel.accessAllowed ? 'block' : 'none';\n",
              "\n",
              "        async function convertToInteractive(key) {\n",
              "          const element = document.querySelector('#df-76f7069e-20f6-4fed-81b7-03d4ca30e6e4');\n",
              "          const dataTable =\n",
              "            await google.colab.kernel.invokeFunction('convertToInteractive',\n",
              "                                                     [key], {});\n",
              "          if (!dataTable) return;\n",
              "\n",
              "          const docLinkHtml = 'Like what you see? Visit the ' +\n",
              "            '<a target=\"_blank\" href=https://colab.research.google.com/notebooks/data_table.ipynb>data table notebook</a>'\n",
              "            + ' to learn more about interactive tables.';\n",
              "          element.innerHTML = '';\n",
              "          dataTable['output_type'] = 'display_data';\n",
              "          await google.colab.output.renderOutput(dataTable, element);\n",
              "          const docLink = document.createElement('div');\n",
              "          docLink.innerHTML = docLinkHtml;\n",
              "          element.appendChild(docLink);\n",
              "        }\n",
              "      </script>\n",
              "    </div>\n",
              "  </div>\n",
              "  "
            ]
          },
          "metadata": {},
          "execution_count": 51
        }
      ]
    },
    {
      "cell_type": "code",
      "source": [
        "print(pd.api.types.infer_dtype(loans['ApprovalDate']))\n",
        "print(pd.api.types.infer_dtype(loans['DisbursementDate']))\n",
        "print(pd.api.types.infer_dtype(loans['ChgOffDate']))"
      ],
      "metadata": {
        "colab": {
          "base_uri": "https://localhost:8080/"
        },
        "id": "sdIcaBEjYELT",
        "outputId": "fd9dc8c1-beb7-4589-a279-49e5acbfa4a1"
      },
      "execution_count": null,
      "outputs": [
        {
          "output_type": "stream",
          "name": "stdout",
          "text": [
            "datetime64\n",
            "datetime64\n",
            "datetime64\n"
          ]
        }
      ]
    },
    {
      "cell_type": "markdown",
      "source": [
        "### A little more cleaning on date fields"
      ],
      "metadata": {
        "id": "NGsTuZSWY1Wj"
      }
    },
    {
      "cell_type": "markdown",
      "source": [
        "Let's look at the data in the date fields."
      ],
      "metadata": {
        "id": "Rz-uj-dnwxMT"
      }
    },
    {
      "cell_type": "code",
      "source": [
        "loans.info()"
      ],
      "metadata": {
        "id": "kSt8PpCphkcV",
        "outputId": "97824f97-8919-4547-bdec-4c7a5becb205",
        "colab": {
          "base_uri": "https://localhost:8080/"
        }
      },
      "execution_count": null,
      "outputs": [
        {
          "output_type": "stream",
          "name": "stdout",
          "text": [
            "<class 'pandas.core.frame.DataFrame'>\n",
            "Int64Index: 897072 entries, 0 to 899163\n",
            "Data columns (total 27 columns):\n",
            " #   Column             Non-Null Count   Dtype         \n",
            "---  ------             --------------   -----         \n",
            " 0   Name               897058 non-null  object        \n",
            " 1   City               897042 non-null  object        \n",
            " 2   State              897059 non-null  object        \n",
            " 3   Zip                897072 non-null  int64         \n",
            " 4   Bank               895567 non-null  object        \n",
            " 5   BankState          895560 non-null  object        \n",
            " 6   ApprovalDate       897072 non-null  datetime64[ns]\n",
            " 7   ApprovalFY         897072 non-null  int64         \n",
            " 8   Term               897072 non-null  int64         \n",
            " 9   NoEmp              897072 non-null  int64         \n",
            " 10  NewExist           896938 non-null  float64       \n",
            " 11  CreateJob          897072 non-null  int64         \n",
            " 12  RetainedJob        897072 non-null  int64         \n",
            " 13  FranchiseCode      897072 non-null  int64         \n",
            " 14  UrbanRural         897072 non-null  int64         \n",
            " 15  RevLineCr          892552 non-null  object        \n",
            " 16  LowDoc             894495 non-null  object        \n",
            " 17  ChgOffDate         162437 non-null  datetime64[ns]\n",
            " 18  DisbursementDate   894897 non-null  datetime64[ns]\n",
            " 19  DisbursementGross  897072 non-null  float64       \n",
            " 20  BalanceGross       897072 non-null  float64       \n",
            " 21  ChgOffPrinGr       897072 non-null  object        \n",
            " 22  GrAppv             897072 non-null  float64       \n",
            " 23  SBA_Appv           897072 non-null  float64       \n",
            " 24  Sector             897072 non-null  object        \n",
            " 25  Subsector          897072 non-null  object        \n",
            " 26  Default            897072 non-null  int64         \n",
            "dtypes: datetime64[ns](3), float64(5), int64(9), object(10)\n",
            "memory usage: 191.6+ MB\n"
          ]
        }
      ]
    },
    {
      "cell_type": "code",
      "source": [
        "loans.describe(include = 'all').T"
      ],
      "metadata": {
        "id": "8qYCKTlmZXlK",
        "colab": {
          "base_uri": "https://localhost:8080/",
          "height": 1000
        },
        "outputId": "98ddeb91-431a-42c1-aceb-066d30832f4e"
      },
      "execution_count": null,
      "outputs": [
        {
          "output_type": "stream",
          "name": "stderr",
          "text": [
            "<ipython-input-54-4a2beaa1f46d>:1: FutureWarning: Treating datetime data as categorical rather than numeric in `.describe` is deprecated and will be removed in a future version of pandas. Specify `datetime_is_numeric=True` to silence this warning and adopt the future behavior now.\n",
            "  loans.describe(include = 'all').T\n"
          ]
        },
        {
          "output_type": "execute_result",
          "data": {
            "text/plain": [
              "                      count  unique                         top    freq  \\\n",
              "Name                 897058  778679                      SUBWAY    1269   \n",
              "City                 897042   32566                 LOS ANGELES   11550   \n",
              "State                897059      51                          CA  130462   \n",
              "Zip                897072.0     NaN                         NaN     NaN   \n",
              "Bank                 895567    5801  BANK OF AMERICA NATL ASSOC   86768   \n",
              "BankState            895560      56                          CA  118014   \n",
              "ApprovalDate         897072    9836         1993-07-07 00:00:00    1130   \n",
              "ApprovalFY         897072.0     NaN                         NaN     NaN   \n",
              "Term               897072.0     NaN                         NaN     NaN   \n",
              "NoEmp              897072.0     NaN                         NaN     NaN   \n",
              "NewExist           896938.0     NaN                         NaN     NaN   \n",
              "CreateJob          897072.0     NaN                         NaN     NaN   \n",
              "RetainedJob        897072.0     NaN                         NaN     NaN   \n",
              "FranchiseCode      897072.0     NaN                         NaN     NaN   \n",
              "UrbanRural         897072.0     NaN                         NaN     NaN   \n",
              "RevLineCr            892552      18                           N  419178   \n",
              "LowDoc               894495       8                           N  780905   \n",
              "ChgOffDate           162437    6444         2010-03-13 00:00:00     733   \n",
              "DisbursementDate     894897    8468         1995-07-31 00:00:00   10363   \n",
              "DisbursementGross  897072.0     NaN                         NaN     NaN   \n",
              "BalanceGross       897072.0     NaN                         NaN     NaN   \n",
              "ChgOffPrinGr         897072   83106                      $0.00   735318   \n",
              "GrAppv             897072.0     NaN                         NaN     NaN   \n",
              "SBA_Appv           897072.0     NaN                         NaN     NaN   \n",
              "Sector               897072      25                           0  201657   \n",
              "Subsector            897072      10                           1  258543   \n",
              "Default            897072.0     NaN                         NaN     NaN   \n",
              "\n",
              "                       first       last           mean            std     min  \\\n",
              "Name                     NaT        NaT            NaN            NaN     NaN   \n",
              "City                     NaT        NaT            NaN            NaN     NaN   \n",
              "State                    NaT        NaT            NaN            NaN     NaN   \n",
              "Zip                      NaT        NaT   53856.416209   31170.270725     0.0   \n",
              "Bank                     NaT        NaT            NaN            NaN     NaN   \n",
              "BankState                NaT        NaT            NaN            NaN     NaN   \n",
              "ApprovalDate      1966-05-18 2014-06-25            NaN            NaN     NaN   \n",
              "ApprovalFY               NaT        NaT    2001.139639       5.912339  1966.0   \n",
              "Term                     NaT        NaT     110.851919      78.898567     0.0   \n",
              "NoEmp                    NaT        NaT      11.410908      73.796379     0.0   \n",
              "NewExist                 NaT        NaT       1.280413       0.451745     0.0   \n",
              "CreateJob                NaT        NaT       8.444346     236.962654     0.0   \n",
              "RetainedJob              NaT        NaT      10.807413     237.394795     0.0   \n",
              "FranchiseCode            NaT        NaT    2757.673187   12767.414504     0.0   \n",
              "UrbanRural               NaT        NaT       0.757283        0.64653     0.0   \n",
              "RevLineCr                NaT        NaT            NaN            NaN     NaN   \n",
              "LowDoc                   NaT        NaT            NaN            NaN     NaN   \n",
              "ChgOffDate        1926-10-22 2014-08-29            NaN            NaN     NaN   \n",
              "DisbursementDate  1928-06-18 2020-04-14            NaN            NaN     NaN   \n",
              "DisbursementGross        NaT        NaT  201597.232526  287794.776962  4000.0   \n",
              "BalanceGross             NaT        NaT        2.99632    1443.842511     0.0   \n",
              "ChgOffPrinGr             NaT        NaT            NaN            NaN     NaN   \n",
              "GrAppv                   NaT        NaT  193057.823886  283420.574835  1000.0   \n",
              "SBA_Appv                 NaT        NaT   149779.00372  228548.859516   500.0   \n",
              "Sector                   NaT        NaT            NaN            NaN     NaN   \n",
              "Subsector                NaT        NaT            NaN            NaN     NaN   \n",
              "Default                  NaT        NaT       0.175635       0.380509     0.0   \n",
              "\n",
              "                        25%       50%       75%         max  \n",
              "Name                    NaN       NaN       NaN         NaN  \n",
              "City                    NaN       NaN       NaN         NaN  \n",
              "State                   NaN       NaN       NaN         NaN  \n",
              "Zip                 27612.0   55416.0   83706.0     99999.0  \n",
              "Bank                    NaN       NaN       NaN         NaN  \n",
              "BankState               NaN       NaN       NaN         NaN  \n",
              "ApprovalDate            NaN       NaN       NaN         NaN  \n",
              "ApprovalFY           1997.0    2002.0    2006.0      2014.0  \n",
              "Term                   60.0      84.0     120.0       569.0  \n",
              "NoEmp                   2.0       4.0      10.0      9999.0  \n",
              "NewExist                1.0       1.0       2.0         2.0  \n",
              "CreateJob               0.0       0.0       1.0      8800.0  \n",
              "RetainedJob             0.0       1.0       4.0      9500.0  \n",
              "FranchiseCode           1.0       1.0       1.0     99999.0  \n",
              "UrbanRural              0.0       1.0       1.0         2.0  \n",
              "RevLineCr               NaN       NaN       NaN         NaN  \n",
              "LowDoc                  NaN       NaN       NaN         NaN  \n",
              "ChgOffDate              NaN       NaN       NaN         NaN  \n",
              "DisbursementDate        NaN       NaN       NaN         NaN  \n",
              "DisbursementGross  42496.75  100000.0  239000.0  11446325.0  \n",
              "BalanceGross            0.0       0.0       0.0    996262.0  \n",
              "ChgOffPrinGr            NaN       NaN       NaN         NaN  \n",
              "GrAppv              35000.0   90000.0  225000.0   5472000.0  \n",
              "SBA_Appv            21250.0   62076.0  175000.0   5472000.0  \n",
              "Sector                  NaN       NaN       NaN         NaN  \n",
              "Subsector               NaN       NaN       NaN         NaN  \n",
              "Default                 0.0       0.0       0.0         1.0  "
            ],
            "text/html": [
              "\n",
              "  <div id=\"df-17e63def-e78f-4ad0-a8c6-fe5a670ff32c\">\n",
              "    <div class=\"colab-df-container\">\n",
              "      <div>\n",
              "<style scoped>\n",
              "    .dataframe tbody tr th:only-of-type {\n",
              "        vertical-align: middle;\n",
              "    }\n",
              "\n",
              "    .dataframe tbody tr th {\n",
              "        vertical-align: top;\n",
              "    }\n",
              "\n",
              "    .dataframe thead th {\n",
              "        text-align: right;\n",
              "    }\n",
              "</style>\n",
              "<table border=\"1\" class=\"dataframe\">\n",
              "  <thead>\n",
              "    <tr style=\"text-align: right;\">\n",
              "      <th></th>\n",
              "      <th>count</th>\n",
              "      <th>unique</th>\n",
              "      <th>top</th>\n",
              "      <th>freq</th>\n",
              "      <th>first</th>\n",
              "      <th>last</th>\n",
              "      <th>mean</th>\n",
              "      <th>std</th>\n",
              "      <th>min</th>\n",
              "      <th>25%</th>\n",
              "      <th>50%</th>\n",
              "      <th>75%</th>\n",
              "      <th>max</th>\n",
              "    </tr>\n",
              "  </thead>\n",
              "  <tbody>\n",
              "    <tr>\n",
              "      <th>Name</th>\n",
              "      <td>897058</td>\n",
              "      <td>778679</td>\n",
              "      <td>SUBWAY</td>\n",
              "      <td>1269</td>\n",
              "      <td>NaT</td>\n",
              "      <td>NaT</td>\n",
              "      <td>NaN</td>\n",
              "      <td>NaN</td>\n",
              "      <td>NaN</td>\n",
              "      <td>NaN</td>\n",
              "      <td>NaN</td>\n",
              "      <td>NaN</td>\n",
              "      <td>NaN</td>\n",
              "    </tr>\n",
              "    <tr>\n",
              "      <th>City</th>\n",
              "      <td>897042</td>\n",
              "      <td>32566</td>\n",
              "      <td>LOS ANGELES</td>\n",
              "      <td>11550</td>\n",
              "      <td>NaT</td>\n",
              "      <td>NaT</td>\n",
              "      <td>NaN</td>\n",
              "      <td>NaN</td>\n",
              "      <td>NaN</td>\n",
              "      <td>NaN</td>\n",
              "      <td>NaN</td>\n",
              "      <td>NaN</td>\n",
              "      <td>NaN</td>\n",
              "    </tr>\n",
              "    <tr>\n",
              "      <th>State</th>\n",
              "      <td>897059</td>\n",
              "      <td>51</td>\n",
              "      <td>CA</td>\n",
              "      <td>130462</td>\n",
              "      <td>NaT</td>\n",
              "      <td>NaT</td>\n",
              "      <td>NaN</td>\n",
              "      <td>NaN</td>\n",
              "      <td>NaN</td>\n",
              "      <td>NaN</td>\n",
              "      <td>NaN</td>\n",
              "      <td>NaN</td>\n",
              "      <td>NaN</td>\n",
              "    </tr>\n",
              "    <tr>\n",
              "      <th>Zip</th>\n",
              "      <td>897072.0</td>\n",
              "      <td>NaN</td>\n",
              "      <td>NaN</td>\n",
              "      <td>NaN</td>\n",
              "      <td>NaT</td>\n",
              "      <td>NaT</td>\n",
              "      <td>53856.416209</td>\n",
              "      <td>31170.270725</td>\n",
              "      <td>0.0</td>\n",
              "      <td>27612.0</td>\n",
              "      <td>55416.0</td>\n",
              "      <td>83706.0</td>\n",
              "      <td>99999.0</td>\n",
              "    </tr>\n",
              "    <tr>\n",
              "      <th>Bank</th>\n",
              "      <td>895567</td>\n",
              "      <td>5801</td>\n",
              "      <td>BANK OF AMERICA NATL ASSOC</td>\n",
              "      <td>86768</td>\n",
              "      <td>NaT</td>\n",
              "      <td>NaT</td>\n",
              "      <td>NaN</td>\n",
              "      <td>NaN</td>\n",
              "      <td>NaN</td>\n",
              "      <td>NaN</td>\n",
              "      <td>NaN</td>\n",
              "      <td>NaN</td>\n",
              "      <td>NaN</td>\n",
              "    </tr>\n",
              "    <tr>\n",
              "      <th>BankState</th>\n",
              "      <td>895560</td>\n",
              "      <td>56</td>\n",
              "      <td>CA</td>\n",
              "      <td>118014</td>\n",
              "      <td>NaT</td>\n",
              "      <td>NaT</td>\n",
              "      <td>NaN</td>\n",
              "      <td>NaN</td>\n",
              "      <td>NaN</td>\n",
              "      <td>NaN</td>\n",
              "      <td>NaN</td>\n",
              "      <td>NaN</td>\n",
              "      <td>NaN</td>\n",
              "    </tr>\n",
              "    <tr>\n",
              "      <th>ApprovalDate</th>\n",
              "      <td>897072</td>\n",
              "      <td>9836</td>\n",
              "      <td>1993-07-07 00:00:00</td>\n",
              "      <td>1130</td>\n",
              "      <td>1966-05-18</td>\n",
              "      <td>2014-06-25</td>\n",
              "      <td>NaN</td>\n",
              "      <td>NaN</td>\n",
              "      <td>NaN</td>\n",
              "      <td>NaN</td>\n",
              "      <td>NaN</td>\n",
              "      <td>NaN</td>\n",
              "      <td>NaN</td>\n",
              "    </tr>\n",
              "    <tr>\n",
              "      <th>ApprovalFY</th>\n",
              "      <td>897072.0</td>\n",
              "      <td>NaN</td>\n",
              "      <td>NaN</td>\n",
              "      <td>NaN</td>\n",
              "      <td>NaT</td>\n",
              "      <td>NaT</td>\n",
              "      <td>2001.139639</td>\n",
              "      <td>5.912339</td>\n",
              "      <td>1966.0</td>\n",
              "      <td>1997.0</td>\n",
              "      <td>2002.0</td>\n",
              "      <td>2006.0</td>\n",
              "      <td>2014.0</td>\n",
              "    </tr>\n",
              "    <tr>\n",
              "      <th>Term</th>\n",
              "      <td>897072.0</td>\n",
              "      <td>NaN</td>\n",
              "      <td>NaN</td>\n",
              "      <td>NaN</td>\n",
              "      <td>NaT</td>\n",
              "      <td>NaT</td>\n",
              "      <td>110.851919</td>\n",
              "      <td>78.898567</td>\n",
              "      <td>0.0</td>\n",
              "      <td>60.0</td>\n",
              "      <td>84.0</td>\n",
              "      <td>120.0</td>\n",
              "      <td>569.0</td>\n",
              "    </tr>\n",
              "    <tr>\n",
              "      <th>NoEmp</th>\n",
              "      <td>897072.0</td>\n",
              "      <td>NaN</td>\n",
              "      <td>NaN</td>\n",
              "      <td>NaN</td>\n",
              "      <td>NaT</td>\n",
              "      <td>NaT</td>\n",
              "      <td>11.410908</td>\n",
              "      <td>73.796379</td>\n",
              "      <td>0.0</td>\n",
              "      <td>2.0</td>\n",
              "      <td>4.0</td>\n",
              "      <td>10.0</td>\n",
              "      <td>9999.0</td>\n",
              "    </tr>\n",
              "    <tr>\n",
              "      <th>NewExist</th>\n",
              "      <td>896938.0</td>\n",
              "      <td>NaN</td>\n",
              "      <td>NaN</td>\n",
              "      <td>NaN</td>\n",
              "      <td>NaT</td>\n",
              "      <td>NaT</td>\n",
              "      <td>1.280413</td>\n",
              "      <td>0.451745</td>\n",
              "      <td>0.0</td>\n",
              "      <td>1.0</td>\n",
              "      <td>1.0</td>\n",
              "      <td>2.0</td>\n",
              "      <td>2.0</td>\n",
              "    </tr>\n",
              "    <tr>\n",
              "      <th>CreateJob</th>\n",
              "      <td>897072.0</td>\n",
              "      <td>NaN</td>\n",
              "      <td>NaN</td>\n",
              "      <td>NaN</td>\n",
              "      <td>NaT</td>\n",
              "      <td>NaT</td>\n",
              "      <td>8.444346</td>\n",
              "      <td>236.962654</td>\n",
              "      <td>0.0</td>\n",
              "      <td>0.0</td>\n",
              "      <td>0.0</td>\n",
              "      <td>1.0</td>\n",
              "      <td>8800.0</td>\n",
              "    </tr>\n",
              "    <tr>\n",
              "      <th>RetainedJob</th>\n",
              "      <td>897072.0</td>\n",
              "      <td>NaN</td>\n",
              "      <td>NaN</td>\n",
              "      <td>NaN</td>\n",
              "      <td>NaT</td>\n",
              "      <td>NaT</td>\n",
              "      <td>10.807413</td>\n",
              "      <td>237.394795</td>\n",
              "      <td>0.0</td>\n",
              "      <td>0.0</td>\n",
              "      <td>1.0</td>\n",
              "      <td>4.0</td>\n",
              "      <td>9500.0</td>\n",
              "    </tr>\n",
              "    <tr>\n",
              "      <th>FranchiseCode</th>\n",
              "      <td>897072.0</td>\n",
              "      <td>NaN</td>\n",
              "      <td>NaN</td>\n",
              "      <td>NaN</td>\n",
              "      <td>NaT</td>\n",
              "      <td>NaT</td>\n",
              "      <td>2757.673187</td>\n",
              "      <td>12767.414504</td>\n",
              "      <td>0.0</td>\n",
              "      <td>1.0</td>\n",
              "      <td>1.0</td>\n",
              "      <td>1.0</td>\n",
              "      <td>99999.0</td>\n",
              "    </tr>\n",
              "    <tr>\n",
              "      <th>UrbanRural</th>\n",
              "      <td>897072.0</td>\n",
              "      <td>NaN</td>\n",
              "      <td>NaN</td>\n",
              "      <td>NaN</td>\n",
              "      <td>NaT</td>\n",
              "      <td>NaT</td>\n",
              "      <td>0.757283</td>\n",
              "      <td>0.64653</td>\n",
              "      <td>0.0</td>\n",
              "      <td>0.0</td>\n",
              "      <td>1.0</td>\n",
              "      <td>1.0</td>\n",
              "      <td>2.0</td>\n",
              "    </tr>\n",
              "    <tr>\n",
              "      <th>RevLineCr</th>\n",
              "      <td>892552</td>\n",
              "      <td>18</td>\n",
              "      <td>N</td>\n",
              "      <td>419178</td>\n",
              "      <td>NaT</td>\n",
              "      <td>NaT</td>\n",
              "      <td>NaN</td>\n",
              "      <td>NaN</td>\n",
              "      <td>NaN</td>\n",
              "      <td>NaN</td>\n",
              "      <td>NaN</td>\n",
              "      <td>NaN</td>\n",
              "      <td>NaN</td>\n",
              "    </tr>\n",
              "    <tr>\n",
              "      <th>LowDoc</th>\n",
              "      <td>894495</td>\n",
              "      <td>8</td>\n",
              "      <td>N</td>\n",
              "      <td>780905</td>\n",
              "      <td>NaT</td>\n",
              "      <td>NaT</td>\n",
              "      <td>NaN</td>\n",
              "      <td>NaN</td>\n",
              "      <td>NaN</td>\n",
              "      <td>NaN</td>\n",
              "      <td>NaN</td>\n",
              "      <td>NaN</td>\n",
              "      <td>NaN</td>\n",
              "    </tr>\n",
              "    <tr>\n",
              "      <th>ChgOffDate</th>\n",
              "      <td>162437</td>\n",
              "      <td>6444</td>\n",
              "      <td>2010-03-13 00:00:00</td>\n",
              "      <td>733</td>\n",
              "      <td>1926-10-22</td>\n",
              "      <td>2014-08-29</td>\n",
              "      <td>NaN</td>\n",
              "      <td>NaN</td>\n",
              "      <td>NaN</td>\n",
              "      <td>NaN</td>\n",
              "      <td>NaN</td>\n",
              "      <td>NaN</td>\n",
              "      <td>NaN</td>\n",
              "    </tr>\n",
              "    <tr>\n",
              "      <th>DisbursementDate</th>\n",
              "      <td>894897</td>\n",
              "      <td>8468</td>\n",
              "      <td>1995-07-31 00:00:00</td>\n",
              "      <td>10363</td>\n",
              "      <td>1928-06-18</td>\n",
              "      <td>2020-04-14</td>\n",
              "      <td>NaN</td>\n",
              "      <td>NaN</td>\n",
              "      <td>NaN</td>\n",
              "      <td>NaN</td>\n",
              "      <td>NaN</td>\n",
              "      <td>NaN</td>\n",
              "      <td>NaN</td>\n",
              "    </tr>\n",
              "    <tr>\n",
              "      <th>DisbursementGross</th>\n",
              "      <td>897072.0</td>\n",
              "      <td>NaN</td>\n",
              "      <td>NaN</td>\n",
              "      <td>NaN</td>\n",
              "      <td>NaT</td>\n",
              "      <td>NaT</td>\n",
              "      <td>201597.232526</td>\n",
              "      <td>287794.776962</td>\n",
              "      <td>4000.0</td>\n",
              "      <td>42496.75</td>\n",
              "      <td>100000.0</td>\n",
              "      <td>239000.0</td>\n",
              "      <td>11446325.0</td>\n",
              "    </tr>\n",
              "    <tr>\n",
              "      <th>BalanceGross</th>\n",
              "      <td>897072.0</td>\n",
              "      <td>NaN</td>\n",
              "      <td>NaN</td>\n",
              "      <td>NaN</td>\n",
              "      <td>NaT</td>\n",
              "      <td>NaT</td>\n",
              "      <td>2.99632</td>\n",
              "      <td>1443.842511</td>\n",
              "      <td>0.0</td>\n",
              "      <td>0.0</td>\n",
              "      <td>0.0</td>\n",
              "      <td>0.0</td>\n",
              "      <td>996262.0</td>\n",
              "    </tr>\n",
              "    <tr>\n",
              "      <th>ChgOffPrinGr</th>\n",
              "      <td>897072</td>\n",
              "      <td>83106</td>\n",
              "      <td>$0.00</td>\n",
              "      <td>735318</td>\n",
              "      <td>NaT</td>\n",
              "      <td>NaT</td>\n",
              "      <td>NaN</td>\n",
              "      <td>NaN</td>\n",
              "      <td>NaN</td>\n",
              "      <td>NaN</td>\n",
              "      <td>NaN</td>\n",
              "      <td>NaN</td>\n",
              "      <td>NaN</td>\n",
              "    </tr>\n",
              "    <tr>\n",
              "      <th>GrAppv</th>\n",
              "      <td>897072.0</td>\n",
              "      <td>NaN</td>\n",
              "      <td>NaN</td>\n",
              "      <td>NaN</td>\n",
              "      <td>NaT</td>\n",
              "      <td>NaT</td>\n",
              "      <td>193057.823886</td>\n",
              "      <td>283420.574835</td>\n",
              "      <td>1000.0</td>\n",
              "      <td>35000.0</td>\n",
              "      <td>90000.0</td>\n",
              "      <td>225000.0</td>\n",
              "      <td>5472000.0</td>\n",
              "    </tr>\n",
              "    <tr>\n",
              "      <th>SBA_Appv</th>\n",
              "      <td>897072.0</td>\n",
              "      <td>NaN</td>\n",
              "      <td>NaN</td>\n",
              "      <td>NaN</td>\n",
              "      <td>NaT</td>\n",
              "      <td>NaT</td>\n",
              "      <td>149779.00372</td>\n",
              "      <td>228548.859516</td>\n",
              "      <td>500.0</td>\n",
              "      <td>21250.0</td>\n",
              "      <td>62076.0</td>\n",
              "      <td>175000.0</td>\n",
              "      <td>5472000.0</td>\n",
              "    </tr>\n",
              "    <tr>\n",
              "      <th>Sector</th>\n",
              "      <td>897072</td>\n",
              "      <td>25</td>\n",
              "      <td>0</td>\n",
              "      <td>201657</td>\n",
              "      <td>NaT</td>\n",
              "      <td>NaT</td>\n",
              "      <td>NaN</td>\n",
              "      <td>NaN</td>\n",
              "      <td>NaN</td>\n",
              "      <td>NaN</td>\n",
              "      <td>NaN</td>\n",
              "      <td>NaN</td>\n",
              "      <td>NaN</td>\n",
              "    </tr>\n",
              "    <tr>\n",
              "      <th>Subsector</th>\n",
              "      <td>897072</td>\n",
              "      <td>10</td>\n",
              "      <td>1</td>\n",
              "      <td>258543</td>\n",
              "      <td>NaT</td>\n",
              "      <td>NaT</td>\n",
              "      <td>NaN</td>\n",
              "      <td>NaN</td>\n",
              "      <td>NaN</td>\n",
              "      <td>NaN</td>\n",
              "      <td>NaN</td>\n",
              "      <td>NaN</td>\n",
              "      <td>NaN</td>\n",
              "    </tr>\n",
              "    <tr>\n",
              "      <th>Default</th>\n",
              "      <td>897072.0</td>\n",
              "      <td>NaN</td>\n",
              "      <td>NaN</td>\n",
              "      <td>NaN</td>\n",
              "      <td>NaT</td>\n",
              "      <td>NaT</td>\n",
              "      <td>0.175635</td>\n",
              "      <td>0.380509</td>\n",
              "      <td>0.0</td>\n",
              "      <td>0.0</td>\n",
              "      <td>0.0</td>\n",
              "      <td>0.0</td>\n",
              "      <td>1.0</td>\n",
              "    </tr>\n",
              "  </tbody>\n",
              "</table>\n",
              "</div>\n",
              "      <button class=\"colab-df-convert\" onclick=\"convertToInteractive('df-17e63def-e78f-4ad0-a8c6-fe5a670ff32c')\"\n",
              "              title=\"Convert this dataframe to an interactive table.\"\n",
              "              style=\"display:none;\">\n",
              "        \n",
              "  <svg xmlns=\"http://www.w3.org/2000/svg\" height=\"24px\"viewBox=\"0 0 24 24\"\n",
              "       width=\"24px\">\n",
              "    <path d=\"M0 0h24v24H0V0z\" fill=\"none\"/>\n",
              "    <path d=\"M18.56 5.44l.94 2.06.94-2.06 2.06-.94-2.06-.94-.94-2.06-.94 2.06-2.06.94zm-11 1L8.5 8.5l.94-2.06 2.06-.94-2.06-.94L8.5 2.5l-.94 2.06-2.06.94zm10 10l.94 2.06.94-2.06 2.06-.94-2.06-.94-.94-2.06-.94 2.06-2.06.94z\"/><path d=\"M17.41 7.96l-1.37-1.37c-.4-.4-.92-.59-1.43-.59-.52 0-1.04.2-1.43.59L10.3 9.45l-7.72 7.72c-.78.78-.78 2.05 0 2.83L4 21.41c.39.39.9.59 1.41.59.51 0 1.02-.2 1.41-.59l7.78-7.78 2.81-2.81c.8-.78.8-2.07 0-2.86zM5.41 20L4 18.59l7.72-7.72 1.47 1.35L5.41 20z\"/>\n",
              "  </svg>\n",
              "      </button>\n",
              "      \n",
              "  <style>\n",
              "    .colab-df-container {\n",
              "      display:flex;\n",
              "      flex-wrap:wrap;\n",
              "      gap: 12px;\n",
              "    }\n",
              "\n",
              "    .colab-df-convert {\n",
              "      background-color: #E8F0FE;\n",
              "      border: none;\n",
              "      border-radius: 50%;\n",
              "      cursor: pointer;\n",
              "      display: none;\n",
              "      fill: #1967D2;\n",
              "      height: 32px;\n",
              "      padding: 0 0 0 0;\n",
              "      width: 32px;\n",
              "    }\n",
              "\n",
              "    .colab-df-convert:hover {\n",
              "      background-color: #E2EBFA;\n",
              "      box-shadow: 0px 1px 2px rgba(60, 64, 67, 0.3), 0px 1px 3px 1px rgba(60, 64, 67, 0.15);\n",
              "      fill: #174EA6;\n",
              "    }\n",
              "\n",
              "    [theme=dark] .colab-df-convert {\n",
              "      background-color: #3B4455;\n",
              "      fill: #D2E3FC;\n",
              "    }\n",
              "\n",
              "    [theme=dark] .colab-df-convert:hover {\n",
              "      background-color: #434B5C;\n",
              "      box-shadow: 0px 1px 3px 1px rgba(0, 0, 0, 0.15);\n",
              "      filter: drop-shadow(0px 1px 2px rgba(0, 0, 0, 0.3));\n",
              "      fill: #FFFFFF;\n",
              "    }\n",
              "  </style>\n",
              "\n",
              "      <script>\n",
              "        const buttonEl =\n",
              "          document.querySelector('#df-17e63def-e78f-4ad0-a8c6-fe5a670ff32c button.colab-df-convert');\n",
              "        buttonEl.style.display =\n",
              "          google.colab.kernel.accessAllowed ? 'block' : 'none';\n",
              "\n",
              "        async function convertToInteractive(key) {\n",
              "          const element = document.querySelector('#df-17e63def-e78f-4ad0-a8c6-fe5a670ff32c');\n",
              "          const dataTable =\n",
              "            await google.colab.kernel.invokeFunction('convertToInteractive',\n",
              "                                                     [key], {});\n",
              "          if (!dataTable) return;\n",
              "\n",
              "          const docLinkHtml = 'Like what you see? Visit the ' +\n",
              "            '<a target=\"_blank\" href=https://colab.research.google.com/notebooks/data_table.ipynb>data table notebook</a>'\n",
              "            + ' to learn more about interactive tables.';\n",
              "          element.innerHTML = '';\n",
              "          dataTable['output_type'] = 'display_data';\n",
              "          await google.colab.output.renderOutput(dataTable, element);\n",
              "          const docLink = document.createElement('div');\n",
              "          docLink.innerHTML = docLinkHtml;\n",
              "          element.appendChild(docLink);\n",
              "        }\n",
              "      </script>\n",
              "    </div>\n",
              "  </div>\n",
              "  "
            ]
          },
          "metadata": {},
          "execution_count": 54
        }
      ]
    },
    {
      "cell_type": "markdown",
      "source": [
        "We see that the minimum values of 'ChgOffPrinGr' and 'DisbursementeDate' are errors, since we have already seen that there are no loans prior to the year 1966."
      ],
      "metadata": {
        "id": "E0i1MnWHZW1e"
      }
    },
    {
      "cell_type": "code",
      "source": [
        "print(loans['ChgOffDate'].sort_values())"
      ],
      "metadata": {
        "colab": {
          "base_uri": "https://localhost:8080/"
        },
        "id": "W8Rh3HcgxLa_",
        "outputId": "d2360c96-69e1-4d11-da4c-c6c3d42ede3a"
      },
      "execution_count": null,
      "outputs": [
        {
          "output_type": "stream",
          "name": "stdout",
          "text": [
            "598791   1926-10-22\n",
            "45932    1988-10-03\n",
            "39407    1988-10-03\n",
            "231281   1988-10-03\n",
            "92765    1988-10-03\n",
            "            ...    \n",
            "899158          NaT\n",
            "899159          NaT\n",
            "899160          NaT\n",
            "899161          NaT\n",
            "899163          NaT\n",
            "Name: ChgOffDate, Length: 897072, dtype: datetime64[ns]\n"
          ]
        }
      ]
    },
    {
      "cell_type": "code",
      "source": [
        "loans.loc[598791]"
      ],
      "metadata": {
        "colab": {
          "base_uri": "https://localhost:8080/"
        },
        "id": "gGYXB6C1xZST",
        "outputId": "576abffc-e979-4610-d995-dd1f7bf6c2ea"
      },
      "execution_count": null,
      "outputs": [
        {
          "output_type": "execute_result",
          "data": {
            "text/plain": [
              "Name                        AMG INDUSTRIES, INC.\n",
              "City                                 GLENS FALLS\n",
              "State                                         NY\n",
              "Zip                                        12804\n",
              "Bank                 GLENS FALLS NATL BK & TR CO\n",
              "BankState                                     NY\n",
              "ApprovalDate                 1993-09-14 00:00:00\n",
              "ApprovalFY                                  1993\n",
              "Term                                          66\n",
              "NoEmp                                         85\n",
              "NewExist                                     1.0\n",
              "CreateJob                                      0\n",
              "RetainedJob                                    0\n",
              "FranchiseCode                                  1\n",
              "UrbanRural                                     0\n",
              "RevLineCr                                      N\n",
              "LowDoc                                         N\n",
              "ChgOffDate                   1926-10-22 00:00:00\n",
              "DisbursementDate             1994-01-31 00:00:00\n",
              "DisbursementGross                       300000.0\n",
              "BalanceGross                                 0.0\n",
              "ChgOffPrinGr                        $236,876.00 \n",
              "GrAppv                                  300000.0\n",
              "SBA_Appv                                214500.0\n",
              "Sector                                         0\n",
              "Subsector                                       \n",
              "Default                                        1\n",
              "Name: 598791, dtype: object"
            ]
          },
          "metadata": {},
          "execution_count": 56
        }
      ]
    },
    {
      "cell_type": "markdown",
      "source": [
        "The loan was approved in 1993, but there were payment problems in 1926. It is clearly a mistake. On the other hand, the rest of the fields seem coherent. So since this column is going to be deleted at the end, we can ignore it. In any case, we are going to delete this value so that when we graph with respect to this parameter the graphs do not change the scale."
      ],
      "metadata": {
        "id": "adGF37JUZW-_"
      }
    },
    {
      "cell_type": "code",
      "source": [
        "loans['ChgOffDate'].replace('1926-10-22 00:00:00', np.nan, inplace=True)"
      ],
      "metadata": {
        "id": "FloQVEz90idJ"
      },
      "execution_count": null,
      "outputs": []
    },
    {
      "cell_type": "markdown",
      "source": [
        "The same goes for the minimum value and the maximum value of 'DisbursementDate'."
      ],
      "metadata": {
        "id": "TwOxFdxqZXHV"
      }
    },
    {
      "cell_type": "code",
      "source": [
        "print(loans['DisbursementDate'].sort_values())\n",
        "print('------------------------------------------------------------')\n",
        "print(loans['DisbursementDate'].sort_values(ascending=False))"
      ],
      "metadata": {
        "colab": {
          "base_uri": "https://localhost:8080/"
        },
        "id": "5PFuQipb1d7W",
        "outputId": "6a87b91c-a748-4183-e674-d6c595aaf1c2"
      },
      "execution_count": null,
      "outputs": [
        {
          "output_type": "stream",
          "name": "stdout",
          "text": [
            "642915   1928-06-18\n",
            "54648    1948-09-17\n",
            "49244    1966-08-16\n",
            "697801   1968-03-19\n",
            "732056   1968-11-22\n",
            "            ...    \n",
            "896387          NaT\n",
            "897215          NaT\n",
            "897268          NaT\n",
            "897488          NaT\n",
            "897494          NaT\n",
            "Name: DisbursementDate, Length: 897072, dtype: datetime64[ns]\n",
            "------------------------------------------------------------\n",
            "379815   2020-04-14\n",
            "709337   2014-12-31\n",
            "402166   2014-07-30\n",
            "498326   2014-07-05\n",
            "669507   2014-06-30\n",
            "            ...    \n",
            "896387          NaT\n",
            "897215          NaT\n",
            "897268          NaT\n",
            "897488          NaT\n",
            "897494          NaT\n",
            "Name: DisbursementDate, Length: 897072, dtype: datetime64[ns]\n"
          ]
        }
      ]
    },
    {
      "cell_type": "code",
      "source": [
        "print(loans.loc[642915])\n",
        "print('------------------------------------------------------------')\n",
        "print(loans.loc[54648 ])\n",
        "print('------------------------------------------------------------')\n",
        "print(loans.loc[379815])"
      ],
      "metadata": {
        "colab": {
          "base_uri": "https://localhost:8080/"
        },
        "id": "-jd3-FZA1qb1",
        "outputId": "266a6ac0-dc08-41d9-a0ff-75c1cdd4fc48"
      },
      "execution_count": null,
      "outputs": [
        {
          "output_type": "stream",
          "name": "stdout",
          "text": [
            "Name                           KINGS INN\n",
            "City                             SEATTLE\n",
            "State                                 WA\n",
            "Zip                                98121\n",
            "Bank                           BBCN BANK\n",
            "BankState                             CA\n",
            "ApprovalDate         2003-06-18 00:00:00\n",
            "ApprovalFY                          2003\n",
            "Term                                 300\n",
            "NoEmp                                 12\n",
            "NewExist                             1.0\n",
            "CreateJob                              0\n",
            "RetainedJob                            0\n",
            "FranchiseCode                          1\n",
            "UrbanRural                             1\n",
            "RevLineCr                              N\n",
            "LowDoc                                 N\n",
            "ChgOffDate                           NaT\n",
            "DisbursementDate     1928-06-18 00:00:00\n",
            "DisbursementGross              1330000.0\n",
            "BalanceGross                         0.0\n",
            "ChgOffPrinGr                      $0.00 \n",
            "GrAppv                         1330000.0\n",
            "SBA_Appv                        997500.0\n",
            "Sector                                72\n",
            "Subsector                              1\n",
            "Default                                0\n",
            "Name: 642915, dtype: object\n",
            "------------------------------------------------------------\n",
            "Name                 BOGUIST, DAVIS & VIEIRA, CPA'S\n",
            "City                                       STOCKTON\n",
            "State                                            CA\n",
            "Zip                                           95207\n",
            "Bank                     BANK OF AMERICA NATL ASSOC\n",
            "BankState                                        CA\n",
            "ApprovalDate                    1982-08-23 00:00:00\n",
            "ApprovalFY                                     1982\n",
            "Term                                            120\n",
            "NoEmp                                            12\n",
            "NewExist                                        1.0\n",
            "CreateJob                                         0\n",
            "RetainedJob                                       0\n",
            "FranchiseCode                                     0\n",
            "UrbanRural                                        0\n",
            "RevLineCr                                         N\n",
            "LowDoc                                            N\n",
            "ChgOffDate                      1991-02-14 00:00:00\n",
            "DisbursementDate                1948-09-17 00:00:00\n",
            "DisbursementGross                           55000.0\n",
            "BalanceGross                                    0.0\n",
            "ChgOffPrinGr                            $77,377.00 \n",
            "GrAppv                                      55000.0\n",
            "SBA_Appv                                    46200.0\n",
            "Sector                                            0\n",
            "Subsector                                          \n",
            "Default                                           1\n",
            "Name: 54648, dtype: object\n",
            "------------------------------------------------------------\n",
            "Name                   QUALITY INN HOTEL\n",
            "City                               SALEM\n",
            "State                                 VA\n",
            "Zip                                24153\n",
            "Bank                          UNITY BANK\n",
            "BankState                             NJ\n",
            "ApprovalDate         2000-03-31 00:00:00\n",
            "ApprovalFY                          2000\n",
            "Term                                  60\n",
            "NoEmp                                 20\n",
            "NewExist                             2.0\n",
            "CreateJob                              0\n",
            "RetainedJob                            0\n",
            "FranchiseCode                      67735\n",
            "UrbanRural                             1\n",
            "RevLineCr                              N\n",
            "LowDoc                                 N\n",
            "ChgOffDate                           NaT\n",
            "DisbursementDate     2020-04-14 00:00:00\n",
            "DisbursementGross              1000000.0\n",
            "BalanceGross                         0.0\n",
            "ChgOffPrinGr                      $0.00 \n",
            "GrAppv                         1000000.0\n",
            "SBA_Appv                        750000.0\n",
            "Sector                                72\n",
            "Subsector                              1\n",
            "Default                                0\n",
            "Name: 379815, dtype: object\n"
          ]
        }
      ]
    },
    {
      "cell_type": "markdown",
      "source": [
        "As before, the rest of the columns appear to contain correct data so we simply delete those values so we don't get scale broken in later visualizations."
      ],
      "metadata": {
        "id": "04iZOw06ZXR7"
      }
    },
    {
      "cell_type": "code",
      "source": [
        "loans['DisbursementDate'].replace('1928-06-18', np.nan, inplace=True)\n",
        "loans['DisbursementDate'].replace('1948-09-17', np.nan, inplace=True)\n",
        "loans['DisbursementDate'].replace('2020-04-14', np.nan, inplace=True)"
      ],
      "metadata": {
        "id": "Us2Eg_bF2oBR"
      },
      "execution_count": null,
      "outputs": []
    },
    {
      "cell_type": "markdown",
      "source": [
        "### A deeper analysis"
      ],
      "metadata": {
        "id": "2RXLcWybxwjJ"
      }
    },
    {
      "cell_type": "markdown",
      "source": [
        "Now that we've reformatted several columns, cleaned up the date fields, and added some useful columns, we can take a deeper look at the data and draw more conclusions regarding the questions asked in Business Target."
      ],
      "metadata": {
        "id": "zInfNZ9uY3qK"
      }
    },
    {
      "cell_type": "markdown",
      "source": [
        "#### Banks"
      ],
      "metadata": {
        "id": "VmdrAPeS2-Y7"
      }
    },
    {
      "cell_type": "markdown",
      "source": [
        "Let's analyze the banks that grant the loans. Will there be banks where there are more defaults than in others?"
      ],
      "metadata": {
        "id": "ZjLIVV1ZeTb7"
      }
    },
    {
      "cell_type": "markdown",
      "source": [
        "First let's look at how many different banks there are."
      ],
      "metadata": {
        "id": "dTfxi17d34vx"
      }
    },
    {
      "cell_type": "code",
      "source": [
        "print(loans['Bank'].unique().size)"
      ],
      "metadata": {
        "colab": {
          "base_uri": "https://localhost:8080/"
        },
        "id": "1K81woeAeh3T",
        "outputId": "367a8593-8cba-4176-98b6-02ad4fe1fb31"
      },
      "execution_count": null,
      "outputs": [
        {
          "output_type": "stream",
          "name": "stdout",
          "text": [
            "5802\n"
          ]
        }
      ]
    },
    {
      "cell_type": "code",
      "source": [
        "loans['Bank'].value_counts()"
      ],
      "metadata": {
        "colab": {
          "base_uri": "https://localhost:8080/"
        },
        "id": "nMSGPz2UeUT5",
        "outputId": "0db1ecb3-db0c-48f8-936e-d03cafce16a7"
      },
      "execution_count": null,
      "outputs": [
        {
          "output_type": "execute_result",
          "data": {
            "text/plain": [
              "BANK OF AMERICA NATL ASSOC        86768\n",
              "WELLS FARGO BANK NATL ASSOC       63459\n",
              "JPMORGAN CHASE BANK NATL ASSOC    48126\n",
              "U.S. BANK NATIONAL ASSOCIATION    35109\n",
              "CITIZENS BANK NATL ASSOC          33769\n",
              "                                  ...  \n",
              "BANK OF IDAHO HOLDING COMPANY         1\n",
              "APPLE CREEK BK. CO                    1\n",
              "HERITAGE BK E. BAY A DIVISION         1\n",
              "ELKHORN VALLEY BANK & TRUST           1\n",
              "DEPCO                                 1\n",
              "Name: Bank, Length: 5801, dtype: int64"
            ]
          },
          "metadata": {},
          "execution_count": 62
        }
      ]
    },
    {
      "cell_type": "markdown",
      "source": [
        "We see that there are 5801 different banks, with very varied amounts of loans (when we ask for unique values it returns 5802 because it includes the case where the bank name is null). There are banks with tens of thousands of loans, while there are others with only one.\n",
        "\n",
        "Let's see what happens with the default rate of each bank."
      ],
      "metadata": {
        "id": "mgMIz4wmK7Nw"
      }
    },
    {
      "cell_type": "code",
      "source": [
        "group_bank= loans.groupby(['Bank']).agg(Default_rate=('Default', 'mean'), Amount_of_loans=('Bank', 'count')).sort_values(by=['Amount_of_loans'], ascending=False)\n",
        "group_bank=group_bank.reset_index() # We put the bank as a column, creating a new index.\n",
        "group_bank # Note that we order the banks from highest to lowest number of loans."
      ],
      "metadata": {
        "colab": {
          "base_uri": "https://localhost:8080/",
          "height": 423
        },
        "id": "esUHvax7NEau",
        "outputId": "9a4905b1-0874-44e1-9a68-c6bfcbac54e4"
      },
      "execution_count": null,
      "outputs": [
        {
          "output_type": "execute_result",
          "data": {
            "text/plain": [
              "                                Bank  Default_rate  Amount_of_loans\n",
              "0         BANK OF AMERICA NATL ASSOC      0.275609            86768\n",
              "1        WELLS FARGO BANK NATL ASSOC      0.141304            63459\n",
              "2     JPMORGAN CHASE BANK NATL ASSOC      0.275007            48126\n",
              "3     U.S. BANK NATIONAL ASSOCIATION      0.174685            35109\n",
              "4           CITIZENS BANK NATL ASSOC      0.223015            33769\n",
              "...                              ...           ...              ...\n",
              "5796         GATEWAY COMMERCIAL BANK      0.000000                1\n",
              "5797      TECHE BANK & TRUST COMPANY      1.000000                1\n",
              "5798         G W JONES EXCHANGE BANK      1.000000                1\n",
              "5799          AMER BK & TR WISCONSIN      0.000000                1\n",
              "5800    1ST & FARMERS BK HOLDING CO.      0.000000                1\n",
              "\n",
              "[5801 rows x 3 columns]"
            ],
            "text/html": [
              "\n",
              "  <div id=\"df-3f9e5b1d-2322-40e5-8e77-ca567befa31e\">\n",
              "    <div class=\"colab-df-container\">\n",
              "      <div>\n",
              "<style scoped>\n",
              "    .dataframe tbody tr th:only-of-type {\n",
              "        vertical-align: middle;\n",
              "    }\n",
              "\n",
              "    .dataframe tbody tr th {\n",
              "        vertical-align: top;\n",
              "    }\n",
              "\n",
              "    .dataframe thead th {\n",
              "        text-align: right;\n",
              "    }\n",
              "</style>\n",
              "<table border=\"1\" class=\"dataframe\">\n",
              "  <thead>\n",
              "    <tr style=\"text-align: right;\">\n",
              "      <th></th>\n",
              "      <th>Bank</th>\n",
              "      <th>Default_rate</th>\n",
              "      <th>Amount_of_loans</th>\n",
              "    </tr>\n",
              "  </thead>\n",
              "  <tbody>\n",
              "    <tr>\n",
              "      <th>0</th>\n",
              "      <td>BANK OF AMERICA NATL ASSOC</td>\n",
              "      <td>0.275609</td>\n",
              "      <td>86768</td>\n",
              "    </tr>\n",
              "    <tr>\n",
              "      <th>1</th>\n",
              "      <td>WELLS FARGO BANK NATL ASSOC</td>\n",
              "      <td>0.141304</td>\n",
              "      <td>63459</td>\n",
              "    </tr>\n",
              "    <tr>\n",
              "      <th>2</th>\n",
              "      <td>JPMORGAN CHASE BANK NATL ASSOC</td>\n",
              "      <td>0.275007</td>\n",
              "      <td>48126</td>\n",
              "    </tr>\n",
              "    <tr>\n",
              "      <th>3</th>\n",
              "      <td>U.S. BANK NATIONAL ASSOCIATION</td>\n",
              "      <td>0.174685</td>\n",
              "      <td>35109</td>\n",
              "    </tr>\n",
              "    <tr>\n",
              "      <th>4</th>\n",
              "      <td>CITIZENS BANK NATL ASSOC</td>\n",
              "      <td>0.223015</td>\n",
              "      <td>33769</td>\n",
              "    </tr>\n",
              "    <tr>\n",
              "      <th>...</th>\n",
              "      <td>...</td>\n",
              "      <td>...</td>\n",
              "      <td>...</td>\n",
              "    </tr>\n",
              "    <tr>\n",
              "      <th>5796</th>\n",
              "      <td>GATEWAY COMMERCIAL BANK</td>\n",
              "      <td>0.000000</td>\n",
              "      <td>1</td>\n",
              "    </tr>\n",
              "    <tr>\n",
              "      <th>5797</th>\n",
              "      <td>TECHE BANK &amp; TRUST COMPANY</td>\n",
              "      <td>1.000000</td>\n",
              "      <td>1</td>\n",
              "    </tr>\n",
              "    <tr>\n",
              "      <th>5798</th>\n",
              "      <td>G W JONES EXCHANGE BANK</td>\n",
              "      <td>1.000000</td>\n",
              "      <td>1</td>\n",
              "    </tr>\n",
              "    <tr>\n",
              "      <th>5799</th>\n",
              "      <td>AMER BK &amp; TR WISCONSIN</td>\n",
              "      <td>0.000000</td>\n",
              "      <td>1</td>\n",
              "    </tr>\n",
              "    <tr>\n",
              "      <th>5800</th>\n",
              "      <td>1ST &amp; FARMERS BK HOLDING CO.</td>\n",
              "      <td>0.000000</td>\n",
              "      <td>1</td>\n",
              "    </tr>\n",
              "  </tbody>\n",
              "</table>\n",
              "<p>5801 rows × 3 columns</p>\n",
              "</div>\n",
              "      <button class=\"colab-df-convert\" onclick=\"convertToInteractive('df-3f9e5b1d-2322-40e5-8e77-ca567befa31e')\"\n",
              "              title=\"Convert this dataframe to an interactive table.\"\n",
              "              style=\"display:none;\">\n",
              "        \n",
              "  <svg xmlns=\"http://www.w3.org/2000/svg\" height=\"24px\"viewBox=\"0 0 24 24\"\n",
              "       width=\"24px\">\n",
              "    <path d=\"M0 0h24v24H0V0z\" fill=\"none\"/>\n",
              "    <path d=\"M18.56 5.44l.94 2.06.94-2.06 2.06-.94-2.06-.94-.94-2.06-.94 2.06-2.06.94zm-11 1L8.5 8.5l.94-2.06 2.06-.94-2.06-.94L8.5 2.5l-.94 2.06-2.06.94zm10 10l.94 2.06.94-2.06 2.06-.94-2.06-.94-.94-2.06-.94 2.06-2.06.94z\"/><path d=\"M17.41 7.96l-1.37-1.37c-.4-.4-.92-.59-1.43-.59-.52 0-1.04.2-1.43.59L10.3 9.45l-7.72 7.72c-.78.78-.78 2.05 0 2.83L4 21.41c.39.39.9.59 1.41.59.51 0 1.02-.2 1.41-.59l7.78-7.78 2.81-2.81c.8-.78.8-2.07 0-2.86zM5.41 20L4 18.59l7.72-7.72 1.47 1.35L5.41 20z\"/>\n",
              "  </svg>\n",
              "      </button>\n",
              "      \n",
              "  <style>\n",
              "    .colab-df-container {\n",
              "      display:flex;\n",
              "      flex-wrap:wrap;\n",
              "      gap: 12px;\n",
              "    }\n",
              "\n",
              "    .colab-df-convert {\n",
              "      background-color: #E8F0FE;\n",
              "      border: none;\n",
              "      border-radius: 50%;\n",
              "      cursor: pointer;\n",
              "      display: none;\n",
              "      fill: #1967D2;\n",
              "      height: 32px;\n",
              "      padding: 0 0 0 0;\n",
              "      width: 32px;\n",
              "    }\n",
              "\n",
              "    .colab-df-convert:hover {\n",
              "      background-color: #E2EBFA;\n",
              "      box-shadow: 0px 1px 2px rgba(60, 64, 67, 0.3), 0px 1px 3px 1px rgba(60, 64, 67, 0.15);\n",
              "      fill: #174EA6;\n",
              "    }\n",
              "\n",
              "    [theme=dark] .colab-df-convert {\n",
              "      background-color: #3B4455;\n",
              "      fill: #D2E3FC;\n",
              "    }\n",
              "\n",
              "    [theme=dark] .colab-df-convert:hover {\n",
              "      background-color: #434B5C;\n",
              "      box-shadow: 0px 1px 3px 1px rgba(0, 0, 0, 0.15);\n",
              "      filter: drop-shadow(0px 1px 2px rgba(0, 0, 0, 0.3));\n",
              "      fill: #FFFFFF;\n",
              "    }\n",
              "  </style>\n",
              "\n",
              "      <script>\n",
              "        const buttonEl =\n",
              "          document.querySelector('#df-3f9e5b1d-2322-40e5-8e77-ca567befa31e button.colab-df-convert');\n",
              "        buttonEl.style.display =\n",
              "          google.colab.kernel.accessAllowed ? 'block' : 'none';\n",
              "\n",
              "        async function convertToInteractive(key) {\n",
              "          const element = document.querySelector('#df-3f9e5b1d-2322-40e5-8e77-ca567befa31e');\n",
              "          const dataTable =\n",
              "            await google.colab.kernel.invokeFunction('convertToInteractive',\n",
              "                                                     [key], {});\n",
              "          if (!dataTable) return;\n",
              "\n",
              "          const docLinkHtml = 'Like what you see? Visit the ' +\n",
              "            '<a target=\"_blank\" href=https://colab.research.google.com/notebooks/data_table.ipynb>data table notebook</a>'\n",
              "            + ' to learn more about interactive tables.';\n",
              "          element.innerHTML = '';\n",
              "          dataTable['output_type'] = 'display_data';\n",
              "          await google.colab.output.renderOutput(dataTable, element);\n",
              "          const docLink = document.createElement('div');\n",
              "          docLink.innerHTML = docLinkHtml;\n",
              "          element.appendChild(docLink);\n",
              "        }\n",
              "      </script>\n",
              "    </div>\n",
              "  </div>\n",
              "  "
            ]
          },
          "metadata": {},
          "execution_count": 63
        }
      ]
    },
    {
      "cell_type": "markdown",
      "source": [
        "To plot, we are going to consider the banks that have at least 5,000 loans, otherwise there would be too many to fit into a graph."
      ],
      "metadata": {
        "id": "PwK1vmjMNY1V"
      }
    },
    {
      "cell_type": "code",
      "source": [
        "group_bank_5000=group_bank[group_bank['Amount_of_loans']>4999];\n",
        "print(group_bank_5000.info());\n",
        "# There are 27 banks with 5000 or more loans, now it is more reasonable to make \n",
        "#a plot by putting the bank on the x-axis.\n",
        "print(\"----------------------------------------------\")\n",
        "g=sns.catplot( data=group_bank_5000, x=\"Bank\", y=\"Default_rate\", kind=\"bar\", aspect=4);\n",
        "g.set_xticklabels(rotation=60);"
      ],
      "metadata": {
        "colab": {
          "base_uri": "https://localhost:8080/",
          "height": 559
        },
        "id": "yLguo9vLNe4h",
        "outputId": "88ba7e36-4a5b-452b-f12e-7a442e8f8776"
      },
      "execution_count": null,
      "outputs": [
        {
          "output_type": "stream",
          "name": "stdout",
          "text": [
            "<class 'pandas.core.frame.DataFrame'>\n",
            "Int64Index: 27 entries, 0 to 26\n",
            "Data columns (total 3 columns):\n",
            " #   Column           Non-Null Count  Dtype  \n",
            "---  ------           --------------  -----  \n",
            " 0   Bank             27 non-null     object \n",
            " 1   Default_rate     27 non-null     float64\n",
            " 2   Amount_of_loans  27 non-null     int64  \n",
            "dtypes: float64(1), int64(1), object(1)\n",
            "memory usage: 864.0+ bytes\n",
            "None\n",
            "----------------------------------------------\n"
          ]
        },
        {
          "output_type": "display_data",
          "data": {
            "text/plain": [
              "<Figure size 1440x360 with 1 Axes>"
            ],
            "image/png": "[encoded data removed]"
          },
          "metadata": {
            "needs_background": "light"
          }
        }
      ]
    },
    {
      "cell_type": "markdown",
      "source": [
        "We see that the delinquency rate is closely related to the bank, although we are not sure if this will help us to build a predictive model due to the large number of banks."
      ],
      "metadata": {
        "id": "Dl65fSzLN0SN"
      }
    },
    {
      "cell_type": "markdown",
      "source": [
        "One thing one might be tempted to do is look at banks by state where they are located. But it would be a mistake to look at things this way because the data we have (the 'BankState' field) is the state where the **branch** of the bank that made the loan is located. That is, each 'bank is in many states. For example:"
      ],
      "metadata": {
        "id": "J2LUyTmLMUCm"
      }
    },
    {
      "cell_type": "code",
      "source": [
        "loans[loans['Bank']=='BANK OF AMERICA NATL ASSOC'][['Bank', 'BankState']].head(15)"
      ],
      "metadata": {
        "colab": {
          "base_uri": "https://localhost:8080/",
          "height": 519
        },
        "id": "xI_D1es2MUzt",
        "outputId": "68fe91d4-d75c-4227-9f62-b81239533afe"
      },
      "execution_count": null,
      "outputs": [
        {
          "output_type": "execute_result",
          "data": {
            "text/plain": [
              "                          Bank BankState\n",
              "11  BANK OF AMERICA NATL ASSOC        OR\n",
              "15  BANK OF AMERICA NATL ASSOC        NC\n",
              "17  BANK OF AMERICA NATL ASSOC        MD\n",
              "22  BANK OF AMERICA NATL ASSOC        RI\n",
              "26  BANK OF AMERICA NATL ASSOC        NC\n",
              "45  BANK OF AMERICA NATL ASSOC        MA\n",
              "51  BANK OF AMERICA NATL ASSOC        MA\n",
              "53  BANK OF AMERICA NATL ASSOC        RI\n",
              "66  BANK OF AMERICA NATL ASSOC        WA\n",
              "73  BANK OF AMERICA NATL ASSOC        NC\n",
              "74  BANK OF AMERICA NATL ASSOC        MI\n",
              "75  BANK OF AMERICA NATL ASSOC        MA\n",
              "82  BANK OF AMERICA NATL ASSOC        MA\n",
              "85  BANK OF AMERICA NATL ASSOC        RI\n",
              "86  BANK OF AMERICA NATL ASSOC        MA"
            ],
            "text/html": [
              "\n",
              "  <div id=\"df-da4ed1d4-a95d-4e33-8044-5ab8dc8e89aa\">\n",
              "    <div class=\"colab-df-container\">\n",
              "      <div>\n",
              "<style scoped>\n",
              "    .dataframe tbody tr th:only-of-type {\n",
              "        vertical-align: middle;\n",
              "    }\n",
              "\n",
              "    .dataframe tbody tr th {\n",
              "        vertical-align: top;\n",
              "    }\n",
              "\n",
              "    .dataframe thead th {\n",
              "        text-align: right;\n",
              "    }\n",
              "</style>\n",
              "<table border=\"1\" class=\"dataframe\">\n",
              "  <thead>\n",
              "    <tr style=\"text-align: right;\">\n",
              "      <th></th>\n",
              "      <th>Bank</th>\n",
              "      <th>BankState</th>\n",
              "    </tr>\n",
              "  </thead>\n",
              "  <tbody>\n",
              "    <tr>\n",
              "      <th>11</th>\n",
              "      <td>BANK OF AMERICA NATL ASSOC</td>\n",
              "      <td>OR</td>\n",
              "    </tr>\n",
              "    <tr>\n",
              "      <th>15</th>\n",
              "      <td>BANK OF AMERICA NATL ASSOC</td>\n",
              "      <td>NC</td>\n",
              "    </tr>\n",
              "    <tr>\n",
              "      <th>17</th>\n",
              "      <td>BANK OF AMERICA NATL ASSOC</td>\n",
              "      <td>MD</td>\n",
              "    </tr>\n",
              "    <tr>\n",
              "      <th>22</th>\n",
              "      <td>BANK OF AMERICA NATL ASSOC</td>\n",
              "      <td>RI</td>\n",
              "    </tr>\n",
              "    <tr>\n",
              "      <th>26</th>\n",
              "      <td>BANK OF AMERICA NATL ASSOC</td>\n",
              "      <td>NC</td>\n",
              "    </tr>\n",
              "    <tr>\n",
              "      <th>45</th>\n",
              "      <td>BANK OF AMERICA NATL ASSOC</td>\n",
              "      <td>MA</td>\n",
              "    </tr>\n",
              "    <tr>\n",
              "      <th>51</th>\n",
              "      <td>BANK OF AMERICA NATL ASSOC</td>\n",
              "      <td>MA</td>\n",
              "    </tr>\n",
              "    <tr>\n",
              "      <th>53</th>\n",
              "      <td>BANK OF AMERICA NATL ASSOC</td>\n",
              "      <td>RI</td>\n",
              "    </tr>\n",
              "    <tr>\n",
              "      <th>66</th>\n",
              "      <td>BANK OF AMERICA NATL ASSOC</td>\n",
              "      <td>WA</td>\n",
              "    </tr>\n",
              "    <tr>\n",
              "      <th>73</th>\n",
              "      <td>BANK OF AMERICA NATL ASSOC</td>\n",
              "      <td>NC</td>\n",
              "    </tr>\n",
              "    <tr>\n",
              "      <th>74</th>\n",
              "      <td>BANK OF AMERICA NATL ASSOC</td>\n",
              "      <td>MI</td>\n",
              "    </tr>\n",
              "    <tr>\n",
              "      <th>75</th>\n",
              "      <td>BANK OF AMERICA NATL ASSOC</td>\n",
              "      <td>MA</td>\n",
              "    </tr>\n",
              "    <tr>\n",
              "      <th>82</th>\n",
              "      <td>BANK OF AMERICA NATL ASSOC</td>\n",
              "      <td>MA</td>\n",
              "    </tr>\n",
              "    <tr>\n",
              "      <th>85</th>\n",
              "      <td>BANK OF AMERICA NATL ASSOC</td>\n",
              "      <td>RI</td>\n",
              "    </tr>\n",
              "    <tr>\n",
              "      <th>86</th>\n",
              "      <td>BANK OF AMERICA NATL ASSOC</td>\n",
              "      <td>MA</td>\n",
              "    </tr>\n",
              "  </tbody>\n",
              "</table>\n",
              "</div>\n",
              "      <button class=\"colab-df-convert\" onclick=\"convertToInteractive('df-da4ed1d4-a95d-4e33-8044-5ab8dc8e89aa')\"\n",
              "              title=\"Convert this dataframe to an interactive table.\"\n",
              "              style=\"display:none;\">\n",
              "        \n",
              "  <svg xmlns=\"http://www.w3.org/2000/svg\" height=\"24px\"viewBox=\"0 0 24 24\"\n",
              "       width=\"24px\">\n",
              "    <path d=\"M0 0h24v24H0V0z\" fill=\"none\"/>\n",
              "    <path d=\"M18.56 5.44l.94 2.06.94-2.06 2.06-.94-2.06-.94-.94-2.06-.94 2.06-2.06.94zm-11 1L8.5 8.5l.94-2.06 2.06-.94-2.06-.94L8.5 2.5l-.94 2.06-2.06.94zm10 10l.94 2.06.94-2.06 2.06-.94-2.06-.94-.94-2.06-.94 2.06-2.06.94z\"/><path d=\"M17.41 7.96l-1.37-1.37c-.4-.4-.92-.59-1.43-.59-.52 0-1.04.2-1.43.59L10.3 9.45l-7.72 7.72c-.78.78-.78 2.05 0 2.83L4 21.41c.39.39.9.59 1.41.59.51 0 1.02-.2 1.41-.59l7.78-7.78 2.81-2.81c.8-.78.8-2.07 0-2.86zM5.41 20L4 18.59l7.72-7.72 1.47 1.35L5.41 20z\"/>\n",
              "  </svg>\n",
              "      </button>\n",
              "      \n",
              "  <style>\n",
              "    .colab-df-container {\n",
              "      display:flex;\n",
              "      flex-wrap:wrap;\n",
              "      gap: 12px;\n",
              "    }\n",
              "\n",
              "    .colab-df-convert {\n",
              "      background-color: #E8F0FE;\n",
              "      border: none;\n",
              "      border-radius: 50%;\n",
              "      cursor: pointer;\n",
              "      display: none;\n",
              "      fill: #1967D2;\n",
              "      height: 32px;\n",
              "      padding: 0 0 0 0;\n",
              "      width: 32px;\n",
              "    }\n",
              "\n",
              "    .colab-df-convert:hover {\n",
              "      background-color: #E2EBFA;\n",
              "      box-shadow: 0px 1px 2px rgba(60, 64, 67, 0.3), 0px 1px 3px 1px rgba(60, 64, 67, 0.15);\n",
              "      fill: #174EA6;\n",
              "    }\n",
              "\n",
              "    [theme=dark] .colab-df-convert {\n",
              "      background-color: #3B4455;\n",
              "      fill: #D2E3FC;\n",
              "    }\n",
              "\n",
              "    [theme=dark] .colab-df-convert:hover {\n",
              "      background-color: #434B5C;\n",
              "      box-shadow: 0px 1px 3px 1px rgba(0, 0, 0, 0.15);\n",
              "      filter: drop-shadow(0px 1px 2px rgba(0, 0, 0, 0.3));\n",
              "      fill: #FFFFFF;\n",
              "    }\n",
              "  </style>\n",
              "\n",
              "      <script>\n",
              "        const buttonEl =\n",
              "          document.querySelector('#df-da4ed1d4-a95d-4e33-8044-5ab8dc8e89aa button.colab-df-convert');\n",
              "        buttonEl.style.display =\n",
              "          google.colab.kernel.accessAllowed ? 'block' : 'none';\n",
              "\n",
              "        async function convertToInteractive(key) {\n",
              "          const element = document.querySelector('#df-da4ed1d4-a95d-4e33-8044-5ab8dc8e89aa');\n",
              "          const dataTable =\n",
              "            await google.colab.kernel.invokeFunction('convertToInteractive',\n",
              "                                                     [key], {});\n",
              "          if (!dataTable) return;\n",
              "\n",
              "          const docLinkHtml = 'Like what you see? Visit the ' +\n",
              "            '<a target=\"_blank\" href=https://colab.research.google.com/notebooks/data_table.ipynb>data table notebook</a>'\n",
              "            + ' to learn more about interactive tables.';\n",
              "          element.innerHTML = '';\n",
              "          dataTable['output_type'] = 'display_data';\n",
              "          await google.colab.output.renderOutput(dataTable, element);\n",
              "          const docLink = document.createElement('div');\n",
              "          docLink.innerHTML = docLinkHtml;\n",
              "          element.appendChild(docLink);\n",
              "        }\n",
              "      </script>\n",
              "    </div>\n",
              "  </div>\n",
              "  "
            ]
          },
          "metadata": {},
          "execution_count": 65
        }
      ]
    },
    {
      "cell_type": "markdown",
      "source": [
        "So the idea of grouping banks by \"their\" state doesn't make sense."
      ],
      "metadata": {
        "id": "C0QvP4UxMwLh"
      }
    },
    {
      "cell_type": "markdown",
      "source": [
        "Another idea we can explore is this: In a way, the amount of a bank's loans is a measure of how important it is. Will the default rate depend on how important it is? Or in terms of our data, is there a correlation between the default rate and the number of loans each bank took out?"
      ],
      "metadata": {
        "id": "-2B5mFdTMyy1"
      }
    },
    {
      "cell_type": "code",
      "source": [
        "fig, ax = plt.subplots(figsize=(15, 9))\n",
        "ax=sns.scatterplot(x=group_bank['Amount_of_loans'], y=group_bank['Default_rate']);\n",
        "ax.set(xlabel='Amount_of_loans', ylabel='Default_rate',title = 'Default rate vs. amount of loans of the bank') ;"
      ],
      "metadata": {
        "colab": {
          "base_uri": "https://localhost:8080/",
          "height": 568
        },
        "id": "dfTA6trnN7So",
        "outputId": "84aea2a9-8657-4e77-e1e1-9e4342b6d041"
      },
      "execution_count": null,
      "outputs": [
        {
          "output_type": "display_data",
          "data": {
            "text/plain": [
              "<Figure size 1080x648 with 1 Axes>"
            ],
            "image/png": "[encoded data removed]"
          },
          "metadata": {
            "needs_background": "light"
          }
        }
      ]
    },
    {
      "cell_type": "markdown",
      "source": [
        "There doesn't seem to be much of a correlation. Let's limit the amount of loans to see if we can see something."
      ],
      "metadata": {
        "id": "R7YVbrQVODIZ"
      }
    },
    {
      "cell_type": "code",
      "source": [
        "fig, ax = plt.subplots(figsize=(15, 9))\n",
        "ax=sns.scatterplot(x=group_bank['Amount_of_loans'], y=group_bank['Default_rate']);\n",
        "ax.set(xlabel='Amount_of_loans', ylabel='Default_rate',title = 'Default rate vs. amount of loans of the bank') ;\n",
        "ax.set_xlim(0,10000);"
      ],
      "metadata": {
        "colab": {
          "base_uri": "https://localhost:8080/",
          "height": 568
        },
        "id": "xCNC9fW5OTWh",
        "outputId": "6d8c731a-8aa2-4625-8b9b-68d364951d4a"
      },
      "execution_count": null,
      "outputs": [
        {
          "output_type": "display_data",
          "data": {
            "text/plain": [
              "<Figure size 1080x648 with 1 Axes>"
            ],
            "image/png": "[encoded data removed]"
          },
          "metadata": {
            "needs_background": "light"
          }
        }
      ]
    },
    {
      "cell_type": "markdown",
      "source": [
        "You can't really tell much. If we look at it in more statistical terms, with the correlation coefficient:"
      ],
      "metadata": {
        "id": "r4qDHv9POcCp"
      }
    },
    {
      "cell_type": "code",
      "source": [
        "group_bank['Amount_of_loans'].corr(group_bank['Default_rate'])"
      ],
      "metadata": {
        "colab": {
          "base_uri": "https://localhost:8080/"
        },
        "id": "-LfEBpSIOdis",
        "outputId": "18bde652-5303-4263-f246-157475c2c5b2"
      },
      "execution_count": null,
      "outputs": [
        {
          "output_type": "execute_result",
          "data": {
            "text/plain": [
              "0.0014686859192730346"
            ]
          },
          "metadata": {},
          "execution_count": 68
        }
      ]
    },
    {
      "cell_type": "markdown",
      "source": [
        "We see that there is effectively no correlation, so this idea is not going to work for us. Maybe later we can think of some way to simplify the information about banks."
      ],
      "metadata": {
        "id": "lw10Y18XOpXj"
      }
    },
    {
      "cell_type": "markdown",
      "source": [
        "#### States"
      ],
      "metadata": {
        "id": "S3BsmNg55gMp"
      }
    },
    {
      "cell_type": "markdown",
      "source": [
        "We ask ourselves how much is the incidence of the company's state of origin in the repayment of the loans.\n",
        "\n"
      ],
      "metadata": {
        "id": "VyyhYggZ5vao"
      }
    },
    {
      "cell_type": "code",
      "source": [
        "sns.catplot( data=loans, x=\"State\", y=\"Default\", kind=\"bar\", aspect=3); # On the y-axis plots an average of Default. That is, the default ratio.\n",
        "plt.ylabel('Default rate');\n",
        "plt.title(\"Default ratio by company state\");"
      ],
      "metadata": {
        "colab": {
          "base_uri": "https://localhost:8080/",
          "height": 331
        },
        "id": "V9imvktn5z1a",
        "outputId": "29dcb4b0-c02e-4d50-cf30-0d5d17e88ca2"
      },
      "execution_count": null,
      "outputs": [
        {
          "output_type": "display_data",
          "data": {
            "text/plain": [
              "<Figure size 1080x360 with 1 Axes>"
            ],
            "image/png": "[encoded data removed]"
          },
          "metadata": {
            "needs_background": "light"
          }
        }
      ]
    },
    {
      "cell_type": "markdown",
      "source": [
        "We see that there are states where the risk of default is significantly higher than in others. This may be due to employment laws, the wealth of the state, and cultural factors."
      ],
      "metadata": {
        "id": "KQfvup7-5vdr"
      }
    },
    {
      "cell_type": "markdown",
      "source": [
        "Will the same happen with the state of the bank branch?"
      ],
      "metadata": {
        "id": "jWnnPyZl17IQ"
      }
    },
    {
      "cell_type": "code",
      "source": [
        "sns.catplot( data=loans, x=\"BankState\", y=\"Default\", kind=\"bar\", aspect=3); \n",
        "plt.ylabel('Default rate');\n",
        "plt.title(\"Default rate by branch bank state\");"
      ],
      "metadata": {
        "colab": {
          "base_uri": "https://localhost:8080/",
          "height": 331
        },
        "id": "ToXTEdkQ_IGF",
        "outputId": "18425e4f-c467-470a-936b-0cd57c17990b"
      },
      "execution_count": null,
      "outputs": [
        {
          "output_type": "display_data",
          "data": {
            "text/plain": [
              "<Figure size 1080x360 with 1 Axes>"
            ],
            "image/png": "[encoded data removed]"
          },
          "metadata": {
            "needs_background": "light"
          }
        }
      ]
    },
    {
      "cell_type": "markdown",
      "source": [
        "It is interesting to see that the differences in the default rate with respect to the status of the bank branch is even greater than the differences regarding the status of the company. For example, if the bank is from VA (Virginia) the drawbacks are around 40%. A really high value."
      ],
      "metadata": {
        "id": "F9TsiEVT-irq"
      }
    },
    {
      "cell_type": "markdown",
      "source": [
        "But we have to be a bit careful because if you look at the state of the company and the state of the branch bank, the default rate in most of these combinations is calculated based on too few values to draw statistically reliable conclusions."
      ],
      "metadata": {
        "id": "mIigLtRzSpNv"
      }
    },
    {
      "cell_type": "code",
      "source": [
        "# We hide the tables because there are too big and too complicated to understand for a non-technical audience.\n",
        "\n",
        "# pivot_state=loans.pivot_table(index='State', columns=['BankState'], values=['Default'], aggfunc='mean', margins = True, margins_name='Total default rate')\n",
        "# print(pivot_state)\n",
        "# print('----------------------------------------------------')\n",
        "# pivot_state=loans.pivot_table(index='State', columns=['BankState'], values=['Default'], aggfunc='count', margins = True, margins_name='Total counts')\n",
        "# print(pivot_state)"
      ],
      "metadata": {
        "id": "igFeGJpaQ003"
      },
      "execution_count": null,
      "outputs": []
    },
    {
      "cell_type": "markdown",
      "source": [
        "Perhaps it is more useful to consider whether the state of the company is the same as the state of the branch bank or not."
      ],
      "metadata": {
        "id": "CeoBUpWBSzUU"
      }
    },
    {
      "cell_type": "code",
      "source": [
        "loans['SameState']=loans['State'].eq(loans['BankState']) #We create a new field which indicates if both states are equal or not.\n"
      ],
      "metadata": {
        "id": "T1de9MgLTCry"
      },
      "execution_count": null,
      "outputs": []
    },
    {
      "cell_type": "code",
      "source": [
        "print(f\"There are {loans[loans['SameState']==True]['Default'].count()} loans where the state of the company is equal to the state of the branch bank. The\\n corresponding default rate in this case is: {loans[loans['SameState']==True]['Default'].mean()*100}%.\")\n",
        "print(f\"There are {loans[loans['SameState']==False]['Default'].count()} loans where the state of the company is different than the state of the branch bank. The\\n corresponding default rate in this case is: {loans[loans['SameState']==False]['Default'].mean()*100}%.\")"
      ],
      "metadata": {
        "colab": {
          "base_uri": "https://localhost:8080/"
        },
        "id": "65y22pHqUO5z",
        "outputId": "8298cb78-3f6e-4c97-9cf2-1e2659e0133f"
      },
      "execution_count": null,
      "outputs": [
        {
          "output_type": "stream",
          "name": "stdout",
          "text": [
            "There are 473358 loans where the state of the company is equal to the state of the branch bank. The\n",
            " corresponding default rate in this case is: 10.516142116537589%.\n",
            "There are 423714 loans where the state of the company is different than the state of the branch bank. The\n",
            " corresponding default rate in this case is: 25.436497259944208%.\n"
          ]
        }
      ]
    },
    {
      "cell_type": "markdown",
      "source": [
        "The default rate when the state of the branch bank is different from that of the company is 2.5 times higher! This is definitely an important fact to keep in mind."
      ],
      "metadata": {
        "id": "9qoFBKoGUAlK"
      }
    },
    {
      "cell_type": "markdown",
      "source": [
        "If we break down the state of the branch bank according to whether it is different from that of the company requesting the loan, we can see the following:"
      ],
      "metadata": {
        "id": "psg6hojzHwgQ"
      }
    },
    {
      "cell_type": "code",
      "source": [
        "ax=sns.barplot(y='Default', x='BankState', data=loans, hue='SameState')\n",
        "ax.figure.set_size_inches(22,5)\n",
        "plt.ylabel('Default rate');\n",
        "plt.title(\"Default ratio by branch bank state\");\n",
        "\n",
        " "
      ],
      "metadata": {
        "colab": {
          "base_uri": "https://localhost:8080/",
          "height": 255
        },
        "id": "W0p90TYRw2u0",
        "outputId": "3c5bcc81-be1f-48c8-9d09-c087bc0fb874"
      },
      "execution_count": null,
      "outputs": [
        {
          "output_type": "display_data",
          "data": {
            "text/plain": [
              "<Figure size 1584x360 with 1 Axes>"
            ],
            "image/png": "[encoded data removed]"
          },
          "metadata": {
            "needs_background": "light"
          }
        }
      ]
    },
    {
      "cell_type": "markdown",
      "source": [
        "Here we see again the great difference that there is if the bank branch is in the same state or not. We notice that there are some states ('GU', 'AN', 'EN', 'VI') that do not have bars, but that is because they have very few loans and the default rate is not calculated:"
      ],
      "metadata": {
        "id": "zcMfDJfy9cB5"
      }
    },
    {
      "cell_type": "code",
      "source": [
        "loans['BankState'].value_counts()"
      ],
      "metadata": {
        "colab": {
          "base_uri": "https://localhost:8080/"
        },
        "id": "9a1hkx7ZtwJf",
        "outputId": "02cfa858-01db-4f46-e8c9-810659de1775"
      },
      "execution_count": null,
      "outputs": [
        {
          "output_type": "execute_result",
          "data": {
            "text/plain": [
              "CA    118014\n",
              "NC     79449\n",
              "IL     65855\n",
              "OH     58425\n",
              "SD     51065\n",
              "TX     47758\n",
              "RI     44115\n",
              "NY     39544\n",
              "VA     28959\n",
              "DE     24520\n",
              "MN     19950\n",
              "UT     18994\n",
              "PA     17036\n",
              "WI     15402\n",
              "MO     14840\n",
              "MA     13843\n",
              "GA     13805\n",
              "FL     13803\n",
              "AL     12127\n",
              "OR     11369\n",
              "WA     10687\n",
              "CO     10580\n",
              "CT      9905\n",
              "IA      9860\n",
              "NJ      9434\n",
              "KS      8869\n",
              "MT      7848\n",
              "IN      7618\n",
              "SC      7471\n",
              "MI      7365\n",
              "OK      7322\n",
              "MD      6993\n",
              "NH      6794\n",
              "AR      6311\n",
              "MS      5923\n",
              "TN      5619\n",
              "NE      5333\n",
              "ND      5103\n",
              "LA      5057\n",
              "VT      4751\n",
              "NM      4416\n",
              "KY      4380\n",
              "NV      4323\n",
              "ID      4313\n",
              "DC      4003\n",
              "AZ      3957\n",
              "ME      3689\n",
              "HI      2989\n",
              "WY      2167\n",
              "WV      2006\n",
              "AK      1438\n",
              "PR       155\n",
              "GU         5\n",
              "AN         1\n",
              "EN         1\n",
              "VI         1\n",
              "Name: BankState, dtype: int64"
            ]
          },
          "metadata": {},
          "execution_count": 75
        }
      ]
    },
    {
      "cell_type": "markdown",
      "source": [
        "Continuing observing the graph above, we understand that it is more important if the state of the bank branch is equal to that of the company than the state of the branch itself."
      ],
      "metadata": {
        "id": "4VtvZ-FPINdy"
      }
    },
    {
      "cell_type": "markdown",
      "source": [
        "#### Business sector"
      ],
      "metadata": {
        "id": "Ybd2-Jx6JGWV"
      }
    },
    {
      "cell_type": "markdown",
      "source": [
        "And what happens with the industry sector? Will the default rate depend a lot on the sector?"
      ],
      "metadata": {
        "id": "g-WRlHwg5vge"
      }
    },
    {
      "cell_type": "code",
      "source": [
        "sns.catplot( data=loans, x=\"Sector\", y=\"Default\", kind=\"bar\", aspect=3); # On the y-axis plots an average of Default. That is, the default ratio.\n",
        "plt.title(\"Non-compliance with payments by sector\");\n",
        "plt.ylabel('Default rate');\n"
      ],
      "metadata": {
        "colab": {
          "base_uri": "https://localhost:8080/",
          "height": 331
        },
        "id": "1piWHYiR6wyy",
        "outputId": "58fc0e5c-17e5-4c0e-a0d8-2f21ab973dc4"
      },
      "execution_count": null,
      "outputs": [
        {
          "output_type": "display_data",
          "data": {
            "text/plain": [
              "<Figure size 1080x360 with 1 Axes>"
            ],
            "image/png": "[encoded data removed]"
          },
          "metadata": {
            "needs_background": "light"
          }
        }
      ]
    },
    {
      "cell_type": "markdown",
      "source": [
        "(The lines over the bars indicate a 95% confidence interval of the mean assuming random sampling)."
      ],
      "metadata": {
        "id": "Q938eTyF9UYc"
      }
    },
    {
      "cell_type": "markdown",
      "source": [
        "To understand this better, let's remember the table with the sector codes."
      ],
      "metadata": {
        "id": "6oTiasdM9c9B"
      }
    },
    {
      "cell_type": "markdown",
      "metadata": {
        "id": "whQD7b9FUCc0"
      },
      "source": [
        "|Sector |\tDescription|\n",
        "|-------|----------------|\n",
        "11 | Agriculture, forestry, fishing and hunting\n",
        "21 |\tMining, quarrying, and oil and gas extraction\n",
        "22 |\tUtilities\n",
        "23 |\tConstruction\n",
        "31–33 |\tManufacturing\n",
        "42 |\tWholesale trade\n",
        "44–45 |\tRetail trade\n",
        "48–49 |\tTransportation and warehousing\n",
        "51 |\tInformation\n",
        "52 |\tFinance and insurance\n",
        "53 |\tReal estate and rental and leasing\n",
        "54 |\tProfessional, scientific, and technical services\n",
        "55 |\tManagement of companies and enterprises\n",
        "56 |\tAdministrative and support and waste management and remediation services\n",
        "61 |\tEducational services\n",
        "62 |\tHealth care and social assistance\n",
        "71 |\tArts, entertainment, and recreation\n",
        "72 |\tAccommodation and food services\n",
        "81 |\tOther services (except public administration)\n",
        "92 |  Public administration"
      ]
    },
    {
      "cell_type": "markdown",
      "source": [
        "We see that there are sectors such as 52 and 53 (\"Finance and insurance\" and \"Real estate and rental and leasing\", respectively) where the default rate is close to 30%, while other sectors such as 11 and 21 (\" Agriculture, forestry, fishing and hunting\" and \"Mining, quarrying, and oil and gas extraction\", respectively) where the percentage is less than 10%."
      ],
      "metadata": {
        "id": "b2diG3_odFHW"
      }
    },
    {
      "cell_type": "markdown",
      "source": [
        "It would also be interesting to know if, when considering the subsector, we obtain additional information."
      ],
      "metadata": {
        "id": "YZKmdnsU95qX"
      }
    },
    {
      "cell_type": "code",
      "source": [
        "sns.catplot( data=loans, x=\"Subsector\", y=\"Default\", kind=\"bar\", aspect=7); # On the y-axis plots an average of MIS_Status_numeric. That is, the default ratio.\n",
        "plt.title(\"Non-compliance with payments by subsector\");\n",
        "plt.ylabel('Default rate');\n"
      ],
      "metadata": {
        "colab": {
          "base_uri": "https://localhost:8080/",
          "height": 151
        },
        "id": "LbpVcfTW7Qcl",
        "outputId": "a206c779-6387-4195-8326-9f0ae47f9380"
      },
      "execution_count": null,
      "outputs": [
        {
          "output_type": "display_data",
          "data": {
            "text/plain": [
              "<Figure size 2520x360 with 1 Axes>"
            ],
            "image/png": "[encoded data removed]"
          },
          "metadata": {
            "needs_background": "light"
          }
        }
      ]
    },
    {
      "cell_type": "markdown",
      "source": [
        "Apparently it seems so. Let's look more in detail taking into account also the sector."
      ],
      "metadata": {
        "id": "yrITibp25vjE"
      }
    },
    {
      "cell_type": "code",
      "source": [
        "pivot_NAICS=loans.pivot_table(index='Sector', columns=['Subsector'], values=['Default'], aggfunc='mean', margins = True, margins_name='Total default rate')\n",
        "pivot_NAICS"
      ],
      "metadata": {
        "colab": {
          "base_uri": "https://localhost:8080/",
          "height": 1000
        },
        "id": "axfFct6HGOI7",
        "outputId": "c72b49f4-0e7e-431e-ec6a-6caf01af462d"
      },
      "execution_count": null,
      "outputs": [
        {
          "output_type": "execute_result",
          "data": {
            "text/plain": [
              "                     Default                                          \\\n",
              "Subsector                            1         2         3         4   \n",
              "Sector                                                                 \n",
              "0                   0.083305       NaN       NaN       NaN       NaN   \n",
              "11                       NaN  0.086266  0.049013  0.125370  0.268487   \n",
              "21                       NaN  0.061224  0.134216  0.065359       NaN   \n",
              "22                       NaN  0.141994       NaN       NaN       NaN   \n",
              "23                       NaN       NaN       NaN  0.125332  0.076393   \n",
              "31                       NaN  0.176451  0.111338  0.157791  0.158367   \n",
              "32                       NaN  0.182685  0.106115  0.202131  0.109145   \n",
              "33                       NaN  0.112446  0.111999  0.110547  0.105315   \n",
              "42                       NaN  0.078499  0.087224  0.291095  0.320243   \n",
              "44                       NaN  0.199256  0.270302  0.246620  0.195326   \n",
              "45                       NaN  0.199734  0.301056  0.256060  0.196550   \n",
              "48                       NaN  0.244726  0.156863  0.127389  0.282701   \n",
              "49                       NaN  0.215873  0.287136  0.110357       NaN   \n",
              "51                       NaN  0.254198  0.229285  0.162963  0.220063   \n",
              "52                       NaN       NaN  0.425000  0.286102  0.213929   \n",
              "53                       NaN  0.362923  0.175075  0.088608       NaN   \n",
              "54                       NaN  0.190774       NaN       NaN       NaN   \n",
              "55                       NaN  0.101562       NaN       NaN       NaN   \n",
              "56                       NaN  0.243212  0.128440       NaN       NaN   \n",
              "61                       NaN  0.242462       NaN       NaN       NaN   \n",
              "62                       NaN  0.093812  0.115538  0.107798  0.138915   \n",
              "71                       NaN  0.299556  0.300752  0.183632       NaN   \n",
              "72                       NaN  0.069133  0.242694       NaN       NaN   \n",
              "81                       NaN  0.165224  0.232850  0.209571  0.085366   \n",
              "92                       NaN  0.368421  0.170213  0.129032  0.067797   \n",
              "Total default rate  0.083305  0.175120  0.214337  0.215052  0.214697   \n",
              "\n",
              "                                                                      \\\n",
              "Subsector                  5         6         7         8         9   \n",
              "Sector                                                                 \n",
              "0                        NaN       NaN       NaN       NaN       NaN   \n",
              "11                  0.097440       NaN       NaN       NaN       NaN   \n",
              "21                       NaN       NaN       NaN       NaN       NaN   \n",
              "22                       NaN       NaN       NaN       NaN       NaN   \n",
              "23                  0.094450  0.383147  0.165874  0.301926       NaN   \n",
              "31                  0.314682  0.218914       NaN       NaN       NaN   \n",
              "32                  0.115454  0.138232  0.159464       NaN       NaN   \n",
              "33                  0.111561  0.167544  0.193479       NaN  0.180054   \n",
              "42                  0.316119       NaN       NaN       NaN       NaN   \n",
              "44                  0.210902  0.216729  0.172618  0.272093       NaN   \n",
              "45                       NaN       NaN       NaN       NaN       NaN   \n",
              "48                  0.239856  0.235294  0.203593  0.259159       NaN   \n",
              "49                       NaN       NaN       NaN       NaN       NaN   \n",
              "51                  0.296651  0.383117  0.350000  0.196532  0.316623   \n",
              "52                  0.232394       NaN       NaN       NaN       NaN   \n",
              "53                       NaN       NaN       NaN       NaN       NaN   \n",
              "54                       NaN       NaN       NaN       NaN       NaN   \n",
              "55                       NaN       NaN       NaN       NaN       NaN   \n",
              "56                       NaN       NaN       NaN       NaN       NaN   \n",
              "61                       NaN       NaN       NaN       NaN       NaN   \n",
              "62                       NaN       NaN       NaN       NaN       NaN   \n",
              "71                       NaN       NaN       NaN       NaN       NaN   \n",
              "72                       NaN       NaN       NaN       NaN       NaN   \n",
              "81                       NaN       NaN       NaN       NaN       NaN   \n",
              "92                  0.000000  0.200000  1.000000  0.138889       NaN   \n",
              "Total default rate  0.164075  0.287700  0.188476  0.286841  0.186691   \n",
              "\n",
              "                                       \n",
              "Subsector          Total default rate  \n",
              "Sector                                 \n",
              "0                            0.083305  \n",
              "11                           0.090282  \n",
              "21                           0.084819  \n",
              "22                           0.141994  \n",
              "23                           0.232634  \n",
              "31                           0.194470  \n",
              "32                           0.163883  \n",
              "33                           0.136431  \n",
              "42                           0.194777  \n",
              "44                           0.223959  \n",
              "45                           0.234159  \n",
              "48                           0.269128  \n",
              "49                           0.229864  \n",
              "51                           0.248284  \n",
              "52                           0.284296  \n",
              "53                           0.287333  \n",
              "54                           0.190774  \n",
              "55                           0.101562  \n",
              "56                           0.235520  \n",
              "61                           0.242462  \n",
              "62                           0.103795  \n",
              "71                           0.206144  \n",
              "72                           0.220454  \n",
              "81                           0.196552  \n",
              "92                           0.154185  \n",
              "Total default rate           0.175635  "
            ],
            "text/html": [
              "\n",
              "  <div id=\"df-df551205-0c46-4d21-a32c-7e29f4117985\">\n",
              "    <div class=\"colab-df-container\">\n",
              "      <div>\n",
              "<style scoped>\n",
              "    .dataframe tbody tr th:only-of-type {\n",
              "        vertical-align: middle;\n",
              "    }\n",
              "\n",
              "    .dataframe tbody tr th {\n",
              "        vertical-align: top;\n",
              "    }\n",
              "\n",
              "    .dataframe thead tr th {\n",
              "        text-align: left;\n",
              "    }\n",
              "\n",
              "    .dataframe thead tr:last-of-type th {\n",
              "        text-align: right;\n",
              "    }\n",
              "</style>\n",
              "<table border=\"1\" class=\"dataframe\">\n",
              "  <thead>\n",
              "    <tr>\n",
              "      <th></th>\n",
              "      <th colspan=\"11\" halign=\"left\">Default</th>\n",
              "    </tr>\n",
              "    <tr>\n",
              "      <th>Subsector</th>\n",
              "      <th></th>\n",
              "      <th>1</th>\n",
              "      <th>2</th>\n",
              "      <th>3</th>\n",
              "      <th>4</th>\n",
              "      <th>5</th>\n",
              "      <th>6</th>\n",
              "      <th>7</th>\n",
              "      <th>8</th>\n",
              "      <th>9</th>\n",
              "      <th>Total default rate</th>\n",
              "    </tr>\n",
              "    <tr>\n",
              "      <th>Sector</th>\n",
              "      <th></th>\n",
              "      <th></th>\n",
              "      <th></th>\n",
              "      <th></th>\n",
              "      <th></th>\n",
              "      <th></th>\n",
              "      <th></th>\n",
              "      <th></th>\n",
              "      <th></th>\n",
              "      <th></th>\n",
              "      <th></th>\n",
              "    </tr>\n",
              "  </thead>\n",
              "  <tbody>\n",
              "    <tr>\n",
              "      <th>0</th>\n",
              "      <td>0.083305</td>\n",
              "      <td>NaN</td>\n",
              "      <td>NaN</td>\n",
              "      <td>NaN</td>\n",
              "      <td>NaN</td>\n",
              "      <td>NaN</td>\n",
              "      <td>NaN</td>\n",
              "      <td>NaN</td>\n",
              "      <td>NaN</td>\n",
              "      <td>NaN</td>\n",
              "      <td>0.083305</td>\n",
              "    </tr>\n",
              "    <tr>\n",
              "      <th>11</th>\n",
              "      <td>NaN</td>\n",
              "      <td>0.086266</td>\n",
              "      <td>0.049013</td>\n",
              "      <td>0.125370</td>\n",
              "      <td>0.268487</td>\n",
              "      <td>0.097440</td>\n",
              "      <td>NaN</td>\n",
              "      <td>NaN</td>\n",
              "      <td>NaN</td>\n",
              "      <td>NaN</td>\n",
              "      <td>0.090282</td>\n",
              "    </tr>\n",
              "    <tr>\n",
              "      <th>21</th>\n",
              "      <td>NaN</td>\n",
              "      <td>0.061224</td>\n",
              "      <td>0.134216</td>\n",
              "      <td>0.065359</td>\n",
              "      <td>NaN</td>\n",
              "      <td>NaN</td>\n",
              "      <td>NaN</td>\n",
              "      <td>NaN</td>\n",
              "      <td>NaN</td>\n",
              "      <td>NaN</td>\n",
              "      <td>0.084819</td>\n",
              "    </tr>\n",
              "    <tr>\n",
              "      <th>22</th>\n",
              "      <td>NaN</td>\n",
              "      <td>0.141994</td>\n",
              "      <td>NaN</td>\n",
              "      <td>NaN</td>\n",
              "      <td>NaN</td>\n",
              "      <td>NaN</td>\n",
              "      <td>NaN</td>\n",
              "      <td>NaN</td>\n",
              "      <td>NaN</td>\n",
              "      <td>NaN</td>\n",
              "      <td>0.141994</td>\n",
              "    </tr>\n",
              "    <tr>\n",
              "      <th>23</th>\n",
              "      <td>NaN</td>\n",
              "      <td>NaN</td>\n",
              "      <td>NaN</td>\n",
              "      <td>0.125332</td>\n",
              "      <td>0.076393</td>\n",
              "      <td>0.094450</td>\n",
              "      <td>0.383147</td>\n",
              "      <td>0.165874</td>\n",
              "      <td>0.301926</td>\n",
              "      <td>NaN</td>\n",
              "      <td>0.232634</td>\n",
              "    </tr>\n",
              "    <tr>\n",
              "      <th>31</th>\n",
              "      <td>NaN</td>\n",
              "      <td>0.176451</td>\n",
              "      <td>0.111338</td>\n",
              "      <td>0.157791</td>\n",
              "      <td>0.158367</td>\n",
              "      <td>0.314682</td>\n",
              "      <td>0.218914</td>\n",
              "      <td>NaN</td>\n",
              "      <td>NaN</td>\n",
              "      <td>NaN</td>\n",
              "      <td>0.194470</td>\n",
              "    </tr>\n",
              "    <tr>\n",
              "      <th>32</th>\n",
              "      <td>NaN</td>\n",
              "      <td>0.182685</td>\n",
              "      <td>0.106115</td>\n",
              "      <td>0.202131</td>\n",
              "      <td>0.109145</td>\n",
              "      <td>0.115454</td>\n",
              "      <td>0.138232</td>\n",
              "      <td>0.159464</td>\n",
              "      <td>NaN</td>\n",
              "      <td>NaN</td>\n",
              "      <td>0.163883</td>\n",
              "    </tr>\n",
              "    <tr>\n",
              "      <th>33</th>\n",
              "      <td>NaN</td>\n",
              "      <td>0.112446</td>\n",
              "      <td>0.111999</td>\n",
              "      <td>0.110547</td>\n",
              "      <td>0.105315</td>\n",
              "      <td>0.111561</td>\n",
              "      <td>0.167544</td>\n",
              "      <td>0.193479</td>\n",
              "      <td>NaN</td>\n",
              "      <td>0.180054</td>\n",
              "      <td>0.136431</td>\n",
              "    </tr>\n",
              "    <tr>\n",
              "      <th>42</th>\n",
              "      <td>NaN</td>\n",
              "      <td>0.078499</td>\n",
              "      <td>0.087224</td>\n",
              "      <td>0.291095</td>\n",
              "      <td>0.320243</td>\n",
              "      <td>0.316119</td>\n",
              "      <td>NaN</td>\n",
              "      <td>NaN</td>\n",
              "      <td>NaN</td>\n",
              "      <td>NaN</td>\n",
              "      <td>0.194777</td>\n",
              "    </tr>\n",
              "    <tr>\n",
              "      <th>44</th>\n",
              "      <td>NaN</td>\n",
              "      <td>0.199256</td>\n",
              "      <td>0.270302</td>\n",
              "      <td>0.246620</td>\n",
              "      <td>0.195326</td>\n",
              "      <td>0.210902</td>\n",
              "      <td>0.216729</td>\n",
              "      <td>0.172618</td>\n",
              "      <td>0.272093</td>\n",
              "      <td>NaN</td>\n",
              "      <td>0.223959</td>\n",
              "    </tr>\n",
              "    <tr>\n",
              "      <th>45</th>\n",
              "      <td>NaN</td>\n",
              "      <td>0.199734</td>\n",
              "      <td>0.301056</td>\n",
              "      <td>0.256060</td>\n",
              "      <td>0.196550</td>\n",
              "      <td>NaN</td>\n",
              "      <td>NaN</td>\n",
              "      <td>NaN</td>\n",
              "      <td>NaN</td>\n",
              "      <td>NaN</td>\n",
              "      <td>0.234159</td>\n",
              "    </tr>\n",
              "    <tr>\n",
              "      <th>48</th>\n",
              "      <td>NaN</td>\n",
              "      <td>0.244726</td>\n",
              "      <td>0.156863</td>\n",
              "      <td>0.127389</td>\n",
              "      <td>0.282701</td>\n",
              "      <td>0.239856</td>\n",
              "      <td>0.235294</td>\n",
              "      <td>0.203593</td>\n",
              "      <td>0.259159</td>\n",
              "      <td>NaN</td>\n",
              "      <td>0.269128</td>\n",
              "    </tr>\n",
              "    <tr>\n",
              "      <th>49</th>\n",
              "      <td>NaN</td>\n",
              "      <td>0.215873</td>\n",
              "      <td>0.287136</td>\n",
              "      <td>0.110357</td>\n",
              "      <td>NaN</td>\n",
              "      <td>NaN</td>\n",
              "      <td>NaN</td>\n",
              "      <td>NaN</td>\n",
              "      <td>NaN</td>\n",
              "      <td>NaN</td>\n",
              "      <td>0.229864</td>\n",
              "    </tr>\n",
              "    <tr>\n",
              "      <th>51</th>\n",
              "      <td>NaN</td>\n",
              "      <td>0.254198</td>\n",
              "      <td>0.229285</td>\n",
              "      <td>0.162963</td>\n",
              "      <td>0.220063</td>\n",
              "      <td>0.296651</td>\n",
              "      <td>0.383117</td>\n",
              "      <td>0.350000</td>\n",
              "      <td>0.196532</td>\n",
              "      <td>0.316623</td>\n",
              "      <td>0.248284</td>\n",
              "    </tr>\n",
              "    <tr>\n",
              "      <th>52</th>\n",
              "      <td>NaN</td>\n",
              "      <td>NaN</td>\n",
              "      <td>0.425000</td>\n",
              "      <td>0.286102</td>\n",
              "      <td>0.213929</td>\n",
              "      <td>0.232394</td>\n",
              "      <td>NaN</td>\n",
              "      <td>NaN</td>\n",
              "      <td>NaN</td>\n",
              "      <td>NaN</td>\n",
              "      <td>0.284296</td>\n",
              "    </tr>\n",
              "    <tr>\n",
              "      <th>53</th>\n",
              "      <td>NaN</td>\n",
              "      <td>0.362923</td>\n",
              "      <td>0.175075</td>\n",
              "      <td>0.088608</td>\n",
              "      <td>NaN</td>\n",
              "      <td>NaN</td>\n",
              "      <td>NaN</td>\n",
              "      <td>NaN</td>\n",
              "      <td>NaN</td>\n",
              "      <td>NaN</td>\n",
              "      <td>0.287333</td>\n",
              "    </tr>\n",
              "    <tr>\n",
              "      <th>54</th>\n",
              "      <td>NaN</td>\n",
              "      <td>0.190774</td>\n",
              "      <td>NaN</td>\n",
              "      <td>NaN</td>\n",
              "      <td>NaN</td>\n",
              "      <td>NaN</td>\n",
              "      <td>NaN</td>\n",
              "      <td>NaN</td>\n",
              "      <td>NaN</td>\n",
              "      <td>NaN</td>\n",
              "      <td>0.190774</td>\n",
              "    </tr>\n",
              "    <tr>\n",
              "      <th>55</th>\n",
              "      <td>NaN</td>\n",
              "      <td>0.101562</td>\n",
              "      <td>NaN</td>\n",
              "      <td>NaN</td>\n",
              "      <td>NaN</td>\n",
              "      <td>NaN</td>\n",
              "      <td>NaN</td>\n",
              "      <td>NaN</td>\n",
              "      <td>NaN</td>\n",
              "      <td>NaN</td>\n",
              "      <td>0.101562</td>\n",
              "    </tr>\n",
              "    <tr>\n",
              "      <th>56</th>\n",
              "      <td>NaN</td>\n",
              "      <td>0.243212</td>\n",
              "      <td>0.128440</td>\n",
              "      <td>NaN</td>\n",
              "      <td>NaN</td>\n",
              "      <td>NaN</td>\n",
              "      <td>NaN</td>\n",
              "      <td>NaN</td>\n",
              "      <td>NaN</td>\n",
              "      <td>NaN</td>\n",
              "      <td>0.235520</td>\n",
              "    </tr>\n",
              "    <tr>\n",
              "      <th>61</th>\n",
              "      <td>NaN</td>\n",
              "      <td>0.242462</td>\n",
              "      <td>NaN</td>\n",
              "      <td>NaN</td>\n",
              "      <td>NaN</td>\n",
              "      <td>NaN</td>\n",
              "      <td>NaN</td>\n",
              "      <td>NaN</td>\n",
              "      <td>NaN</td>\n",
              "      <td>NaN</td>\n",
              "      <td>0.242462</td>\n",
              "    </tr>\n",
              "    <tr>\n",
              "      <th>62</th>\n",
              "      <td>NaN</td>\n",
              "      <td>0.093812</td>\n",
              "      <td>0.115538</td>\n",
              "      <td>0.107798</td>\n",
              "      <td>0.138915</td>\n",
              "      <td>NaN</td>\n",
              "      <td>NaN</td>\n",
              "      <td>NaN</td>\n",
              "      <td>NaN</td>\n",
              "      <td>NaN</td>\n",
              "      <td>0.103795</td>\n",
              "    </tr>\n",
              "    <tr>\n",
              "      <th>71</th>\n",
              "      <td>NaN</td>\n",
              "      <td>0.299556</td>\n",
              "      <td>0.300752</td>\n",
              "      <td>0.183632</td>\n",
              "      <td>NaN</td>\n",
              "      <td>NaN</td>\n",
              "      <td>NaN</td>\n",
              "      <td>NaN</td>\n",
              "      <td>NaN</td>\n",
              "      <td>NaN</td>\n",
              "      <td>0.206144</td>\n",
              "    </tr>\n",
              "    <tr>\n",
              "      <th>72</th>\n",
              "      <td>NaN</td>\n",
              "      <td>0.069133</td>\n",
              "      <td>0.242694</td>\n",
              "      <td>NaN</td>\n",
              "      <td>NaN</td>\n",
              "      <td>NaN</td>\n",
              "      <td>NaN</td>\n",
              "      <td>NaN</td>\n",
              "      <td>NaN</td>\n",
              "      <td>NaN</td>\n",
              "      <td>0.220454</td>\n",
              "    </tr>\n",
              "    <tr>\n",
              "      <th>81</th>\n",
              "      <td>NaN</td>\n",
              "      <td>0.165224</td>\n",
              "      <td>0.232850</td>\n",
              "      <td>0.209571</td>\n",
              "      <td>0.085366</td>\n",
              "      <td>NaN</td>\n",
              "      <td>NaN</td>\n",
              "      <td>NaN</td>\n",
              "      <td>NaN</td>\n",
              "      <td>NaN</td>\n",
              "      <td>0.196552</td>\n",
              "    </tr>\n",
              "    <tr>\n",
              "      <th>92</th>\n",
              "      <td>NaN</td>\n",
              "      <td>0.368421</td>\n",
              "      <td>0.170213</td>\n",
              "      <td>0.129032</td>\n",
              "      <td>0.067797</td>\n",
              "      <td>0.000000</td>\n",
              "      <td>0.200000</td>\n",
              "      <td>1.000000</td>\n",
              "      <td>0.138889</td>\n",
              "      <td>NaN</td>\n",
              "      <td>0.154185</td>\n",
              "    </tr>\n",
              "    <tr>\n",
              "      <th>Total default rate</th>\n",
              "      <td>0.083305</td>\n",
              "      <td>0.175120</td>\n",
              "      <td>0.214337</td>\n",
              "      <td>0.215052</td>\n",
              "      <td>0.214697</td>\n",
              "      <td>0.164075</td>\n",
              "      <td>0.287700</td>\n",
              "      <td>0.188476</td>\n",
              "      <td>0.286841</td>\n",
              "      <td>0.186691</td>\n",
              "      <td>0.175635</td>\n",
              "    </tr>\n",
              "  </tbody>\n",
              "</table>\n",
              "</div>\n",
              "      <button class=\"colab-df-convert\" onclick=\"convertToInteractive('df-df551205-0c46-4d21-a32c-7e29f4117985')\"\n",
              "              title=\"Convert this dataframe to an interactive table.\"\n",
              "              style=\"display:none;\">\n",
              "        \n",
              "  <svg xmlns=\"http://www.w3.org/2000/svg\" height=\"24px\"viewBox=\"0 0 24 24\"\n",
              "       width=\"24px\">\n",
              "    <path d=\"M0 0h24v24H0V0z\" fill=\"none\"/>\n",
              "    <path d=\"M18.56 5.44l.94 2.06.94-2.06 2.06-.94-2.06-.94-.94-2.06-.94 2.06-2.06.94zm-11 1L8.5 8.5l.94-2.06 2.06-.94-2.06-.94L8.5 2.5l-.94 2.06-2.06.94zm10 10l.94 2.06.94-2.06 2.06-.94-2.06-.94-.94-2.06-.94 2.06-2.06.94z\"/><path d=\"M17.41 7.96l-1.37-1.37c-.4-.4-.92-.59-1.43-.59-.52 0-1.04.2-1.43.59L10.3 9.45l-7.72 7.72c-.78.78-.78 2.05 0 2.83L4 21.41c.39.39.9.59 1.41.59.51 0 1.02-.2 1.41-.59l7.78-7.78 2.81-2.81c.8-.78.8-2.07 0-2.86zM5.41 20L4 18.59l7.72-7.72 1.47 1.35L5.41 20z\"/>\n",
              "  </svg>\n",
              "      </button>\n",
              "      \n",
              "  <style>\n",
              "    .colab-df-container {\n",
              "      display:flex;\n",
              "      flex-wrap:wrap;\n",
              "      gap: 12px;\n",
              "    }\n",
              "\n",
              "    .colab-df-convert {\n",
              "      background-color: #E8F0FE;\n",
              "      border: none;\n",
              "      border-radius: 50%;\n",
              "      cursor: pointer;\n",
              "      display: none;\n",
              "      fill: #1967D2;\n",
              "      height: 32px;\n",
              "      padding: 0 0 0 0;\n",
              "      width: 32px;\n",
              "    }\n",
              "\n",
              "    .colab-df-convert:hover {\n",
              "      background-color: #E2EBFA;\n",
              "      box-shadow: 0px 1px 2px rgba(60, 64, 67, 0.3), 0px 1px 3px 1px rgba(60, 64, 67, 0.15);\n",
              "      fill: #174EA6;\n",
              "    }\n",
              "\n",
              "    [theme=dark] .colab-df-convert {\n",
              "      background-color: #3B4455;\n",
              "      fill: #D2E3FC;\n",
              "    }\n",
              "\n",
              "    [theme=dark] .colab-df-convert:hover {\n",
              "      background-color: #434B5C;\n",
              "      box-shadow: 0px 1px 3px 1px rgba(0, 0, 0, 0.15);\n",
              "      filter: drop-shadow(0px 1px 2px rgba(0, 0, 0, 0.3));\n",
              "      fill: #FFFFFF;\n",
              "    }\n",
              "  </style>\n",
              "\n",
              "      <script>\n",
              "        const buttonEl =\n",
              "          document.querySelector('#df-df551205-0c46-4d21-a32c-7e29f4117985 button.colab-df-convert');\n",
              "        buttonEl.style.display =\n",
              "          google.colab.kernel.accessAllowed ? 'block' : 'none';\n",
              "\n",
              "        async function convertToInteractive(key) {\n",
              "          const element = document.querySelector('#df-df551205-0c46-4d21-a32c-7e29f4117985');\n",
              "          const dataTable =\n",
              "            await google.colab.kernel.invokeFunction('convertToInteractive',\n",
              "                                                     [key], {});\n",
              "          if (!dataTable) return;\n",
              "\n",
              "          const docLinkHtml = 'Like what you see? Visit the ' +\n",
              "            '<a target=\"_blank\" href=https://colab.research.google.com/notebooks/data_table.ipynb>data table notebook</a>'\n",
              "            + ' to learn more about interactive tables.';\n",
              "          element.innerHTML = '';\n",
              "          dataTable['output_type'] = 'display_data';\n",
              "          await google.colab.output.renderOutput(dataTable, element);\n",
              "          const docLink = document.createElement('div');\n",
              "          docLink.innerHTML = docLinkHtml;\n",
              "          element.appendChild(docLink);\n",
              "        }\n",
              "      </script>\n",
              "    </div>\n",
              "  </div>\n",
              "  "
            ]
          },
          "metadata": {},
          "execution_count": 78
        }
      ]
    },
    {
      "cell_type": "markdown",
      "source": [
        "The values that can be seen in the table are the default rates by sector and subsector. In the 'Total default rate' column we can see the default rate for each sector, and in the 'Total default rate' row we can see the default rate for each subsector. The latter makes sense if the subsectors do not depend on the sector, but this is not true. That is, the last row doesn't really have any useful information."
      ],
      "metadata": {
        "id": "_BjNfAXQlmYa"
      }
    },
    {
      "cell_type": "markdown",
      "source": [
        "We wonder if all the places in the table have a reasonable number of records, in the sense that if there are very few, the percentage of default can be very random and unrepresentative. Let's see a table with the number of records in each sector and subsector."
      ],
      "metadata": {
        "id": "M_qwM2D3IE8K"
      }
    },
    {
      "cell_type": "code",
      "source": [
        "loans.pivot_table(index='Sector', columns=['Subsector'], values=['Default'], aggfunc='count', margins = True, margins_name='Total values')"
      ],
      "metadata": {
        "colab": {
          "base_uri": "https://localhost:8080/",
          "height": 927
        },
        "id": "Pe9vMiUTIKJs",
        "outputId": "99871af3-5388-448c-c69e-626ce0bd58fb"
      },
      "execution_count": null,
      "outputs": [
        {
          "output_type": "execute_result",
          "data": {
            "text/plain": [
              "               Default                                                 \\\n",
              "Subsector                      1         2        3        4        5   \n",
              "Sector                                                                  \n",
              "0             201657.0       NaN       NaN      NaN      NaN      NaN   \n",
              "11                 NaN     881.0    4815.0   1013.0    879.0   1406.0   \n",
              "21                 NaN      98.0     529.0   1224.0      NaN      NaN   \n",
              "22                 NaN     662.0       NaN      NaN      NaN      NaN   \n",
              "23                 NaN       NaN       NaN   4516.0   1741.0  19587.0   \n",
              "31                 NaN    6132.0     979.0   1014.0   1004.0   2091.0   \n",
              "32                 NaN    2726.0    1112.0   6006.0    339.0   2789.0   \n",
              "33                 NaN    1165.0    9884.0   7481.0   4064.0   1730.0   \n",
              "42                 NaN   14255.0    9573.0  14655.0   9549.0    639.0   \n",
              "44                 NaN   11824.0    7647.0   5770.0   7403.0  21868.0   \n",
              "45                 NaN   12767.0    3315.0  20296.0   6029.0      NaN   \n",
              "48                 NaN     237.0      51.0    157.0  12897.0   2785.0   \n",
              "49                 NaN     315.0    1306.0    589.0      NaN      NaN   \n",
              "51                 NaN    2561.0    3524.0    675.0   1595.0    209.0   \n",
              "52                 NaN       NaN    2640.0   1475.0   5212.0    142.0   \n",
              "53                 NaN    8156.0    5352.0     79.0      NaN      NaN   \n",
              "54                 NaN   67918.0       NaN      NaN      NaN      NaN   \n",
              "55                 NaN     256.0       NaN      NaN      NaN      NaN   \n",
              "56                 NaN   30348.0    2180.0      NaN      NaN      NaN   \n",
              "61                 NaN    6401.0       NaN      NaN      NaN      NaN   \n",
              "62                 NaN   41999.0     251.0   1308.0  11705.0      NaN   \n",
              "71                 NaN    2704.0     133.0  11779.0      NaN      NaN   \n",
              "72                 NaN    8650.0   58856.0      NaN      NaN      NaN   \n",
              "81                 NaN   38469.0   33236.0    606.0     82.0      NaN   \n",
              "92                 NaN      19.0      47.0     31.0     59.0      4.0   \n",
              "Total values  201657.0  258543.0  145430.0  78674.0  62558.0  53250.0   \n",
              "\n",
              "                                                              \n",
              "Subsector           6        7        8       9 Total values  \n",
              "Sector                                                        \n",
              "0                 NaN      NaN      NaN     NaN       201657  \n",
              "11                NaN      NaN      NaN     NaN         8994  \n",
              "21                NaN      NaN      NaN     NaN         1851  \n",
              "22                NaN      NaN      NaN     NaN          662  \n",
              "23            11155.0   1893.0  27573.0     NaN        66465  \n",
              "31              571.0      NaN      NaN     NaN        11791  \n",
              "32             1946.0   2985.0      NaN     NaN        17903  \n",
              "33             2280.0   4171.0      NaN  7420.0        38195  \n",
              "42                NaN      NaN      NaN     NaN        48671  \n",
              "44             6635.0   7786.0  15627.0     NaN        84560  \n",
              "45                NaN      NaN      NaN     NaN        42407  \n",
              "48               34.0    334.0   3685.0     NaN        20180  \n",
              "49                NaN      NaN      NaN     NaN         2210  \n",
              "51              154.0   1400.0    865.0   379.0        11362  \n",
              "52                NaN      NaN      NaN     NaN         9469  \n",
              "53                NaN      NaN      NaN     NaN        13587  \n",
              "54                NaN      NaN      NaN     NaN        67918  \n",
              "55                NaN      NaN      NaN     NaN          256  \n",
              "56                NaN      NaN      NaN     NaN        32528  \n",
              "61                NaN      NaN      NaN     NaN         6401  \n",
              "62                NaN      NaN      NaN     NaN        55263  \n",
              "71                NaN      NaN      NaN     NaN        14616  \n",
              "72                NaN      NaN      NaN     NaN        67506  \n",
              "81                NaN      NaN      NaN     NaN        72393  \n",
              "92               30.0      1.0     36.0     NaN          227  \n",
              "Total values  22805.0  18570.0  47786.0  7799.0       897072  "
            ],
            "text/html": [
              "\n",
              "  <div id=\"df-558a00cf-1497-4f55-a2e7-d3b9b212fd92\">\n",
              "    <div class=\"colab-df-container\">\n",
              "      <div>\n",
              "<style scoped>\n",
              "    .dataframe tbody tr th:only-of-type {\n",
              "        vertical-align: middle;\n",
              "    }\n",
              "\n",
              "    .dataframe tbody tr th {\n",
              "        vertical-align: top;\n",
              "    }\n",
              "\n",
              "    .dataframe thead tr th {\n",
              "        text-align: left;\n",
              "    }\n",
              "\n",
              "    .dataframe thead tr:last-of-type th {\n",
              "        text-align: right;\n",
              "    }\n",
              "</style>\n",
              "<table border=\"1\" class=\"dataframe\">\n",
              "  <thead>\n",
              "    <tr>\n",
              "      <th></th>\n",
              "      <th colspan=\"11\" halign=\"left\">Default</th>\n",
              "    </tr>\n",
              "    <tr>\n",
              "      <th>Subsector</th>\n",
              "      <th></th>\n",
              "      <th>1</th>\n",
              "      <th>2</th>\n",
              "      <th>3</th>\n",
              "      <th>4</th>\n",
              "      <th>5</th>\n",
              "      <th>6</th>\n",
              "      <th>7</th>\n",
              "      <th>8</th>\n",
              "      <th>9</th>\n",
              "      <th>Total values</th>\n",
              "    </tr>\n",
              "    <tr>\n",
              "      <th>Sector</th>\n",
              "      <th></th>\n",
              "      <th></th>\n",
              "      <th></th>\n",
              "      <th></th>\n",
              "      <th></th>\n",
              "      <th></th>\n",
              "      <th></th>\n",
              "      <th></th>\n",
              "      <th></th>\n",
              "      <th></th>\n",
              "      <th></th>\n",
              "    </tr>\n",
              "  </thead>\n",
              "  <tbody>\n",
              "    <tr>\n",
              "      <th>0</th>\n",
              "      <td>201657.0</td>\n",
              "      <td>NaN</td>\n",
              "      <td>NaN</td>\n",
              "      <td>NaN</td>\n",
              "      <td>NaN</td>\n",
              "      <td>NaN</td>\n",
              "      <td>NaN</td>\n",
              "      <td>NaN</td>\n",
              "      <td>NaN</td>\n",
              "      <td>NaN</td>\n",
              "      <td>201657</td>\n",
              "    </tr>\n",
              "    <tr>\n",
              "      <th>11</th>\n",
              "      <td>NaN</td>\n",
              "      <td>881.0</td>\n",
              "      <td>4815.0</td>\n",
              "      <td>1013.0</td>\n",
              "      <td>879.0</td>\n",
              "      <td>1406.0</td>\n",
              "      <td>NaN</td>\n",
              "      <td>NaN</td>\n",
              "      <td>NaN</td>\n",
              "      <td>NaN</td>\n",
              "      <td>8994</td>\n",
              "    </tr>\n",
              "    <tr>\n",
              "      <th>21</th>\n",
              "      <td>NaN</td>\n",
              "      <td>98.0</td>\n",
              "      <td>529.0</td>\n",
              "      <td>1224.0</td>\n",
              "      <td>NaN</td>\n",
              "      <td>NaN</td>\n",
              "      <td>NaN</td>\n",
              "      <td>NaN</td>\n",
              "      <td>NaN</td>\n",
              "      <td>NaN</td>\n",
              "      <td>1851</td>\n",
              "    </tr>\n",
              "    <tr>\n",
              "      <th>22</th>\n",
              "      <td>NaN</td>\n",
              "      <td>662.0</td>\n",
              "      <td>NaN</td>\n",
              "      <td>NaN</td>\n",
              "      <td>NaN</td>\n",
              "      <td>NaN</td>\n",
              "      <td>NaN</td>\n",
              "      <td>NaN</td>\n",
              "      <td>NaN</td>\n",
              "      <td>NaN</td>\n",
              "      <td>662</td>\n",
              "    </tr>\n",
              "    <tr>\n",
              "      <th>23</th>\n",
              "      <td>NaN</td>\n",
              "      <td>NaN</td>\n",
              "      <td>NaN</td>\n",
              "      <td>4516.0</td>\n",
              "      <td>1741.0</td>\n",
              "      <td>19587.0</td>\n",
              "      <td>11155.0</td>\n",
              "      <td>1893.0</td>\n",
              "      <td>27573.0</td>\n",
              "      <td>NaN</td>\n",
              "      <td>66465</td>\n",
              "    </tr>\n",
              "    <tr>\n",
              "      <th>31</th>\n",
              "      <td>NaN</td>\n",
              "      <td>6132.0</td>\n",
              "      <td>979.0</td>\n",
              "      <td>1014.0</td>\n",
              "      <td>1004.0</td>\n",
              "      <td>2091.0</td>\n",
              "      <td>571.0</td>\n",
              "      <td>NaN</td>\n",
              "      <td>NaN</td>\n",
              "      <td>NaN</td>\n",
              "      <td>11791</td>\n",
              "    </tr>\n",
              "    <tr>\n",
              "      <th>32</th>\n",
              "      <td>NaN</td>\n",
              "      <td>2726.0</td>\n",
              "      <td>1112.0</td>\n",
              "      <td>6006.0</td>\n",
              "      <td>339.0</td>\n",
              "      <td>2789.0</td>\n",
              "      <td>1946.0</td>\n",
              "      <td>2985.0</td>\n",
              "      <td>NaN</td>\n",
              "      <td>NaN</td>\n",
              "      <td>17903</td>\n",
              "    </tr>\n",
              "    <tr>\n",
              "      <th>33</th>\n",
              "      <td>NaN</td>\n",
              "      <td>1165.0</td>\n",
              "      <td>9884.0</td>\n",
              "      <td>7481.0</td>\n",
              "      <td>4064.0</td>\n",
              "      <td>1730.0</td>\n",
              "      <td>2280.0</td>\n",
              "      <td>4171.0</td>\n",
              "      <td>NaN</td>\n",
              "      <td>7420.0</td>\n",
              "      <td>38195</td>\n",
              "    </tr>\n",
              "    <tr>\n",
              "      <th>42</th>\n",
              "      <td>NaN</td>\n",
              "      <td>14255.0</td>\n",
              "      <td>9573.0</td>\n",
              "      <td>14655.0</td>\n",
              "      <td>9549.0</td>\n",
              "      <td>639.0</td>\n",
              "      <td>NaN</td>\n",
              "      <td>NaN</td>\n",
              "      <td>NaN</td>\n",
              "      <td>NaN</td>\n",
              "      <td>48671</td>\n",
              "    </tr>\n",
              "    <tr>\n",
              "      <th>44</th>\n",
              "      <td>NaN</td>\n",
              "      <td>11824.0</td>\n",
              "      <td>7647.0</td>\n",
              "      <td>5770.0</td>\n",
              "      <td>7403.0</td>\n",
              "      <td>21868.0</td>\n",
              "      <td>6635.0</td>\n",
              "      <td>7786.0</td>\n",
              "      <td>15627.0</td>\n",
              "      <td>NaN</td>\n",
              "      <td>84560</td>\n",
              "    </tr>\n",
              "    <tr>\n",
              "      <th>45</th>\n",
              "      <td>NaN</td>\n",
              "      <td>12767.0</td>\n",
              "      <td>3315.0</td>\n",
              "      <td>20296.0</td>\n",
              "      <td>6029.0</td>\n",
              "      <td>NaN</td>\n",
              "      <td>NaN</td>\n",
              "      <td>NaN</td>\n",
              "      <td>NaN</td>\n",
              "      <td>NaN</td>\n",
              "      <td>42407</td>\n",
              "    </tr>\n",
              "    <tr>\n",
              "      <th>48</th>\n",
              "      <td>NaN</td>\n",
              "      <td>237.0</td>\n",
              "      <td>51.0</td>\n",
              "      <td>157.0</td>\n",
              "      <td>12897.0</td>\n",
              "      <td>2785.0</td>\n",
              "      <td>34.0</td>\n",
              "      <td>334.0</td>\n",
              "      <td>3685.0</td>\n",
              "      <td>NaN</td>\n",
              "      <td>20180</td>\n",
              "    </tr>\n",
              "    <tr>\n",
              "      <th>49</th>\n",
              "      <td>NaN</td>\n",
              "      <td>315.0</td>\n",
              "      <td>1306.0</td>\n",
              "      <td>589.0</td>\n",
              "      <td>NaN</td>\n",
              "      <td>NaN</td>\n",
              "      <td>NaN</td>\n",
              "      <td>NaN</td>\n",
              "      <td>NaN</td>\n",
              "      <td>NaN</td>\n",
              "      <td>2210</td>\n",
              "    </tr>\n",
              "    <tr>\n",
              "      <th>51</th>\n",
              "      <td>NaN</td>\n",
              "      <td>2561.0</td>\n",
              "      <td>3524.0</td>\n",
              "      <td>675.0</td>\n",
              "      <td>1595.0</td>\n",
              "      <td>209.0</td>\n",
              "      <td>154.0</td>\n",
              "      <td>1400.0</td>\n",
              "      <td>865.0</td>\n",
              "      <td>379.0</td>\n",
              "      <td>11362</td>\n",
              "    </tr>\n",
              "    <tr>\n",
              "      <th>52</th>\n",
              "      <td>NaN</td>\n",
              "      <td>NaN</td>\n",
              "      <td>2640.0</td>\n",
              "      <td>1475.0</td>\n",
              "      <td>5212.0</td>\n",
              "      <td>142.0</td>\n",
              "      <td>NaN</td>\n",
              "      <td>NaN</td>\n",
              "      <td>NaN</td>\n",
              "      <td>NaN</td>\n",
              "      <td>9469</td>\n",
              "    </tr>\n",
              "    <tr>\n",
              "      <th>53</th>\n",
              "      <td>NaN</td>\n",
              "      <td>8156.0</td>\n",
              "      <td>5352.0</td>\n",
              "      <td>79.0</td>\n",
              "      <td>NaN</td>\n",
              "      <td>NaN</td>\n",
              "      <td>NaN</td>\n",
              "      <td>NaN</td>\n",
              "      <td>NaN</td>\n",
              "      <td>NaN</td>\n",
              "      <td>13587</td>\n",
              "    </tr>\n",
              "    <tr>\n",
              "      <th>54</th>\n",
              "      <td>NaN</td>\n",
              "      <td>67918.0</td>\n",
              "      <td>NaN</td>\n",
              "      <td>NaN</td>\n",
              "      <td>NaN</td>\n",
              "      <td>NaN</td>\n",
              "      <td>NaN</td>\n",
              "      <td>NaN</td>\n",
              "      <td>NaN</td>\n",
              "      <td>NaN</td>\n",
              "      <td>67918</td>\n",
              "    </tr>\n",
              "    <tr>\n",
              "      <th>55</th>\n",
              "      <td>NaN</td>\n",
              "      <td>256.0</td>\n",
              "      <td>NaN</td>\n",
              "      <td>NaN</td>\n",
              "      <td>NaN</td>\n",
              "      <td>NaN</td>\n",
              "      <td>NaN</td>\n",
              "      <td>NaN</td>\n",
              "      <td>NaN</td>\n",
              "      <td>NaN</td>\n",
              "      <td>256</td>\n",
              "    </tr>\n",
              "    <tr>\n",
              "      <th>56</th>\n",
              "      <td>NaN</td>\n",
              "      <td>30348.0</td>\n",
              "      <td>2180.0</td>\n",
              "      <td>NaN</td>\n",
              "      <td>NaN</td>\n",
              "      <td>NaN</td>\n",
              "      <td>NaN</td>\n",
              "      <td>NaN</td>\n",
              "      <td>NaN</td>\n",
              "      <td>NaN</td>\n",
              "      <td>32528</td>\n",
              "    </tr>\n",
              "    <tr>\n",
              "      <th>61</th>\n",
              "      <td>NaN</td>\n",
              "      <td>6401.0</td>\n",
              "      <td>NaN</td>\n",
              "      <td>NaN</td>\n",
              "      <td>NaN</td>\n",
              "      <td>NaN</td>\n",
              "      <td>NaN</td>\n",
              "      <td>NaN</td>\n",
              "      <td>NaN</td>\n",
              "      <td>NaN</td>\n",
              "      <td>6401</td>\n",
              "    </tr>\n",
              "    <tr>\n",
              "      <th>62</th>\n",
              "      <td>NaN</td>\n",
              "      <td>41999.0</td>\n",
              "      <td>251.0</td>\n",
              "      <td>1308.0</td>\n",
              "      <td>11705.0</td>\n",
              "      <td>NaN</td>\n",
              "      <td>NaN</td>\n",
              "      <td>NaN</td>\n",
              "      <td>NaN</td>\n",
              "      <td>NaN</td>\n",
              "      <td>55263</td>\n",
              "    </tr>\n",
              "    <tr>\n",
              "      <th>71</th>\n",
              "      <td>NaN</td>\n",
              "      <td>2704.0</td>\n",
              "      <td>133.0</td>\n",
              "      <td>11779.0</td>\n",
              "      <td>NaN</td>\n",
              "      <td>NaN</td>\n",
              "      <td>NaN</td>\n",
              "      <td>NaN</td>\n",
              "      <td>NaN</td>\n",
              "      <td>NaN</td>\n",
              "      <td>14616</td>\n",
              "    </tr>\n",
              "    <tr>\n",
              "      <th>72</th>\n",
              "      <td>NaN</td>\n",
              "      <td>8650.0</td>\n",
              "      <td>58856.0</td>\n",
              "      <td>NaN</td>\n",
              "      <td>NaN</td>\n",
              "      <td>NaN</td>\n",
              "      <td>NaN</td>\n",
              "      <td>NaN</td>\n",
              "      <td>NaN</td>\n",
              "      <td>NaN</td>\n",
              "      <td>67506</td>\n",
              "    </tr>\n",
              "    <tr>\n",
              "      <th>81</th>\n",
              "      <td>NaN</td>\n",
              "      <td>38469.0</td>\n",
              "      <td>33236.0</td>\n",
              "      <td>606.0</td>\n",
              "      <td>82.0</td>\n",
              "      <td>NaN</td>\n",
              "      <td>NaN</td>\n",
              "      <td>NaN</td>\n",
              "      <td>NaN</td>\n",
              "      <td>NaN</td>\n",
              "      <td>72393</td>\n",
              "    </tr>\n",
              "    <tr>\n",
              "      <th>92</th>\n",
              "      <td>NaN</td>\n",
              "      <td>19.0</td>\n",
              "      <td>47.0</td>\n",
              "      <td>31.0</td>\n",
              "      <td>59.0</td>\n",
              "      <td>4.0</td>\n",
              "      <td>30.0</td>\n",
              "      <td>1.0</td>\n",
              "      <td>36.0</td>\n",
              "      <td>NaN</td>\n",
              "      <td>227</td>\n",
              "    </tr>\n",
              "    <tr>\n",
              "      <th>Total values</th>\n",
              "      <td>201657.0</td>\n",
              "      <td>258543.0</td>\n",
              "      <td>145430.0</td>\n",
              "      <td>78674.0</td>\n",
              "      <td>62558.0</td>\n",
              "      <td>53250.0</td>\n",
              "      <td>22805.0</td>\n",
              "      <td>18570.0</td>\n",
              "      <td>47786.0</td>\n",
              "      <td>7799.0</td>\n",
              "      <td>897072</td>\n",
              "    </tr>\n",
              "  </tbody>\n",
              "</table>\n",
              "</div>\n",
              "      <button class=\"colab-df-convert\" onclick=\"convertToInteractive('df-558a00cf-1497-4f55-a2e7-d3b9b212fd92')\"\n",
              "              title=\"Convert this dataframe to an interactive table.\"\n",
              "              style=\"display:none;\">\n",
              "        \n",
              "  <svg xmlns=\"http://www.w3.org/2000/svg\" height=\"24px\"viewBox=\"0 0 24 24\"\n",
              "       width=\"24px\">\n",
              "    <path d=\"M0 0h24v24H0V0z\" fill=\"none\"/>\n",
              "    <path d=\"M18.56 5.44l.94 2.06.94-2.06 2.06-.94-2.06-.94-.94-2.06-.94 2.06-2.06.94zm-11 1L8.5 8.5l.94-2.06 2.06-.94-2.06-.94L8.5 2.5l-.94 2.06-2.06.94zm10 10l.94 2.06.94-2.06 2.06-.94-2.06-.94-.94-2.06-.94 2.06-2.06.94z\"/><path d=\"M17.41 7.96l-1.37-1.37c-.4-.4-.92-.59-1.43-.59-.52 0-1.04.2-1.43.59L10.3 9.45l-7.72 7.72c-.78.78-.78 2.05 0 2.83L4 21.41c.39.39.9.59 1.41.59.51 0 1.02-.2 1.41-.59l7.78-7.78 2.81-2.81c.8-.78.8-2.07 0-2.86zM5.41 20L4 18.59l7.72-7.72 1.47 1.35L5.41 20z\"/>\n",
              "  </svg>\n",
              "      </button>\n",
              "      \n",
              "  <style>\n",
              "    .colab-df-container {\n",
              "      display:flex;\n",
              "      flex-wrap:wrap;\n",
              "      gap: 12px;\n",
              "    }\n",
              "\n",
              "    .colab-df-convert {\n",
              "      background-color: #E8F0FE;\n",
              "      border: none;\n",
              "      border-radius: 50%;\n",
              "      cursor: pointer;\n",
              "      display: none;\n",
              "      fill: #1967D2;\n",
              "      height: 32px;\n",
              "      padding: 0 0 0 0;\n",
              "      width: 32px;\n",
              "    }\n",
              "\n",
              "    .colab-df-convert:hover {\n",
              "      background-color: #E2EBFA;\n",
              "      box-shadow: 0px 1px 2px rgba(60, 64, 67, 0.3), 0px 1px 3px 1px rgba(60, 64, 67, 0.15);\n",
              "      fill: #174EA6;\n",
              "    }\n",
              "\n",
              "    [theme=dark] .colab-df-convert {\n",
              "      background-color: #3B4455;\n",
              "      fill: #D2E3FC;\n",
              "    }\n",
              "\n",
              "    [theme=dark] .colab-df-convert:hover {\n",
              "      background-color: #434B5C;\n",
              "      box-shadow: 0px 1px 3px 1px rgba(0, 0, 0, 0.15);\n",
              "      filter: drop-shadow(0px 1px 2px rgba(0, 0, 0, 0.3));\n",
              "      fill: #FFFFFF;\n",
              "    }\n",
              "  </style>\n",
              "\n",
              "      <script>\n",
              "        const buttonEl =\n",
              "          document.querySelector('#df-558a00cf-1497-4f55-a2e7-d3b9b212fd92 button.colab-df-convert');\n",
              "        buttonEl.style.display =\n",
              "          google.colab.kernel.accessAllowed ? 'block' : 'none';\n",
              "\n",
              "        async function convertToInteractive(key) {\n",
              "          const element = document.querySelector('#df-558a00cf-1497-4f55-a2e7-d3b9b212fd92');\n",
              "          const dataTable =\n",
              "            await google.colab.kernel.invokeFunction('convertToInteractive',\n",
              "                                                     [key], {});\n",
              "          if (!dataTable) return;\n",
              "\n",
              "          const docLinkHtml = 'Like what you see? Visit the ' +\n",
              "            '<a target=\"_blank\" href=https://colab.research.google.com/notebooks/data_table.ipynb>data table notebook</a>'\n",
              "            + ' to learn more about interactive tables.';\n",
              "          element.innerHTML = '';\n",
              "          dataTable['output_type'] = 'display_data';\n",
              "          await google.colab.output.renderOutput(dataTable, element);\n",
              "          const docLink = document.createElement('div');\n",
              "          docLink.innerHTML = docLinkHtml;\n",
              "          element.appendChild(docLink);\n",
              "        }\n",
              "      </script>\n",
              "    </div>\n",
              "  </div>\n",
              "  "
            ]
          },
          "metadata": {},
          "execution_count": 79
        }
      ]
    },
    {
      "cell_type": "markdown",
      "source": [
        "Let's see some cases with very few records, for example in sector 92. But it is not the general rule. So in general, the default rates in the table above are not due to random fluctuations."
      ],
      "metadata": {
        "id": "6D_kynqzIFZw"
      }
    },
    {
      "cell_type": "markdown",
      "source": [
        "Let's see graphically how is the default rate for all sectors along with their subsectors."
      ],
      "metadata": {
        "id": "yeyVJsW7Itf-"
      }
    },
    {
      "cell_type": "code",
      "source": [
        "pivot_NAICS_simple = pivot_NAICS['Default'] # We remove the multiindex to simplify.\n",
        "fig, ax = plt.subplots(nrows=3, ncols=1)\n",
        "pivot_NAICS_simple.iloc[0:8].plot.bar(figsize=(10,8), ax=ax[0],legend=None);\n",
        "pivot_NAICS_simple.iloc[8:16].plot.bar(figsize=(10,8), ax=ax[1],legend=None);\n",
        "pivot_NAICS_simple.iloc[16:24].plot.bar(figsize=(10,8), ax=ax[2],legend=None);"
      ],
      "metadata": {
        "colab": {
          "base_uri": "https://localhost:8080/",
          "height": 503
        },
        "id": "h5t8MqMMI5oL",
        "outputId": "bce81e7f-2340-4e91-81c8-b51e772aab1e"
      },
      "execution_count": null,
      "outputs": [
        {
          "output_type": "display_data",
          "data": {
            "text/plain": [
              "<Figure size 720x576 with 3 Axes>"
            ],
            "image/png": "[encoded data removed]"
          },
          "metadata": {
            "needs_background": "light"
          }
        }
      ]
    },
    {
      "cell_type": "markdown",
      "source": [
        "We see some differences. Later (in the feature engineering section) we will check how much predictive value it provides."
      ],
      "metadata": {
        "id": "SLiL9fIjlka_"
      }
    },
    {
      "cell_type": "markdown",
      "source": [
        "#### Companies with several loans"
      ],
      "metadata": {
        "id": "NM7XwVBieF_2"
      }
    },
    {
      "cell_type": "markdown",
      "source": [
        "Let's analyze if the loans of recurring debtors have significant differences in the default rate."
      ],
      "metadata": {
        "id": "XOzQNEQLeHQn"
      }
    },
    {
      "cell_type": "code",
      "source": [
        "#We are going to create a new field called 'Several_loans', which will be True \n",
        "#if the company took several loans, and False if not.\n",
        "loans['Several_loans']=loans['Name'].duplicated(keep=False)\n",
        "\n",
        "g=loans.groupby(['Several_loans']).agg(Default_rate=('Default', 'mean'), Number_of_loans=('Default', 'count'))\n",
        "print(g)\n",
        "g.plot.bar(figsize=(8, 4))\n",
        "plt.legend(loc='upper left')\n",
        "plt.ylim((0,1));"
      ],
      "metadata": {
        "id": "47WbUN4ZebZV",
        "colab": {
          "base_uri": "https://localhost:8080/",
          "height": 368
        },
        "outputId": "28acc269-5b1d-4576-c66c-436c3d618be2"
      },
      "execution_count": null,
      "outputs": [
        {
          "output_type": "stream",
          "name": "stdout",
          "text": [
            "               Default_rate  Number_of_loans\n",
            "Several_loans                               \n",
            "False              0.184293           706480\n",
            "True               0.143542           190592\n"
          ]
        },
        {
          "output_type": "display_data",
          "data": {
            "text/plain": [
              "<Figure size 576x288 with 1 Axes>"
            ],
            "image/png": "[encoded data removed]"
          },
          "metadata": {
            "needs_background": "light"
          }
        }
      ]
    },
    {
      "cell_type": "markdown",
      "source": [
        "We see there is not much difference between the companies that took several loans and those that did not. The difference is around 4%, and contrary to what one might think, companies that have taken out several loans are (slightly) more compliant. This difference allows us to infer that it is really more likely that the loans from repeat offenders are more likely to be repaid than the others? A hypothesis test can be done to see if this difference is statistically significant or is simply a product of chance."
      ],
      "metadata": {
        "id": "ltdmmmouerIV"
      }
    },
    {
      "cell_type": "code",
      "source": [
        "sample_0 = loans[loans['Several_loans']==True]['Default']\n",
        "sample_1 = loans[loans['Several_loans']==False]['Default']\n",
        "ttest,pval = ttest_ind(sample_0,sample_1)\n",
        "print(\"p-value:\",pval)\n",
        "if pval <0.05:\n",
        "  print(\"We reject null hypothesis.\")\n",
        "else:\n",
        "  print(\"We accept null hypothesis.\")\n",
        "print(\"(The null hypothesis is that the two populations have the same real means).\")"
      ],
      "metadata": {
        "colab": {
          "base_uri": "https://localhost:8080/"
        },
        "id": "BdpRkPzifLDN",
        "outputId": "33fd8b6e-9471-486e-e981-e239e2ba1f97"
      },
      "execution_count": null,
      "outputs": [
        {
          "output_type": "stream",
          "name": "stdout",
          "text": [
            "p-value: 0.0\n",
            "We reject null hypothesis.\n",
            "(The null hypothesis is that the two populations have the same real means).\n"
          ]
        }
      ]
    },
    {
      "cell_type": "markdown",
      "source": [
        "This difference is not due to chance. It would be necessary to see in the Feature Engineering section how predictive it is. "
      ],
      "metadata": {
        "id": "ewEHxaFDiOqF"
      }
    }
  ],
  "metadata": {
    "colab": {
      "provenance": [],
      "collapsed_sections": [
        "McMV71aWYh7L",
        "mhLtOC3yP5hW",
        "DQyzKx26Vzeq",
        "fkpyi9ujP-rg",
        "8TiwciUqmR8q",
        "lesg66JBXaWA",
        "EY8DVx6jXNDo",
        "VzTMEXyKBrte",
        "GjlWwIC94mdM",
        "aLyn8szmB0Tf",
        "NGsTuZSWY1Wj"
      ]
    },
    "kernelspec": {
      "display_name": "Python 3",
      "name": "python3"
    },
    "language_info": {
      "name": "python"
    }
  },
  "nbformat": 4,
  "nbformat_minor": 0
}